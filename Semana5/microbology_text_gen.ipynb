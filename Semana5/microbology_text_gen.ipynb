{
 "cells": [
  {
   "cell_type": "markdown",
   "metadata": {},
   "source": [
    "![Colegio Bourbaki](./Images/Bourbaki.png)"
   ]
  },
  {
   "cell_type": "markdown",
   "metadata": {},
   "source": [
    "## Grandes Modelos de Lenguaje"
   ]
  },
  {
   "cell_type": "markdown",
   "metadata": {},
   "source": [
    "En la última década, el campo del procesamiento del lenguaje natural (NLP, por sus siglas en inglés) ha experimentado avances significativos gracias al desarrollo de los grandes modelos de lenguaje. Estos modelos, basados en arquitecturas de redes neuronales profundas como los transformers, han revolucionado la manera en que las máquinas entienden y generan texto humano. El éxito de estos modelos se atribuye principalmente a su capacidad para aprender patrones complejos del lenguaje a partir de enormes volúmenes de datos textuales.\n",
    "\n",
    "Los grandes modelos de lenguaje, como GPT (Generative Pre-trained Transformer) de OpenAI, BERT (Bidirectional Encoder Representations from Transformers) de Google, y otros modelos similares desarrollados por empresas como Facebook y Microsoft, son ejemplos destacados de esta tecnología. Estos modelos son preentrenados en un rango extenso de datos de Internet antes de ser afinados para tareas específicas de NLP, como la traducción automática, el resumen de textos, la generación de contenido, entre otros."
   ]
  },
  {
   "cell_type": "markdown",
   "metadata": {},
   "source": [
    "### Generación de texto"
   ]
  },
  {
   "cell_type": "markdown",
   "metadata": {},
   "source": [
    "La generación de texto es una de las aplicaciones más impresionantes de los grandes modelos de lenguaje. Utilizando lo que han aprendido durante el entrenamiento, estos modelos pueden producir textos que van desde respuestas a preguntas hasta artículos completos de manera coherente y contextualmente adecuada. Esto se logra a través de un proceso donde el modelo predice la siguiente palabra en una secuencia dada una serie de palabras anteriores, iterando este proceso para generar secuencias de texto de longitud variable.\n",
    "\n",
    "No obstante, el despliegue de grandes modelos de lenguaje no está exento de desafíos. La generación de lenguaje automático plantea preguntas éticas importantes, especialmente en cuanto a la veracidad y el sesgo del contenido generado. Además, el entrenamiento y la operación de estos modelos requieren una cantidad considerable de recursos computacionales, lo que plantea preocupaciones sobre la sostenibilidad y la accesibilidad de estas tecnologías.\n",
    "\n",
    "A medida que avanzamos, es crucial que la comunidad de investigación en IA aborde estos desafíos de manera ética y responsable, asegurando que los beneficios de los grandes modelos de lenguaje sean accesibles para todos y que sus aplicaciones se desarrollen de manera que beneficie a la sociedad en su conjunto."
   ]
  },
  {
   "cell_type": "markdown",
   "metadata": {},
   "source": [
    "### Hugging Face"
   ]
  },
  {
   "cell_type": "markdown",
   "metadata": {},
   "source": [
    "Hugging Face es una compañía líder en el campo de la inteligencia artificial que se ha especializado en el desarrollo y la aplicación de tecnologías de procesamiento del lenguaje natural (NLP, por sus siglas en inglés). Fundada en 2016, inicialmente comenzó como una aplicación social para compartir emojis y GIFs, pero rápidamente se transformó en un pionero de la IA al reconocer el potencial de los modelos de lenguaje.\n",
    "\n",
    "La contribución más significativa de Hugging Face al mundo de la IA ha sido su plataforma y biblioteca de modelos de transformers, que facilita a los desarrolladores y científicos de datos el acceso a modelos de lenguaje preentrenados y las herramientas necesarias para entrenarlos y desplegarlos. La biblioteca Transformers, su producto más conocido, incluye una amplia variedad de modelos de última generación, como BERT, GPT, T5, y muchos otros, que se pueden utilizar para una amplia gama de tareas de NLP.\n",
    "\n",
    "El enfoque de Hugging Face hacia la democratización de la IA también se refleja en su comunidad colaborativa y de código abierto. La compañía promueve una cultura de colaboración y transparencia, permitiendo que investigadores, desarrolladores y empresas compartan modelos y técnicas, fomentando así la innovación y el progreso en el campo. Además, Hugging Face también se esfuerza por abordar los aspectos éticos de la IA, trabajando en la mejora del entendimiento y la reducción de sesgos en los modelos de lenguaje.\n",
    "\n",
    "Con una creciente comunidad de usuarios y contribuyentes, Hugging Face sigue a la vanguardia de la investigación en IA, ofreciendo soluciones que no solo avanzan en el estado del arte, sino que también se esfuerzan por ser éticamente responsables y accesibles para todos."
   ]
  },
  {
   "cell_type": "markdown",
   "metadata": {},
   "source": [
    "### Librerias"
   ]
  },
  {
   "cell_type": "code",
   "execution_count": 1,
   "metadata": {},
   "outputs": [],
   "source": [
    "import os\n",
    "import torch\n",
    "import matplotlib.pyplot as plt\n",
    "import seaborn as sns\n",
    "from datasets import load_dataset\n",
    "from transformers import AutoTokenizer, AutoModelForCausalLM, Trainer, TrainingArguments"
   ]
  },
  {
   "cell_type": "markdown",
   "metadata": {},
   "source": [
    "### Configuraciones"
   ]
  },
  {
   "cell_type": "code",
   "execution_count": 2,
   "metadata": {},
   "outputs": [],
   "source": [
    "os.environ[\"CUDA_LAUNCH_BLOCKING\"] = \"1\"\n",
    "!set 'PYTORCH_CUDA_ALLOC_CONF=max_split_size_mb:2'\n",
    "torch.backends.cuda.matmul.allow_tf32 = True\n",
    "torch.backends.cudnn.allow_tf32 = True\n",
    "torch.cuda.empty_cache()\n",
    "torch.backends.cudnn.enabled = True\n",
    "torch.backends.cudnn.benchmark = False"
   ]
  },
  {
   "cell_type": "markdown",
   "metadata": {},
   "source": [
    "### Carga de Datos"
   ]
  },
  {
   "cell_type": "code",
   "execution_count": 3,
   "metadata": {},
   "outputs": [],
   "source": [
    "dataset = load_dataset(\"andersonbcdefg/biology\")"
   ]
  },
  {
   "cell_type": "code",
   "execution_count": 4,
   "metadata": {},
   "outputs": [
    {
     "data": {
      "text/plain": [
       "DatasetDict({\n",
       "    train: Dataset({\n",
       "        features: ['role_1', 'topic;', 'sub_topic', 'message_1', 'message_2'],\n",
       "        num_rows: 20000\n",
       "    })\n",
       "})"
      ]
     },
     "execution_count": 4,
     "metadata": {},
     "output_type": "execute_result"
    }
   ],
   "source": [
    "dataset"
   ]
  },
  {
   "cell_type": "code",
   "execution_count": 5,
   "metadata": {},
   "outputs": [],
   "source": [
    "# Split the training set to obtain a random sample of 10,000 rows\n",
    "sampled_dataset = dataset[\"train\"].train_test_split(test_size=10000, seed=42)"
   ]
  },
  {
   "cell_type": "code",
   "execution_count": 6,
   "metadata": {},
   "outputs": [],
   "source": [
    "dataset = sampled_dataset[\"train\"].train_test_split(test_size=0.2)"
   ]
  },
  {
   "cell_type": "code",
   "execution_count": 7,
   "metadata": {},
   "outputs": [
    {
     "data": {
      "text/plain": [
       "DatasetDict({\n",
       "    train: Dataset({\n",
       "        features: ['role_1', 'topic;', 'sub_topic', 'message_1', 'message_2'],\n",
       "        num_rows: 8000\n",
       "    })\n",
       "    test: Dataset({\n",
       "        features: ['role_1', 'topic;', 'sub_topic', 'message_1', 'message_2'],\n",
       "        num_rows: 2000\n",
       "    })\n",
       "})"
      ]
     },
     "execution_count": 7,
     "metadata": {},
     "output_type": "execute_result"
    }
   ],
   "source": [
    "dataset"
   ]
  },
  {
   "cell_type": "markdown",
   "metadata": {},
   "source": [
    "### Análisis Exploratiorio"
   ]
  },
  {
   "cell_type": "code",
   "execution_count": 8,
   "metadata": {},
   "outputs": [],
   "source": [
    "# Convert the train and test datasets to pandas DataFrames\n",
    "train_df = dataset[\"train\"].to_pandas()"
   ]
  },
  {
   "cell_type": "code",
   "execution_count": 9,
   "metadata": {},
   "outputs": [
    {
     "data": {
      "text/html": [
       "<div>\n",
       "<style scoped>\n",
       "    .dataframe tbody tr th:only-of-type {\n",
       "        vertical-align: middle;\n",
       "    }\n",
       "\n",
       "    .dataframe tbody tr th {\n",
       "        vertical-align: top;\n",
       "    }\n",
       "\n",
       "    .dataframe thead th {\n",
       "        text-align: right;\n",
       "    }\n",
       "</style>\n",
       "<table border=\"1\" class=\"dataframe\">\n",
       "  <thead>\n",
       "    <tr style=\"text-align: right;\">\n",
       "      <th></th>\n",
       "      <th>role_1</th>\n",
       "      <th>topic;</th>\n",
       "      <th>sub_topic</th>\n",
       "      <th>message_1</th>\n",
       "      <th>message_2</th>\n",
       "    </tr>\n",
       "  </thead>\n",
       "  <tbody>\n",
       "    <tr>\n",
       "      <th>0</th>\n",
       "      <td>Biologist_RoleType.ASSISTANT</td>\n",
       "      <td>Taxonomy</td>\n",
       "      <td>Identification of the correct taxonomic rank f...</td>\n",
       "      <td>Identify the correct taxonomic rank for the or...</td>\n",
       "      <td>The organism \"Felis catus\" belongs to the spec...</td>\n",
       "    </tr>\n",
       "    <tr>\n",
       "      <th>1</th>\n",
       "      <td>Biologist_RoleType.ASSISTANT</td>\n",
       "      <td>Biogeography</td>\n",
       "      <td>The biogeography of savanna ecosystems and the...</td>\n",
       "      <td>How has human activity affected the biogeograp...</td>\n",
       "      <td>Human activity has significantly impacted the ...</td>\n",
       "    </tr>\n",
       "    <tr>\n",
       "      <th>2</th>\n",
       "      <td>Biologist_RoleType.ASSISTANT</td>\n",
       "      <td>Biotechnology</td>\n",
       "      <td>Developing new methods for producing biodegrad...</td>\n",
       "      <td>How can the development of new methods for pro...</td>\n",
       "      <td>The development of new methods for producing b...</td>\n",
       "    </tr>\n",
       "    <tr>\n",
       "      <th>3</th>\n",
       "      <td>Biologist_RoleType.ASSISTANT</td>\n",
       "      <td>Ecology</td>\n",
       "      <td>Overfishing and depletion of fish populations</td>\n",
       "      <td>How does overfishing impact the food web and e...</td>\n",
       "      <td>Overfishing has significant impacts on the foo...</td>\n",
       "    </tr>\n",
       "    <tr>\n",
       "      <th>4</th>\n",
       "      <td>Biologist_RoleType.ASSISTANT</td>\n",
       "      <td>Anatomy</td>\n",
       "      <td>Explain the structure and function of the huma...</td>\n",
       "      <td>How does the process of phagocytosis contribut...</td>\n",
       "      <td>Phagocytosis is a crucial process in the immun...</td>\n",
       "    </tr>\n",
       "  </tbody>\n",
       "</table>\n",
       "</div>"
      ],
      "text/plain": [
       "                         role_1         topic;  \\\n",
       "0  Biologist_RoleType.ASSISTANT       Taxonomy   \n",
       "1  Biologist_RoleType.ASSISTANT   Biogeography   \n",
       "2  Biologist_RoleType.ASSISTANT  Biotechnology   \n",
       "3  Biologist_RoleType.ASSISTANT        Ecology   \n",
       "4  Biologist_RoleType.ASSISTANT        Anatomy   \n",
       "\n",
       "                                           sub_topic  \\\n",
       "0  Identification of the correct taxonomic rank f...   \n",
       "1  The biogeography of savanna ecosystems and the...   \n",
       "2  Developing new methods for producing biodegrad...   \n",
       "3      Overfishing and depletion of fish populations   \n",
       "4  Explain the structure and function of the huma...   \n",
       "\n",
       "                                           message_1  \\\n",
       "0  Identify the correct taxonomic rank for the or...   \n",
       "1  How has human activity affected the biogeograp...   \n",
       "2  How can the development of new methods for pro...   \n",
       "3  How does overfishing impact the food web and e...   \n",
       "4  How does the process of phagocytosis contribut...   \n",
       "\n",
       "                                           message_2  \n",
       "0  The organism \"Felis catus\" belongs to the spec...  \n",
       "1  Human activity has significantly impacted the ...  \n",
       "2  The development of new methods for producing b...  \n",
       "3  Overfishing has significant impacts on the foo...  \n",
       "4  Phagocytosis is a crucial process in the immun...  "
      ]
     },
     "execution_count": 9,
     "metadata": {},
     "output_type": "execute_result"
    }
   ],
   "source": [
    "train_df.head()"
   ]
  },
  {
   "cell_type": "code",
   "execution_count": 10,
   "metadata": {},
   "outputs": [
    {
     "name": "stdout",
     "output_type": "stream",
     "text": [
      "<class 'pandas.core.frame.DataFrame'>\n",
      "RangeIndex: 8000 entries, 0 to 7999\n",
      "Data columns (total 5 columns):\n",
      " #   Column     Non-Null Count  Dtype \n",
      "---  ------     --------------  ----- \n",
      " 0   role_1     8000 non-null   object\n",
      " 1   topic;     8000 non-null   object\n",
      " 2   sub_topic  8000 non-null   object\n",
      " 3   message_1  8000 non-null   object\n",
      " 4   message_2  8000 non-null   object\n",
      "dtypes: object(5)\n",
      "memory usage: 312.6+ KB\n"
     ]
    }
   ],
   "source": [
    "train_df.info()"
   ]
  },
  {
   "cell_type": "code",
   "execution_count": 11,
   "metadata": {},
   "outputs": [
    {
     "name": "stdout",
     "output_type": "stream",
     "text": [
      "topic;\n",
      "Entomology        339\n",
      "Endocrinology     336\n",
      "Ecology           333\n",
      "Biotechnology     332\n",
      "Immunology        331\n",
      "Taxonomy          330\n",
      "Biostatistics     327\n",
      "Biophysics        325\n",
      "Biogeography      325\n",
      "Neurobiology      323\n",
      "Genetics          322\n",
      "Physiology        321\n",
      "Cell biology      320\n",
      "Parasitology      317\n",
      "Biomechanics      317\n",
      "Microbiology      317\n",
      "Botany            316\n",
      "Paleontology      314\n",
      "Marine biology    312\n",
      "Anatomy           312\n",
      "Zoology           311\n",
      "Evolution         308\n",
      "Biochemistry      306\n",
      "Mycology          304\n",
      "Virology          302\n",
      "Name: count, dtype: int64\n"
     ]
    }
   ],
   "source": [
    "# Frequency of categories in 'topic;'\n",
    "print(train_df[\"topic;\"].value_counts())"
   ]
  },
  {
   "cell_type": "code",
   "execution_count": 12,
   "metadata": {},
   "outputs": [
    {
     "data": {
      "text/plain": [
       "sub_topic\n",
       "Identification of the correct phylum for a given species                      22\n",
       "The evolution of antibiotic resistance in bacteria                            21\n",
       "The process of inflammation in the immune response                            20\n",
       "The role of T cells in the immune response                                    19\n",
       "Describe the anatomy of the human brain and its different regions.            19\n",
       "                                                                              ..\n",
       "The evolution of carnivorous mammals and their adaptations                     6\n",
       "The use of insects as bioindicators of environmental health                    6\n",
       "Fungal infections and their treatment                                          6\n",
       "The biogeography of alpine ecosystems and their unique species assemblages     6\n",
       "Cancer biology and tumor growth                                                5\n",
       "Name: count, Length: 624, dtype: int64"
      ]
     },
     "execution_count": 12,
     "metadata": {},
     "output_type": "execute_result"
    }
   ],
   "source": [
    "# Frequency of categories in 'sub_topic'\n",
    "train_df[\"sub_topic\"].value_counts()"
   ]
  },
  {
   "cell_type": "code",
   "execution_count": 13,
   "metadata": {},
   "outputs": [
    {
     "data": {
      "image/png": "[encoded data removed]",
      "text/plain": [
       "<Figure size 1200x600 with 1 Axes>"
      ]
     },
     "metadata": {},
     "output_type": "display_data"
    }
   ],
   "source": [
    "# Setting the aesthetic style for the plots\n",
    "sns.set_theme(style=\"whitegrid\")\n",
    "\n",
    "# Visualizing message lengths\n",
    "train_df[\"message_1_length\"] = train_df[\"message_1\"].apply(len)\n",
    "train_df[\"message_2_length\"] = train_df[\"message_2\"].apply(len)\n",
    "\n",
    "plt.figure(figsize=(12, 6))\n",
    "sns.histplot(\n",
    "    train_df[\"message_1_length\"],\n",
    "    bins=30,\n",
    "    label=\"Message 1 Length\",\n",
    "    kde=True,\n",
    "    color=\"blue\",\n",
    ")\n",
    "sns.histplot(\n",
    "    train_df[\"message_2_length\"],\n",
    "    bins=30,\n",
    "    label=\"Message 2 Length\",\n",
    "    kde=True,\n",
    "    color=\"red\",\n",
    ")\n",
    "plt.legend()\n",
    "plt.title(\"Distribution of Message Lengths\")\n",
    "plt.show()"
   ]
  },
  {
   "cell_type": "markdown",
   "metadata": {},
   "source": [
    "### Modelo GPT2 Distilled"
   ]
  },
  {
   "cell_type": "code",
   "execution_count": 14,
   "metadata": {},
   "outputs": [],
   "source": [
    "model_checkpoint = \"distilgpt2\""
   ]
  },
  {
   "cell_type": "code",
   "execution_count": 15,
   "metadata": {},
   "outputs": [],
   "source": [
    "tokenizer = AutoTokenizer.from_pretrained(model_checkpoint, use_fast=True)\n",
    "tokenizer.pad_token = tokenizer.eos_token"
   ]
  },
  {
   "cell_type": "code",
   "execution_count": 16,
   "metadata": {},
   "outputs": [],
   "source": [
    "def tokenize_function(example):\n",
    "    # Assuming example['message_1'] and example['message_2'] are the fields you want to tokenize\n",
    "    tokenized_output = tokenizer(\n",
    "        example[\"message_2\"], padding=\"max_length\", truncation=True, return_tensors=\"np\"\n",
    "    )\n",
    "    return {\n",
    "        \"input_ids\": tokenized_output[\"input_ids\"].tolist(),\n",
    "        \"attention_mask\": tokenized_output[\"attention_mask\"].tolist(),\n",
    "    }"
   ]
  },
  {
   "cell_type": "code",
   "execution_count": 17,
   "metadata": {},
   "outputs": [
    {
     "data": {
      "application/vnd.jupyter.widget-view+json": {
       "model_id": "51d066cda0d3423eaf1a81bb1731d6b8",
       "version_major": 2,
       "version_minor": 0
      },
      "text/plain": [
       "Map:   0%|          | 0/8000 [00:00<?, ? examples/s]"
      ]
     },
     "metadata": {},
     "output_type": "display_data"
    },
    {
     "data": {
      "application/vnd.jupyter.widget-view+json": {
       "model_id": "22dbfb8ea132424d9f9028d480c49ac4",
       "version_major": 2,
       "version_minor": 0
      },
      "text/plain": [
       "Map:   0%|          | 0/2000 [00:00<?, ? examples/s]"
      ]
     },
     "metadata": {},
     "output_type": "display_data"
    }
   ],
   "source": [
    "tokenized_datasets = dataset.map(\n",
    "    tokenize_function,\n",
    "    batched=True,\n",
    "    remove_columns=[\"role_1\", \"topic;\", \"sub_topic\", \"message_1\", \"message_2\"],\n",
    ")"
   ]
  },
  {
   "cell_type": "code",
   "execution_count": 18,
   "metadata": {},
   "outputs": [
    {
     "data": {
      "text/plain": [
       "DatasetDict({\n",
       "    train: Dataset({\n",
       "        features: ['input_ids', 'attention_mask'],\n",
       "        num_rows: 8000\n",
       "    })\n",
       "    test: Dataset({\n",
       "        features: ['input_ids', 'attention_mask'],\n",
       "        num_rows: 2000\n",
       "    })\n",
       "})"
      ]
     },
     "execution_count": 18,
     "metadata": {},
     "output_type": "execute_result"
    }
   ],
   "source": [
    "tokenized_datasets"
   ]
  },
  {
   "cell_type": "code",
   "execution_count": 19,
   "metadata": {},
   "outputs": [
    {
     "data": {
      "text/plain": [
       "128"
      ]
     },
     "execution_count": 19,
     "metadata": {},
     "output_type": "execute_result"
    }
   ],
   "source": [
    "#block_size = tokenizer.model_max_length\n",
    "block_size = 128  # Set your block size appropriately\n",
    "block_size"
   ]
  },
  {
   "cell_type": "code",
   "execution_count": 20,
   "metadata": {},
   "outputs": [],
   "source": [
    "def group_texts(examples):\n",
    "    # Concatenate all texts.\n",
    "    concatenated_examples = {k: sum(examples[k], []) for k in examples.keys()}\n",
    "    total_length = len(concatenated_examples[list(examples.keys())[0]])\n",
    "    # We drop the small remainder, we could add padding if the model supported it instead of this drop, you can customize this part to your needs.\n",
    "    total_length = (total_length // block_size) * block_size\n",
    "    # Split by chunks of max_len.\n",
    "    result = {\n",
    "        k: [t[i : i + block_size] for i in range(0, total_length, block_size)]\n",
    "        for k, t in concatenated_examples.items()\n",
    "    }\n",
    "    result[\"labels\"] = result[\"input_ids\"].copy()\n",
    "    return result"
   ]
  },
  {
   "cell_type": "code",
   "execution_count": 22,
   "metadata": {},
   "outputs": [
    {
     "data": {
      "application/vnd.jupyter.widget-view+json": {
       "model_id": "c7f6aedf5cf24b9cb84988c37d5bb3b2",
       "version_major": 2,
       "version_minor": 0
      },
      "text/plain": [
       "Map:   0%|          | 0/8000 [00:00<?, ? examples/s]"
      ]
     },
     "metadata": {},
     "output_type": "display_data"
    },
    {
     "data": {
      "application/vnd.jupyter.widget-view+json": {
       "model_id": "0a005fa36c6147d9957965e970f1d479",
       "version_major": 2,
       "version_minor": 0
      },
      "text/plain": [
       "Map:   0%|          | 0/2000 [00:00<?, ? examples/s]"
      ]
     },
     "metadata": {},
     "output_type": "display_data"
    }
   ],
   "source": [
    "lm_datasets = tokenized_datasets.map(\n",
    "    group_texts,\n",
    "    batched=True,\n",
    "    batch_size=1024,\n",
    ")"
   ]
  },
  {
   "cell_type": "markdown",
   "metadata": {},
   "source": [
    "### Training"
   ]
  },
  {
   "cell_type": "code",
   "execution_count": 23,
   "metadata": {},
   "outputs": [],
   "source": [
    "model = AutoModelForCausalLM.from_pretrained(model_checkpoint)"
   ]
  },
  {
   "cell_type": "code",
   "execution_count": 24,
   "metadata": {},
   "outputs": [],
   "source": [
    "LR = 0.001"
   ]
  },
  {
   "cell_type": "code",
   "execution_count": 25,
   "metadata": {},
   "outputs": [],
   "source": [
    "model_name = model_checkpoint.split(\"/\")[-1]"
   ]
  },
  {
   "cell_type": "code",
   "execution_count": 26,
   "metadata": {},
   "outputs": [],
   "source": [
    "training_args = TrainingArguments(\n",
    "    f\"{model_name}-finetuned-microbiology\",\n",
    "    evaluation_strategy=\"epoch\",\n",
    "    learning_rate=LR,\n",
    "    weight_decay=LR * 0.1,\n",
    "    push_to_hub=False,\n",
    ")"
   ]
  },
  {
   "cell_type": "code",
   "execution_count": 27,
   "metadata": {},
   "outputs": [],
   "source": [
    "trainer = Trainer(\n",
    "    model=model,\n",
    "    args=training_args,\n",
    "    train_dataset=lm_datasets[\"train\"],\n",
    "    eval_dataset=lm_datasets[\"test\"],\n",
    ")"
   ]
  },
  {
   "cell_type": "code",
   "execution_count": 28,
   "metadata": {},
   "outputs": [
    {
     "data": {
      "application/vnd.jupyter.widget-view+json": {
       "model_id": "7f7035d2349d468580143869a9f273a9",
       "version_major": 2,
       "version_minor": 0
      },
      "text/plain": [
       "  0%|          | 0/24000 [00:00<?, ?it/s]"
      ]
     },
     "metadata": {},
     "output_type": "display_data"
    },
    {
     "name": "stdout",
     "output_type": "stream",
     "text": [
      "{'loss': 1.7738, 'grad_norm': 0.6295139193534851, 'learning_rate': 0.0009791666666666666, 'epoch': 0.06}\n",
      "{'loss': 1.5391, 'grad_norm': 1.1391187906265259, 'learning_rate': 0.0009583333333333334, 'epoch': 0.12}\n",
      "{'loss': 1.4191, 'grad_norm': 0.8768649697303772, 'learning_rate': 0.0009375, 'epoch': 0.19}\n",
      "{'loss': 1.3455, 'grad_norm': 0.774774968624115, 'learning_rate': 0.0009166666666666666, 'epoch': 0.25}\n",
      "{'loss': 1.3029, 'grad_norm': 0.6644452214241028, 'learning_rate': 0.0008958333333333334, 'epoch': 0.31}\n",
      "{'loss': 1.2511, 'grad_norm': 0.89124596118927, 'learning_rate': 0.000875, 'epoch': 0.38}\n",
      "{'loss': 1.2666, 'grad_norm': 0.8505674600601196, 'learning_rate': 0.0008541666666666666, 'epoch': 0.44}\n",
      "{'loss': 1.2512, 'grad_norm': 0.864046037197113, 'learning_rate': 0.0008333333333333334, 'epoch': 0.5}\n",
      "{'loss': 1.2117, 'grad_norm': 0.6058117151260376, 'learning_rate': 0.0008125000000000001, 'epoch': 0.56}\n",
      "{'loss': 1.1822, 'grad_norm': 0.6281679272651672, 'learning_rate': 0.0007916666666666666, 'epoch': 0.62}\n",
      "{'loss': 1.1441, 'grad_norm': 0.7052414417266846, 'learning_rate': 0.0007708333333333334, 'epoch': 0.69}\n",
      "{'loss': 1.1428, 'grad_norm': 0.5563493967056274, 'learning_rate': 0.00075, 'epoch': 0.75}\n",
      "{'loss': 1.1299, 'grad_norm': 0.7437282204627991, 'learning_rate': 0.0007291666666666666, 'epoch': 0.81}\n",
      "{'loss': 1.0952, 'grad_norm': 0.40754565596580505, 'learning_rate': 0.0007083333333333334, 'epoch': 0.88}\n",
      "{'loss': 1.0604, 'grad_norm': 0.403624027967453, 'learning_rate': 0.0006875, 'epoch': 0.94}\n",
      "{'loss': 1.0536, 'grad_norm': 0.6489932537078857, 'learning_rate': 0.0006666666666666666, 'epoch': 1.0}\n"
     ]
    },
    {
     "data": {
      "application/vnd.jupyter.widget-view+json": {
       "model_id": "f12ef57782aa49cd89b129b03f067d4a",
       "version_major": 2,
       "version_minor": 0
      },
      "text/plain": [
       "  0%|          | 0/2000 [00:00<?, ?it/s]"
      ]
     },
     "metadata": {},
     "output_type": "display_data"
    },
    {
     "name": "stdout",
     "output_type": "stream",
     "text": [
      "{'eval_loss': 1.03952956199646, 'eval_runtime': 237.5707, 'eval_samples_per_second': 67.348, 'eval_steps_per_second': 8.419, 'epoch': 1.0}\n",
      "{'loss': 0.9641, 'grad_norm': 0.9073527455329895, 'learning_rate': 0.0006458333333333334, 'epoch': 1.06}\n",
      "{'loss': 0.9285, 'grad_norm': 0.6667528748512268, 'learning_rate': 0.000625, 'epoch': 1.12}\n",
      "{'loss': 0.9486, 'grad_norm': 0.73509281873703, 'learning_rate': 0.0006041666666666666, 'epoch': 1.19}\n",
      "{'loss': 0.9278, 'grad_norm': 0.6674950122833252, 'learning_rate': 0.0005833333333333334, 'epoch': 1.25}\n",
      "{'loss': 0.9154, 'grad_norm': 0.8021742701530457, 'learning_rate': 0.0005625000000000001, 'epoch': 1.31}\n",
      "{'loss': 0.9097, 'grad_norm': 0.7788023352622986, 'learning_rate': 0.0005416666666666666, 'epoch': 1.38}\n",
      "{'loss': 0.899, 'grad_norm': 0.5974372625350952, 'learning_rate': 0.0005208333333333334, 'epoch': 1.44}\n",
      "{'loss': 0.8968, 'grad_norm': 0.7444320321083069, 'learning_rate': 0.0005, 'epoch': 1.5}\n",
      "{'loss': 0.9026, 'grad_norm': 0.7499492764472961, 'learning_rate': 0.0004791666666666667, 'epoch': 1.56}\n",
      "{'loss': 0.9226, 'grad_norm': 0.6463041305541992, 'learning_rate': 0.0004583333333333333, 'epoch': 1.62}\n",
      "{'loss': 0.871, 'grad_norm': 0.7475030422210693, 'learning_rate': 0.0004375, 'epoch': 1.69}\n",
      "{'loss': 0.8933, 'grad_norm': 0.6322749257087708, 'learning_rate': 0.0004166666666666667, 'epoch': 1.75}\n",
      "{'loss': 0.867, 'grad_norm': 0.5016841888427734, 'learning_rate': 0.0003958333333333333, 'epoch': 1.81}\n",
      "{'loss': 0.8489, 'grad_norm': 0.5119632482528687, 'learning_rate': 0.000375, 'epoch': 1.88}\n",
      "{'loss': 0.8683, 'grad_norm': 0.6756754517555237, 'learning_rate': 0.0003541666666666667, 'epoch': 1.94}\n",
      "{'loss': 0.8554, 'grad_norm': 0.8301992416381836, 'learning_rate': 0.0003333333333333333, 'epoch': 2.0}\n"
     ]
    },
    {
     "data": {
      "application/vnd.jupyter.widget-view+json": {
       "model_id": "8369a9dbf4b345ebae0c4a1bc571e8dd",
       "version_major": 2,
       "version_minor": 0
      },
      "text/plain": [
       "  0%|          | 0/2000 [00:00<?, ?it/s]"
      ]
     },
     "metadata": {},
     "output_type": "display_data"
    },
    {
     "name": "stdout",
     "output_type": "stream",
     "text": [
      "{'eval_loss': 0.9057227969169617, 'eval_runtime': 237.975, 'eval_samples_per_second': 67.234, 'eval_steps_per_second': 8.404, 'epoch': 2.0}\n",
      "{'loss': 0.7176, 'grad_norm': 0.8705700039863586, 'learning_rate': 0.0003125, 'epoch': 2.06}\n",
      "{'loss': 0.727, 'grad_norm': 0.725726842880249, 'learning_rate': 0.0002916666666666667, 'epoch': 2.12}\n",
      "{'loss': 0.6978, 'grad_norm': 0.969544529914856, 'learning_rate': 0.0002708333333333333, 'epoch': 2.19}\n",
      "{'loss': 0.6877, 'grad_norm': 0.7479664087295532, 'learning_rate': 0.00025, 'epoch': 2.25}\n",
      "{'loss': 0.6909, 'grad_norm': 0.7540022730827332, 'learning_rate': 0.00022916666666666666, 'epoch': 2.31}\n",
      "{'loss': 0.6827, 'grad_norm': 0.5013659596443176, 'learning_rate': 0.00020833333333333335, 'epoch': 2.38}\n",
      "{'loss': 0.707, 'grad_norm': 0.6908199787139893, 'learning_rate': 0.0001875, 'epoch': 2.44}\n",
      "{'loss': 0.6871, 'grad_norm': 0.705662190914154, 'learning_rate': 0.00016666666666666666, 'epoch': 2.5}\n",
      "{'loss': 0.6896, 'grad_norm': 0.5484470725059509, 'learning_rate': 0.00014583333333333335, 'epoch': 2.56}\n",
      "{'loss': 0.6694, 'grad_norm': 0.5100225806236267, 'learning_rate': 0.000125, 'epoch': 2.62}\n",
      "{'loss': 0.6757, 'grad_norm': 0.4552629590034485, 'learning_rate': 0.00010416666666666667, 'epoch': 2.69}\n",
      "{'loss': 0.7001, 'grad_norm': 0.8757522106170654, 'learning_rate': 8.333333333333333e-05, 'epoch': 2.75}\n",
      "{'loss': 0.6576, 'grad_norm': 0.658676028251648, 'learning_rate': 6.25e-05, 'epoch': 2.81}\n",
      "{'loss': 0.6489, 'grad_norm': 0.5484737157821655, 'learning_rate': 4.1666666666666665e-05, 'epoch': 2.88}\n",
      "{'loss': 0.6622, 'grad_norm': 0.8099358081817627, 'learning_rate': 2.0833333333333333e-05, 'epoch': 2.94}\n",
      "{'loss': 0.6648, 'grad_norm': 0.5803943872451782, 'learning_rate': 0.0, 'epoch': 3.0}\n"
     ]
    },
    {
     "data": {
      "application/vnd.jupyter.widget-view+json": {
       "model_id": "fa39f5ffd70d4c498d60c7d8fe3f4f48",
       "version_major": 2,
       "version_minor": 0
      },
      "text/plain": [
       "  0%|          | 0/2000 [00:00<?, ?it/s]"
      ]
     },
     "metadata": {},
     "output_type": "display_data"
    },
    {
     "name": "stdout",
     "output_type": "stream",
     "text": [
      "{'eval_loss': 0.8584967851638794, 'eval_runtime': 236.0004, 'eval_samples_per_second': 67.796, 'eval_steps_per_second': 8.475, 'epoch': 3.0}\n",
      "{'train_runtime': 9737.2079, 'train_samples_per_second': 19.718, 'train_steps_per_second': 2.465, 'train_loss': 0.9490508346557617, 'epoch': 3.0}\n"
     ]
    },
    {
     "data": {
      "text/plain": [
       "TrainOutput(global_step=24000, training_loss=0.9490508346557617, metrics={'train_runtime': 9737.2079, 'train_samples_per_second': 19.718, 'train_steps_per_second': 2.465, 'train_loss': 0.9490508346557617, 'epoch': 3.0})"
      ]
     },
     "execution_count": 28,
     "metadata": {},
     "output_type": "execute_result"
    }
   ],
   "source": [
    "trainer.train()"
   ]
  },
  {
   "cell_type": "code",
   "execution_count": 32,
   "metadata": {},
   "outputs": [],
   "source": [
    "save_directory = \"./Data/Model/\""
   ]
  },
  {
   "cell_type": "code",
   "execution_count": 33,
   "metadata": {},
   "outputs": [],
   "source": [
    "model.save_pretrained(save_directory)"
   ]
  },
  {
   "cell_type": "code",
   "execution_count": 34,
   "metadata": {},
   "outputs": [
    {
     "data": {
      "text/plain": [
       "('./Data/Model/tokenizer_config.json',\n",
       " './Data/Model/special_tokens_map.json',\n",
       " './Data/Model/vocab.json',\n",
       " './Data/Model/merges.txt',\n",
       " './Data/Model/added_tokens.json',\n",
       " './Data/Model/tokenizer.json')"
      ]
     },
     "execution_count": 34,
     "metadata": {},
     "output_type": "execute_result"
    }
   ],
   "source": [
    "tokenizer.save_pretrained(save_directory)"
   ]
  },
  {
   "cell_type": "markdown",
   "metadata": {},
   "source": [
    "### Testing"
   ]
  },
  {
   "cell_type": "code",
   "execution_count": 24,
   "metadata": {},
   "outputs": [],
   "source": [
    "def generate_text(prompt, model_path):\n",
    "    # Load tokenizer and model from the specified model directory\n",
    "    tokenizer = AutoTokenizer.from_pretrained(model_path)\n",
    "    model = AutoModelForCausalLM.from_pretrained(model_path)\n",
    "\n",
    "    # Encode the prompt text with attention mask\n",
    "    encoding = tokenizer(prompt, return_tensors='pt', padding=True, truncation=True)\n",
    "\n",
    "    # Generate text using the model\n",
    "    outputs = model.generate(\n",
    "        input_ids=encoding['input_ids'],\n",
    "        attention_mask=encoding['attention_mask'],\n",
    "        max_length=512,\n",
    "        pad_token_id=tokenizer.eos_token_id,  # Set pad_token_id to eos_token_id\n",
    "        num_return_sequences=1\n",
    "    )\n",
    "\n",
    "    # Decode and print the output text\n",
    "    decoded_output = tokenizer.decode(outputs[0], skip_special_tokens=True)\n",
    "    print(decoded_output)"
   ]
  },
  {
   "cell_type": "code",
   "execution_count": 25,
   "metadata": {},
   "outputs": [],
   "source": [
    "model_directory = \"./Data/Model/\""
   ]
  },
  {
   "cell_type": "markdown",
   "metadata": {},
   "source": [
    "##### Prompting"
   ]
  },
  {
   "cell_type": "code",
   "execution_count": 27,
   "metadata": {},
   "outputs": [
    {
     "name": "stdout",
     "output_type": "stream",
     "text": [
      "Explain the role of bacteria in the nitrogen cycle.\n",
      "\n",
      "2. Nitrogen fixation: Some bacteria, such as Rhizobium and Azotobacter, convert atmospheric nitrogen (N2) into ammonia (NH3), which can be used by plants. This process is essential for the growth and development of legumes, as it helps to mitigate the negative effects of nitrogen limitation on plant growth and development.\n",
      "\n",
      "3. Decomposition and nutrient cycling: Microorganisms, particularly bacteria and fungi, play a vital role in breaking down dead organic matter and recycling nutrients back into the soil. This process is essential for maintaining soil fertility and supporting plant growth.\n",
      "\n",
      "4. Plant growth-promoting rhizobacteria (PGPR (PGPR): Some bacteria and fungi, such as Pseudomonas spp. can suppress plant growth-promoting rhizobacteria, can enhance plant growth by producing plant growth-promoting rhizobacteria, which can enhance plant growth-promoting rhizobacteria, which can enhance plant growth by producing plant growth-promoting rhizobacteria and enhancing nutrient availability, leading to the plant growth-promoting rhizobacteria and enhancing nutrient availability of essential nutrients like Rhizobacteria and enhancing nutrient-promoting rhizobacteria and enhancing nutrient-promoting rhizobacteria and enhancing nutrient-promoting rhizobacteria, can improve nutrient-promoting rhizobacteria and enhancing plant growth-promoting rhizobacteria and enhancing plant growth-promoting rhizobacteria and enhancing plant growth in the plant growth in the plant growth-promoting rhizobacteria and enhancing plant growth in the plant growth in the plant growth in the plant growth in the plant growth in the plant growth in the plant growth in the plant growth in the plant growth in the plant growth in the plant growth in the plant tissue-promoting rhizobacteria and development of legume-promoting rhizobacteria and enhancing plant tissue-promoting rhizobacteria and enhancing plant growth in the plant tissue-promoting rhizobacteria and enhancing plant growth in the plant-promoting rhizobacteria and enhancing plant-promoting rhizobacteria (PGPR, can improve plant growth in the plant-promoting rhizobacteria and enhancing plant-promoting rhizobacteria (PGPR, can improve plant growth in the plant growth in the plant-promoting rhizobacteria (PGPR, can improve plant growth in\n"
     ]
    }
   ],
   "source": [
    "prompt_text = \"Explain the role of bacteria in the nitrogen cycle.\"\n",
    "generate_text(prompt_text, model_directory)"
   ]
  },
  {
   "cell_type": "code",
   "execution_count": 28,
   "metadata": {},
   "outputs": [
    {
     "name": "stdout",
     "output_type": "stream",
     "text": [
      "Describe the process of gram staining and its significance in microbiology. They are used to identify and isolate bacterial pathogens, such as bacteria, fungi, and viruses, and to establish a mutually beneficial relationship with the host.\n",
      "\n",
      "The significance of using microbial biotechnology in the development of antibiotic-resistant bacteria lies in the following aspects:\n",
      "\n",
      "1. Strain selection: By using microbial biotechnology in the development of antibiotic-resistant bacteria, we can create a selection pressure that favors the survival and proliferation of resistant strains. This can be achieved through the selection of strains with the highest potential for antibiotic production.\n",
      "\n",
      "2. Genetic engineering: By modifying the genes of microorganisms, we can create bacteria with improved antibiotic production capabilities, such as increased yield, stability, or stability, or specificity, or specificity, we can be more effective in the production of antibiotics, or stability, or stability, or stability.\n",
      "\n",
      "\n",
      "\n",
      "3. Enzymatic properties of the production of antibiotics with improved stability, or stability, or stability, or stability, or stability, or stability in the production of the desired products.\n",
      "4.\n",
      "4.\n",
      "5.\n",
      "\n",
      "5. Enzymatic properties of the production of the production of antibiotics.\n",
      "\n",
      "\n",
      "\n",
      "\n",
      "\n",
      "Disadvantages of antibiotics in the engineered microorganisms in the engineered microorganisms in the production of antibiotics in the production of antibiotics in the pharmaceuticals in the pharmaceuticals in the pharmaceuticals in the pharmaceutical industry, such as a desired pharmaceutical industry, such as a desired pharmaceutical industry, such as a pharmaceutical industry, such as a pharmaceutical industry, such as a more efficiently, such as pharmaceutical industry, such as pharmaceutical industry, such as pharmaceuticals, such as pharmaceuticals, such as pharmaceuticals, pharmaceuticals, pharmaceuticals, pharmaceuticals, pharmaceuticals, pharmaceuticals, pharmaceuticals, pharmaceuticals, pharmaceuticals, pharmaceuticals, pharmaceuticals, pharmaceuticals, pharmaceuticals, pharmaceuticals, pharmaceuticals, pharmaceuticals, pharmaceuticals, pharmaceuticals, pharmaceuticals, pharmaceuticals, pharmaceuticals, pharmaceuticals, pharmaceuticals, pharmaceuticals, pharmaceuticals, pharmaceuticals, pharmaceuticals, pharmaceuticals, pharmaceuticals, pharmaceuticals, pharmaceuticals, pharmaceuticals, pharmaceuticals, pharmaceuticals, pharmaceuticals, pharmaceuticals, pharmaceuticals, pharmaceuticals, pharmaceuticals, pharmaceuticals, pharmaceuticals, pharmaceuticals, pharmaceuticals, pharmaceuticals, pharmaceuticals, pharmaceuticals, pharmaceuticals, pharmaceuticals, pharmaceuticals, pharmaceuticals, pharmaceuticals, pharmaceuticals, pharmaceutical\n"
     ]
    }
   ],
   "source": [
    "prompt_text = \"Describe the process of gram staining and its significance in microbiology.\"\n",
    "generate_text(prompt_text, model_directory)"
   ]
  },
  {
   "cell_type": "code",
   "execution_count": 29,
   "metadata": {},
   "outputs": [
    {
     "name": "stdout",
     "output_type": "stream",
     "text": [
      "Discuss the impact of antibiotics on human gut microbiota. Some studies have shown that certain probiotic strains, such as Lactobacillus and Bifidobacterium, can help restore a healthy balance of gut microbiota, which can lead to improved gut health and reduced inflammation.\n",
      "\n",
      "In conclusion, probiotics have been shown to have a positive impact on the composition and function of the gut microbiota, leading to improved health outcomes. However, it is essential to note that the evidence is not yet strong enough to fully understand the relationship between probiotics and human health. It is essential to consult with a healthcare professional to determine the most effective probiotic strains, dosages, and dosages, and treatment durations of treatment, and duration of treatment, and duration of treatment, and duration of treatment.\n"
     ]
    }
   ],
   "source": [
    "prompt_text = \"Discuss the impact of antibiotics on human gut microbiota.\"\n",
    "generate_text(prompt_text, model_directory)"
   ]
  },
  {
   "cell_type": "code",
   "execution_count": 30,
   "metadata": {},
   "outputs": [
    {
     "name": "stdout",
     "output_type": "stream",
     "text": [
      "Outline the methods used to culture viruses in the laboratory. This method involves isolating and growing the virus in a controlled environment, usually in a laboratory setting. The method can be time-consuming and requires specialized facilities and expertise.\n",
      "\n",
      "1. Microscopic examination: This involves examining the virus in a sample, usually in a laboratory setting. The virus can be found in a laboratory setting, such as a laboratory setting, where it can be easily examined by a healthcare professional. The test can be time-consuming and may not be feasible for large-scale testing.\n",
      "\n",
      "2. Viral culture: This method involves isolating and growing the virus in a laboratory setting up a large number of cells, usually in a laboratory setting up of cells, usually in a laboratory setting up of cells, usually in a laboratory setting up to a laboratory setting. The virus in a laboratory setting. The virus in a laboratory setting. The virus culture medium is usually using a laboratory setting. The virus culture medium is usually using a cell culture medium. The virus culture medium is usually using cell culture medium containing the virus culture medium containing the virus culture medium containing the virus culture medium containing the virus in a cell culture medium containing the virus. The virus in a cell culture medium containing the virus. The virus in a cell culture medium containing the virus. The virus in a cell culture medium is usually using cell culture medium containing the virus. The virus culture medium is usually using cell culture medium is usually a cell culture medium is usually a cell culture medium containing the virus. Viral culture medium is usually a cell culture medium containing the virus. Viral culture medium is usually a cell culture medium is usually a cell culture medium containing the virus. Viral culture medium is usually a cell culture medium containing the virus. Viral culture medium is usually a cell culture medium containing the virus. Viral culture medium is usually a cell culture medium containing the virus. Viral culture medium is usually a cell culture medium containing the virus. Viral culture medium containing the virus. Viral culture medium is usually a cell culture medium containing the virus in a cell culture medium containing the virus in a cell culture medium containing the virus in a cell culture medium containing the virus in a cell culture medium containing the virus in a cell culture medium containing the virus in a cell culture medium containing the virus. Viral culture medium containing the virus. Viral culture medium containing the virus. Viral culture medium containing the virus. Viral culture medium containing the virus. Viral culture medium containing the virus. Vir\n"
     ]
    }
   ],
   "source": [
    "prompt_text = \"Outline the methods used to culture viruses in the laboratory.\"\n",
    "generate_text(prompt_text, model_directory)"
   ]
  },
  {
   "cell_type": "code",
   "execution_count": 31,
   "metadata": {},
   "outputs": [
    {
     "name": "stdout",
     "output_type": "stream",
     "text": [
      "Compare and contrast aerobic and anaerobic bacteria.\n",
      "\n",
      "2. Aerobic bacteria:\n",
      "\n",
      "a) Aerobic bacteria: These bacteria, such as Aspergillus and Penicillium, are aerobic bacteria that can break down organic matter and release oxygen. They can be found in various indoor environments, including hospitals, hospitals, and even even within the air.\n",
      "\n",
      "b) Fungi: These bacteria are found in various indoor environments, including hospitals, hospitals, and even within the air. They can be found in various indoor environments, including hospitals, hospitals, and even within the airway.\n",
      "\n",
      "c) Fungi: Fungi are a diverse group of microorganisms that can be found in various indoor environments, including air, including damp, air, air, air, and air, and air, and air, and air, and air, and air, and air, and air. They can be used to damp. They can be used to slow down. They can be used to slow down or eliminate the rate-release particles and slow down. They can be inhaled. They can be inhaled. They can be inhaled. They can be used to slow down or expelled. They can be used to slow down or expelled. They can be used to slow down or expelled. They can be used to slow down or expelled. They can be used to slow down or expelled. They can be used to slow down or expelled. They can be used to slow down or expelled. They can be used to slow down or expelled.\n",
      "\n",
      "\n",
      "\n",
      "\n",
      "\n",
      "\n",
      "\n",
      "\n",
      "\n",
      "-release their growth. They can be used to slow down or expelled from the rate-release the rate-release the rate-release the rate-release the rate-release the rate-release the rate-release the rate-release the rate-release the rate-release the rate-release the rate of the rate of the rate of the rate of the rate of the rate of the rate of the rate of the rate of the rate of the rate of the rate of the rate of the rate of the rate of the rate of the rate of the rate of the rate of the rate of the rate of the rate of the rate of the rate of the process.\n",
      "\n",
      "\n",
      "\n",
      "\n",
      "\n",
      "-release rate of the process.\n",
      "-release rate of the process.\n",
      "-release rate of the process.\n",
      "-release rate of the process.\n",
      "-release rate of the process.\n",
      "-release rate of\n"
     ]
    }
   ],
   "source": [
    "prompt_text = \"Compare and contrast aerobic and anaerobic bacteria.\"\n",
    "generate_text(prompt_text, model_directory)"
   ]
  },
  {
   "cell_type": "markdown",
   "metadata": {},
   "source": [
    "Ejercicio: **Tratar de mejorar el modelo**"
   ]
  },
  {
   "cell_type": "markdown",
   "metadata": {},
   "source": [
    "Veamos que sucede si introducimos un 'prompt' que no tenga relación alguna con el texto:"
   ]
  },
  {
   "cell_type": "code",
   "execution_count": 32,
   "metadata": {},
   "outputs": [
    {
     "name": "stdout",
     "output_type": "stream",
     "text": [
      "Tell me the history of Manchester City F.C.E.E. coli (E. coli) and Salmonella are both commonly used in indoor environments, but they share some similarities and differences.\n",
      "\n",
      "To identify the correct common name for a given species of mold, we can use a combination of characteristics, including:\n",
      "\n",
      "1. Temperature: Most molds grow best at moderate temperatures, typically between 20°C and 30°C. However, some species prefer cooler temperatures, like thermophilic fungi, which thrive at higher temperatures.\n",
      "\n",
      "2. Humidity: Maintaining indoor humidity levels between 30°C and 60°C can help prevent the growth of mold and hyphae.\n",
      "\n",
      "\n",
      "3. Drying out moisture: Removing moisture: Removing moisture from indoor air and moisture can help cool the air in indoor air close to prevent moisture, reducing moisture and dampness, which can slow down the growth of indoor air circulation and dampness and dampness.\n",
      "4.\n",
      "4.\n",
      "5°C.\n",
      "5°C.9.9.9.9.9.9.9.9.9.9.9.9.9.9.9.9.9.9.9.9.9.9.9.9.9.9.9.9.9.9.9.9.9.9.9.9.9.9.9.9.9.9.9.9.9.9.9.9.9.9.9.9.9.9.9.9.9.9.9.9.9.9.9.9.9.9.9.9.9.9.9.9.9.9.9.9.9.9.9.9.9.9.9.9.9.9.9.9.9.9.9.9.9.9.9.9.9.9.9.9.9.9.9.9.9.9.9.9.9.9.9.9.9.9.9.9.9.9.9.9.9.9.9.9.9.9.9.9.9.9.9.9.9.9.9.9.9.9.9.9.9.9.9.9.9.10.10.\n"
     ]
    }
   ],
   "source": [
    "prompt_text = \"Tell me the history of Manchester City F.C.\"\n",
    "generate_text(prompt_text, model_directory)"
   ]
  },
  {
   "cell_type": "markdown",
   "metadata": {},
   "source": [
    "### Preguntas"
   ]
  },
  {
   "cell_type": "markdown",
   "metadata": {},
   "source": [
    "**Preguntas Básicas**\n",
    "\n",
    "1) ¿Qué es Hugging Face y cuál es su contribución principal al campo del procesamiento del lenguaje natural?\n",
    "\n",
    "2) ¿Qué es un \"transformer\" en el contexto de aprendizaje automático?\n",
    "\n",
    "3) Menciona al menos tres aplicaciones prácticas de los modelos transformer.\n",
    "\n",
    "**Preguntas Intermedias**\n",
    "\n",
    "4) ¿Cómo funciona la atención auto-dirigida en los modelos de transformers?\n",
    "\n",
    "5) Explica la diferencia entre los modelos AutoModel y AutoTokenizer en la biblioteca Transformers de Hugging Face.\n",
    "\n",
    "6) ¿Cuáles son las ventajas de utilizar la biblioteca Transformers para el desarrollo de modelos de NLP?\n",
    "\n",
    "**Preguntas Avanzadas**\n",
    "\n",
    "7) Describe el proceso de fine-tuning de un modelo transformer preentrenado para una tarea específica de NLP.\n",
    "    \n",
    "8) ¿Qué consideraciones se deben tener en cuenta al desplegar modelos transformers en producción?\n",
    "\n",
    "9) Discute el impacto ético del uso de modelos de lenguaje grande como GPT-3 en la sociedad.\n",
    "\n",
    "**Pregunta de Aplicación**\n",
    "\n",
    "10) Diseña un experimento utilizando un modelo transformer para identificar el sentimiento de los tweets. Incluye qué modelo usarías, cómo entrenarías el modelo, y cómo evaluarías su rendimiento.\n",
    "      "
   ]
  }
 ],
 "metadata": {
  "kernelspec": {
   "display_name": "Python 3",
   "language": "python",
   "name": "python3"
  },
  "language_info": {
   "codemirror_mode": {
    "name": "ipython",
    "version": 3
   },
   "file_extension": ".py",
   "mimetype": "text/x-python",
   "name": "python",
   "nbconvert_exporter": "python",
   "pygments_lexer": "ipython3",
   "version": "3.11.8"
  }
 },
 "nbformat": 4,
 "nbformat_minor": 2
}
