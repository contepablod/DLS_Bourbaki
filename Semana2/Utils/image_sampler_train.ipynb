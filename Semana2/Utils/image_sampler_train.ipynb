{
 "cells": [
  {
   "cell_type": "code",
   "execution_count": 1,
   "metadata": {},
   "outputs": [],
   "source": [
    "import os\n",
    "import random\n",
    "import shutil\n",
    "\n",
    "# Path to the directory containing all the images\n",
    "source_dir = './Data/train_v2'\n",
    "\n",
    "# Path to the directory where the sampled images will be copied (or moved)\n",
    "target_dir = './Data/train_v2_sampled'\n",
    "\n",
    "# Make sure the target directory exists, create if it does not\n",
    "os.makedirs(target_dir, exist_ok=True)\n",
    "\n",
    "# List all files in the source directory\n",
    "all_files = os.listdir(source_dir)\n",
    "\n",
    "# Number of files to sample\n",
    "num_files_to_sample = 18000\n",
    "\n",
    "# Ensure there are enough files to sample\n",
    "if len(all_files) >= num_files_to_sample:\n",
    "    # Randomly sample files\n",
    "    sampled_files = random.sample(all_files, num_files_to_sample)\n",
    "\n",
    "    # Copy (or move) the files to the target directory\n",
    "    for file_name in sampled_files:\n",
    "        # Build the full file paths\n",
    "        source_path = os.path.join(source_dir, file_name)\n",
    "        target_path = os.path.join(target_dir, file_name)\n",
    "\n",
    "        # Uncomment the operation you need: copy or move\n",
    "        shutil.copy(source_path, target_path)  # For copying\n",
    "        # shutil.move(source_path, target_path)  # For moving\n",
    "else:\n",
    "    print(\"Not enough files in the source directory to sample.\")"
   ]
  }
 ],
 "metadata": {
  "kernelspec": {
   "display_name": "Python 3",
   "language": "python",
   "name": "python3"
  },
  "language_info": {
   "codemirror_mode": {
    "name": "ipython",
    "version": 3
   },
   "file_extension": ".py",
   "mimetype": "text/x-python",
   "name": "python",
   "nbconvert_exporter": "python",
   "pygments_lexer": "ipython3",
   "version": "3.11.8"
  }
 },
 "nbformat": 4,
 "nbformat_minor": 2
}
