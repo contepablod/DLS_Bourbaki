{
 "cells": [
  {
   "cell_type": "code",
   "execution_count": 1,
   "metadata": {},
   "outputs": [
    {
     "name": "stdout",
     "output_type": "stream",
     "text": [
      "Filtered CSV saved to: ./Data/filtered_train_ship_segmentations_v2.csv\n"
     ]
    }
   ],
   "source": [
    "import pandas as pd\n",
    "import os\n",
    "\n",
    "# Path to the CSV file\n",
    "csv_file_path = './Data/train_ship_segmentations_v2.csv'\n",
    "\n",
    "# Path to the directory where sampled images are stored\n",
    "sampled_images_dir = './Data/train_v2_sampled'\n",
    "\n",
    "# Read the list of sampled image file names\n",
    "sampled_image_filenames = os.listdir(sampled_images_dir)\n",
    "\n",
    "# Read the CSV file\n",
    "df = pd.read_csv(csv_file_path)\n",
    "\n",
    "# Filter the DataFrame to include only rows where the ImageId is in the list of sampled image filenames\n",
    "filtered_df = df[df['ImageId'].isin(sampled_image_filenames)]\n",
    "\n",
    "# Save the filtered DataFrame to a new CSV file\n",
    "filtered_csv_file_path = './Data/filtered_train_ship_segmentations_v2.csv'\n",
    "filtered_df.to_csv(filtered_csv_file_path, index=False)\n",
    "\n",
    "print(\"Filtered CSV saved to:\", filtered_csv_file_path)"
   ]
  }
 ],
 "metadata": {
  "kernelspec": {
   "display_name": "Python 3",
   "language": "python",
   "name": "python3"
  },
  "language_info": {
   "codemirror_mode": {
    "name": "ipython",
    "version": 3
   },
   "file_extension": ".py",
   "mimetype": "text/x-python",
   "name": "python",
   "nbconvert_exporter": "python",
   "pygments_lexer": "ipython3",
   "version": "3.11.7"
  }
 },
 "nbformat": 4,
 "nbformat_minor": 2
}
