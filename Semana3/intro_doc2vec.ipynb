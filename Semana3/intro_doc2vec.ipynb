{
 "cells": [
  {
   "cell_type": "markdown",
   "metadata": {},
   "source": [
    "![Colegio Bourbaki](./Images/Bourbaki.png)"
   ]
  },
  {
   "cell_type": "markdown",
   "metadata": {},
   "source": [
    "## Machine Learning & AI"
   ]
  },
  {
   "cell_type": "markdown",
   "metadata": {},
   "source": [
    "### Introducción a Doc2Vec"
   ]
  },
  {
   "cell_type": "markdown",
   "metadata": {},
   "source": [
    "Doc2vec desde cero en PyTorch\n",
    "\n",
    " Todo esto está basado en el gran trabajo de [Nejc Ilenic](https://github.com/inejc/paragraph-vectors) y el código fuente de gensim.\n",
    "\n",
    "`doc2vec` desciende de `word2vec`, cuya forma básica es que es un modelo entrenado para predecir la palabra que falta en un contexto. Dadas frases como \"el gato ___ en la alfombra\" debería predecir \"se sentó\", y al hacerlo aprende una representación útil de las palabras. A continuación, podemos extraer las ponderaciones internas y reutilizarlas como \"incrustaciones o encajes de palabras\", vectores que dan a cada palabra una posición en un espacio de N dimensiones que se espera que esté cerca de palabras similares y a una distancia adecuada de las palabras relacionadas. \n",
    "\n",
    "Doc2vec\" o \"vectores de párrafo\" amplía la idea de \"word2vec\" añadiendo un identificador de documento a cada contexto. Esto ayuda a la red a aprender asociaciones entre contextos y produce vectores que posicionan cada párrafo (documento) en el espacio."
   ]
  },
  {
   "cell_type": "markdown",
   "metadata": {},
   "source": [
    "Primero tenemos que cargar los datos. Empezaremos sobreajustando un pequeño conjunto de datos para comprobar que todas las piezas encajan."
   ]
  },
  {
   "cell_type": "code",
   "execution_count": 1,
   "metadata": {},
   "outputs": [
    {
     "data": {
      "text/html": [
       "<div>\n",
       "<style scoped>\n",
       "    .dataframe tbody tr th:only-of-type {\n",
       "        vertical-align: middle;\n",
       "    }\n",
       "\n",
       "    .dataframe tbody tr th {\n",
       "        vertical-align: top;\n",
       "    }\n",
       "\n",
       "    .dataframe thead th {\n",
       "        text-align: right;\n",
       "    }\n",
       "</style>\n",
       "<table border=\"1\" class=\"dataframe\">\n",
       "  <thead>\n",
       "    <tr style=\"text-align: right;\">\n",
       "      <th></th>\n",
       "      <th>text</th>\n",
       "      <th>tokens</th>\n",
       "    </tr>\n",
       "  </thead>\n",
       "  <tbody>\n",
       "    <tr>\n",
       "      <th>0</th>\n",
       "      <td>In the week before their departure to Arrakis, when all the final scurrying about had reached a ...</td>\n",
       "      <td>[in, the, week, before, their, departure, to, arrakis, when, all, the, final, scurrying, about, ...</td>\n",
       "    </tr>\n",
       "    <tr>\n",
       "      <th>1</th>\n",
       "      <td>It was a warm night at Castle Caladan, and the ancient pile of stone that had served the Atreide...</td>\n",
       "      <td>[it, was, a, warm, night, at, castle, caladan, and, the, ancient, pile, of, stone, that, had, se...</td>\n",
       "    </tr>\n",
       "    <tr>\n",
       "      <th>2</th>\n",
       "      <td>The old woman was let in by the side door down the vaulted passage by Paul's room and she was al...</td>\n",
       "      <td>[the, old, woman, was, let, in, by, the, side, door, down, the, vaulted, passage, by, paul, room...</td>\n",
       "    </tr>\n",
       "    <tr>\n",
       "      <th>3</th>\n",
       "      <td>By the half-light of a suspensor lamp, dimmed and hanging near the floor, the awakened boy could...</td>\n",
       "      <td>[by, the, half, light, of, a, suspensor, lamp, dimmed, and, hanging, near, the, floor, the, awak...</td>\n",
       "    </tr>\n",
       "  </tbody>\n",
       "</table>\n",
       "</div>"
      ],
      "text/plain": [
       "                                                                                                  text  \\\n",
       "0  In the week before their departure to Arrakis, when all the final scurrying about had reached a ...   \n",
       "1  It was a warm night at Castle Caladan, and the ancient pile of stone that had served the Atreide...   \n",
       "2  The old woman was let in by the side door down the vaulted passage by Paul's room and she was al...   \n",
       "3  By the half-light of a suspensor lamp, dimmed and hanging near the floor, the awakened boy could...   \n",
       "\n",
       "                                                                                                tokens  \n",
       "0  [in, the, week, before, their, departure, to, arrakis, when, all, the, final, scurrying, about, ...  \n",
       "1  [it, was, a, warm, night, at, castle, caladan, and, the, ancient, pile, of, stone, that, had, se...  \n",
       "2  [the, old, woman, was, let, in, by, the, side, door, down, the, vaulted, passage, by, paul, room...  \n",
       "3  [by, the, half, light, of, a, suspensor, lamp, dimmed, and, hanging, near, the, floor, the, awak...  "
      ]
     },
     "execution_count": 1,
     "metadata": {},
     "output_type": "execute_result"
    }
   ],
   "source": [
    "import pandas as pd\n",
    "import spacy\n",
    "\n",
    "nlp = spacy.load(\"en_core_web_sm\")\n",
    "\n",
    "pd.set_option(\"display.max_colwidth\", 100)\n",
    "\n",
    "example_df = pd.read_csv(\"./Data/example.csv\")\n",
    "\n",
    "def tokenize_text(df):\n",
    "    df[\"tokens\"] = df.text.str.lower().str.strip().apply(lambda x: [token.text.strip() for token in nlp(x) if token.text.isalnum()])\n",
    "    return df\n",
    "\n",
    "example_df = tokenize_text(example_df)\n",
    "\n",
    "example_df"
   ]
  },
  {
   "cell_type": "markdown",
   "metadata": {},
   "source": [
    "Construiremos un vocabulario para poder referenciar cada palabra por un ID:"
   ]
  },
  {
   "cell_type": "code",
   "execution_count": 2,
   "metadata": {},
   "outputs": [
    {
     "name": "stdout",
     "output_type": "stream",
     "text": [
      "Dataset comprises 4 documents and 106 unique words (over the limit of 1 occurrences)\n"
     ]
    }
   ],
   "source": [
    "from collections import Counter\n",
    "\n",
    "class Vocab:\n",
    "    def __init__(self, all_tokens, min_count=2):\n",
    "        self.min_count = min_count\n",
    "        self.freqs = {t:n for t, n in Counter(all_tokens).items() if n >= min_count}\n",
    "        self.words = sorted(self.freqs.keys())\n",
    "        self.word2idx = {w: i for i, w in enumerate(self.words)}\n",
    "        \n",
    "vocab = Vocab([tok for tokens in example_df.tokens for tok in tokens], min_count=1)\n",
    "\n",
    "print(f\"Dataset comprises {len(example_df)} documents and {len(vocab.words)} unique words (over the limit of {vocab.min_count} occurrences)\")"
   ]
  },
  {
   "cell_type": "markdown",
   "metadata": {},
   "source": [
    "Las palabras que aparecen muy raramente pueden perjudicar el rendimiento, por lo que añadimos un mecanismo sencillo para eliminarlas."
   ]
  },
  {
   "cell_type": "code",
   "execution_count": 4,
   "metadata": {},
   "outputs": [
    {
     "data": {
      "text/html": [
       "<div>\n",
       "<style scoped>\n",
       "    .dataframe tbody tr th:only-of-type {\n",
       "        vertical-align: middle;\n",
       "    }\n",
       "\n",
       "    .dataframe tbody tr th {\n",
       "        vertical-align: top;\n",
       "    }\n",
       "\n",
       "    .dataframe thead th {\n",
       "        text-align: right;\n",
       "    }\n",
       "</style>\n",
       "<table border=\"1\" class=\"dataframe\">\n",
       "  <thead>\n",
       "    <tr style=\"text-align: right;\">\n",
       "      <th></th>\n",
       "      <th>text</th>\n",
       "      <th>tokens</th>\n",
       "      <th>length</th>\n",
       "      <th>clean_tokens</th>\n",
       "      <th>clean_length</th>\n",
       "    </tr>\n",
       "  </thead>\n",
       "  <tbody>\n",
       "    <tr>\n",
       "      <th>0</th>\n",
       "      <td>In the week before their departure to Arrakis, when all the final scurrying about had reached a ...</td>\n",
       "      <td>[in, the, week, before, their, departure, to, arrakis, when, all, the, final, scurrying, about, ...</td>\n",
       "      <td>32</td>\n",
       "      <td>[in, the, week, before, their, departure, to, arrakis, when, all, the, final, scurrying, about, ...</td>\n",
       "      <td>32</td>\n",
       "    </tr>\n",
       "    <tr>\n",
       "      <th>1</th>\n",
       "      <td>It was a warm night at Castle Caladan, and the ancient pile of stone that had served the Atreide...</td>\n",
       "      <td>[it, was, a, warm, night, at, castle, caladan, and, the, ancient, pile, of, stone, that, had, se...</td>\n",
       "      <td>39</td>\n",
       "      <td>[it, was, a, warm, night, at, castle, caladan, and, the, ancient, pile, of, stone, that, had, se...</td>\n",
       "      <td>39</td>\n",
       "    </tr>\n",
       "    <tr>\n",
       "      <th>2</th>\n",
       "      <td>The old woman was let in by the side door down the vaulted passage by Paul's room and she was al...</td>\n",
       "      <td>[the, old, woman, was, let, in, by, the, side, door, down, the, vaulted, passage, by, paul, room...</td>\n",
       "      <td>34</td>\n",
       "      <td>[the, old, woman, was, let, in, by, the, side, door, down, the, vaulted, passage, by, paul, room...</td>\n",
       "      <td>34</td>\n",
       "    </tr>\n",
       "    <tr>\n",
       "      <th>3</th>\n",
       "      <td>By the half-light of a suspensor lamp, dimmed and hanging near the floor, the awakened boy could...</td>\n",
       "      <td>[by, the, half, light, of, a, suspensor, lamp, dimmed, and, hanging, near, the, floor, the, awak...</td>\n",
       "      <td>53</td>\n",
       "      <td>[by, the, half, light, of, a, suspensor, lamp, dimmed, and, hanging, near, the, floor, the, awak...</td>\n",
       "      <td>53</td>\n",
       "    </tr>\n",
       "  </tbody>\n",
       "</table>\n",
       "</div>"
      ],
      "text/plain": [
       "                                                                                                  text  \\\n",
       "0  In the week before their departure to Arrakis, when all the final scurrying about had reached a ...   \n",
       "1  It was a warm night at Castle Caladan, and the ancient pile of stone that had served the Atreide...   \n",
       "2  The old woman was let in by the side door down the vaulted passage by Paul's room and she was al...   \n",
       "3  By the half-light of a suspensor lamp, dimmed and hanging near the floor, the awakened boy could...   \n",
       "\n",
       "                                                                                                tokens  \\\n",
       "0  [in, the, week, before, their, departure, to, arrakis, when, all, the, final, scurrying, about, ...   \n",
       "1  [it, was, a, warm, night, at, castle, caladan, and, the, ancient, pile, of, stone, that, had, se...   \n",
       "2  [the, old, woman, was, let, in, by, the, side, door, down, the, vaulted, passage, by, paul, room...   \n",
       "3  [by, the, half, light, of, a, suspensor, lamp, dimmed, and, hanging, near, the, floor, the, awak...   \n",
       "\n",
       "   length  \\\n",
       "0      32   \n",
       "1      39   \n",
       "2      34   \n",
       "3      53   \n",
       "\n",
       "                                                                                          clean_tokens  \\\n",
       "0  [in, the, week, before, their, departure, to, arrakis, when, all, the, final, scurrying, about, ...   \n",
       "1  [it, was, a, warm, night, at, castle, caladan, and, the, ancient, pile, of, stone, that, had, se...   \n",
       "2  [the, old, woman, was, let, in, by, the, side, door, down, the, vaulted, passage, by, paul, room...   \n",
       "3  [by, the, half, light, of, a, suspensor, lamp, dimmed, and, hanging, near, the, floor, the, awak...   \n",
       "\n",
       "   clean_length  \n",
       "0            32  \n",
       "1            39  \n",
       "2            34  \n",
       "3            53  "
      ]
     },
     "execution_count": 4,
     "metadata": {},
     "output_type": "execute_result"
    }
   ],
   "source": [
    "def clean_tokens(df, vocab):\n",
    "    df[\"length\"] = df.tokens.apply(len)\n",
    "    df[\"clean_tokens\"] = df.tokens.apply(lambda x: [t for t in x if t in vocab.freqs.keys()])\n",
    "    df[\"clean_length\"] = df.clean_tokens.apply(len)\n",
    "    return df\n",
    "\n",
    "example_df = clean_tokens(example_df, vocab)\n",
    "example_df[:]"
   ]
  },
  {
   "cell_type": "markdown",
   "metadata": {},
   "source": [
    "La dificultad de nuestro problema \"el gato _ en la alfombra\" es que la palabra que falta podría ser cualquiera del vocabulario V y, por tanto, la red tendría salidas |V| para cada entrada, por ejemplo, un enorme vector con cero para cada palabra del vocabulario y algún número positivo para \"sat\" si la red estuviera perfectamente entrenada. Para calcular la pérdida, tenemos que convertirlo en una distribución de probabilidad, es decir, en un \"softmax\". Calcular el softmax para un vector tan grande es costoso.\n",
    "\n",
    "Así que el truco (uno de los muchos posibles) que utilizaremos es la Estimación Contrastiva de Ruido (NCE). Cambiamos nuestro problema \"el gato ___ en la alfombra\" por un problema de elección múltiple, pidiendo a la red que elija entre \"se sentó\" y algunas respuestas erróneas aleatorias como \"rayuela\" y \"se deleitó\". Esto es más fácil de calcular porque ahora es un clasificador binario (respuesta correcta o incorrecta) y la salida es simplemente un vector de tamaño 1 + k, donde k es el número de opciones incorrectas aleatorias.\n",
    "\n",
    "Afortunadamente, este problema alternativo sigue aprendiendo representaciones de palabras igualmente útiles. Sólo tenemos que ajustar los ejemplos y la función de pérdida. Existe una versión simplificada de la función de pérdida NCE llamada Muestreo Negativo (NEG) que podemos utilizar aquí.\n",
    "\n",
    "Cuando aplicamos la función de pérdida, suponemos que el primer elemento de un vector muestras/puntuaciones es la puntuación de la muestra positiva y el resto son muestras negativas. Esta convención nos evita tener que pasar un vector auxiliar que indique qué muestra fue positiva."
   ]
  },
  {
   "cell_type": "code",
   "execution_count": 5,
   "metadata": {},
   "outputs": [],
   "source": [
    "import torch.nn as nn\n",
    "\n",
    "class NegativeSampling(nn.Module):\n",
    "    def __init__(self):\n",
    "        super(NegativeSampling, self).__init__()\n",
    "        self.log_sigmoid = nn.LogSigmoid()\n",
    "    def forward(self, scores):\n",
    "        batch_size = scores.shape[0]\n",
    "        n_negative_samples = scores.shape[1] - 1   # TODO average or sum the negative samples? Summing seems to be correct by the paper\n",
    "        positive = self.log_sigmoid(scores[:,0])\n",
    "        negatives = torch.sum(self.log_sigmoid(-scores[:,1:]), dim=1)\n",
    "        return -torch.sum(positive + negatives) / batch_size  # average for batch\n",
    "\n",
    "loss = NegativeSampling()"
   ]
  },
  {
   "cell_type": "markdown",
   "metadata": {},
   "source": [
    "Es útil jugar con algunos valores para asegurarnos de que esta función hace lo correcto:"
   ]
  },
  {
   "cell_type": "code",
   "execution_count": 6,
   "metadata": {},
   "outputs": [
    {
     "data": {
      "text/html": [
       "<div>\n",
       "<style scoped>\n",
       "    .dataframe tbody tr th:only-of-type {\n",
       "        vertical-align: middle;\n",
       "    }\n",
       "\n",
       "    .dataframe tbody tr th {\n",
       "        vertical-align: top;\n",
       "    }\n",
       "\n",
       "    .dataframe thead th {\n",
       "        text-align: right;\n",
       "    }\n",
       "</style>\n",
       "<table border=\"1\" class=\"dataframe\">\n",
       "  <thead>\n",
       "    <tr style=\"text-align: right;\">\n",
       "      <th></th>\n",
       "      <th>scores</th>\n",
       "      <th>loss</th>\n",
       "    </tr>\n",
       "  </thead>\n",
       "  <tbody>\n",
       "    <tr>\n",
       "      <th>0</th>\n",
       "      <td>[1, -1, -1, -1]</td>\n",
       "      <td>tensor(1.2530)</td>\n",
       "    </tr>\n",
       "    <tr>\n",
       "      <th>1</th>\n",
       "      <td>[0.5, -1, -1, -1]</td>\n",
       "      <td>tensor(1.4139)</td>\n",
       "    </tr>\n",
       "    <tr>\n",
       "      <th>2</th>\n",
       "      <td>[0, -1, -1, -1]</td>\n",
       "      <td>tensor(1.6329)</td>\n",
       "    </tr>\n",
       "    <tr>\n",
       "      <th>3</th>\n",
       "      <td>[0, 0, 0, 0]</td>\n",
       "      <td>tensor(2.7726)</td>\n",
       "    </tr>\n",
       "    <tr>\n",
       "      <th>4</th>\n",
       "      <td>[0, 0, 0, 1]</td>\n",
       "      <td>tensor(3.3927)</td>\n",
       "    </tr>\n",
       "    <tr>\n",
       "      <th>5</th>\n",
       "      <td>[0, 1, 1, 1]</td>\n",
       "      <td>tensor(4.6329)</td>\n",
       "    </tr>\n",
       "    <tr>\n",
       "      <th>6</th>\n",
       "      <td>[0.5, 1, 1, 1]</td>\n",
       "      <td>tensor(4.4139)</td>\n",
       "    </tr>\n",
       "    <tr>\n",
       "      <th>7</th>\n",
       "      <td>[1, 1, 1, 1]</td>\n",
       "      <td>tensor(4.2530)</td>\n",
       "    </tr>\n",
       "  </tbody>\n",
       "</table>\n",
       "</div>"
      ],
      "text/plain": [
       "              scores            loss\n",
       "0    [1, -1, -1, -1]  tensor(1.2530)\n",
       "1  [0.5, -1, -1, -1]  tensor(1.4139)\n",
       "2    [0, -1, -1, -1]  tensor(1.6329)\n",
       "3       [0, 0, 0, 0]  tensor(2.7726)\n",
       "4       [0, 0, 0, 1]  tensor(3.3927)\n",
       "5       [0, 1, 1, 1]  tensor(4.6329)\n",
       "6     [0.5, 1, 1, 1]  tensor(4.4139)\n",
       "7       [1, 1, 1, 1]  tensor(4.2530)"
      ]
     },
     "execution_count": 6,
     "metadata": {},
     "output_type": "execute_result"
    }
   ],
   "source": [
    "import torch \n",
    "\n",
    "data = [[[1, -1, -1, -1]],  # this dummy data uses -1 to 1, but the real model is unconstrained\n",
    "        [[0.5, -1, -1, -1]],\n",
    "        [[0, -1, -1, -1]],\n",
    "        [[0, 0, 0, 0]],\n",
    "        [[0, 0, 0, 1]],\n",
    "        [[0, 1, 1, 1]],\n",
    "        [[0.5, 1, 1, 1]],\n",
    "        [[1, 1, 1, 1]]]\n",
    "\n",
    "loss_df = pd.DataFrame(data, columns=[\"scores\"])\n",
    "loss_df[\"loss\"] = loss_df.scores.apply(lambda x: loss(torch.FloatTensor([x])))\n",
    "\n",
    "loss_df"
   ]
  },
  {
   "cell_type": "markdown",
   "metadata": {},
   "source": [
    "Las puntuaciones más altas de la muestra positiva (siempre el primer elemento) reducen la pérdida, pero las puntuaciones más altas de las muestras negativas aumentan la pérdida. Este parece el comportamiento correcto."
   ]
  },
  {
   "cell_type": "markdown",
   "metadata": {},
   "source": [
    "Con esto en la mochila, veamos cómo crear datos de entrenamiento. La idea general es crear un conjunto de ejemplos donde cada ejemplo tiene:\n",
    "\n",
    "- doc id\n",
    "- ids de muestra - una colección del token objetivo y algunos tokens de ruido\n",
    "- ids de contexto - tokens antes y después del token objetivo\n",
    "\n",
    "Por ejemplo, si el tamaño de nuestro contexto fuera 2, el primer ejemplo del conjunto de datos anterior sería:\n",
    "\n",
    "```\n",
    "{\"doc_id\": 0,\n",
    " \"sample_ids\": [word2idx[x] for x in [\"semana\", \"palabra-aleatoria-de-vocab\", \"palabra-aleatoria-de-vocab\"...],\n",
    " \"context_ids\": [word2idx[x] for x in [\"en\", \"el\", \"antes\", \"sus\"]]}\n",
    " ```\n",
    " \n",
    " Las palabras aleatorias se eligen según una distribución de probabilidad:\n",
    " \n",
    " > una distribución de unigramas elevada a la 3/4ª potencia, como proponen T. Mikolov et al. en Distributed Representations of Words and Phrases and their Compositionality.\n",
    "\n",
    "Esto tiene el efecto de aumentar ligeramente la probabilidad relativa de las palabras raras (mire el gráfico de `y=x^0,75` más abajo y vea cómo el extremo inferior se eleva por encima de `y=x`)."
   ]
  },
  {
   "cell_type": "code",
   "execution_count": 7,
   "metadata": {},
   "outputs": [
    {
     "data": {
      "text/html": [
       "\n",
       "<style>\n",
       "  #altair-viz-e4179ec20aa947c792251f0175996a44.vega-embed {\n",
       "    width: 100%;\n",
       "    display: flex;\n",
       "  }\n",
       "\n",
       "  #altair-viz-e4179ec20aa947c792251f0175996a44.vega-embed details,\n",
       "  #altair-viz-e4179ec20aa947c792251f0175996a44.vega-embed details summary {\n",
       "    position: relative;\n",
       "  }\n",
       "</style>\n",
       "<div id=\"altair-viz-e4179ec20aa947c792251f0175996a44\"></div>\n",
       "<script type=\"text/javascript\">\n",
       "  var VEGA_DEBUG = (typeof VEGA_DEBUG == \"undefined\") ? {} : VEGA_DEBUG;\n",
       "  (function(spec, embedOpt){\n",
       "    let outputDiv = document.currentScript.previousElementSibling;\n",
       "    if (outputDiv.id !== \"altair-viz-e4179ec20aa947c792251f0175996a44\") {\n",
       "      outputDiv = document.getElementById(\"altair-viz-e4179ec20aa947c792251f0175996a44\");\n",
       "    }\n",
       "    const paths = {\n",
       "      \"vega\": \"https://cdn.jsdelivr.net/npm/vega@5?noext\",\n",
       "      \"vega-lib\": \"https://cdn.jsdelivr.net/npm/vega-lib?noext\",\n",
       "      \"vega-lite\": \"https://cdn.jsdelivr.net/npm/vega-lite@5.16.3?noext\",\n",
       "      \"vega-embed\": \"https://cdn.jsdelivr.net/npm/vega-embed@6?noext\",\n",
       "    };\n",
       "\n",
       "    function maybeLoadScript(lib, version) {\n",
       "      var key = `${lib.replace(\"-\", \"\")}_version`;\n",
       "      return (VEGA_DEBUG[key] == version) ?\n",
       "        Promise.resolve(paths[lib]) :\n",
       "        new Promise(function(resolve, reject) {\n",
       "          var s = document.createElement('script');\n",
       "          document.getElementsByTagName(\"head\")[0].appendChild(s);\n",
       "          s.async = true;\n",
       "          s.onload = () => {\n",
       "            VEGA_DEBUG[key] = version;\n",
       "            return resolve(paths[lib]);\n",
       "          };\n",
       "          s.onerror = () => reject(`Error loading script: ${paths[lib]}`);\n",
       "          s.src = paths[lib];\n",
       "        });\n",
       "    }\n",
       "\n",
       "    function showError(err) {\n",
       "      outputDiv.innerHTML = `<div class=\"error\" style=\"color:red;\">${err}</div>`;\n",
       "      throw err;\n",
       "    }\n",
       "\n",
       "    function displayChart(vegaEmbed) {\n",
       "      vegaEmbed(outputDiv, spec, embedOpt)\n",
       "        .catch(err => showError(`Javascript Error: ${err.message}<br>This usually means there's a typo in your chart specification. See the javascript console for the full traceback.`));\n",
       "    }\n",
       "\n",
       "    if(typeof define === \"function\" && define.amd) {\n",
       "      requirejs.config({paths});\n",
       "      require([\"vega-embed\"], displayChart, err => showError(`Error loading script: ${err.message}`));\n",
       "    } else {\n",
       "      maybeLoadScript(\"vega\", \"5\")\n",
       "        .then(() => maybeLoadScript(\"vega-lite\", \"5.16.3\"))\n",
       "        .then(() => maybeLoadScript(\"vega-embed\", \"6\"))\n",
       "        .catch(showError)\n",
       "        .then(() => displayChart(vegaEmbed));\n",
       "    }\n",
       "  })({\"config\": {\"view\": {\"continuousWidth\": 300, \"continuousHeight\": 300}}, \"data\": {\"name\": \"data-afc3dc0951a9e12875119a5af86e52b5\"}, \"mark\": {\"type\": \"line\"}, \"encoding\": {\"x\": {\"field\": \"x\", \"type\": \"quantitative\"}, \"y\": {\"field\": \"y\", \"type\": \"quantitative\"}}, \"title\": \"x^0.75\", \"$schema\": \"https://vega.github.io/schema/vega-lite/v5.16.3.json\", \"datasets\": {\"data-afc3dc0951a9e12875119a5af86e52b5\": [{\"x\": 0.0, \"y\": 0.0}, {\"x\": 0.01, \"y\": 0.03162277660168379}, {\"x\": 0.02, \"y\": 0.053182958969449884}, {\"x\": 0.03, \"y\": 0.07208434242404263}, {\"x\": 0.04, \"y\": 0.08944271909999159}, {\"x\": 0.05, \"y\": 0.10573712634405642}, {\"x\": 0.06, \"y\": 0.12123093028059741}, {\"x\": 0.07, \"y\": 0.13608915892697748}, {\"x\": 0.08, \"y\": 0.15042412372345573}, {\"x\": 0.09, \"y\": 0.16431676725154984}, {\"x\": 0.1, \"y\": 0.1778279410038923}, {\"x\": 0.11, \"y\": 0.19100490227716513}, {\"x\": 0.12, \"y\": 0.2038853093816547}, {\"x\": 0.13, \"y\": 0.2164998073464082}, {\"x\": 0.14, \"y\": 0.22887377179317683}, {\"x\": 0.15, \"y\": 0.2410285256833955}, {\"x\": 0.16, \"y\": 0.25298221281347033}, {\"x\": 0.17, \"y\": 0.26475044029330763}, {\"x\": 0.18, \"y\": 0.2763467610958144}, {\"x\": 0.19, \"y\": 0.28778304315451386}, {\"x\": 0.2, \"y\": 0.29906975624424414}, {\"x\": 0.21, \"y\": 0.3102161981490854}, {\"x\": 0.22, \"y\": 0.32123067524150845}, {\"x\": 0.23, \"y\": 0.33212064831351956}, {\"x\": 0.24, \"y\": 0.34289285156385596}, {\"x\": 0.25, \"y\": 0.3535533905932738}, {\"x\": 0.26, \"y\": 0.3641078238014289}, {\"x\": 0.27, \"y\": 0.37456123052590357}, {\"x\": 0.28, \"y\": 0.38491826849295824}, {\"x\": 0.29, \"y\": 0.39518322257770583}, {\"x\": 0.3, \"y\": 0.4053600464421103}, {\"x\": 0.31, \"y\": 0.41545239829339137}, {\"x\": 0.32, \"y\": 0.42546367175559907}, {\"x\": 0.33, \"y\": 0.43539702265375557}, {\"x\": 0.34, \"y\": 0.4452553923589699}, {\"x\": 0.35000000000000003, \"y\": 0.45504152822405847}, {\"x\": 0.36, \"y\": 0.46475800154489}, {\"x\": 0.37, \"y\": 0.47440722340731084}, {\"x\": 0.38, \"y\": 0.4839914587188715}, {\"x\": 0.39, \"y\": 0.4935128386754873}, {\"x\": 0.4, \"y\": 0.5029733718731741}, {\"x\": 0.41000000000000003, \"y\": 0.5123749542422491}, {\"x\": 0.42, \"y\": 0.5217193779544038}, {\"x\": 0.43, \"y\": 0.5310083394307343}, {\"x\": 0.44, \"y\": 0.5402434465602292}, {\"x\": 0.45, \"y\": 0.549426225222706}, {\"x\": 0.46, \"y\": 0.5585581251971565}, {\"x\": 0.47000000000000003, \"y\": 0.5676405255254853}, {\"x\": 0.48, \"y\": 0.576674739392341}, {\"x\": 0.49, \"y\": 0.5856620185738529}, {\"x\": 0.5, \"y\": 0.5946035575013605}, {\"x\": 0.51, \"y\": 0.6035004969804791}, {\"x\": 0.52, \"y\": 0.6123539276009055}, {\"x\": 0.53, \"y\": 0.6211648928681236}, {\"x\": 0.54, \"y\": 0.629934392084505}, {\"x\": 0.55, \"y\": 0.6386633830041155}, {\"x\": 0.56, \"y\": 0.6473527842827909}, {\"x\": 0.5700000000000001, \"y\": 0.6560034777426358}, {\"x\": 0.58, \"y\": 0.6646163104680073}, {\"x\": 0.59, \"y\": 0.6731920967482075}, {\"x\": 0.6, \"y\": 0.6817316198804996}, {\"x\": 0.61, \"y\": 0.6902356338456498}, {\"x\": 0.62, \"y\": 0.6987048648669424}, {\"x\": 0.63, \"y\": 0.7071400128625219}, {\"x\": 0.64, \"y\": 0.7155417527999327}, {\"x\": 0.65, \"y\": 0.7239107359608682}, {\"x\": 0.66, \"y\": 0.7322475911233668}, {\"x\": 0.67, \"y\": 0.7405529256680135}, {\"x\": 0.68, \"y\": 0.7488273266140879}, {\"x\": 0.6900000000000001, \"y\": 0.7570713615910638}, {\"x\": 0.7000000000000001, \"y\": 0.7652855797503655}, {\"x\": 0.71, \"y\": 0.7734705126218591}, {\"x\": 0.72, \"y\": 0.7816266749191567}, {\"x\": 0.73, \"y\": 0.7897545652974598}, {\"x\": 0.74, \"y\": 0.7978546670673515}, {\"x\": 0.75, \"y\": 0.8059274488676564}, {\"x\": 0.76, \"y\": 0.8139733653002305}, {\"x\": 0.77, \"y\": 0.8219928575293057}, {\"x\": 0.78, \"y\": 0.829986353847804}, {\"x\": 0.79, \"y\": 0.837954270212839}, {\"x\": 0.8, \"y\": 0.8458970107524514}, {\"x\": 0.81, \"y\": 0.8538149682454624}, {\"x\": 0.8200000000000001, \"y\": 0.8617085245761865}, {\"x\": 0.8300000000000001, \"y\": 0.869578051165608}, {\"x\": 0.84, \"y\": 0.8774239093805121}, {\"x\": 0.85, \"y\": 0.8852464509219427}, {\"x\": 0.86, \"y\": 0.8930460181942644}, {\"x\": 0.87, \"y\": 0.9008229446560111}, {\"x\": 0.88, \"y\": 0.9085775551536168}, {\"x\": 0.89, \"y\": 0.9163101662390513}, {\"x\": 0.9, \"y\": 0.9240210864723069}, {\"x\": 0.91, \"y\": 0.9317106167096201}, {\"x\": 0.92, \"y\": 0.9393790503782488}, {\"x\": 0.93, \"y\": 0.9470266737385726}, {\"x\": 0.9400000000000001, \"y\": 0.9546537661342305}, {\"x\": 0.9500000000000001, \"y\": 0.9622606002309622}, {\"x\": 0.96, \"y\": 0.9698474422447793}, {\"x\": 0.97, \"y\": 0.9774145521600454}, {\"x\": 0.98, \"y\": 0.9849621839380145}, {\"x\": 0.99, \"y\": 0.992490585716335}]}}, {\"mode\": \"vega-lite\"});\n",
       "</script>"
      ],
      "text/plain": [
       "alt.Chart(...)"
      ]
     },
     "execution_count": 7,
     "metadata": {},
     "output_type": "execute_result"
    }
   ],
   "source": [
    "import altair as alt\n",
    "import numpy as np\n",
    "\n",
    "data = pd.DataFrame(zip(np.arange(0,1,0.01), np.power(np.arange(0,1,0.01), 0.75)), columns=[\"x\", \"y\"])\n",
    "alt.Chart(data, title=\"x^0.75\").mark_line().encode(x=\"x\", y=\"y\")"
   ]
  },
  {
   "cell_type": "code",
   "execution_count": 8,
   "metadata": {},
   "outputs": [],
   "source": [
    "import numpy as np\n",
    "\n",
    "class NoiseDistribution:\n",
    "    def __init__(self, vocab):\n",
    "        self.probs = np.array([vocab.freqs[w] for w in vocab.words])\n",
    "        self.probs = np.power(self.probs, 0.75)\n",
    "        self.probs /= np.sum(self.probs)\n",
    "    def sample(self, n):\n",
    "        \"Returns the indices of n words randomly sampled from the vocabulary.\"\n",
    "        return np.random.choice(a=self.probs.shape[0], size=n, p=self.probs)\n",
    "        \n",
    "noise = NoiseDistribution(vocab)"
   ]
  },
  {
   "cell_type": "markdown",
   "metadata": {},
   "source": [
    "Con esta distribución, avanzamos por los documentos creando ejemplos. Tengamos en cuenta que siempre ponemos la muestra positiva en primer lugar en el vector de muestras, siguiendo la convención que espera la función de pérdida."
   ]
  },
  {
   "cell_type": "code",
   "execution_count": 9,
   "metadata": {},
   "outputs": [],
   "source": [
    "import torch\n",
    "\n",
    "def example_generator(df, context_size, noise, n_negative_samples, vocab):\n",
    "    for doc_id, doc in df.iterrows():\n",
    "        for i in range(context_size, len(doc.clean_tokens) - context_size):\n",
    "            positive_sample = vocab.word2idx[doc.clean_tokens[i]]\n",
    "            sample_ids = noise.sample(n_negative_samples).tolist()\n",
    "            # Fix a wee bug - ensure negative samples don't accidentally include the positive\n",
    "            sample_ids = [sample_id if sample_id != positive_sample else -1 for sample_id in sample_ids]\n",
    "            sample_ids.insert(0, positive_sample)                \n",
    "            context = doc.clean_tokens[i - context_size:i] + doc.clean_tokens[i + 1:i + context_size + 1]\n",
    "            context_ids = [vocab.word2idx[w] for w in context]\n",
    "            yield {\"doc_ids\": torch.tensor(doc_id),  # we use plural here because it will be batched\n",
    "                   \"sample_ids\": torch.tensor(sample_ids), \n",
    "                   \"context_ids\": torch.tensor(context_ids)}\n",
    "            \n",
    "examples = example_generator(example_df, context_size=5, noise=noise, n_negative_samples=5, vocab=vocab)"
   ]
  },
  {
   "cell_type": "markdown",
   "metadata": {},
   "source": [
    "Ahora lo empaquetamos como un dataset y dataloader de PyTorch."
   ]
  },
  {
   "cell_type": "code",
   "execution_count": 10,
   "metadata": {},
   "outputs": [],
   "source": [
    "from torch.utils.data import Dataset, DataLoader\n",
    "\n",
    "class NCEDataset(Dataset):\n",
    "    def __init__(self, examples):\n",
    "        self.examples = list(examples)  # just naively evaluate the whole damn thing - suboptimal!\n",
    "    def __len__(self):\n",
    "        return len(self.examples)\n",
    "    def __getitem__(self, index):\n",
    "        return self.examples[index]\n",
    "    \n",
    "dataset = NCEDataset(examples)\n",
    "dataloader = DataLoader(dataset, batch_size=2, drop_last=True, shuffle=True)  # TODO bigger batch size when not dummy data"
   ]
  },
  {
   "cell_type": "markdown",
   "metadata": {},
   "source": [
    "También va a ser útil tener una manera de convertir los lotes de nuevo a una forma legible para la depuración, por lo que añadimos una función de ayuda."
   ]
  },
  {
   "cell_type": "code",
   "execution_count": 11,
   "metadata": {},
   "outputs": [
    {
     "data": {
      "text/plain": [
       "[{'doc_id': tensor(1),\n",
       "  'context': 'pile of stone that had ____ the atreides family as home',\n",
       "  'context_ids': tensor([72, 66, 87, 90, 43, 91, 12, 33, 10, 50]),\n",
       "  'samples': ['served', 'home', 'lamp', 'was', 'let', 'of'],\n",
       "  'sample_ids': tensor([78, 50, 55, 99, 57, 66])},\n",
       " {'doc_id': tensor(1),\n",
       "  'context': 'it was a warm night ____ castle caladan and the ancient',\n",
       "  'context_ids': tensor([53, 99,  0, 98, 65, 22, 20,  8, 91,  7]),\n",
       "  'samples': ['at', 'ancient', 'suspensor', 'the', 'one', 'by'],\n",
       "  'sample_ids': tensor([11,  7, 88, 91, 68, 19])}]"
      ]
     },
     "execution_count": 11,
     "metadata": {},
     "output_type": "execute_result"
    }
   ],
   "source": [
    "def describe_batch(batch, vocab):\n",
    "    results = []\n",
    "    for doc_id, context_ids, sample_ids in zip(batch[\"doc_ids\"], batch[\"context_ids\"], batch[\"sample_ids\"]):\n",
    "        context = [vocab.words[i] for i in context_ids]\n",
    "        context.insert(len(context_ids) // 2, \"____\")\n",
    "        samples = [vocab.words[i] for i in sample_ids]\n",
    "        result = {\"doc_id\": doc_id,\n",
    "                  \"context\": \" \".join(context), \n",
    "                  \"context_ids\": context_ids, \n",
    "                  \"samples\": samples, amples': ['served', 'home', 'lamp', 'was', 'let', 'of'],\n",
    "                  \"sample_ids\": sample_ids}\n",
    "        results.append(result)\n",
    "    return results\n",
    "\n",
    "describe_batch(next(iter(dataloader)), vocab)"
   ]
  },
  {
   "cell_type": "markdown",
   "metadata": {},
   "source": [
    "Pasemos a crear el modelo en sí. No hay mucho que hacer - multiplicamos las matrices de entrada de párrafos y palabras por la capa de salida. La combinación de las matrices de párrafos y palabras se hace sumando aquí, pero también podría hacerse concatenando las entradas. En el artículo original se descubrió que la concatenación funciona mejor, quizá porque al sumar se pierde información sobre el orden de las palabras."
   ]
  },
  {
   "cell_type": "code",
   "execution_count": 12,
   "metadata": {},
   "outputs": [],
   "source": [
    "import torch.nn as nn\n",
    "\n",
    "class DistributedMemory(nn.Module):\n",
    "    def __init__(self, vec_dim, n_docs, n_words):\n",
    "        super(DistributedMemory, self).__init__()\n",
    "        self.paragraph_matrix = nn.Parameter(torch.randn(n_docs, vec_dim))\n",
    "        self.word_matrix = nn.Parameter(torch.randn(n_words, vec_dim))\n",
    "        self.outputs = nn.Parameter(torch.zeros(vec_dim, n_words))\n",
    "    \n",
    "    def forward(self, doc_ids, context_ids, sample_ids):\n",
    "                                                                               # first add doc ids to context word ids to make the inputs\n",
    "        inputs = torch.add(self.paragraph_matrix[doc_ids,:],                   # (batch_size, vec_dim)\n",
    "                           torch.sum(self.word_matrix[context_ids,:], dim=1))  # (batch_size, 2x context, vec_dim) -> sum to (batch_size, vec_dim)\n",
    "                                                                               #\n",
    "        # inputs = torch.cat(self.paragraph_matrix[doc_ids,:],                   # (batch_size, vec_dim)                                                                       # select the subset of the output layer for the NCE test\n",
    "        outputs = self.outputs[:,sample_ids]                                   # (vec_dim, batch_size, n_negative_samples + 1)\n",
    "                                                                               #\n",
    "        return torch.bmm(inputs.unsqueeze(dim=1),                              # then multiply with some munging to make the tensor shapes line up \n",
    "                         outputs.permute(1, 0, 2)).squeeze()                   # -> (batch_size, n_negative_samples + 1)\n",
    "\n",
    "model = DistributedMemory(vec_dim=50,\n",
    "                          n_docs=len(example_df),\n",
    "                          n_words=len(vocab.words))"
   ]
  },
  {
   "cell_type": "markdown",
   "metadata": {},
   "source": [
    "Veamos:"
   ]
  },
  {
   "cell_type": "code",
   "execution_count": 13,
   "metadata": {},
   "outputs": [
    {
     "data": {
      "text/plain": [
       "tensor([[0., 0., 0., 0., 0., 0.],\n",
       "        [0., 0., 0., 0., 0., 0.]])"
      ]
     },
     "execution_count": 13,
     "metadata": {},
     "output_type": "execute_result"
    }
   ],
   "source": [
    "with torch.no_grad():\n",
    "    logits = model.forward(**next(iter(dataloader)))\n",
    "logits"
   ]
  },
  {
   "cell_type": "markdown",
   "metadata": {},
   "source": [
    "La capa de salida se inicializó con ceros. Es hora de hacer un bucle de entrenamiento estándar de PyTorch."
   ]
  },
  {
   "cell_type": "code",
   "execution_count": 14,
   "metadata": {},
   "outputs": [],
   "source": [
    "from tqdm import tqdm, trange\n",
    "from torch.optim import Adam  # ilenic uses Adam, but gensim uses plain SGD\n",
    "import numpy as np\n",
    "\n",
    "def train(model, dataloader, epochs=40, lr=1e-3):\n",
    "    optimizer = Adam(model.parameters(), lr=lr)\n",
    "    training_losses = []\n",
    "    try:\n",
    "        for epoch in trange(epochs, desc=\"Epochs\"):\n",
    "            epoch_losses = []\n",
    "            for batch in dataloader:\n",
    "                model.zero_grad()\n",
    "                logits = model.forward(**batch)\n",
    "                batch_loss = loss(logits)\n",
    "                epoch_losses.append(batch_loss.item())\n",
    "                batch_loss.backward()\n",
    "                optimizer.step()\n",
    "            training_losses.append(np.mean(epoch_losses))\n",
    "    except KeyboardInterrupt:\n",
    "        print(f\"Interrupted on epoch {epoch}!\")\n",
    "    finally:\n",
    "        return training_losses"
   ]
  },
  {
   "cell_type": "markdown",
   "metadata": {},
   "source": [
    "Ahora comprobaremos la integridad sobreajustando los datos de ejemplo. La pérdida de entrenamiento debería caer desde la pérdida no entrenada hasta algo cercano al mínimo posible."
   ]
  },
  {
   "cell_type": "code",
   "execution_count": 15,
   "metadata": {},
   "outputs": [
    {
     "name": "stderr",
     "output_type": "stream",
     "text": [
      "Epochs: 100%|██████████| 40/40 [00:03<00:00, 13.00it/s]\n"
     ]
    }
   ],
   "source": [
    "training_losses = train(model, dataloader, epochs=40, lr=1e-3)"
   ]
  },
  {
   "cell_type": "code",
   "execution_count": 16,
   "metadata": {},
   "outputs": [
    {
     "data": {
      "text/html": [
       "\n",
       "<style>\n",
       "  #altair-viz-9a0eae0e96184ebca6655fd513f4faa9.vega-embed {\n",
       "    width: 100%;\n",
       "    display: flex;\n",
       "  }\n",
       "\n",
       "  #altair-viz-9a0eae0e96184ebca6655fd513f4faa9.vega-embed details,\n",
       "  #altair-viz-9a0eae0e96184ebca6655fd513f4faa9.vega-embed details summary {\n",
       "    position: relative;\n",
       "  }\n",
       "</style>\n",
       "<div id=\"altair-viz-9a0eae0e96184ebca6655fd513f4faa9\"></div>\n",
       "<script type=\"text/javascript\">\n",
       "  var VEGA_DEBUG = (typeof VEGA_DEBUG == \"undefined\") ? {} : VEGA_DEBUG;\n",
       "  (function(spec, embedOpt){\n",
       "    let outputDiv = document.currentScript.previousElementSibling;\n",
       "    if (outputDiv.id !== \"altair-viz-9a0eae0e96184ebca6655fd513f4faa9\") {\n",
       "      outputDiv = document.getElementById(\"altair-viz-9a0eae0e96184ebca6655fd513f4faa9\");\n",
       "    }\n",
       "    const paths = {\n",
       "      \"vega\": \"https://cdn.jsdelivr.net/npm/vega@5?noext\",\n",
       "      \"vega-lib\": \"https://cdn.jsdelivr.net/npm/vega-lib?noext\",\n",
       "      \"vega-lite\": \"https://cdn.jsdelivr.net/npm/vega-lite@5.16.3?noext\",\n",
       "      \"vega-embed\": \"https://cdn.jsdelivr.net/npm/vega-embed@6?noext\",\n",
       "    };\n",
       "\n",
       "    function maybeLoadScript(lib, version) {\n",
       "      var key = `${lib.replace(\"-\", \"\")}_version`;\n",
       "      return (VEGA_DEBUG[key] == version) ?\n",
       "        Promise.resolve(paths[lib]) :\n",
       "        new Promise(function(resolve, reject) {\n",
       "          var s = document.createElement('script');\n",
       "          document.getElementsByTagName(\"head\")[0].appendChild(s);\n",
       "          s.async = true;\n",
       "          s.onload = () => {\n",
       "            VEGA_DEBUG[key] = version;\n",
       "            return resolve(paths[lib]);\n",
       "          };\n",
       "          s.onerror = () => reject(`Error loading script: ${paths[lib]}`);\n",
       "          s.src = paths[lib];\n",
       "        });\n",
       "    }\n",
       "\n",
       "    function showError(err) {\n",
       "      outputDiv.innerHTML = `<div class=\"error\" style=\"color:red;\">${err}</div>`;\n",
       "      throw err;\n",
       "    }\n",
       "\n",
       "    function displayChart(vegaEmbed) {\n",
       "      vegaEmbed(outputDiv, spec, embedOpt)\n",
       "        .catch(err => showError(`Javascript Error: ${err.message}<br>This usually means there's a typo in your chart specification. See the javascript console for the full traceback.`));\n",
       "    }\n",
       "\n",
       "    if(typeof define === \"function\" && define.amd) {\n",
       "      requirejs.config({paths});\n",
       "      require([\"vega-embed\"], displayChart, err => showError(`Error loading script: ${err.message}`));\n",
       "    } else {\n",
       "      maybeLoadScript(\"vega\", \"5\")\n",
       "        .then(() => maybeLoadScript(\"vega-lite\", \"5.16.3\"))\n",
       "        .then(() => maybeLoadScript(\"vega-embed\", \"6\"))\n",
       "        .catch(showError)\n",
       "        .then(() => displayChart(vegaEmbed));\n",
       "    }\n",
       "  })({\"config\": {\"view\": {\"continuousWidth\": 300, \"continuousHeight\": 300}}, \"data\": {\"name\": \"data-6df2fc18c48e80dc1da3903b002978ee\"}, \"mark\": {\"type\": \"bar\"}, \"encoding\": {\"x\": {\"field\": \"epoch\", \"type\": \"quantitative\"}, \"y\": {\"field\": \"training_loss\", \"scale\": {\"type\": \"log\"}, \"type\": \"quantitative\"}}, \"$schema\": \"https://vega.github.io/schema/vega-lite/v5.16.3.json\", \"datasets\": {\"data-6df2fc18c48e80dc1da3903b002978ee\": [{\"epoch\": 0, \"training_loss\": 3.904845318551791}, {\"epoch\": 1, \"training_loss\": 2.5171164415650447}, {\"epoch\": 2, \"training_loss\": 1.824949300895303}, {\"epoch\": 3, \"training_loss\": 1.4348176283351446}, {\"epoch\": 4, \"training_loss\": 1.1639287249516632}, {\"epoch\": 5, \"training_loss\": 0.9757645332207114}, {\"epoch\": 6, \"training_loss\": 0.8331409414946023}, {\"epoch\": 7, \"training_loss\": 0.7098054638353445}, {\"epoch\": 8, \"training_loss\": 0.6240264899649862}, {\"epoch\": 9, \"training_loss\": 0.5494254405720759}, {\"epoch\": 10, \"training_loss\": 0.48429852067413975}, {\"epoch\": 11, \"training_loss\": 0.43198036238298576}, {\"epoch\": 12, \"training_loss\": 0.38720261772810405}, {\"epoch\": 13, \"training_loss\": 0.3490552919901023}, {\"epoch\": 14, \"training_loss\": 0.3148257457098718}, {\"epoch\": 15, \"training_loss\": 0.28576836949687895}, {\"epoch\": 16, \"training_loss\": 0.2577232719730523}, {\"epoch\": 17, \"training_loss\": 0.23458389154935289}, {\"epoch\": 18, \"training_loss\": 0.21596431719549633}, {\"epoch\": 19, \"training_loss\": 0.1989816880579722}, {\"epoch\": 20, \"training_loss\": 0.18026306492797398}, {\"epoch\": 21, \"training_loss\": 0.16361549862865674}, {\"epoch\": 22, \"training_loss\": 0.1532403369576244}, {\"epoch\": 23, \"training_loss\": 0.1414476790923183}, {\"epoch\": 24, \"training_loss\": 0.12912879581168546}, {\"epoch\": 25, \"training_loss\": 0.12018028488856251}, {\"epoch\": 26, \"training_loss\": 0.11052107697321197}, {\"epoch\": 27, \"training_loss\": 0.10290130789754755}, {\"epoch\": 28, \"training_loss\": 0.0955586998202538}, {\"epoch\": 29, \"training_loss\": 0.08980371522069988}, {\"epoch\": 30, \"training_loss\": 0.08246020136116924}, {\"epoch\": 31, \"training_loss\": 0.07814528205889766}, {\"epoch\": 32, \"training_loss\": 0.07211988065707481}, {\"epoch\": 33, \"training_loss\": 0.06852085313807099}, {\"epoch\": 34, \"training_loss\": 0.06326269528875916}, {\"epoch\": 35, \"training_loss\": 0.05936009155870494}, {\"epoch\": 36, \"training_loss\": 0.0558385660208888}, {\"epoch\": 37, \"training_loss\": 0.05229640873622591}, {\"epoch\": 38, \"training_loss\": 0.04935554875913313}, {\"epoch\": 39, \"training_loss\": 0.04625047021940098}]}}, {\"mode\": \"vega-lite\"});\n",
       "</script>"
      ],
      "text/plain": [
       "alt.Chart(...)"
      ]
     },
     "execution_count": 16,
     "metadata": {},
     "output_type": "execute_result"
    }
   ],
   "source": [
    "import altair as alt\n",
    "\n",
    "df_loss = pd.DataFrame(enumerate(training_losses), columns=[\"epoch\", \"training_loss\"])\n",
    "alt.Chart(df_loss).mark_bar().encode(alt.X(\"epoch\"), alt.Y(\"training_loss\", scale=alt.Scale(type=\"log\")))"
   ]
  },
  {
   "cell_type": "markdown",
   "metadata": {},
   "source": [
    "And because we're paranoid types, let's check a prediction."
   ]
  },
  {
   "cell_type": "code",
   "execution_count": 17,
   "metadata": {},
   "outputs": [
    {
     "data": {
      "text/plain": [
       "tensor([[ 5.3634, -6.0334, -6.7615, -4.2311, -6.8854, -6.0415],\n",
       "        [ 5.9402, -7.0920, -6.5786, -7.5187, -6.5952, -7.2636]])"
      ]
     },
     "execution_count": 17,
     "metadata": {},
     "output_type": "execute_result"
    }
   ],
   "source": [
    "with torch.no_grad():\n",
    "    logits = model.forward(**next(iter(dataloader)))\n",
    "logits"
   ]
  },
  {
   "cell_type": "markdown",
   "metadata": {},
   "source": [
    "La muestra positiva obtiene una puntuación positiva y las negativas, una puntuación negativa."
   ]
  },
  {
   "cell_type": "markdown",
   "metadata": {},
   "source": [
    "Deberíamos poder obtener los vectores de párrafo de los documentos y hacer cosas como comprobar la similitud entre ellos."
   ]
  },
  {
   "cell_type": "code",
   "execution_count": 18,
   "metadata": {},
   "outputs": [
    {
     "data": {
      "text/html": [
       "<div>\n",
       "<style scoped>\n",
       "    .dataframe tbody tr th:only-of-type {\n",
       "        vertical-align: middle;\n",
       "    }\n",
       "\n",
       "    .dataframe tbody tr th {\n",
       "        vertical-align: top;\n",
       "    }\n",
       "\n",
       "    .dataframe thead th {\n",
       "        text-align: right;\n",
       "    }\n",
       "</style>\n",
       "<table border=\"1\" class=\"dataframe\">\n",
       "  <thead>\n",
       "    <tr style=\"text-align: right;\">\n",
       "      <th></th>\n",
       "      <th>doc_id</th>\n",
       "      <th>similarity</th>\n",
       "      <th>text</th>\n",
       "    </tr>\n",
       "  </thead>\n",
       "  <tbody>\n",
       "    <tr>\n",
       "      <th>1</th>\n",
       "      <td>1</td>\n",
       "      <td>1.000000</td>\n",
       "      <td>It was a warm night at Castle Caladan, and the ancient pile of stone that had served the Atreide...</td>\n",
       "    </tr>\n",
       "    <tr>\n",
       "      <th>2</th>\n",
       "      <td>2</td>\n",
       "      <td>0.223194</td>\n",
       "      <td>The old woman was let in by the side door down the vaulted passage by Paul's room and she was al...</td>\n",
       "    </tr>\n",
       "    <tr>\n",
       "      <th>3</th>\n",
       "      <td>3</td>\n",
       "      <td>-0.033827</td>\n",
       "      <td>By the half-light of a suspensor lamp, dimmed and hanging near the floor, the awakened boy could...</td>\n",
       "    </tr>\n",
       "    <tr>\n",
       "      <th>0</th>\n",
       "      <td>0</td>\n",
       "      <td>-0.107517</td>\n",
       "      <td>In the week before their departure to Arrakis, when all the final scurrying about had reached a ...</td>\n",
       "    </tr>\n",
       "  </tbody>\n",
       "</table>\n",
       "</div>"
      ],
      "text/plain": [
       "   doc_id  similarity  \\\n",
       "1       1    1.000000   \n",
       "2       2    0.223194   \n",
       "3       3   -0.033827   \n",
       "0       0   -0.107517   \n",
       "\n",
       "                                                                                                  text  \n",
       "1  It was a warm night at Castle Caladan, and the ancient pile of stone that had served the Atreide...  \n",
       "2  The old woman was let in by the side door down the vaulted passage by Paul's room and she was al...  \n",
       "3  By the half-light of a suspensor lamp, dimmed and hanging near the floor, the awakened boy could...  \n",
       "0  In the week before their departure to Arrakis, when all the final scurrying about had reached a ...  "
      ]
     },
     "execution_count": 18,
     "metadata": {},
     "output_type": "execute_result"
    }
   ],
   "source": [
    "from sklearn.preprocessing import normalize\n",
    "\n",
    "def most_similar(paragraph_matrix, docs_df, index, n=None):\n",
    "    pm = normalize(paragraph_matrix, norm=\"l2\")  # in a smarter implementation we would cache this somewhere\n",
    "    sims = np.dot(pm, pm[index,:])\n",
    "    df = pd.DataFrame(enumerate(sims), columns=[\"doc_id\", \"similarity\"])\n",
    "    n = n if n is not None else len(sims)\n",
    "    return df.merge(docs_df[[\"text\"]].reset_index(drop=True), left_index=True, right_index=True).sort_values(by=\"similarity\", ascending=False)[:n]\n",
    "\n",
    "most_similar(model.paragraph_matrix.data, example_df, 1, n=10)"
   ]
  },
  {
   "cell_type": "markdown",
   "metadata": {},
   "source": [
    "Sin embargo, no es especialmente esclarecedor para nuestro pequeño conjunto de datos ficticios. También podemos utilizar PCA para reducir nuestros vectores de párrafos n-dimensionales a 2 dimensiones y ver si se agrupan bien."
   ]
  },
  {
   "cell_type": "code",
   "execution_count": 19,
   "metadata": {},
   "outputs": [
    {
     "name": "stdout",
     "output_type": "stream",
     "text": [
      "2-component PCA, explains 41.42% of variance\n"
     ]
    },
    {
     "data": {
      "text/html": [
       "\n",
       "<style>\n",
       "  #altair-viz-c0c3516adfc54e0bacc54983ae5a771d.vega-embed {\n",
       "    width: 100%;\n",
       "    display: flex;\n",
       "  }\n",
       "\n",
       "  #altair-viz-c0c3516adfc54e0bacc54983ae5a771d.vega-embed details,\n",
       "  #altair-viz-c0c3516adfc54e0bacc54983ae5a771d.vega-embed details summary {\n",
       "    position: relative;\n",
       "  }\n",
       "</style>\n",
       "<div id=\"altair-viz-c0c3516adfc54e0bacc54983ae5a771d\"></div>\n",
       "<script type=\"text/javascript\">\n",
       "  var VEGA_DEBUG = (typeof VEGA_DEBUG == \"undefined\") ? {} : VEGA_DEBUG;\n",
       "  (function(spec, embedOpt){\n",
       "    let outputDiv = document.currentScript.previousElementSibling;\n",
       "    if (outputDiv.id !== \"altair-viz-c0c3516adfc54e0bacc54983ae5a771d\") {\n",
       "      outputDiv = document.getElementById(\"altair-viz-c0c3516adfc54e0bacc54983ae5a771d\");\n",
       "    }\n",
       "    const paths = {\n",
       "      \"vega\": \"https://cdn.jsdelivr.net/npm/vega@5?noext\",\n",
       "      \"vega-lib\": \"https://cdn.jsdelivr.net/npm/vega-lib?noext\",\n",
       "      \"vega-lite\": \"https://cdn.jsdelivr.net/npm/vega-lite@5.16.3?noext\",\n",
       "      \"vega-embed\": \"https://cdn.jsdelivr.net/npm/vega-embed@6?noext\",\n",
       "    };\n",
       "\n",
       "    function maybeLoadScript(lib, version) {\n",
       "      var key = `${lib.replace(\"-\", \"\")}_version`;\n",
       "      return (VEGA_DEBUG[key] == version) ?\n",
       "        Promise.resolve(paths[lib]) :\n",
       "        new Promise(function(resolve, reject) {\n",
       "          var s = document.createElement('script');\n",
       "          document.getElementsByTagName(\"head\")[0].appendChild(s);\n",
       "          s.async = true;\n",
       "          s.onload = () => {\n",
       "            VEGA_DEBUG[key] = version;\n",
       "            return resolve(paths[lib]);\n",
       "          };\n",
       "          s.onerror = () => reject(`Error loading script: ${paths[lib]}`);\n",
       "          s.src = paths[lib];\n",
       "        });\n",
       "    }\n",
       "\n",
       "    function showError(err) {\n",
       "      outputDiv.innerHTML = `<div class=\"error\" style=\"color:red;\">${err}</div>`;\n",
       "      throw err;\n",
       "    }\n",
       "\n",
       "    function displayChart(vegaEmbed) {\n",
       "      vegaEmbed(outputDiv, spec, embedOpt)\n",
       "        .catch(err => showError(`Javascript Error: ${err.message}<br>This usually means there's a typo in your chart specification. See the javascript console for the full traceback.`));\n",
       "    }\n",
       "\n",
       "    if(typeof define === \"function\" && define.amd) {\n",
       "      requirejs.config({paths});\n",
       "      require([\"vega-embed\"], displayChart, err => showError(`Error loading script: ${err.message}`));\n",
       "    } else {\n",
       "      maybeLoadScript(\"vega\", \"5\")\n",
       "        .then(() => maybeLoadScript(\"vega-lite\", \"5.16.3\"))\n",
       "        .then(() => maybeLoadScript(\"vega-embed\", \"6\"))\n",
       "        .catch(showError)\n",
       "        .then(() => displayChart(vegaEmbed));\n",
       "    }\n",
       "  })({\"config\": {\"view\": {\"continuousWidth\": 300, \"continuousHeight\": 300}}, \"data\": {\"name\": \"data-67e89f90ba77a413cc3e679b92c42391\"}, \"mark\": {\"type\": \"point\"}, \"encoding\": {\"color\": {\"field\": \"group\", \"type\": \"nominal\"}, \"x\": {\"field\": \"x\", \"type\": \"quantitative\"}, \"y\": {\"field\": \"y\", \"type\": \"quantitative\"}}, \"$schema\": \"https://vega.github.io/schema/vega-lite/v5.16.3.json\", \"datasets\": {\"data-67e89f90ba77a413cc3e679b92c42391\": [{\"x\": 6.535649748535318, \"y\": -2.5533084567961146, \"group\": \"0\"}, {\"x\": -5.331818780678351, \"y\": -3.631735375768832, \"group\": \"1\"}, {\"x\": -0.8034606153864986, \"y\": 0.49596070282128574, \"group\": \"2\"}, {\"x\": -0.4003703524704684, \"y\": 5.68908312974366, \"group\": \"3\"}]}}, {\"mode\": \"vega-lite\"});\n",
       "</script>"
      ],
      "text/plain": [
       "alt.Chart(...)"
      ]
     },
     "execution_count": 19,
     "metadata": {},
     "output_type": "execute_result"
    }
   ],
   "source": [
    "from sklearn.decomposition import PCA\n",
    "\n",
    "def pca_2d(paragraph_matrix, groups):\n",
    "    pca = PCA(n_components=2)\n",
    "    reduced_dims = pca.fit_transform(paragraph_matrix)\n",
    "    print(f\"2-component PCA, explains {sum(pca.explained_variance_):.2f}% of variance\")\n",
    "    df = pd.DataFrame(reduced_dims, columns=[\"x\", \"y\"])\n",
    "    df[\"group\"] = groups\n",
    "    return df\n",
    "\n",
    "example_2d = pca_2d(model.paragraph_matrix.data, [\"0\",\"1\",\"2\",\"3\"])\n",
    "alt.Chart(example_2d).mark_point().encode(x=\"x\", y=\"y\", color=\"group\")"
   ]
  },
  {
   "cell_type": "markdown",
   "metadata": {},
   "source": [
    "No hay mucho que ver en un conjunto de datos tan pequeño sin grupos etiquetados."
   ]
  },
  {
   "cell_type": "markdown",
   "metadata": {},
   "source": [
    "Ejecutando esto en algunos datos más grandes, utilizaremos el conjunto de datos de la BBC."
   ]
  },
  {
   "cell_type": "code",
   "execution_count": 20,
   "metadata": {},
   "outputs": [
    {
     "data": {
      "text/html": [
       "<div>\n",
       "<style scoped>\n",
       "    .dataframe tbody tr th:only-of-type {\n",
       "        vertical-align: middle;\n",
       "    }\n",
       "\n",
       "    .dataframe tbody tr th {\n",
       "        vertical-align: top;\n",
       "    }\n",
       "\n",
       "    .dataframe thead th {\n",
       "        text-align: right;\n",
       "    }\n",
       "</style>\n",
       "<table border=\"1\" class=\"dataframe\">\n",
       "  <thead>\n",
       "    <tr style=\"text-align: right;\">\n",
       "      <th></th>\n",
       "      <th>text</th>\n",
       "      <th>tokens</th>\n",
       "      <th>group</th>\n",
       "    </tr>\n",
       "  </thead>\n",
       "  <tbody>\n",
       "    <tr>\n",
       "      <th>0</th>\n",
       "      <td>Claxton hunting first major medal  British hurdler Sarah Claxton is confident she can win her fi...</td>\n",
       "      <td>[claxton, hunting, first, major, medal, british, hurdler, sarah, claxton, is, confident, she, ca...</td>\n",
       "      <td>sport</td>\n",
       "    </tr>\n",
       "    <tr>\n",
       "      <th>1</th>\n",
       "      <td>O'Sullivan could run in Worlds  Sonia O'Sullivan has indicated that she would like to participat...</td>\n",
       "      <td>[could, run, in, worlds, sonia, has, indicated, that, she, would, like, to, participate, in, nex...</td>\n",
       "      <td>sport</td>\n",
       "    </tr>\n",
       "    <tr>\n",
       "      <th>2</th>\n",
       "      <td>Greene sets sights on world title  Maurice Greene aims to wipe out the pain of losing his Olympi...</td>\n",
       "      <td>[greene, sets, sights, on, world, title, maurice, greene, aims, to, wipe, out, the, pain, of, lo...</td>\n",
       "      <td>sport</td>\n",
       "    </tr>\n",
       "    <tr>\n",
       "      <th>3</th>\n",
       "      <td>IAAF launches fight against drugs  The IAAF - athletics' world governing body - has met anti-dop...</td>\n",
       "      <td>[iaaf, launches, fight, against, drugs, the, iaaf, athletics, world, governing, body, has, met, ...</td>\n",
       "      <td>sport</td>\n",
       "    </tr>\n",
       "  </tbody>\n",
       "</table>\n",
       "</div>"
      ],
      "text/plain": [
       "                                                                                                  text  \\\n",
       "0  Claxton hunting first major medal  British hurdler Sarah Claxton is confident she can win her fi...   \n",
       "1  O'Sullivan could run in Worlds  Sonia O'Sullivan has indicated that she would like to participat...   \n",
       "2  Greene sets sights on world title  Maurice Greene aims to wipe out the pain of losing his Olympi...   \n",
       "3  IAAF launches fight against drugs  The IAAF - athletics' world governing body - has met anti-dop...   \n",
       "\n",
       "                                                                                                tokens  \\\n",
       "0  [claxton, hunting, first, major, medal, british, hurdler, sarah, claxton, is, confident, she, ca...   \n",
       "1  [could, run, in, worlds, sonia, has, indicated, that, she, would, like, to, participate, in, nex...   \n",
       "2  [greene, sets, sights, on, world, title, maurice, greene, aims, to, wipe, out, the, pain, of, lo...   \n",
       "3  [iaaf, launches, fight, against, drugs, the, iaaf, athletics, world, governing, body, has, met, ...   \n",
       "\n",
       "   group  \n",
       "0  sport  \n",
       "1  sport  \n",
       "2  sport  \n",
       "3  sport  "
      ]
     },
     "execution_count": 20,
     "metadata": {},
     "output_type": "execute_result"
    }
   ],
   "source": [
    "dfs = []\n",
    "for document_set in (\"sport\",\n",
    "                     \"business\",\n",
    "                     \"politics\", \n",
    "                     \"tech\", \n",
    "                     \"entertainment\"):\n",
    "    df_ = pd.read_csv(f\"./Data/bbc/{document_set}.csv.bz2\", encoding=\"latin1\")\n",
    "    df_ = tokenize_text(df_)\n",
    "    df_[\"group\"] = document_set\n",
    "    dfs.append(df_)\n",
    "\n",
    "bbc_df = pd.concat(dfs)\n",
    "bbc_df[:4]"
   ]
  },
  {
   "cell_type": "code",
   "execution_count": 21,
   "metadata": {},
   "outputs": [
    {
     "data": {
      "text/html": [
       "<div>\n",
       "<style scoped>\n",
       "    .dataframe tbody tr th:only-of-type {\n",
       "        vertical-align: middle;\n",
       "    }\n",
       "\n",
       "    .dataframe tbody tr th {\n",
       "        vertical-align: top;\n",
       "    }\n",
       "\n",
       "    .dataframe thead th {\n",
       "        text-align: right;\n",
       "    }\n",
       "</style>\n",
       "<table border=\"1\" class=\"dataframe\">\n",
       "  <thead>\n",
       "    <tr style=\"text-align: right;\">\n",
       "      <th></th>\n",
       "      <th>text</th>\n",
       "      <th>tokens</th>\n",
       "      <th>group</th>\n",
       "    </tr>\n",
       "  </thead>\n",
       "  <tbody>\n",
       "    <tr>\n",
       "      <th>0</th>\n",
       "      <td>Claxton hunting first major medal  British hurdler Sarah Claxton is confident she can win her fi...</td>\n",
       "      <td>[claxton, hunting, first, major, medal, british, hurdler, sarah, claxton, is, confident, she, ca...</td>\n",
       "      <td>sport</td>\n",
       "    </tr>\n",
       "    <tr>\n",
       "      <th>1</th>\n",
       "      <td>O'Sullivan could run in Worlds  Sonia O'Sullivan has indicated that she would like to participat...</td>\n",
       "      <td>[could, run, in, worlds, sonia, has, indicated, that, she, would, like, to, participate, in, nex...</td>\n",
       "      <td>sport</td>\n",
       "    </tr>\n",
       "    <tr>\n",
       "      <th>2</th>\n",
       "      <td>Greene sets sights on world title  Maurice Greene aims to wipe out the pain of losing his Olympi...</td>\n",
       "      <td>[greene, sets, sights, on, world, title, maurice, greene, aims, to, wipe, out, the, pain, of, lo...</td>\n",
       "      <td>sport</td>\n",
       "    </tr>\n",
       "    <tr>\n",
       "      <th>3</th>\n",
       "      <td>IAAF launches fight against drugs  The IAAF - athletics' world governing body - has met anti-dop...</td>\n",
       "      <td>[iaaf, launches, fight, against, drugs, the, iaaf, athletics, world, governing, body, has, met, ...</td>\n",
       "      <td>sport</td>\n",
       "    </tr>\n",
       "    <tr>\n",
       "      <th>4</th>\n",
       "      <td>Dibaba breaks 5,000m world record  Ethiopia's Tirunesh Dibaba set a new world record in winning ...</td>\n",
       "      <td>[dibaba, breaks, m, world, record, ethiopia, tirunesh, dibaba, set, a, new, world, record, in, w...</td>\n",
       "      <td>sport</td>\n",
       "    </tr>\n",
       "    <tr>\n",
       "      <th>5</th>\n",
       "      <td>Isinbayeva claims new world best  Pole vaulter Yelena Isinbayeva broke her own indoor world reco...</td>\n",
       "      <td>[isinbayeva, claims, new, world, best, pole, vaulter, yelena, isinbayeva, broke, her, own, indoo...</td>\n",
       "      <td>sport</td>\n",
       "    </tr>\n",
       "    <tr>\n",
       "      <th>6</th>\n",
       "      <td>O'Sullivan commits to Dublin race  Sonia O'Sullivan will seek to regain her title at the Bupa Gr...</td>\n",
       "      <td>[commits, to, dublin, race, sonia, will, seek, to, regain, her, title, at, the, bupa, great, ire...</td>\n",
       "      <td>sport</td>\n",
       "    </tr>\n",
       "    <tr>\n",
       "      <th>7</th>\n",
       "      <td>Hansen 'delays return until 2006'  British triple jumper Ashia Hansen has ruled out a comeback t...</td>\n",
       "      <td>[hansen, delays, return, until, 2006, british, triple, jumper, ashia, hansen, has, ruled, out, a...</td>\n",
       "      <td>sport</td>\n",
       "    </tr>\n",
       "    <tr>\n",
       "      <th>8</th>\n",
       "      <td>Off-colour Gardener storms to win  Britain's Jason Gardener shook off an upset stomach to win th...</td>\n",
       "      <td>[off, colour, gardener, storms, to, win, britain, jason, gardener, shook, off, an, upset, stomac...</td>\n",
       "      <td>sport</td>\n",
       "    </tr>\n",
       "    <tr>\n",
       "      <th>9</th>\n",
       "      <td>Collins to compete in Birmingham  World and Commonwealth 100m champion Kim Collins will compete ...</td>\n",
       "      <td>[collins, to, compete, in, birmingham, world, and, commonwealth, 100, m, champion, kim, collins,...</td>\n",
       "      <td>sport</td>\n",
       "    </tr>\n",
       "  </tbody>\n",
       "</table>\n",
       "</div>"
      ],
      "text/plain": [
       "                                                                                                  text  \\\n",
       "0  Claxton hunting first major medal  British hurdler Sarah Claxton is confident she can win her fi...   \n",
       "1  O'Sullivan could run in Worlds  Sonia O'Sullivan has indicated that she would like to participat...   \n",
       "2  Greene sets sights on world title  Maurice Greene aims to wipe out the pain of losing his Olympi...   \n",
       "3  IAAF launches fight against drugs  The IAAF - athletics' world governing body - has met anti-dop...   \n",
       "4  Dibaba breaks 5,000m world record  Ethiopia's Tirunesh Dibaba set a new world record in winning ...   \n",
       "5  Isinbayeva claims new world best  Pole vaulter Yelena Isinbayeva broke her own indoor world reco...   \n",
       "6  O'Sullivan commits to Dublin race  Sonia O'Sullivan will seek to regain her title at the Bupa Gr...   \n",
       "7  Hansen 'delays return until 2006'  British triple jumper Ashia Hansen has ruled out a comeback t...   \n",
       "8  Off-colour Gardener storms to win  Britain's Jason Gardener shook off an upset stomach to win th...   \n",
       "9  Collins to compete in Birmingham  World and Commonwealth 100m champion Kim Collins will compete ...   \n",
       "\n",
       "                                                                                                tokens  \\\n",
       "0  [claxton, hunting, first, major, medal, british, hurdler, sarah, claxton, is, confident, she, ca...   \n",
       "1  [could, run, in, worlds, sonia, has, indicated, that, she, would, like, to, participate, in, nex...   \n",
       "2  [greene, sets, sights, on, world, title, maurice, greene, aims, to, wipe, out, the, pain, of, lo...   \n",
       "3  [iaaf, launches, fight, against, drugs, the, iaaf, athletics, world, governing, body, has, met, ...   \n",
       "4  [dibaba, breaks, m, world, record, ethiopia, tirunesh, dibaba, set, a, new, world, record, in, w...   \n",
       "5  [isinbayeva, claims, new, world, best, pole, vaulter, yelena, isinbayeva, broke, her, own, indoo...   \n",
       "6  [commits, to, dublin, race, sonia, will, seek, to, regain, her, title, at, the, bupa, great, ire...   \n",
       "7  [hansen, delays, return, until, 2006, british, triple, jumper, ashia, hansen, has, ruled, out, a...   \n",
       "8  [off, colour, gardener, storms, to, win, britain, jason, gardener, shook, off, an, upset, stomac...   \n",
       "9  [collins, to, compete, in, birmingham, world, and, commonwealth, 100, m, champion, kim, collins,...   \n",
       "\n",
       "   group  \n",
       "0  sport  \n",
       "1  sport  \n",
       "2  sport  \n",
       "3  sport  \n",
       "4  sport  \n",
       "5  sport  \n",
       "6  sport  \n",
       "7  sport  \n",
       "8  sport  \n",
       "9  sport  "
      ]
     },
     "execution_count": 21,
     "metadata": {},
     "output_type": "execute_result"
    }
   ],
   "source": [
    "bbc_df[:10]"
   ]
  },
  {
   "cell_type": "code",
   "execution_count": 22,
   "metadata": {},
   "outputs": [
    {
     "name": "stdout",
     "output_type": "stream",
     "text": [
      "Dataset comprises 2225 documents and 19065 unique words\n"
     ]
    }
   ],
   "source": [
    "bbc_vocab = Vocab([tok for tokens in bbc_df.tokens for tok in tokens])\n",
    "\n",
    "bbc_df = clean_tokens(bbc_df, bbc_vocab)\n",
    "\n",
    "print(f\"Dataset comprises {len(bbc_df)} documents and {len(bbc_vocab.words)} unique words\")"
   ]
  },
  {
   "cell_type": "code",
   "execution_count": 23,
   "metadata": {},
   "outputs": [],
   "source": [
    "bbc_noise = NoiseDistribution(bbc_vocab)\n",
    "bbc_examples = list(example_generator(bbc_df, context_size=5, noise=bbc_noise, n_negative_samples=5, vocab=bbc_vocab))"
   ]
  },
  {
   "cell_type": "code",
   "execution_count": 24,
   "metadata": {},
   "outputs": [],
   "source": [
    "bbc_dataset = NCEDataset(bbc_examples)\n",
    "bbc_dataloader = DataLoader(bbc_dataset, batch_size=1024, drop_last=True, shuffle=True)  # TODO could tolerate a larger batch size\n",
    "\n",
    "bbc_model = DistributedMemory(vec_dim=50,\n",
    "                              n_docs=len(bbc_df),\n",
    "                              n_words=len(bbc_vocab.words))"
   ]
  },
  {
   "cell_type": "code",
   "execution_count": 25,
   "metadata": {},
   "outputs": [
    {
     "name": "stderr",
     "output_type": "stream",
     "text": [
      "Epochs: 100%|██████████| 80/80 [21:38<00:00, 16.24s/it]\n"
     ]
    }
   ],
   "source": [
    "bbc_training_losses = train(bbc_model, bbc_dataloader, epochs=80, lr=1e-3)"
   ]
  },
  {
   "cell_type": "code",
   "execution_count": 26,
   "metadata": {},
   "outputs": [],
   "source": [
    "torch.save(bbc_model.state_dict(), 'bbc_training_losses_weights.pth')"
   ]
  },
  {
   "cell_type": "code",
   "execution_count": 27,
   "metadata": {},
   "outputs": [],
   "source": [
    "bbc_model=torch.load('bbc_training_losses_weights.pth')"
   ]
  },
  {
   "cell_type": "code",
   "execution_count": 28,
   "metadata": {},
   "outputs": [
    {
     "data": {
      "text/html": [
       "\n",
       "<style>\n",
       "  #altair-viz-864dd0c1c09e4c6ea72f0dfd4380f356.vega-embed {\n",
       "    width: 100%;\n",
       "    display: flex;\n",
       "  }\n",
       "\n",
       "  #altair-viz-864dd0c1c09e4c6ea72f0dfd4380f356.vega-embed details,\n",
       "  #altair-viz-864dd0c1c09e4c6ea72f0dfd4380f356.vega-embed details summary {\n",
       "    position: relative;\n",
       "  }\n",
       "</style>\n",
       "<div id=\"altair-viz-864dd0c1c09e4c6ea72f0dfd4380f356\"></div>\n",
       "<script type=\"text/javascript\">\n",
       "  var VEGA_DEBUG = (typeof VEGA_DEBUG == \"undefined\") ? {} : VEGA_DEBUG;\n",
       "  (function(spec, embedOpt){\n",
       "    let outputDiv = document.currentScript.previousElementSibling;\n",
       "    if (outputDiv.id !== \"altair-viz-864dd0c1c09e4c6ea72f0dfd4380f356\") {\n",
       "      outputDiv = document.getElementById(\"altair-viz-864dd0c1c09e4c6ea72f0dfd4380f356\");\n",
       "    }\n",
       "    const paths = {\n",
       "      \"vega\": \"https://cdn.jsdelivr.net/npm/vega@5?noext\",\n",
       "      \"vega-lib\": \"https://cdn.jsdelivr.net/npm/vega-lib?noext\",\n",
       "      \"vega-lite\": \"https://cdn.jsdelivr.net/npm/vega-lite@5.16.3?noext\",\n",
       "      \"vega-embed\": \"https://cdn.jsdelivr.net/npm/vega-embed@6?noext\",\n",
       "    };\n",
       "\n",
       "    function maybeLoadScript(lib, version) {\n",
       "      var key = `${lib.replace(\"-\", \"\")}_version`;\n",
       "      return (VEGA_DEBUG[key] == version) ?\n",
       "        Promise.resolve(paths[lib]) :\n",
       "        new Promise(function(resolve, reject) {\n",
       "          var s = document.createElement('script');\n",
       "          document.getElementsByTagName(\"head\")[0].appendChild(s);\n",
       "          s.async = true;\n",
       "          s.onload = () => {\n",
       "            VEGA_DEBUG[key] = version;\n",
       "            return resolve(paths[lib]);\n",
       "          };\n",
       "          s.onerror = () => reject(`Error loading script: ${paths[lib]}`);\n",
       "          s.src = paths[lib];\n",
       "        });\n",
       "    }\n",
       "\n",
       "    function showError(err) {\n",
       "      outputDiv.innerHTML = `<div class=\"error\" style=\"color:red;\">${err}</div>`;\n",
       "      throw err;\n",
       "    }\n",
       "\n",
       "    function displayChart(vegaEmbed) {\n",
       "      vegaEmbed(outputDiv, spec, embedOpt)\n",
       "        .catch(err => showError(`Javascript Error: ${err.message}<br>This usually means there's a typo in your chart specification. See the javascript console for the full traceback.`));\n",
       "    }\n",
       "\n",
       "    if(typeof define === \"function\" && define.amd) {\n",
       "      requirejs.config({paths});\n",
       "      require([\"vega-embed\"], displayChart, err => showError(`Error loading script: ${err.message}`));\n",
       "    } else {\n",
       "      maybeLoadScript(\"vega\", \"5\")\n",
       "        .then(() => maybeLoadScript(\"vega-lite\", \"5.16.3\"))\n",
       "        .then(() => maybeLoadScript(\"vega-embed\", \"6\"))\n",
       "        .catch(showError)\n",
       "        .then(() => displayChart(vegaEmbed));\n",
       "    }\n",
       "  })({\"config\": {\"view\": {\"continuousWidth\": 300, \"continuousHeight\": 300}}, \"data\": {\"name\": \"data-f9d406221fdf2831c46ccfb3bbbb56b3\"}, \"mark\": {\"type\": \"bar\"}, \"encoding\": {\"x\": {\"field\": \"epoch\", \"type\": \"quantitative\"}, \"y\": {\"field\": \"training_loss\", \"type\": \"quantitative\"}}, \"$schema\": \"https://vega.github.io/schema/vega-lite/v5.16.3.json\", \"datasets\": {\"data-f9d406221fdf2831c46ccfb3bbbb56b3\": [{\"epoch\": 0, \"training_loss\": 2.6430577317775037}, {\"epoch\": 1, \"training_loss\": 2.171500475175919}, {\"epoch\": 2, \"training_loss\": 1.9871343045909116}, {\"epoch\": 3, \"training_loss\": 1.871337188828376}, {\"epoch\": 4, \"training_loss\": 1.78855485241703}, {\"epoch\": 5, \"training_loss\": 1.7234946863527039}, {\"epoch\": 6, \"training_loss\": 1.669845028935236}, {\"epoch\": 7, \"training_loss\": 1.6238999013273652}, {\"epoch\": 8, \"training_loss\": 1.5832740985430205}, {\"epoch\": 9, \"training_loss\": 1.5468191505957478}, {\"epoch\": 10, \"training_loss\": 1.5136789383722593}, {\"epoch\": 11, \"training_loss\": 1.4828492956185164}, {\"epoch\": 12, \"training_loss\": 1.4547098817363862}, {\"epoch\": 13, \"training_loss\": 1.4285579545622131}, {\"epoch\": 14, \"training_loss\": 1.4037660070447708}, {\"epoch\": 15, \"training_loss\": 1.3801784453261874}, {\"epoch\": 16, \"training_loss\": 1.3581361171625388}, {\"epoch\": 17, \"training_loss\": 1.3371820730843555}, {\"epoch\": 18, \"training_loss\": 1.3170564232334014}, {\"epoch\": 19, \"training_loss\": 1.2980096341658467}, {\"epoch\": 20, \"training_loss\": 1.2797319646508758}, {\"epoch\": 21, \"training_loss\": 1.2620962867074215}, {\"epoch\": 22, \"training_loss\": 1.245143620459081}, {\"epoch\": 23, \"training_loss\": 1.228768558863079}, {\"epoch\": 24, \"training_loss\": 1.2131358007935082}, {\"epoch\": 25, \"training_loss\": 1.1980533599853516}, {\"epoch\": 26, \"training_loss\": 1.18326886593556}, {\"epoch\": 27, \"training_loss\": 1.1690941192671915}, {\"epoch\": 28, \"training_loss\": 1.1551855125143273}, {\"epoch\": 29, \"training_loss\": 1.141898169706832}, {\"epoch\": 30, \"training_loss\": 1.1287128475700359}, {\"epoch\": 31, \"training_loss\": 1.1160026902596354}, {\"epoch\": 32, \"training_loss\": 1.1037889751547916}, {\"epoch\": 33, \"training_loss\": 1.0915587223493135}, {\"epoch\": 34, \"training_loss\": 1.0798989006366682}, {\"epoch\": 35, \"training_loss\": 1.0686722473234456}, {\"epoch\": 36, \"training_loss\": 1.0574183735451095}, {\"epoch\": 37, \"training_loss\": 1.0466399152136914}, {\"epoch\": 38, \"training_loss\": 1.0357850125942278}, {\"epoch\": 39, \"training_loss\": 1.0256216540082217}, {\"epoch\": 40, \"training_loss\": 1.0152706073472282}, {\"epoch\": 41, \"training_loss\": 1.0053004564037986}, {\"epoch\": 42, \"training_loss\": 0.9957588571620638}, {\"epoch\": 43, \"training_loss\": 0.9861523151101901}, {\"epoch\": 44, \"training_loss\": 0.9766454311369667}, {\"epoch\": 45, \"training_loss\": 0.9676649696921592}, {\"epoch\": 46, \"training_loss\": 0.9587766530348113}, {\"epoch\": 47, \"training_loss\": 0.949827854745737}, {\"epoch\": 48, \"training_loss\": 0.9413018129007988}, {\"epoch\": 49, \"training_loss\": 0.9330823200364267}, {\"epoch\": 50, \"training_loss\": 0.9246600106099699}, {\"epoch\": 51, \"training_loss\": 0.9165548083947846}, {\"epoch\": 52, \"training_loss\": 0.9085124915941774}, {\"epoch\": 53, \"training_loss\": 0.9007619944015153}, {\"epoch\": 54, \"training_loss\": 0.8931032726102076}, {\"epoch\": 55, \"training_loss\": 0.8855885350083004}, {\"epoch\": 56, \"training_loss\": 0.8782489043903114}, {\"epoch\": 57, \"training_loss\": 0.8710510407576786}, {\"epoch\": 58, \"training_loss\": 0.8639033481145911}, {\"epoch\": 59, \"training_loss\": 0.8569006418471893}, {\"epoch\": 60, \"training_loss\": 0.8500552776433694}, {\"epoch\": 61, \"training_loss\": 0.8431894934502784}, {\"epoch\": 62, \"training_loss\": 0.8364673755304985}, {\"epoch\": 63, \"training_loss\": 0.8303117942869219}, {\"epoch\": 64, \"training_loss\": 0.8238779460230181}, {\"epoch\": 65, \"training_loss\": 0.8174614944765645}, {\"epoch\": 66, \"training_loss\": 0.8113743828484793}, {\"epoch\": 67, \"training_loss\": 0.8053035128944861}, {\"epoch\": 68, \"training_loss\": 0.7993157314455539}, {\"epoch\": 69, \"training_loss\": 0.7934490430443814}, {\"epoch\": 70, \"training_loss\": 0.7876990087718585}, {\"epoch\": 71, \"training_loss\": 0.7820042725236481}, {\"epoch\": 72, \"training_loss\": 0.7764616638939671}, {\"epoch\": 73, \"training_loss\": 0.7709175809737174}, {\"epoch\": 74, \"training_loss\": 0.7656483889809318}, {\"epoch\": 75, \"training_loss\": 0.7601351082768689}, {\"epoch\": 76, \"training_loss\": 0.7551484039196601}, {\"epoch\": 77, \"training_loss\": 0.7498169594603792}, {\"epoch\": 78, \"training_loss\": 0.7448061972338863}, {\"epoch\": 79, \"training_loss\": 0.7399147078210012}]}}, {\"mode\": \"vega-lite\"});\n",
       "</script>"
      ],
      "text/plain": [
       "alt.Chart(...)"
      ]
     },
     "execution_count": 28,
     "metadata": {},
     "output_type": "execute_result"
    }
   ],
   "source": [
    "alt.Chart(pd.DataFrame(enumerate(bbc_training_losses), columns=[\"epoch\", \"training_loss\"])).mark_bar().encode(x=\"epoch\", y=\"training_loss\")"
   ]
  },
  {
   "cell_type": "markdown",
   "metadata": {},
   "source": [
    "Echemos un vistazo a los vectores de párrafo de dimensionalidad reducida."
   ]
  },
  {
   "cell_type": "code",
   "execution_count": 40,
   "metadata": {},
   "outputs": [
    {
     "data": {
      "text/plain": [
       "tensor([[-0.0159,  0.6279, -0.3797,  ...,  0.3544, -0.3635, -1.3563],\n",
       "        [-0.0434, -1.7093, -0.9079,  ...,  1.7685, -0.9052, -1.3727],\n",
       "        [-0.8322,  0.5600, -0.3148,  ...,  0.5620, -0.4066,  1.5546],\n",
       "        ...,\n",
       "        [-0.1357, -0.5361,  0.6942,  ..., -0.4835, -0.9345, -1.1193],\n",
       "        [ 0.5311, -0.3923,  0.9255,  ..., -0.3259, -0.1426,  0.6837],\n",
       "        [-0.8099, -2.2111,  0.5941,  ..., -0.2878, -0.2778,  0.7465]])"
      ]
     },
     "execution_count": 40,
     "metadata": {},
     "output_type": "execute_result"
    }
   ],
   "source": [
    "bbc_model['paragraph_matrix'].data"
   ]
  },
  {
   "cell_type": "code",
   "execution_count": 41,
   "metadata": {},
   "outputs": [
    {
     "name": "stdout",
     "output_type": "stream",
     "text": [
      "2-component PCA, explains 2.67% of variance\n"
     ]
    },
    {
     "data": {
      "text/html": [
       "\n",
       "<style>\n",
       "  #altair-viz-59aa5371a6f340918b7619f04471b27d.vega-embed {\n",
       "    width: 100%;\n",
       "    display: flex;\n",
       "  }\n",
       "\n",
       "  #altair-viz-59aa5371a6f340918b7619f04471b27d.vega-embed details,\n",
       "  #altair-viz-59aa5371a6f340918b7619f04471b27d.vega-embed details summary {\n",
       "    position: relative;\n",
       "  }\n",
       "</style>\n",
       "<div id=\"altair-viz-59aa5371a6f340918b7619f04471b27d\"></div>\n",
       "<script type=\"text/javascript\">\n",
       "  var VEGA_DEBUG = (typeof VEGA_DEBUG == \"undefined\") ? {} : VEGA_DEBUG;\n",
       "  (function(spec, embedOpt){\n",
       "    let outputDiv = document.currentScript.previousElementSibling;\n",
       "    if (outputDiv.id !== \"altair-viz-59aa5371a6f340918b7619f04471b27d\") {\n",
       "      outputDiv = document.getElementById(\"altair-viz-59aa5371a6f340918b7619f04471b27d\");\n",
       "    }\n",
       "    const paths = {\n",
       "      \"vega\": \"https://cdn.jsdelivr.net/npm/vega@5?noext\",\n",
       "      \"vega-lib\": \"https://cdn.jsdelivr.net/npm/vega-lib?noext\",\n",
       "      \"vega-lite\": \"https://cdn.jsdelivr.net/npm/vega-lite@5.16.3?noext\",\n",
       "      \"vega-embed\": \"https://cdn.jsdelivr.net/npm/vega-embed@6?noext\",\n",
       "    };\n",
       "\n",
       "    function maybeLoadScript(lib, version) {\n",
       "      var key = `${lib.replace(\"-\", \"\")}_version`;\n",
       "      return (VEGA_DEBUG[key] == version) ?\n",
       "        Promise.resolve(paths[lib]) :\n",
       "        new Promise(function(resolve, reject) {\n",
       "          var s = document.createElement('script');\n",
       "          document.getElementsByTagName(\"head\")[0].appendChild(s);\n",
       "          s.async = true;\n",
       "          s.onload = () => {\n",
       "            VEGA_DEBUG[key] = version;\n",
       "            return resolve(paths[lib]);\n",
       "          };\n",
       "          s.onerror = () => reject(`Error loading script: ${paths[lib]}`);\n",
       "          s.src = paths[lib];\n",
       "        });\n",
       "    }\n",
       "\n",
       "    function showError(err) {\n",
       "      outputDiv.innerHTML = `<div class=\"error\" style=\"color:red;\">${err}</div>`;\n",
       "      throw err;\n",
       "    }\n",
       "\n",
       "    function displayChart(vegaEmbed) {\n",
       "      vegaEmbed(outputDiv, spec, embedOpt)\n",
       "        .catch(err => showError(`Javascript Error: ${err.message}<br>This usually means there's a typo in your chart specification. See the javascript console for the full traceback.`));\n",
       "    }\n",
       "\n",
       "    if(typeof define === \"function\" && define.amd) {\n",
       "      requirejs.config({paths});\n",
       "      require([\"vega-embed\"], displayChart, err => showError(`Error loading script: ${err.message}`));\n",
       "    } else {\n",
       "      maybeLoadScript(\"vega\", \"5\")\n",
       "        .then(() => maybeLoadScript(\"vega-lite\", \"5.16.3\"))\n",
       "        .then(() => maybeLoadScript(\"vega-embed\", \"6\"))\n",
       "        .catch(showError)\n",
       "        .then(() => displayChart(vegaEmbed));\n",
       "    }\n",
       "  })({\"config\": {\"view\": {\"continuousWidth\": 300, \"continuousHeight\": 300}}, \"data\": {\"name\": \"data-ca54f10733639b51eaa5a30a17d0d837\"}, \"mark\": {\"type\": \"point\"}, \"encoding\": {\"color\": {\"field\": \"group\", \"type\": \"nominal\"}, \"x\": {\"field\": \"x\", \"type\": \"quantitative\"}, \"y\": {\"field\": \"y\", \"type\": \"quantitative\"}}, \"$schema\": \"https://vega.github.io/schema/vega-lite/v5.16.3.json\", \"datasets\": {\"data-ca54f10733639b51eaa5a30a17d0d837\": [{\"x\": 1.7293229093727442, \"y\": 1.2399662919065386, \"group\": \"sport\"}, {\"x\": 2.360131321488412, \"y\": 0.5337741242159378, \"group\": \"sport\"}, {\"x\": 1.8959511224201395, \"y\": 0.10804969018348448, \"group\": \"sport\"}, {\"x\": 1.1985643442180542, \"y\": -0.8000158157894592, \"group\": \"sport\"}, {\"x\": 1.369508053833407, \"y\": 0.05417664885793166, \"group\": \"sport\"}, {\"x\": 1.3580570110331969, \"y\": 1.395517839373935, \"group\": \"sport\"}, {\"x\": 2.158969425609731, \"y\": 0.04502799231316216, \"group\": \"sport\"}, {\"x\": 1.7836352680058238, \"y\": 0.49793780180239683, \"group\": \"sport\"}, {\"x\": 0.9984579890486864, \"y\": -0.690469149589869, \"group\": \"sport\"}, {\"x\": 1.3662641177741162, \"y\": 0.711853723328504, \"group\": \"sport\"}, {\"x\": 1.0783284160846136, \"y\": -0.7100737124815514, \"group\": \"sport\"}, {\"x\": 1.2725664358465387, \"y\": -0.22500313968418958, \"group\": \"sport\"}, {\"x\": 1.3220468238178962, \"y\": 0.8278925118096154, \"group\": \"sport\"}, {\"x\": 0.9924537575691437, \"y\": 0.6243952682895707, \"group\": \"sport\"}, {\"x\": 1.8400582567590296, \"y\": 1.6041474871812507, \"group\": \"sport\"}, {\"x\": 1.704097619052919, \"y\": 0.13039295834276268, \"group\": \"sport\"}, {\"x\": 0.8580908034742505, \"y\": -0.45293689617323024, \"group\": \"sport\"}, {\"x\": 1.455266986792106, \"y\": -0.49090086024262225, \"group\": \"sport\"}, {\"x\": 0.581265397327802, \"y\": 0.3735963438041366, \"group\": \"sport\"}, {\"x\": 0.39970917670361233, \"y\": 1.113229309616879, \"group\": \"sport\"}, {\"x\": 1.6344238878003192, \"y\": 1.249388178858154, \"group\": \"sport\"}, {\"x\": 1.5129377078422388, \"y\": 0.04710834566212623, \"group\": \"sport\"}, {\"x\": 1.463838848500277, \"y\": -0.24553853956356433, \"group\": \"sport\"}, {\"x\": 0.6069145586911073, \"y\": 0.3706923034897167, \"group\": \"sport\"}, {\"x\": 1.615150497852864, \"y\": 0.960427397656205, \"group\": \"sport\"}, {\"x\": 1.3988927487140579, \"y\": 1.1524723176476461, \"group\": \"sport\"}, {\"x\": 1.3951506647732956, \"y\": -0.23399771981650608, \"group\": \"sport\"}, {\"x\": 0.2802918294017377, \"y\": -0.21953093116309735, \"group\": \"sport\"}, {\"x\": 0.8336461574149333, \"y\": 1.189821910810552, \"group\": \"sport\"}, {\"x\": 1.5296015494588096, \"y\": 0.8010819246951156, \"group\": \"sport\"}, {\"x\": 1.7046332071056622, \"y\": -0.6904873403801558, \"group\": \"sport\"}, {\"x\": 1.617483026500384, \"y\": 0.31809243603763887, \"group\": \"sport\"}, {\"x\": 0.8275811847682052, \"y\": 0.36950056438014384, \"group\": \"sport\"}, {\"x\": 1.1979685695381772, \"y\": -0.6250375177834909, \"group\": \"sport\"}, {\"x\": 1.384720599344239, \"y\": 1.6369930039829712, \"group\": \"sport\"}, {\"x\": 1.5819251086882535, \"y\": 0.6260375591472622, \"group\": \"sport\"}, {\"x\": 1.1653877113714735, \"y\": 0.38115317374829333, \"group\": \"sport\"}, {\"x\": 1.5090975935723068, \"y\": 1.0522364993524544, \"group\": \"sport\"}, {\"x\": 2.1633766906644714, \"y\": 1.8458305619436886, \"group\": \"sport\"}, {\"x\": 1.336105176922962, \"y\": 1.304287262953532, \"group\": \"sport\"}, {\"x\": 0.32507854430483696, \"y\": 0.7681528636834196, \"group\": \"sport\"}, {\"x\": 1.0581471949818606, \"y\": 0.37306960048175525, \"group\": \"sport\"}, {\"x\": 1.4891150876242303, \"y\": 0.1318869145332114, \"group\": \"sport\"}, {\"x\": 1.898175704712683, \"y\": 0.8899040843877747, \"group\": \"sport\"}, {\"x\": 1.7088139335958676, \"y\": -0.8596659103343075, \"group\": \"sport\"}, {\"x\": 1.2858906744418486, \"y\": -0.3824831163100934, \"group\": \"sport\"}, {\"x\": 1.266028657726584, \"y\": 0.04145037261499552, \"group\": \"sport\"}, {\"x\": 2.594986872496881, \"y\": 1.3484363707212461, \"group\": \"sport\"}, {\"x\": 1.6653184989300238, \"y\": -0.1709424478001049, \"group\": \"sport\"}, {\"x\": 0.6042552034481681, \"y\": 1.4610986473538616, \"group\": \"sport\"}, {\"x\": 1.7757506509365422, \"y\": 0.8747584100130102, \"group\": \"sport\"}, {\"x\": 0.09957276742275736, \"y\": -0.3302510772657616, \"group\": \"sport\"}, {\"x\": 0.5642976991564562, \"y\": -1.0081536724348916, \"group\": \"sport\"}, {\"x\": 1.6471914656942668, \"y\": 0.06201666315059656, \"group\": \"sport\"}, {\"x\": 1.766405995257351, \"y\": 0.8803125782312733, \"group\": \"sport\"}, {\"x\": 0.7261072884672846, \"y\": -0.30338805596640955, \"group\": \"sport\"}, {\"x\": 0.8679530274516273, \"y\": 0.6269068633123291, \"group\": \"sport\"}, {\"x\": 1.4542847647790729, \"y\": 0.3542297469487653, \"group\": \"sport\"}, {\"x\": 1.0685926171126063, \"y\": 0.08658913633785055, \"group\": \"sport\"}, {\"x\": 2.2449688906845413, \"y\": 0.8042362079077402, \"group\": \"sport\"}, {\"x\": 2.4132410925706242, \"y\": -0.10989395253166746, \"group\": \"sport\"}, {\"x\": 1.8369339419514668, \"y\": 0.3232904809367578, \"group\": \"sport\"}, {\"x\": 0.6898573600405965, \"y\": 0.33376414336915156, \"group\": \"sport\"}, {\"x\": 0.758156508654295, \"y\": -0.053219173151969966, \"group\": \"sport\"}, {\"x\": 0.8454761800781637, \"y\": 0.8748353476343353, \"group\": \"sport\"}, {\"x\": 1.4760278029075793, \"y\": 0.7133703215859105, \"group\": \"sport\"}, {\"x\": 1.3503647477198322, \"y\": 1.1952975692167258, \"group\": \"sport\"}, {\"x\": 1.1693778638761514, \"y\": 0.6263983838493109, \"group\": \"sport\"}, {\"x\": 0.5500192922069322, \"y\": 0.2370298907736647, \"group\": \"sport\"}, {\"x\": 0.47238649851673314, \"y\": -0.21033462873583977, \"group\": \"sport\"}, {\"x\": 0.1847508619299694, \"y\": -0.8584367799530346, \"group\": \"sport\"}, {\"x\": 0.9667279873596467, \"y\": -0.6740593103401196, \"group\": \"sport\"}, {\"x\": 1.5565885781197188, \"y\": 0.4137734125578122, \"group\": \"sport\"}, {\"x\": 1.4595175265891263, \"y\": -0.005264800988524788, \"group\": \"sport\"}, {\"x\": 2.05787253562703, \"y\": 0.12139210532796478, \"group\": \"sport\"}, {\"x\": 0.8593227833153292, \"y\": 0.7848581958146561, \"group\": \"sport\"}, {\"x\": 1.5028023169978983, \"y\": -0.04277097922672316, \"group\": \"sport\"}, {\"x\": 0.6714908830109961, \"y\": 1.3169324056475558, \"group\": \"sport\"}, {\"x\": 2.240124859144606, \"y\": 0.21876262301292074, \"group\": \"sport\"}, {\"x\": 0.23001262890882124, \"y\": 1.7952756803225833, \"group\": \"sport\"}, {\"x\": 1.7995030589709997, \"y\": -0.9085586451485601, \"group\": \"sport\"}, {\"x\": 1.5777725180029656, \"y\": 0.4840275194810799, \"group\": \"sport\"}, {\"x\": 1.5812073682386398, \"y\": 0.5677777868044835, \"group\": \"sport\"}, {\"x\": 1.2169035286820666, \"y\": 1.228900402478622, \"group\": \"sport\"}, {\"x\": 1.446721571341404, \"y\": -0.004702028016029741, \"group\": \"sport\"}, {\"x\": 1.382733011377333, \"y\": 0.4157494943971745, \"group\": \"sport\"}, {\"x\": 0.9592848502973876, \"y\": 0.2847313988657697, \"group\": \"sport\"}, {\"x\": 1.696229067816741, \"y\": -0.22798666833517192, \"group\": \"sport\"}, {\"x\": 2.0248489403686185, \"y\": 1.234150790365894, \"group\": \"sport\"}, {\"x\": 1.7590361969741486, \"y\": -0.11211289180851947, \"group\": \"sport\"}, {\"x\": 0.63276280228028, \"y\": 0.5479293357716281, \"group\": \"sport\"}, {\"x\": -0.4959528013680097, \"y\": -0.2939421658925736, \"group\": \"sport\"}, {\"x\": 0.19332727950597092, \"y\": -0.1386451879369523, \"group\": \"sport\"}, {\"x\": 1.4811322103632014, \"y\": 0.16388213580292846, \"group\": \"sport\"}, {\"x\": 0.6486250651648263, \"y\": 0.03620319761605832, \"group\": \"sport\"}, {\"x\": 0.5562104846342601, \"y\": -1.4375724026007872, \"group\": \"sport\"}, {\"x\": 0.9713480615263479, \"y\": -0.1891924671895172, \"group\": \"sport\"}, {\"x\": 0.972165753150201, \"y\": -0.31265665584296554, \"group\": \"sport\"}, {\"x\": 0.4670677463677675, \"y\": -0.8777274635732527, \"group\": \"sport\"}, {\"x\": 0.7823075056590448, \"y\": -0.011354825792135967, \"group\": \"sport\"}, {\"x\": 0.9110834797603137, \"y\": -0.22513471656413808, \"group\": \"sport\"}, {\"x\": 1.080929474286707, \"y\": 1.6858358123074593, \"group\": \"sport\"}, {\"x\": 0.879029989275159, \"y\": -0.9384602400771714, \"group\": \"sport\"}, {\"x\": 0.07536529258821223, \"y\": 0.4551129367802582, \"group\": \"sport\"}, {\"x\": 0.5356596949133985, \"y\": 0.1286969497051299, \"group\": \"sport\"}, {\"x\": 1.048585069225443, \"y\": -0.04734696754839895, \"group\": \"sport\"}, {\"x\": 0.584915630737504, \"y\": 0.7733435631073312, \"group\": \"sport\"}, {\"x\": 0.7707331626519462, \"y\": -0.7408894652339657, \"group\": \"sport\"}, {\"x\": 0.3821267037173561, \"y\": 1.521997414900625, \"group\": \"sport\"}, {\"x\": 0.9511153556716972, \"y\": -0.3746808705903988, \"group\": \"sport\"}, {\"x\": 0.27140290542539364, \"y\": -0.45861166956513916, \"group\": \"sport\"}, {\"x\": 1.4752161658262806, \"y\": -0.5650019740362546, \"group\": \"sport\"}, {\"x\": 0.22596495444177703, \"y\": 0.5068390750927464, \"group\": \"sport\"}, {\"x\": 1.4196452622816713, \"y\": 0.6527201154083656, \"group\": \"sport\"}, {\"x\": 0.6246523933117347, \"y\": -0.15996918145881184, \"group\": \"sport\"}, {\"x\": 1.6553370310954933, \"y\": 0.26834190992747, \"group\": \"sport\"}, {\"x\": 1.1369670739001534, \"y\": -0.6154832011516214, \"group\": \"sport\"}, {\"x\": 1.6840216722822838, \"y\": 0.1111573181622579, \"group\": \"sport\"}, {\"x\": 0.7638814869864519, \"y\": -0.7885239871340926, \"group\": \"sport\"}, {\"x\": 1.7106857814957, \"y\": -0.45155469334662623, \"group\": \"sport\"}, {\"x\": 1.1573496024826773, \"y\": -0.04932707097173494, \"group\": \"sport\"}, {\"x\": 0.5513218159339636, \"y\": -0.38659260901407516, \"group\": \"sport\"}, {\"x\": 0.7057637959657281, \"y\": -0.612486415082131, \"group\": \"sport\"}, {\"x\": 0.32185678805436796, \"y\": -0.18400558968980488, \"group\": \"sport\"}, {\"x\": 1.2478246178482408, \"y\": -1.2441577900181637, \"group\": \"sport\"}, {\"x\": 1.2949782621718415, \"y\": -0.984010682784295, \"group\": \"sport\"}, {\"x\": 0.6124008718713442, \"y\": 0.19358215069589954, \"group\": \"sport\"}, {\"x\": 0.36110837869594703, \"y\": -0.46080809281405677, \"group\": \"sport\"}, {\"x\": 1.8130110732596003, \"y\": -1.1940559341733545, \"group\": \"sport\"}, {\"x\": 0.6550563283971499, \"y\": -0.037806419704177474, \"group\": \"sport\"}, {\"x\": 0.7827942322471264, \"y\": 0.30390944342449816, \"group\": \"sport\"}, {\"x\": 0.6681797887529437, \"y\": -0.12879247353822346, \"group\": \"sport\"}, {\"x\": 1.5206982164833192, \"y\": 1.828677951085912, \"group\": \"sport\"}, {\"x\": 1.4944491288217794, \"y\": -0.68615697152825, \"group\": \"sport\"}, {\"x\": 0.7937631612588767, \"y\": -1.315748716124521, \"group\": \"sport\"}, {\"x\": 1.593869882131389, \"y\": 0.3136988688953072, \"group\": \"sport\"}, {\"x\": 1.5644167456242524, \"y\": 0.6517526618353562, \"group\": \"sport\"}, {\"x\": 1.8869698786892373, \"y\": 1.3746863131949274, \"group\": \"sport\"}, {\"x\": 0.7184241785149055, \"y\": 0.44091726775625845, \"group\": \"sport\"}, {\"x\": 1.431176548898618, \"y\": 0.09304324733071472, \"group\": \"sport\"}, {\"x\": 1.4165774278769925, \"y\": -0.30040236038644413, \"group\": \"sport\"}, {\"x\": 1.0468281115206406, \"y\": -0.8960025816279054, \"group\": \"sport\"}, {\"x\": 1.239379988407695, \"y\": -0.0413685188710893, \"group\": \"sport\"}, {\"x\": 1.1001369464943973, \"y\": -1.1802495648854527, \"group\": \"sport\"}, {\"x\": 1.6692396296273073, \"y\": 0.8442881011972891, \"group\": \"sport\"}, {\"x\": 1.1131934056462371, \"y\": -0.11091958137058827, \"group\": \"sport\"}, {\"x\": 1.0820938051688442, \"y\": -0.7832683676799196, \"group\": \"sport\"}, {\"x\": 0.008253001012981306, \"y\": -0.17093144249978956, \"group\": \"sport\"}, {\"x\": 1.3619885355007826, \"y\": 0.8092397242126194, \"group\": \"sport\"}, {\"x\": 1.920818430124574, \"y\": -0.11729412983186456, \"group\": \"sport\"}, {\"x\": 0.7551773246823108, \"y\": -0.009802725086897826, \"group\": \"sport\"}, {\"x\": 0.5226095600134683, \"y\": -1.6030899215203553, \"group\": \"sport\"}, {\"x\": 1.4788216141476074, \"y\": -0.32116421998081823, \"group\": \"sport\"}, {\"x\": 1.1423897260134854, \"y\": -0.42273204717674184, \"group\": \"sport\"}, {\"x\": 0.665712469313326, \"y\": 0.3039474242596159, \"group\": \"sport\"}, {\"x\": 0.8270023773748049, \"y\": -1.0467721997778554, \"group\": \"sport\"}, {\"x\": -0.036995804916794356, \"y\": -0.9117832896161412, \"group\": \"sport\"}, {\"x\": 1.1147179637800346, \"y\": -0.0865992823866225, \"group\": \"sport\"}, {\"x\": 0.9130107072363591, \"y\": -0.9837014830561162, \"group\": \"sport\"}, {\"x\": 0.2564215758292585, \"y\": 0.37344533277422554, \"group\": \"sport\"}, {\"x\": 1.0581027926554463, \"y\": 0.45452838997502093, \"group\": \"sport\"}, {\"x\": 1.8052989022676371, \"y\": -0.08121522454737472, \"group\": \"sport\"}, {\"x\": 0.6169491553675707, \"y\": 0.016612230969536877, \"group\": \"sport\"}, {\"x\": 1.3639310940463314, \"y\": 0.02717512103417195, \"group\": \"sport\"}, {\"x\": 0.8849708429210681, \"y\": -1.1736138955164683, \"group\": \"sport\"}, {\"x\": 1.2444481289149725, \"y\": -0.7772903149992029, \"group\": \"sport\"}, {\"x\": 1.2606979423114328, \"y\": 0.3926417397703754, \"group\": \"sport\"}, {\"x\": 1.2501201758251297, \"y\": 0.1390902092197142, \"group\": \"sport\"}, {\"x\": 1.459079053588929, \"y\": -1.4085346997483779, \"group\": \"sport\"}, {\"x\": 1.1774259009706678, \"y\": 0.7083306988342742, \"group\": \"sport\"}, {\"x\": 0.8618099650121808, \"y\": 0.576870061010873, \"group\": \"sport\"}, {\"x\": 1.1789195541679434, \"y\": 0.1423953421178684, \"group\": \"sport\"}, {\"x\": 0.9615480870168289, \"y\": 0.6612147850954105, \"group\": \"sport\"}, {\"x\": 1.4366005965062771, \"y\": 0.5180843084729917, \"group\": \"sport\"}, {\"x\": 1.8038958839295987, \"y\": -0.5420899421257637, \"group\": \"sport\"}, {\"x\": 1.1181603954497406, \"y\": 0.15095451084564807, \"group\": \"sport\"}, {\"x\": 1.5321638686977976, \"y\": -0.8075295350782544, \"group\": \"sport\"}, {\"x\": 1.1588872440005664, \"y\": -0.40260243669919477, \"group\": \"sport\"}, {\"x\": 1.713162386791744, \"y\": -0.11238434272581224, \"group\": \"sport\"}, {\"x\": 2.466725028155854, \"y\": 0.480785617392958, \"group\": \"sport\"}, {\"x\": 1.5361485233017895, \"y\": 1.191077859001489, \"group\": \"sport\"}, {\"x\": 0.34829956744951235, \"y\": -0.13237894152829427, \"group\": \"sport\"}, {\"x\": 0.5362191396138799, \"y\": 0.12276330672799743, \"group\": \"sport\"}, {\"x\": 1.752969486625301, \"y\": -1.240778642206166, \"group\": \"sport\"}, {\"x\": 0.7433304811089877, \"y\": -0.9129912504108607, \"group\": \"sport\"}, {\"x\": 1.3499282473939753, \"y\": 0.7646692716879054, \"group\": \"sport\"}, {\"x\": 0.6740261868348454, \"y\": -1.5663894460208219, \"group\": \"sport\"}, {\"x\": 1.4296137967119154, \"y\": -0.47033218061794185, \"group\": \"sport\"}, {\"x\": 0.6604970542681421, \"y\": -0.45824493502947033, \"group\": \"sport\"}, {\"x\": 1.686266945808402, \"y\": 0.012483720967531215, \"group\": \"sport\"}, {\"x\": 1.0559555778158234, \"y\": -0.46297119906611356, \"group\": \"sport\"}, {\"x\": 0.571968793666693, \"y\": 0.9923860756793742, \"group\": \"sport\"}, {\"x\": 0.8764604389347925, \"y\": -0.8213381847426023, \"group\": \"sport\"}, {\"x\": 0.24663938800281793, \"y\": -0.23202630951947018, \"group\": \"sport\"}, {\"x\": 0.4896843651428006, \"y\": -0.4795716770675623, \"group\": \"sport\"}, {\"x\": 1.4258701998769197, \"y\": -0.07259127098709338, \"group\": \"sport\"}, {\"x\": 0.7403229457841141, \"y\": -0.5287244246089587, \"group\": \"sport\"}, {\"x\": 0.9599995271089323, \"y\": -0.5505928568624328, \"group\": \"sport\"}, {\"x\": 1.3241022915565068, \"y\": 2.085559321493472, \"group\": \"sport\"}, {\"x\": -0.01456634226501937, \"y\": -0.29604126096349714, \"group\": \"sport\"}, {\"x\": 1.0112366001244555, \"y\": -0.3265494848659592, \"group\": \"sport\"}, {\"x\": 0.6511481800261288, \"y\": -0.530110333583884, \"group\": \"sport\"}, {\"x\": 0.1928172135626766, \"y\": 0.36840975138811094, \"group\": \"sport\"}, {\"x\": 0.9565496019619287, \"y\": 0.12686190794232835, \"group\": \"sport\"}, {\"x\": 0.8204803727936756, \"y\": -1.3193520756099615, \"group\": \"sport\"}, {\"x\": 0.5595231166419252, \"y\": 0.011319714219697461, \"group\": \"sport\"}, {\"x\": 0.7154180566518773, \"y\": -1.5134408126962384, \"group\": \"sport\"}, {\"x\": 0.37024254996945744, \"y\": 0.38076748858322995, \"group\": \"sport\"}, {\"x\": 0.8576289777423415, \"y\": -0.9272608034635159, \"group\": \"sport\"}, {\"x\": 1.075830761637893, \"y\": -0.6213612230890404, \"group\": \"sport\"}, {\"x\": 0.7416864151822855, \"y\": 0.6197820514843676, \"group\": \"sport\"}, {\"x\": 0.9208432251697893, \"y\": -1.3745154972646156, \"group\": \"sport\"}, {\"x\": 0.5975375446982668, \"y\": -1.5642020961538117, \"group\": \"sport\"}, {\"x\": 1.554606772370822, \"y\": -0.23228108998648314, \"group\": \"sport\"}, {\"x\": 1.458279910114634, \"y\": 0.11984792607866815, \"group\": \"sport\"}, {\"x\": 0.9416034980143804, \"y\": -0.007911442369735894, \"group\": \"sport\"}, {\"x\": 1.3782443734006398, \"y\": 0.924874912824077, \"group\": \"sport\"}, {\"x\": 1.8661714895557269, \"y\": -1.6948986666672305, \"group\": \"sport\"}, {\"x\": 1.0423496017525427, \"y\": 1.2981543213857982, \"group\": \"sport\"}, {\"x\": 0.3837250610957594, \"y\": -1.8175675250381669, \"group\": \"sport\"}, {\"x\": 1.0781243233893114, \"y\": 0.013464783491577934, \"group\": \"sport\"}, {\"x\": 0.6367699969215834, \"y\": 1.2772735517389222, \"group\": \"sport\"}, {\"x\": 0.19912003660577576, \"y\": -0.14351592473143576, \"group\": \"sport\"}, {\"x\": 1.2350633364102281, \"y\": -1.243061263790161, \"group\": \"sport\"}, {\"x\": 1.2689308691538062, \"y\": -0.5669783660967668, \"group\": \"sport\"}, {\"x\": 0.8702215293423256, \"y\": -0.13669368640012539, \"group\": \"sport\"}, {\"x\": 0.4672149229221493, \"y\": -1.420697513308386, \"group\": \"sport\"}, {\"x\": 0.8305234909605858, \"y\": -1.3517081878910022, \"group\": \"sport\"}, {\"x\": 0.45767248381958864, \"y\": -0.8728188461228964, \"group\": \"sport\"}, {\"x\": 1.657975541689572, \"y\": 0.38942780820324174, \"group\": \"sport\"}, {\"x\": 0.9720854337233398, \"y\": 0.35860891903866876, \"group\": \"sport\"}, {\"x\": 1.5980689008469278, \"y\": 0.23166672363752755, \"group\": \"sport\"}, {\"x\": 1.1980776094543624, \"y\": 0.44824189057455704, \"group\": \"sport\"}, {\"x\": 1.492254097210398, \"y\": -0.7594919483361787, \"group\": \"sport\"}, {\"x\": 0.7479563377036805, \"y\": -0.9296342679836036, \"group\": \"sport\"}, {\"x\": 0.9535931655720926, \"y\": -0.07824623692188863, \"group\": \"sport\"}, {\"x\": 0.2705559419078721, \"y\": -0.5812535704146958, \"group\": \"sport\"}, {\"x\": -0.14582257346025346, \"y\": 0.36734098124689096, \"group\": \"sport\"}, {\"x\": -0.04611160277782512, \"y\": 0.01895689189605933, \"group\": \"sport\"}, {\"x\": 0.26277032243006015, \"y\": -0.36180238514818425, \"group\": \"sport\"}, {\"x\": 1.3328823234026268, \"y\": 0.7523295096393051, \"group\": \"sport\"}, {\"x\": 0.4767393838803281, \"y\": -2.070366746601271, \"group\": \"sport\"}, {\"x\": 0.9500316229546137, \"y\": -1.187310204120082, \"group\": \"sport\"}, {\"x\": 0.7664183294865704, \"y\": 0.22018900115053458, \"group\": \"sport\"}, {\"x\": 0.39823687584967554, \"y\": -0.03804233262353251, \"group\": \"sport\"}, {\"x\": 1.3415208152575262, \"y\": 0.5927152454866347, \"group\": \"sport\"}, {\"x\": -0.011845253148746416, \"y\": -0.7052849108651191, \"group\": \"sport\"}, {\"x\": 0.11401726550615432, \"y\": -0.541729634508329, \"group\": \"sport\"}, {\"x\": 0.8423071390323038, \"y\": 0.40735991753848366, \"group\": \"sport\"}, {\"x\": 0.5679833608621621, \"y\": -0.5870274870626186, \"group\": \"sport\"}, {\"x\": 1.3596237568042289, \"y\": 0.2893859213443224, \"group\": \"sport\"}, {\"x\": 1.2559766179610945, \"y\": -1.0096330773588866, \"group\": \"sport\"}, {\"x\": 1.8693309200845583, \"y\": 0.16451811132982586, \"group\": \"sport\"}, {\"x\": 0.7141525243204624, \"y\": -0.6835726270630105, \"group\": \"sport\"}, {\"x\": 1.450680307401358, \"y\": -0.7654161019550523, \"group\": \"sport\"}, {\"x\": 1.0001123697332899, \"y\": 0.43714167830260897, \"group\": \"sport\"}, {\"x\": 1.6722841137644784, \"y\": -1.3631902481848395, \"group\": \"sport\"}, {\"x\": 1.2996314450423907, \"y\": 0.3287547941003534, \"group\": \"sport\"}, {\"x\": 0.6433039431285271, \"y\": -0.537979975124422, \"group\": \"sport\"}, {\"x\": 1.9189219712222272, \"y\": -1.6533830730843766, \"group\": \"sport\"}, {\"x\": 0.4198292324454537, \"y\": -1.2997601961796623, \"group\": \"sport\"}, {\"x\": 2.100902380752181, \"y\": 0.050875226479454305, \"group\": \"sport\"}, {\"x\": 1.1714397182906582, \"y\": -0.08704201714228828, \"group\": \"sport\"}, {\"x\": 0.6482174385683903, \"y\": -0.8878290447234333, \"group\": \"sport\"}, {\"x\": 0.3296400760121952, \"y\": -0.9182916396902541, \"group\": \"sport\"}, {\"x\": 0.4437311110885891, \"y\": 1.4789928894042417, \"group\": \"sport\"}, {\"x\": 1.028229354137306, \"y\": -1.6783757007652953, \"group\": \"sport\"}, {\"x\": -0.00031885874401303883, \"y\": 0.6844400382742966, \"group\": \"sport\"}, {\"x\": 1.0673284887652483, \"y\": -0.9466515559037497, \"group\": \"sport\"}, {\"x\": 1.176498978055596, \"y\": -1.5759812952930414, \"group\": \"sport\"}, {\"x\": -0.22833675867260794, \"y\": -0.032598320639326564, \"group\": \"sport\"}, {\"x\": 0.7496153412606846, \"y\": -1.2567533504191537, \"group\": \"sport\"}, {\"x\": 1.3930010332971607, \"y\": -0.19577433392414362, \"group\": \"sport\"}, {\"x\": 0.3488407903942085, \"y\": 0.04608702332931442, \"group\": \"sport\"}, {\"x\": 0.7495230172766013, \"y\": 0.07141404056883108, \"group\": \"sport\"}, {\"x\": 0.16967370899115117, \"y\": -0.8874827024189358, \"group\": \"sport\"}, {\"x\": 0.11571123522870672, \"y\": 0.06326288704865347, \"group\": \"sport\"}, {\"x\": -0.018143423251505007, \"y\": -0.1492515133387944, \"group\": \"sport\"}, {\"x\": 0.25882253911207725, \"y\": -1.4782352898928848, \"group\": \"sport\"}, {\"x\": 0.552854702774427, \"y\": 1.071959022152672, \"group\": \"sport\"}, {\"x\": 1.4367204261183844, \"y\": -2.3236259266275145, \"group\": \"sport\"}, {\"x\": 0.8151782847251398, \"y\": -1.1763497297280736, \"group\": \"sport\"}, {\"x\": 0.3976483290103879, \"y\": -0.7795165201523668, \"group\": \"sport\"}, {\"x\": 0.6925807078764344, \"y\": -0.6348862876954896, \"group\": \"sport\"}, {\"x\": 0.8877939349834325, \"y\": -1.206793587855911, \"group\": \"sport\"}, {\"x\": 0.6377593446499242, \"y\": -0.09233383782021931, \"group\": \"sport\"}, {\"x\": 0.5724645723879599, \"y\": -0.5296808652117024, \"group\": \"sport\"}, {\"x\": 0.03479806511295208, \"y\": -1.1726012398198062, \"group\": \"sport\"}, {\"x\": 1.9576496903473004, \"y\": 0.423777638536978, \"group\": \"sport\"}, {\"x\": 1.9293928801788947, \"y\": -2.004258496209871, \"group\": \"sport\"}, {\"x\": 0.45689528491885006, \"y\": -0.027453302771309262, \"group\": \"sport\"}, {\"x\": 0.9505395595887444, \"y\": -0.4201282506745786, \"group\": \"sport\"}, {\"x\": 0.5025947302131812, \"y\": -1.676677033518562, \"group\": \"sport\"}, {\"x\": 0.30448889817579833, \"y\": -1.028733603400476, \"group\": \"sport\"}, {\"x\": 0.7652119399661483, \"y\": -0.9351685279039019, \"group\": \"sport\"}, {\"x\": 0.8515239700793985, \"y\": -0.5290155160548671, \"group\": \"sport\"}, {\"x\": 1.479124691431561, \"y\": -0.8106736017130489, \"group\": \"sport\"}, {\"x\": 1.0996105092586697, \"y\": -0.3264383753749924, \"group\": \"sport\"}, {\"x\": 1.1144904304527048, \"y\": -0.8532821709535955, \"group\": \"sport\"}, {\"x\": 0.45516262375775607, \"y\": -0.20528075632410275, \"group\": \"sport\"}, {\"x\": 0.38237571033638296, \"y\": -0.15304402307369314, \"group\": \"sport\"}, {\"x\": 0.5511499215803242, \"y\": -1.3530429522096878, \"group\": \"sport\"}, {\"x\": 0.9227288666910135, \"y\": -1.53739685613448, \"group\": \"sport\"}, {\"x\": 0.7913377167369462, \"y\": -1.0693724447572612, \"group\": \"sport\"}, {\"x\": 0.048944921810166464, \"y\": 0.1666805437206574, \"group\": \"sport\"}, {\"x\": 0.469786636260502, \"y\": -0.6876216728886412, \"group\": \"sport\"}, {\"x\": 0.8321922469643, \"y\": 0.41270526045387984, \"group\": \"sport\"}, {\"x\": 1.3962578370200083, \"y\": 0.5195989389347325, \"group\": \"sport\"}, {\"x\": 0.6081272438600177, \"y\": -0.23816624818362248, \"group\": \"sport\"}, {\"x\": 1.7964876951349815, \"y\": 0.3035403990863616, \"group\": \"sport\"}, {\"x\": 1.02905507961211, \"y\": -0.9235817369090334, \"group\": \"sport\"}, {\"x\": 1.8774032643937084, \"y\": -1.175843548799683, \"group\": \"sport\"}, {\"x\": 1.1430872180393705, \"y\": -1.601808052160628, \"group\": \"sport\"}, {\"x\": 0.9594409067778894, \"y\": -0.05462808701988123, \"group\": \"sport\"}, {\"x\": 1.672728072760857, \"y\": 0.4609496423621757, \"group\": \"sport\"}, {\"x\": 0.2464677332966332, \"y\": -0.940795934789193, \"group\": \"sport\"}, {\"x\": 1.0443022086193112, \"y\": -0.7714337326017553, \"group\": \"sport\"}, {\"x\": 1.2798270165382337, \"y\": 1.0786661520352836, \"group\": \"sport\"}, {\"x\": 1.1192010685047613, \"y\": -0.5482522668124621, \"group\": \"sport\"}, {\"x\": 0.983544219031233, \"y\": 0.18311379602871303, \"group\": \"sport\"}, {\"x\": 1.3066331989673392, \"y\": -1.1399975936506397, \"group\": \"sport\"}, {\"x\": 0.5652414895441865, \"y\": -0.15677880866883181, \"group\": \"sport\"}, {\"x\": 1.567547346626357, \"y\": -1.599755525919007, \"group\": \"sport\"}, {\"x\": 1.3765625457675104, \"y\": 1.3388310261463938, \"group\": \"sport\"}, {\"x\": 0.4197161500640722, \"y\": -0.6717520596823339, \"group\": \"sport\"}, {\"x\": 0.9583049846156968, \"y\": 0.028888008444295704, \"group\": \"sport\"}, {\"x\": 1.6260539288953018, \"y\": -0.12844719536852123, \"group\": \"sport\"}, {\"x\": 2.104499449860501, \"y\": 0.2760036135689549, \"group\": \"sport\"}, {\"x\": 1.680493876517518, \"y\": -1.1348519317347363, \"group\": \"sport\"}, {\"x\": 1.4779334397238817, \"y\": -1.3836569173266218, \"group\": \"sport\"}, {\"x\": 0.6600851988263019, \"y\": 0.0027721456041412585, \"group\": \"sport\"}, {\"x\": 0.3929747679382743, \"y\": 0.3612360360029337, \"group\": \"sport\"}, {\"x\": 1.1538959921818697, \"y\": -1.426565889093454, \"group\": \"sport\"}, {\"x\": 1.2723286402482505, \"y\": -1.0101406861341784, \"group\": \"sport\"}, {\"x\": 1.6245928700237642, \"y\": 0.026783367364742634, \"group\": \"sport\"}, {\"x\": 0.3024186920174827, \"y\": -1.1087810140232375, \"group\": \"sport\"}, {\"x\": 1.1964516952910225, \"y\": -0.4379903464949945, \"group\": \"sport\"}, {\"x\": 1.4633357680328234, \"y\": 0.01379082411848776, \"group\": \"sport\"}, {\"x\": 1.3874181427159842, \"y\": -0.19849387213076194, \"group\": \"sport\"}, {\"x\": 2.0392149092315472, \"y\": 0.6097159065407355, \"group\": \"sport\"}, {\"x\": 1.0403588526919256, \"y\": -0.5080217921169674, \"group\": \"sport\"}, {\"x\": 1.190412671410337, \"y\": 0.26709191148776956, \"group\": \"sport\"}, {\"x\": 1.456966105818376, \"y\": 0.13043542425327598, \"group\": \"sport\"}, {\"x\": 1.113824973502775, \"y\": -0.9465391930005771, \"group\": \"sport\"}, {\"x\": 0.2403717584459882, \"y\": -1.4506781795348584, \"group\": \"sport\"}, {\"x\": 1.0355173331019039, \"y\": -0.846951480727107, \"group\": \"sport\"}, {\"x\": 0.05203516623023844, \"y\": -0.16959703160289938, \"group\": \"sport\"}, {\"x\": 0.8967746336080494, \"y\": -0.5692571446578083, \"group\": \"sport\"}, {\"x\": 0.7339232028270826, \"y\": 0.3843470962655217, \"group\": \"sport\"}, {\"x\": 1.3752164836660195, \"y\": -1.3547620269769067, \"group\": \"sport\"}, {\"x\": 0.6599775724301493, \"y\": -1.4182622411466483, \"group\": \"sport\"}, {\"x\": 1.0389226981744475, \"y\": -0.31973649450056807, \"group\": \"sport\"}, {\"x\": 0.29897365130074316, \"y\": -0.2977829421991753, \"group\": \"sport\"}, {\"x\": 1.3172761501846388, \"y\": -1.5282899525009008, \"group\": \"sport\"}, {\"x\": 0.6293734003805549, \"y\": -0.8035256147796618, \"group\": \"sport\"}, {\"x\": 1.7917301866894288, \"y\": -0.02158923446068536, \"group\": \"sport\"}, {\"x\": 0.3467675932952211, \"y\": -0.23704185788142768, \"group\": \"sport\"}, {\"x\": 0.2819936679648195, \"y\": 0.4429875233948154, \"group\": \"sport\"}, {\"x\": 0.4925047383570704, \"y\": 0.6568841498607252, \"group\": \"sport\"}, {\"x\": 0.3171393173537273, \"y\": 0.622242491985002, \"group\": \"sport\"}, {\"x\": 0.6697703375945555, \"y\": -0.8161167033258867, \"group\": \"sport\"}, {\"x\": 0.6504248475819766, \"y\": -0.21874270729495945, \"group\": \"sport\"}, {\"x\": 0.3354698067902254, \"y\": -0.10757242307913412, \"group\": \"sport\"}, {\"x\": 0.754210078718905, \"y\": -2.1921996003562048, \"group\": \"sport\"}, {\"x\": 0.24059053982677997, \"y\": -1.0078231775132498, \"group\": \"sport\"}, {\"x\": 0.9273383312409172, \"y\": -1.2758069717845728, \"group\": \"sport\"}, {\"x\": 1.0700198555298006, \"y\": -1.0728627031921878, \"group\": \"sport\"}, {\"x\": 1.3153113766946831, \"y\": 0.09249659406009812, \"group\": \"sport\"}, {\"x\": 1.1783044768212632, \"y\": 1.8550474382104922, \"group\": \"sport\"}, {\"x\": 1.0427184139599694, \"y\": -0.8491790989930216, \"group\": \"sport\"}, {\"x\": 1.6238307539686287, \"y\": 0.10632254294671947, \"group\": \"sport\"}, {\"x\": 0.7276506780365954, \"y\": 0.13691299473520174, \"group\": \"sport\"}, {\"x\": 1.831516897577386, \"y\": -0.17229950661520627, \"group\": \"sport\"}, {\"x\": 0.9278394875349675, \"y\": 0.35461503936259225, \"group\": \"sport\"}, {\"x\": 0.7532204545444855, \"y\": 0.1780047584390356, \"group\": \"sport\"}, {\"x\": 1.06661300476271, \"y\": -0.2576135791580574, \"group\": \"sport\"}, {\"x\": 1.2302533034836385, \"y\": 1.2867500968491163, \"group\": \"sport\"}, {\"x\": 0.011131003157140627, \"y\": 1.766946008122185, \"group\": \"sport\"}, {\"x\": 0.0912359925218823, \"y\": -1.3563652711892895, \"group\": \"sport\"}, {\"x\": 1.8789963601195168, \"y\": 1.3033949532190137, \"group\": \"sport\"}, {\"x\": 1.4539935415824192, \"y\": 1.310576467081514, \"group\": \"sport\"}, {\"x\": 1.3288048029735828, \"y\": 1.695262700686859, \"group\": \"sport\"}, {\"x\": 0.7638792633324866, \"y\": -0.539385001791008, \"group\": \"sport\"}, {\"x\": 0.6390728090155797, \"y\": 0.5310594879434027, \"group\": \"sport\"}, {\"x\": 1.8203598729754589, \"y\": 0.3520263459707023, \"group\": \"sport\"}, {\"x\": 0.7410461046159829, \"y\": 0.2088889302288751, \"group\": \"sport\"}, {\"x\": 2.3917413072211073, \"y\": 0.1121446974537468, \"group\": \"sport\"}, {\"x\": 1.0676816415584331, \"y\": 0.590774531044275, \"group\": \"sport\"}, {\"x\": 1.4504143191471146, \"y\": 0.011424317022402571, \"group\": \"sport\"}, {\"x\": 1.5201687570041005, \"y\": 0.5734751870083261, \"group\": \"sport\"}, {\"x\": 0.8260261511214586, \"y\": 0.7014058523018588, \"group\": \"sport\"}, {\"x\": 1.1046800338454104, \"y\": -0.9477949549505962, \"group\": \"sport\"}, {\"x\": 1.9669379440695658, \"y\": -0.40706390744823007, \"group\": \"sport\"}, {\"x\": 0.01905439537377668, \"y\": 0.17903207097362445, \"group\": \"sport\"}, {\"x\": 1.1530582772677842, \"y\": -0.3853405740734078, \"group\": \"sport\"}, {\"x\": 0.6959856039329484, \"y\": -1.2832820410957135, \"group\": \"sport\"}, {\"x\": 2.0796661442242113, \"y\": 0.16175139529541607, \"group\": \"sport\"}, {\"x\": 1.3030918276411279, \"y\": -0.7808609396596429, \"group\": \"sport\"}, {\"x\": 1.3355292496977156, \"y\": 0.45047719559312527, \"group\": \"sport\"}, {\"x\": 2.2846611324449064, \"y\": 0.42875635911070115, \"group\": \"sport\"}, {\"x\": 0.9605454734663063, \"y\": -0.4940769839651557, \"group\": \"sport\"}, {\"x\": 2.291190717587875, \"y\": -1.5820757945413102, \"group\": \"sport\"}, {\"x\": 2.5075198462252475, \"y\": -0.702712415466725, \"group\": \"sport\"}, {\"x\": 1.3146692366211536, \"y\": -0.1434778414449304, \"group\": \"sport\"}, {\"x\": 1.715035330637968, \"y\": 0.8137453656382145, \"group\": \"sport\"}, {\"x\": 1.7250706896640868, \"y\": -0.9000984944275907, \"group\": \"sport\"}, {\"x\": 1.854713133187314, \"y\": -1.4414246429845394, \"group\": \"sport\"}, {\"x\": 1.047060670381242, \"y\": -1.394571068712148, \"group\": \"sport\"}, {\"x\": 1.9192910939984706, \"y\": -1.6357311614120948, \"group\": \"sport\"}, {\"x\": 1.9638636006745538, \"y\": -0.9202650281874534, \"group\": \"sport\"}, {\"x\": 0.6251270312414723, \"y\": -1.9970468976000422, \"group\": \"sport\"}, {\"x\": 1.3959341388383963, \"y\": -0.2706262866454929, \"group\": \"sport\"}, {\"x\": 1.762350947528027, \"y\": -1.0924093796759131, \"group\": \"sport\"}, {\"x\": 1.0723366880207772, \"y\": -0.9127009989235225, \"group\": \"sport\"}, {\"x\": 1.736861868759033, \"y\": -1.312254104745703, \"group\": \"sport\"}, {\"x\": 2.640762961914657, \"y\": -0.5208531348726099, \"group\": \"sport\"}, {\"x\": 1.3828266362016484, \"y\": -0.3366333401449266, \"group\": \"sport\"}, {\"x\": 2.5305013544657213, \"y\": -0.1582113450558057, \"group\": \"sport\"}, {\"x\": 0.7993023150340273, \"y\": 0.8775097861104536, \"group\": \"sport\"}, {\"x\": 2.2654219665405537, \"y\": 0.4942229079562901, \"group\": \"sport\"}, {\"x\": 2.3864652632339824, \"y\": -0.5502447871187464, \"group\": \"sport\"}, {\"x\": 2.2712448592413503, \"y\": 0.21524330192368676, \"group\": \"sport\"}, {\"x\": 3.3617026702644783, \"y\": -0.0646159150039096, \"group\": \"sport\"}, {\"x\": 1.9952747603059122, \"y\": -0.2876472092876141, \"group\": \"sport\"}, {\"x\": 2.9085426033774606, \"y\": 0.32058628783341586, \"group\": \"sport\"}, {\"x\": 1.0001929644484058, \"y\": 0.06765792316766117, \"group\": \"sport\"}, {\"x\": 2.521060254558517, \"y\": -0.519312427511278, \"group\": \"sport\"}, {\"x\": 1.7531185716683653, \"y\": -1.3859897844600053, \"group\": \"sport\"}, {\"x\": 2.639302952134615, \"y\": 1.5444492289815157, \"group\": \"sport\"}, {\"x\": 0.9077834496693793, \"y\": 0.08131737544453191, \"group\": \"sport\"}, {\"x\": 2.055707237396239, \"y\": 1.5286694412830355, \"group\": \"sport\"}, {\"x\": 1.7485628046988233, \"y\": 0.6439824972190248, \"group\": \"sport\"}, {\"x\": 2.7430381053712654, \"y\": 0.33458901208332237, \"group\": \"sport\"}, {\"x\": 2.0403113859304822, \"y\": -2.2459399406092295, \"group\": \"sport\"}, {\"x\": 0.9695897340532202, \"y\": 2.298979958073793, \"group\": \"sport\"}, {\"x\": 2.1089532508483093, \"y\": -1.550062510552351, \"group\": \"sport\"}, {\"x\": 2.079674860189531, \"y\": -0.791641858093567, \"group\": \"sport\"}, {\"x\": 1.90656400495257, \"y\": -0.28503391545836315, \"group\": \"sport\"}, {\"x\": 2.2252973260834232, \"y\": 0.9494570793077939, \"group\": \"sport\"}, {\"x\": 3.434975773011316, \"y\": 0.6130126096482128, \"group\": \"sport\"}, {\"x\": 3.2139329841971613, \"y\": 0.4571189201090122, \"group\": \"sport\"}, {\"x\": 1.5892534965343659, \"y\": -0.06658919190752818, \"group\": \"sport\"}, {\"x\": 0.543101908960566, \"y\": 0.9411056920930718, \"group\": \"sport\"}, {\"x\": 1.4409792785127427, \"y\": 0.3382473161108726, \"group\": \"sport\"}, {\"x\": 3.254258032812275, \"y\": 1.275325578548017, \"group\": \"sport\"}, {\"x\": 2.289652504007124, \"y\": 1.69168746668156, \"group\": \"sport\"}, {\"x\": 1.4635867559331306, \"y\": 1.2800964174270157, \"group\": \"sport\"}, {\"x\": 1.6116605044396934, \"y\": 1.92520779927244, \"group\": \"sport\"}, {\"x\": 1.267903831351761, \"y\": 0.9720748960880231, \"group\": \"sport\"}, {\"x\": 3.0945342498276966, \"y\": 1.1950366412232998, \"group\": \"sport\"}, {\"x\": 1.6327166664817325, \"y\": 3.7803852476574473, \"group\": \"sport\"}, {\"x\": 3.1320383594993833, \"y\": 1.0290184454944902, \"group\": \"sport\"}, {\"x\": 2.5342036146000506, \"y\": 0.1888312015684695, \"group\": \"sport\"}, {\"x\": 1.9916629751463777, \"y\": -0.8679103496754069, \"group\": \"sport\"}, {\"x\": 1.6401099816724258, \"y\": 0.591912442032363, \"group\": \"sport\"}, {\"x\": 1.7552892578311634, \"y\": 0.240278350752216, \"group\": \"sport\"}, {\"x\": 2.482340543258546, \"y\": 1.0963087515854915, \"group\": \"sport\"}, {\"x\": 2.3310720048336426, \"y\": -0.5945112824968605, \"group\": \"sport\"}, {\"x\": 1.9627701280430612, \"y\": 1.0179100101630036, \"group\": \"sport\"}, {\"x\": 1.9121587527848956, \"y\": 0.3881812919776883, \"group\": \"sport\"}, {\"x\": 1.5724542095769636, \"y\": 1.4612187191881567, \"group\": \"sport\"}, {\"x\": 1.5493164456979778, \"y\": 2.4216928132502273, \"group\": \"sport\"}, {\"x\": 3.1615123189492285, \"y\": 1.1406895906767855, \"group\": \"sport\"}, {\"x\": 0.7909467165931898, \"y\": -0.10441113769770319, \"group\": \"sport\"}, {\"x\": 3.094392806366251, \"y\": 2.817636843512587, \"group\": \"sport\"}, {\"x\": 3.191832941405778, \"y\": 1.5067622261581106, \"group\": \"sport\"}, {\"x\": 3.090608502282362, \"y\": 1.722988243012613, \"group\": \"sport\"}, {\"x\": 2.1153400477267756, \"y\": 0.66881273128489, \"group\": \"sport\"}, {\"x\": 2.351100622168731, \"y\": -0.11214418110611812, \"group\": \"sport\"}, {\"x\": 3.4580193034410263, \"y\": 0.2216481194822719, \"group\": \"sport\"}, {\"x\": 1.902391910881051, \"y\": 0.3998779052635009, \"group\": \"sport\"}, {\"x\": 2.1646535626467562, \"y\": -1.8677701836958145, \"group\": \"sport\"}, {\"x\": 1.3425358994441372, \"y\": -1.385810318628009, \"group\": \"sport\"}, {\"x\": 2.8659785608083275, \"y\": -0.18513707120562908, \"group\": \"sport\"}, {\"x\": 1.3087094461864055, \"y\": 0.06933089112014565, \"group\": \"sport\"}, {\"x\": 3.8685918835785205, \"y\": 0.002720885106551517, \"group\": \"sport\"}, {\"x\": 2.6494567710323778, \"y\": 0.1902563625169312, \"group\": \"sport\"}, {\"x\": 2.469268075703718, \"y\": 0.816121313398188, \"group\": \"sport\"}, {\"x\": 2.027589478250739, \"y\": 2.268135093207867, \"group\": \"sport\"}, {\"x\": 2.234221157502062, \"y\": 2.565180057774297, \"group\": \"sport\"}, {\"x\": 2.6150863173622603, \"y\": 0.7076397388165492, \"group\": \"sport\"}, {\"x\": 1.633083962618122, \"y\": 0.5097773528145777, \"group\": \"sport\"}, {\"x\": 3.9005279708702263, \"y\": 0.12464195710430954, \"group\": \"sport\"}, {\"x\": 0.6708874704717621, \"y\": 0.6535101675637776, \"group\": \"sport\"}, {\"x\": 3.071896001343126, \"y\": 0.6097241566185087, \"group\": \"sport\"}, {\"x\": 1.9091436359192206, \"y\": 0.10564467356963957, \"group\": \"sport\"}, {\"x\": 1.741073735649485, \"y\": -1.0398691541460887, \"group\": \"sport\"}, {\"x\": 2.661722906206647, \"y\": -0.13243866012598388, \"group\": \"sport\"}, {\"x\": 2.6543304051567858, \"y\": 0.7041830075723927, \"group\": \"sport\"}, {\"x\": 3.1823163225783784, \"y\": 0.14751571903489977, \"group\": \"sport\"}, {\"x\": 3.0923061158602168, \"y\": -0.9594972561596946, \"group\": \"sport\"}, {\"x\": 2.5925650762688908, \"y\": -0.2799541446452872, \"group\": \"sport\"}, {\"x\": 2.4324528830819254, \"y\": 0.3672476210285211, \"group\": \"sport\"}, {\"x\": 2.357991824963542, \"y\": -0.014583944385756876, \"group\": \"sport\"}, {\"x\": 2.491510552174314, \"y\": 1.2579781528675795, \"group\": \"sport\"}, {\"x\": 2.9401032060909595, \"y\": -1.7252567949740252, \"group\": \"sport\"}, {\"x\": 1.7342311222788722, \"y\": -0.22012637784595215, \"group\": \"sport\"}, {\"x\": 2.5955568766003934, \"y\": -1.2428851643879528, \"group\": \"sport\"}, {\"x\": 3.270533741880578, \"y\": 1.1953959998835357, \"group\": \"sport\"}, {\"x\": 2.545527670901284, \"y\": 1.2847307103903083, \"group\": \"sport\"}, {\"x\": 2.2842293643981204, \"y\": 0.08574037480111119, \"group\": \"sport\"}, {\"x\": 1.701290287988722, \"y\": 2.0898598395187293, \"group\": \"sport\"}, {\"x\": 2.5940962351334425, \"y\": -0.37399954405279295, \"group\": \"sport\"}, {\"x\": 1.020610420600834, \"y\": 0.921265714050331, \"group\": \"sport\"}, {\"x\": 2.479135449552909, \"y\": 1.3834888123681812, \"group\": \"sport\"}, {\"x\": 3.092211024644208, \"y\": -0.743169358624441, \"group\": \"sport\"}, {\"x\": 2.214781774888421, \"y\": 0.8295528719054454, \"group\": \"sport\"}, {\"x\": 2.9265377945742777, \"y\": -1.0468987180928861, \"group\": \"sport\"}, {\"x\": 2.610880320825903, \"y\": 0.14086850871582837, \"group\": \"sport\"}, {\"x\": 3.6201993090182927, \"y\": 1.30811642030005, \"group\": \"sport\"}, {\"x\": 4.950478929446322, \"y\": 0.9118598546097855, \"group\": \"sport\"}, {\"x\": 1.1380360660356073, \"y\": 0.5724092250935787, \"group\": \"business\"}, {\"x\": -0.3258364418859268, \"y\": -0.2697850086136871, \"group\": \"business\"}, {\"x\": 0.5646686042454868, \"y\": 0.12448437783054062, \"group\": \"business\"}, {\"x\": 0.22635022075413844, \"y\": 0.4689992645663278, \"group\": \"business\"}, {\"x\": 0.4578801784948239, \"y\": 0.9290843218569742, \"group\": \"business\"}, {\"x\": -1.0637129165732757, \"y\": 0.8152960386616671, \"group\": \"business\"}, {\"x\": 0.7766427761852419, \"y\": 1.6399117668597283, \"group\": \"business\"}, {\"x\": -0.46725837002005505, \"y\": 0.6467478743479179, \"group\": \"business\"}, {\"x\": 0.19716472465627144, \"y\": -1.8330035228867514, \"group\": \"business\"}, {\"x\": -0.14598303128423848, \"y\": -0.5531544289465593, \"group\": \"business\"}, {\"x\": -0.3088262946306812, \"y\": 0.39030290834133946, \"group\": \"business\"}, {\"x\": -0.9861047877564282, \"y\": 1.0993977113886704, \"group\": \"business\"}, {\"x\": -0.605923350647067, \"y\": -3.022161885746414, \"group\": \"business\"}, {\"x\": -1.0675904986653155, \"y\": -0.3409145793099056, \"group\": \"business\"}, {\"x\": 0.5012407327155473, \"y\": 0.027818115748881878, \"group\": \"business\"}, {\"x\": 0.8049257470635894, \"y\": -1.3956246552550147, \"group\": \"business\"}, {\"x\": -1.2108830940422268, \"y\": 0.39614076555443883, \"group\": \"business\"}, {\"x\": -1.0476910650999063, \"y\": 0.034771947817798216, \"group\": \"business\"}, {\"x\": 1.5060631943951415, \"y\": -0.4240139554967553, \"group\": \"business\"}, {\"x\": -1.6027701673812524, \"y\": -0.1846143226884754, \"group\": \"business\"}, {\"x\": -0.07162852603414863, \"y\": 0.5261933037896748, \"group\": \"business\"}, {\"x\": -0.26957999676113475, \"y\": -0.21587496571569043, \"group\": \"business\"}, {\"x\": 1.9104162747013054, \"y\": -2.697943062491425, \"group\": \"business\"}, {\"x\": 0.01786844768747534, \"y\": 1.10469853126953, \"group\": \"business\"}, {\"x\": 0.15830722171839234, \"y\": -0.803756666101975, \"group\": \"business\"}, {\"x\": 2.2445235739375637, \"y\": -0.3294995962012884, \"group\": \"business\"}, {\"x\": -1.2613273711281392, \"y\": 1.3171821005598559, \"group\": \"business\"}, {\"x\": 0.2580065073122816, \"y\": 1.2370020932892516, \"group\": \"business\"}, {\"x\": -1.7354379850645383, \"y\": 0.3429240578722788, \"group\": \"business\"}, {\"x\": -1.7116724370416998, \"y\": 1.5245536725004858, \"group\": \"business\"}, {\"x\": 0.15518877277369086, \"y\": 1.5861474201519663, \"group\": \"business\"}, {\"x\": -1.9448745853712004, \"y\": -1.6663292456669025, \"group\": \"business\"}, {\"x\": -1.9097601880875468, \"y\": -0.46729933776563803, \"group\": \"business\"}, {\"x\": -1.2909802699747157, \"y\": 0.2357836556696238, \"group\": \"business\"}, {\"x\": 0.5678178244899964, \"y\": -0.6738925275346035, \"group\": \"business\"}, {\"x\": 0.4730241212960627, \"y\": 0.7115798881028994, \"group\": \"business\"}, {\"x\": -1.686573544139057, \"y\": 2.6721926710977577, \"group\": \"business\"}, {\"x\": -0.6256598155009359, \"y\": 0.7166476883125545, \"group\": \"business\"}, {\"x\": 0.1133507571454325, \"y\": -0.28371407985516556, \"group\": \"business\"}, {\"x\": -0.47244600935844255, \"y\": -0.049590124838827056, \"group\": \"business\"}, {\"x\": 0.13007853748531448, \"y\": -0.16091562016255162, \"group\": \"business\"}, {\"x\": -2.6243674796978103, \"y\": 1.5912121351304465, \"group\": \"business\"}, {\"x\": -1.9009911933903691, \"y\": -3.0822580480554285, \"group\": \"business\"}, {\"x\": -1.3401725616684352, \"y\": 0.6508050463331011, \"group\": \"business\"}, {\"x\": 1.0855798563505752, \"y\": -0.8078461793278521, \"group\": \"business\"}, {\"x\": -0.14282011721476587, \"y\": -0.9007098451189871, \"group\": \"business\"}, {\"x\": -0.11386451672252812, \"y\": 1.0758013165824114, \"group\": \"business\"}, {\"x\": -0.48389545871515793, \"y\": 0.22196732512878217, \"group\": \"business\"}, {\"x\": -0.7736296929803543, \"y\": 1.2618840784009413, \"group\": \"business\"}, {\"x\": -0.7797388705249645, \"y\": 1.0474789259590238, \"group\": \"business\"}, {\"x\": -0.4708633512567204, \"y\": 0.5242523931409274, \"group\": \"business\"}, {\"x\": -1.6929967653452804, \"y\": -0.32814858877887554, \"group\": \"business\"}, {\"x\": -0.5822909163212876, \"y\": -1.952485110223279, \"group\": \"business\"}, {\"x\": -2.492218381110506, \"y\": 0.13410053728577953, \"group\": \"business\"}, {\"x\": -2.040574220216896, \"y\": 1.9517525952567423, \"group\": \"business\"}, {\"x\": 0.174259482518389, \"y\": -0.610691753964271, \"group\": \"business\"}, {\"x\": -0.10136062590522203, \"y\": 0.2877909905353739, \"group\": \"business\"}, {\"x\": 0.2636835692709615, \"y\": -0.7728519295068337, \"group\": \"business\"}, {\"x\": -1.6064339397412444, \"y\": -1.7673255136565653, \"group\": \"business\"}, {\"x\": -0.7144699123433479, \"y\": -0.4444548819068155, \"group\": \"business\"}, {\"x\": -0.501252728363909, \"y\": 0.33519182841751693, \"group\": \"business\"}, {\"x\": -1.660328518225399, \"y\": 1.4576916873778882, \"group\": \"business\"}, {\"x\": -0.09580689061940743, \"y\": -0.9332919836144132, \"group\": \"business\"}, {\"x\": 2.134287635003422, \"y\": -1.076644649854014, \"group\": \"business\"}, {\"x\": -1.7204734917131015, \"y\": 0.8971372303654254, \"group\": \"business\"}, {\"x\": -0.1836141824450601, \"y\": 1.1172872989562215, \"group\": \"business\"}, {\"x\": 2.178248483999191, \"y\": 1.5637060915057863, \"group\": \"business\"}, {\"x\": -0.15053562984890337, \"y\": 0.20088477538169733, \"group\": \"business\"}, {\"x\": -0.8664176804708211, \"y\": 1.3263897209944775, \"group\": \"business\"}, {\"x\": -0.9939676981596168, \"y\": -0.6869908835325437, \"group\": \"business\"}, {\"x\": 1.2186690400455977, \"y\": -0.3422441138051494, \"group\": \"business\"}, {\"x\": 0.6461337590729229, \"y\": 1.5781285760626846, \"group\": \"business\"}, {\"x\": 1.0745496768393634, \"y\": -0.4536865569231849, \"group\": \"business\"}, {\"x\": 0.09064419938175028, \"y\": -2.3778430152848005, \"group\": \"business\"}, {\"x\": -0.7165873154847587, \"y\": -0.5133407726761923, \"group\": \"business\"}, {\"x\": 0.30581067602615014, \"y\": 0.11705454069989289, \"group\": \"business\"}, {\"x\": -0.48984881616499837, \"y\": -0.18201061514285338, \"group\": \"business\"}, {\"x\": 0.35372403255179524, \"y\": -0.4622456734838151, \"group\": \"business\"}, {\"x\": 1.5839446373097685, \"y\": -0.5524648444473985, \"group\": \"business\"}, {\"x\": 1.6383366972635995, \"y\": -1.480271443753944, \"group\": \"business\"}, {\"x\": 0.7413479986025459, \"y\": 0.08716632124327867, \"group\": \"business\"}, {\"x\": -0.3284291699659783, \"y\": 0.41798632320577556, \"group\": \"business\"}, {\"x\": -0.7646067840538932, \"y\": -0.05895915812286522, \"group\": \"business\"}, {\"x\": 0.9516541067327425, \"y\": -1.2867784632483679, \"group\": \"business\"}, {\"x\": -0.5711132583517656, \"y\": 2.019175828281956, \"group\": \"business\"}, {\"x\": -1.1344692991082017, \"y\": 0.4105486909876367, \"group\": \"business\"}, {\"x\": 1.9625156865722428, \"y\": -0.4862882917876264, \"group\": \"business\"}, {\"x\": -0.971334374672136, \"y\": 0.4919655671484021, \"group\": \"business\"}, {\"x\": -0.6932864878158362, \"y\": 1.657236012167206, \"group\": \"business\"}, {\"x\": 0.0809531286643431, \"y\": 0.002576598625146238, \"group\": \"business\"}, {\"x\": -0.11589642037413247, \"y\": -0.2917004291138553, \"group\": \"business\"}, {\"x\": -1.1607055883397888, \"y\": -0.23369908604859954, \"group\": \"business\"}, {\"x\": -1.069719785200809, \"y\": 0.4744218422670586, \"group\": \"business\"}, {\"x\": -2.5756604615793792, \"y\": -0.8728277857599064, \"group\": \"business\"}, {\"x\": -0.9600933105844881, \"y\": 0.7665025358511155, \"group\": \"business\"}, {\"x\": -0.9551801569087284, \"y\": 0.18923071149194765, \"group\": \"business\"}, {\"x\": 0.8601017976495164, \"y\": 0.41646176714860195, \"group\": \"business\"}, {\"x\": 0.10065943817759822, \"y\": -1.0302668223378617, \"group\": \"business\"}, {\"x\": 2.08705918430509, \"y\": 1.0738626065227561, \"group\": \"business\"}, {\"x\": -0.5403362892328644, \"y\": -0.5710741232414559, \"group\": \"business\"}, {\"x\": 0.573670495544983, \"y\": 1.156125094904047, \"group\": \"business\"}, {\"x\": -1.2953393946395328, \"y\": 0.21682649659815467, \"group\": \"business\"}, {\"x\": 0.6099172854050907, \"y\": 2.2697375535516056, \"group\": \"business\"}, {\"x\": 0.021106701669958164, \"y\": 2.4885730801050205, \"group\": \"business\"}, {\"x\": -0.3374824640349308, \"y\": -0.7107888026976928, \"group\": \"business\"}, {\"x\": 0.35301993749613375, \"y\": -0.9394878227894581, \"group\": \"business\"}, {\"x\": -0.732696921933126, \"y\": 0.4080572168828049, \"group\": \"business\"}, {\"x\": -0.22259555088239127, \"y\": 0.02092554615004597, \"group\": \"business\"}, {\"x\": -1.1749973085689205, \"y\": -1.0060070363451652, \"group\": \"business\"}, {\"x\": -0.1385440050528271, \"y\": 0.6084024080296014, \"group\": \"business\"}, {\"x\": 0.3184045932254706, \"y\": 0.03315957400702693, \"group\": \"business\"}, {\"x\": 0.4473685719583223, \"y\": -0.008656347375013043, \"group\": \"business\"}, {\"x\": 1.5038784064618518, \"y\": -0.6177813215028587, \"group\": \"business\"}, {\"x\": 0.18522538751983345, \"y\": 0.32534158887588766, \"group\": \"business\"}, {\"x\": 1.0480067276121001, \"y\": -0.12866103251589425, \"group\": \"business\"}, {\"x\": 0.7781849467763873, \"y\": 1.0137622604358074, \"group\": \"business\"}, {\"x\": -0.13869134134671315, \"y\": -1.1465540258413993, \"group\": \"business\"}, {\"x\": -1.5991276034583837, \"y\": -1.840655977838868, \"group\": \"business\"}, {\"x\": -0.7230521453250219, \"y\": -2.4927942686380153, \"group\": \"business\"}, {\"x\": 0.6002575593308841, \"y\": -1.3424388989818867, \"group\": \"business\"}, {\"x\": -1.2844286566452154, \"y\": -0.473623040309608, \"group\": \"business\"}, {\"x\": 0.90038967229127, \"y\": -0.8470352202876141, \"group\": \"business\"}, {\"x\": 0.4760370985660897, \"y\": 1.9283091317354795, \"group\": \"business\"}, {\"x\": -0.5958924880768504, \"y\": -2.2568120532877076, \"group\": \"business\"}, {\"x\": -0.7710124438943899, \"y\": -0.7084039047530848, \"group\": \"business\"}, {\"x\": 0.8825084623325684, \"y\": 0.46849308795897476, \"group\": \"business\"}, {\"x\": -0.6572778218080501, \"y\": 0.9317588340793661, \"group\": \"business\"}, {\"x\": -0.547684881471728, \"y\": 1.1728701630170788, \"group\": \"business\"}, {\"x\": -0.02815683142549928, \"y\": 0.04562627303564202, \"group\": \"business\"}, {\"x\": -0.426883926847803, \"y\": -0.7892339376722024, \"group\": \"business\"}, {\"x\": 0.042626608180948565, \"y\": 1.2537065685932083, \"group\": \"business\"}, {\"x\": -1.1868198736865938, \"y\": -0.1934623328827863, \"group\": \"business\"}, {\"x\": 0.011780148883963162, \"y\": 0.3282863753001363, \"group\": \"business\"}, {\"x\": -1.749704964623952, \"y\": -1.1999252715077635, \"group\": \"business\"}, {\"x\": -1.667468488028479, \"y\": -2.108792899655374, \"group\": \"business\"}, {\"x\": -0.30948645679460735, \"y\": -1.787770168675993, \"group\": \"business\"}, {\"x\": 0.026701994189658924, \"y\": -0.4998700846392018, \"group\": \"business\"}, {\"x\": -1.5428625258985749, \"y\": 0.15543985490501808, \"group\": \"business\"}, {\"x\": -0.19100784278790833, \"y\": 0.9941136432078479, \"group\": \"business\"}, {\"x\": -0.3758856335734698, \"y\": -0.25583023688529566, \"group\": \"business\"}, {\"x\": -1.0549228672352409, \"y\": 1.1445748817747023, \"group\": \"business\"}, {\"x\": -2.430559966421528, \"y\": 0.9398124934682754, \"group\": \"business\"}, {\"x\": -0.04415151066500634, \"y\": -1.9911436956310953, \"group\": \"business\"}, {\"x\": -1.7396472192769636, \"y\": -1.3547762661755864, \"group\": \"business\"}, {\"x\": -1.0904668833243827, \"y\": -0.7109397834511874, \"group\": \"business\"}, {\"x\": -1.4972090935369569, \"y\": 0.4438702573138387, \"group\": \"business\"}, {\"x\": -0.616300961742708, \"y\": 0.8599595982585384, \"group\": \"business\"}, {\"x\": -0.09446484227540973, \"y\": 0.5468360518802866, \"group\": \"business\"}, {\"x\": -1.6432514820626072, \"y\": -0.08552638294392159, \"group\": \"business\"}, {\"x\": -1.0924495072401488, \"y\": -2.5488587997986274, \"group\": \"business\"}, {\"x\": 1.0899747148744727, \"y\": -1.718064523476122, \"group\": \"business\"}, {\"x\": 1.3220887039223939, \"y\": 0.1985128292742134, \"group\": \"business\"}, {\"x\": -1.8849724781527808, \"y\": 1.0017165781963708, \"group\": \"business\"}, {\"x\": 0.6848101935438735, \"y\": -1.4725809659864706, \"group\": \"business\"}, {\"x\": -1.8892174065553358, \"y\": -0.2913504393272027, \"group\": \"business\"}, {\"x\": -1.294968367340549, \"y\": 1.7151288070817023, \"group\": \"business\"}, {\"x\": -0.793594608201294, \"y\": 0.002230271145768178, \"group\": \"business\"}, {\"x\": 0.8510122038464921, \"y\": -1.4756119781202437, \"group\": \"business\"}, {\"x\": 0.2594530233383654, \"y\": 0.7695863110977849, \"group\": \"business\"}, {\"x\": -0.43869092892605144, \"y\": -0.6116530378284954, \"group\": \"business\"}, {\"x\": -1.5120159589128102, \"y\": 0.7449772907810189, \"group\": \"business\"}, {\"x\": 0.16119045546113747, \"y\": -0.5810947960569067, \"group\": \"business\"}, {\"x\": -2.090056792398077, \"y\": -1.3536378545095062, \"group\": \"business\"}, {\"x\": -0.004060905859577189, \"y\": 1.6117340928511759, \"group\": \"business\"}, {\"x\": -1.8128380880696982, \"y\": 0.1890997458406787, \"group\": \"business\"}, {\"x\": -0.25037842671430205, \"y\": -0.4886739146244431, \"group\": \"business\"}, {\"x\": -2.104436101060621, \"y\": 0.8605826656464319, \"group\": \"business\"}, {\"x\": 1.3681279490239142, \"y\": -0.4665706402292364, \"group\": \"business\"}, {\"x\": -1.478850479175905, \"y\": 0.43874669355935175, \"group\": \"business\"}, {\"x\": -1.0902311874004247, \"y\": 0.26583115780260197, \"group\": \"business\"}, {\"x\": -0.09289632669183527, \"y\": -0.9278507953034942, \"group\": \"business\"}, {\"x\": -0.9975638874555544, \"y\": 0.6861173881463626, \"group\": \"business\"}, {\"x\": -0.5140139981770416, \"y\": 0.9347625221359946, \"group\": \"business\"}, {\"x\": 0.6577592466346752, \"y\": -0.5845294688149504, \"group\": \"business\"}, {\"x\": -0.04923086087222491, \"y\": 0.38130306590585733, \"group\": \"business\"}, {\"x\": -0.37103327630886, \"y\": 0.6483897598423874, \"group\": \"business\"}, {\"x\": 0.2429885223087911, \"y\": -0.8533531587330245, \"group\": \"business\"}, {\"x\": 0.5143516163252313, \"y\": 0.515517777323517, \"group\": \"business\"}, {\"x\": -0.07949013141863336, \"y\": 0.5704367675615181, \"group\": \"business\"}, {\"x\": 0.7129723012399887, \"y\": -1.3561228152512022, \"group\": \"business\"}, {\"x\": 0.21854777601414926, \"y\": -2.143966592288947, \"group\": \"business\"}, {\"x\": -1.2250973662066194, \"y\": -0.1534978695670797, \"group\": \"business\"}, {\"x\": 0.6990325717542984, \"y\": 1.23038991178553, \"group\": \"business\"}, {\"x\": 1.2729536571966278, \"y\": 0.026665729718867652, \"group\": \"business\"}, {\"x\": 1.2692992927025566, \"y\": 0.9126167523306381, \"group\": \"business\"}, {\"x\": -2.312997569495658, \"y\": 0.7067629566751292, \"group\": \"business\"}, {\"x\": -0.11089858985451646, \"y\": 0.2600609341662232, \"group\": \"business\"}, {\"x\": 2.321382170326539, \"y\": 1.7660872384355761, \"group\": \"business\"}, {\"x\": 0.7301614114981996, \"y\": 0.5465269901252277, \"group\": \"business\"}, {\"x\": -0.8877326972306607, \"y\": 1.379954941687411, \"group\": \"business\"}, {\"x\": 1.1266594673446213, \"y\": 2.074369370958411, \"group\": \"business\"}, {\"x\": 0.5703628213770642, \"y\": -1.9760804537533834, \"group\": \"business\"}, {\"x\": 1.0013189485785006, \"y\": -0.8105649531008643, \"group\": \"business\"}, {\"x\": -0.6435686005627453, \"y\": 0.9106717384755754, \"group\": \"business\"}, {\"x\": -0.8712453988404426, \"y\": -0.4346128731076545, \"group\": \"business\"}, {\"x\": 1.2548752954086468, \"y\": 1.1460486655738953, \"group\": \"business\"}, {\"x\": -3.1809568527217102, \"y\": -0.35119693304653987, \"group\": \"business\"}, {\"x\": -0.29954803054867307, \"y\": 1.0003093803299208, \"group\": \"business\"}, {\"x\": 0.16808907010012958, \"y\": -1.3212179490567453, \"group\": \"business\"}, {\"x\": -0.999263296651075, \"y\": 0.7121327818896329, \"group\": \"business\"}, {\"x\": 0.25583350006315175, \"y\": -0.9705242629318995, \"group\": \"business\"}, {\"x\": -1.4733559547508481, \"y\": 0.685349593263271, \"group\": \"business\"}, {\"x\": 0.2473843928729065, \"y\": 0.28642276611091183, \"group\": \"business\"}, {\"x\": -1.3344593450506177, \"y\": 1.6540121083659327, \"group\": \"business\"}, {\"x\": 0.03592623257215653, \"y\": -0.2513319626469756, \"group\": \"business\"}, {\"x\": 0.650486230369614, \"y\": 0.2017372425758703, \"group\": \"business\"}, {\"x\": 0.14298323012983113, \"y\": 0.9912609889719234, \"group\": \"business\"}, {\"x\": -0.31789860415318205, \"y\": -1.0137044010006886, \"group\": \"business\"}, {\"x\": -1.215637595548024, \"y\": -0.6915053731210047, \"group\": \"business\"}, {\"x\": 0.3744025197283394, \"y\": 0.16482091653201833, \"group\": \"business\"}, {\"x\": -1.4057637411099027, \"y\": 0.020698956202770104, \"group\": \"business\"}, {\"x\": 0.48978375205600944, \"y\": 0.6315300349978437, \"group\": \"business\"}, {\"x\": 0.03869423651213183, \"y\": 0.27669563013546195, \"group\": \"business\"}, {\"x\": -0.7325495373032435, \"y\": 1.0957940668089712, \"group\": \"business\"}, {\"x\": 1.1457652805411518, \"y\": -0.31781655211049764, \"group\": \"business\"}, {\"x\": 0.04439696667582666, \"y\": 0.5229783894399394, \"group\": \"business\"}, {\"x\": 0.5895431702951264, \"y\": 0.9132897334829384, \"group\": \"business\"}, {\"x\": -1.58962983373151, \"y\": 1.4552670391968803, \"group\": \"business\"}, {\"x\": -0.08251746791368314, \"y\": 0.2962664501590967, \"group\": \"business\"}, {\"x\": 0.9906311163703854, \"y\": 0.6992244136606162, \"group\": \"business\"}, {\"x\": -0.2796497362831243, \"y\": -0.17922879833616873, \"group\": \"business\"}, {\"x\": -1.6284224607729059, \"y\": 0.14378457026595656, \"group\": \"business\"}, {\"x\": 0.280461280179111, \"y\": -0.41783986819872676, \"group\": \"business\"}, {\"x\": -0.34020522740300196, \"y\": 1.4670717052186575, \"group\": \"business\"}, {\"x\": 0.2508617274677883, \"y\": 0.6288418982088613, \"group\": \"business\"}, {\"x\": 0.010380531748139403, \"y\": -0.8911689166635781, \"group\": \"business\"}, {\"x\": -1.0053468052071073, \"y\": 0.6986880090155265, \"group\": \"business\"}, {\"x\": -1.1800177835603967, \"y\": -0.9136420182681981, \"group\": \"business\"}, {\"x\": -0.6069018569423245, \"y\": -1.376609460518269, \"group\": \"business\"}, {\"x\": -1.539855275694196, \"y\": 0.06559070624095639, \"group\": \"business\"}, {\"x\": 0.5709748638529907, \"y\": -1.9178739466404648, \"group\": \"business\"}, {\"x\": 0.10855372512086663, \"y\": 1.0646679872551907, \"group\": \"business\"}, {\"x\": -2.1578383833865877, \"y\": -1.1894271203914812, \"group\": \"business\"}, {\"x\": -1.9225823583766337, \"y\": -0.3846590132046888, \"group\": \"business\"}, {\"x\": -0.23074278091437106, \"y\": -0.7346749570549489, \"group\": \"business\"}, {\"x\": -1.5706732169369118, \"y\": -0.8713422681194856, \"group\": \"business\"}, {\"x\": -1.0147739546916985, \"y\": -0.5753813498009609, \"group\": \"business\"}, {\"x\": -0.5798702115011231, \"y\": 0.6355863864376566, \"group\": \"business\"}, {\"x\": -3.3207765977661965, \"y\": 1.4541576550493989, \"group\": \"business\"}, {\"x\": -1.328193867943592, \"y\": 0.9486302175063134, \"group\": \"business\"}, {\"x\": -2.215246178914451, \"y\": -0.5304114400476069, \"group\": \"business\"}, {\"x\": 0.31317628893077565, \"y\": 0.6941109921851037, \"group\": \"business\"}, {\"x\": -1.8238077548960137, \"y\": 1.0010583032269311, \"group\": \"business\"}, {\"x\": 0.9076051237324653, \"y\": 1.4960891809719121, \"group\": \"business\"}, {\"x\": 0.9008549486528152, \"y\": -0.6852667516015835, \"group\": \"business\"}, {\"x\": -3.0245345631022538, \"y\": -2.2543620783019116, \"group\": \"business\"}, {\"x\": 2.1809765084106467, \"y\": 0.03379732552401146, \"group\": \"business\"}, {\"x\": -2.5922764675772045, \"y\": 0.5830599000876914, \"group\": \"business\"}, {\"x\": -0.9726834809309319, \"y\": -0.795938947702685, \"group\": \"business\"}, {\"x\": -0.3066989588484864, \"y\": -0.5084152573392573, \"group\": \"business\"}, {\"x\": -0.4798689021375523, \"y\": -0.296613125352777, \"group\": \"business\"}, {\"x\": -1.169411103239174, \"y\": -0.0870327573603533, \"group\": \"business\"}, {\"x\": 0.24471899878052883, \"y\": 1.2458697527944222, \"group\": \"business\"}, {\"x\": 0.7133688482558721, \"y\": 0.7261796743873913, \"group\": \"business\"}, {\"x\": -1.370496400426204, \"y\": 0.5089733060502262, \"group\": \"business\"}, {\"x\": 1.4800682121340218, \"y\": 0.8392148534735516, \"group\": \"business\"}, {\"x\": -1.227583933766004, \"y\": -0.23182114481377578, \"group\": \"business\"}, {\"x\": -0.18119821311005674, \"y\": 0.4251927349806873, \"group\": \"business\"}, {\"x\": 1.0703571769258773, \"y\": -0.09978164533932032, \"group\": \"business\"}, {\"x\": -2.042150352257621, \"y\": -0.3333141675558458, \"group\": \"business\"}, {\"x\": -0.6407097352701323, \"y\": 0.45117145473010667, \"group\": \"business\"}, {\"x\": -0.5232103297442264, \"y\": 0.18901062939554517, \"group\": \"business\"}, {\"x\": -0.26851378274747745, \"y\": -1.9599783816786953, \"group\": \"business\"}, {\"x\": -1.4783663484177074, \"y\": 1.2352857503779155, \"group\": \"business\"}, {\"x\": 0.3473191647725345, \"y\": -1.965537705125977, \"group\": \"business\"}, {\"x\": -1.375981015628037, \"y\": -0.4759339510407592, \"group\": \"business\"}, {\"x\": -1.4230443084798357, \"y\": 1.7670024344152362, \"group\": \"business\"}, {\"x\": -0.12120183953977162, \"y\": -0.10142680437179069, \"group\": \"business\"}, {\"x\": 0.3900189002251161, \"y\": 2.364234250384207, \"group\": \"business\"}, {\"x\": 1.9960128688270817, \"y\": 0.29666382981223766, \"group\": \"business\"}, {\"x\": -0.6839267065149821, \"y\": -0.10339449349642381, \"group\": \"business\"}, {\"x\": 1.265557967300764, \"y\": -0.019871213975978092, \"group\": \"business\"}, {\"x\": -0.6050285145083761, \"y\": -0.7483759231195307, \"group\": \"business\"}, {\"x\": -0.23316191733202823, \"y\": -0.32544060486580906, \"group\": \"business\"}, {\"x\": -1.8832493308418259, \"y\": -0.8158824046784133, \"group\": \"business\"}, {\"x\": -0.26312990450739226, \"y\": 0.46502828435205495, \"group\": \"business\"}, {\"x\": -1.3524985353652994, \"y\": 0.5317129281833848, \"group\": \"business\"}, {\"x\": -0.4378239400539252, \"y\": 1.1387368400415174, \"group\": \"business\"}, {\"x\": 0.2606577171479183, \"y\": -0.07077465462499617, \"group\": \"business\"}, {\"x\": -0.3878691905267677, \"y\": -1.19508323114773, \"group\": \"business\"}, {\"x\": 0.8139352248310494, \"y\": -0.7077423367395174, \"group\": \"business\"}, {\"x\": -0.41111101789351445, \"y\": 0.8015366841905451, \"group\": \"business\"}, {\"x\": 0.4290332603972366, \"y\": 0.9516796330826243, \"group\": \"business\"}, {\"x\": -0.13781577109557736, \"y\": -2.0433019737141636, \"group\": \"business\"}, {\"x\": 0.8080008209609297, \"y\": 1.4041692513055843, \"group\": \"business\"}, {\"x\": -0.749856100172109, \"y\": -1.358665062068307, \"group\": \"business\"}, {\"x\": -2.048168132772987, \"y\": 0.09321872285992903, \"group\": \"business\"}, {\"x\": 0.3901291179679716, \"y\": -1.4202220938121013, \"group\": \"business\"}, {\"x\": 0.6032732189501703, \"y\": -0.9861015445341066, \"group\": \"business\"}, {\"x\": -0.750432099199777, \"y\": 1.1399621713984602, \"group\": \"business\"}, {\"x\": -0.5775510780406111, \"y\": 0.2473191381857786, \"group\": \"business\"}, {\"x\": -3.129430139325648, \"y\": 0.12502830257750147, \"group\": \"business\"}, {\"x\": -0.7212138348016356, \"y\": -0.5158408898016346, \"group\": \"business\"}, {\"x\": -0.4535917685930625, \"y\": 2.4265042910475536, \"group\": \"business\"}, {\"x\": -2.618682472786822, \"y\": 0.9883364244107666, \"group\": \"business\"}, {\"x\": -1.6570552724269492, \"y\": 0.9201173879931717, \"group\": \"business\"}, {\"x\": -2.4992484451939267, \"y\": 0.3894819221367234, \"group\": \"business\"}, {\"x\": 1.0736525197970639, \"y\": 1.464149822559759, \"group\": \"business\"}, {\"x\": 0.23331753526800433, \"y\": 0.6890200378564798, \"group\": \"business\"}, {\"x\": -2.2459047351286174, \"y\": 0.7682552330794715, \"group\": \"business\"}, {\"x\": -1.538175198792413, \"y\": -0.09880492944458681, \"group\": \"business\"}, {\"x\": -1.2111864699508095, \"y\": -1.229534755443582, \"group\": \"business\"}, {\"x\": -0.4530983495562411, \"y\": -1.2609400823488495, \"group\": \"business\"}, {\"x\": -0.15600851645082436, \"y\": -0.9146786091182844, \"group\": \"business\"}, {\"x\": 0.34560813095210324, \"y\": 3.5010974204027727, \"group\": \"business\"}, {\"x\": 0.7828271269409116, \"y\": 1.3613214769881639, \"group\": \"business\"}, {\"x\": 1.130589966279148, \"y\": -0.3812676684369004, \"group\": \"business\"}, {\"x\": -0.4403230737612166, \"y\": 2.5437217506065672, \"group\": \"business\"}, {\"x\": -2.2107266644223946, \"y\": 0.6576531144779008, \"group\": \"business\"}, {\"x\": 0.06863653064488781, \"y\": -2.3309490820745187, \"group\": \"business\"}, {\"x\": 2.399482836043718, \"y\": 0.49467800816894586, \"group\": \"business\"}, {\"x\": -2.187430738224771, \"y\": 0.28016256390813626, \"group\": \"business\"}, {\"x\": -0.9175756692080693, \"y\": 0.6068215902287761, \"group\": \"business\"}, {\"x\": 0.1266361861603863, \"y\": 0.18470259988543092, \"group\": \"business\"}, {\"x\": -2.2445553480779488, \"y\": -0.37231323441130626, \"group\": \"business\"}, {\"x\": 1.2080469142618135, \"y\": 0.3384387030481882, \"group\": \"business\"}, {\"x\": -1.5264243253838352, \"y\": 0.5016732427784225, \"group\": \"business\"}, {\"x\": -0.2863562268492699, \"y\": 0.005343584662377979, \"group\": \"business\"}, {\"x\": -0.8555742563487347, \"y\": -0.26359377963750474, \"group\": \"business\"}, {\"x\": -0.36630042613507746, \"y\": -0.08337512625746747, \"group\": \"business\"}, {\"x\": -1.1818272265367682, \"y\": 1.933320803342341, \"group\": \"business\"}, {\"x\": -0.02775706372423669, \"y\": -0.6068253641326037, \"group\": \"business\"}, {\"x\": -1.132110448252328, \"y\": -0.22782175896317688, \"group\": \"business\"}, {\"x\": 0.4965582465076491, \"y\": -1.9169871545883876, \"group\": \"business\"}, {\"x\": 0.13727981752400698, \"y\": 1.6146016884870171, \"group\": \"business\"}, {\"x\": 0.7825346167641827, \"y\": -0.12774810832830952, \"group\": \"business\"}, {\"x\": -1.1382215546531174, \"y\": 0.9936941244978922, \"group\": \"business\"}, {\"x\": -1.218370717774182, \"y\": 0.7908237874354311, \"group\": \"business\"}, {\"x\": -0.0884229653905099, \"y\": 0.19186145610115712, \"group\": \"business\"}, {\"x\": -0.022199447244785835, \"y\": 1.4429439008417981, \"group\": \"business\"}, {\"x\": 1.4150416503603278, \"y\": 0.622158336580477, \"group\": \"business\"}, {\"x\": 0.3111039673316228, \"y\": 0.905409740622113, \"group\": \"business\"}, {\"x\": -1.7183740569396633, \"y\": 0.17966125601563657, \"group\": \"business\"}, {\"x\": -0.10760037321237216, \"y\": -1.2474633924615308, \"group\": \"business\"}, {\"x\": -0.7894054176775892, \"y\": -0.2417456806429418, \"group\": \"business\"}, {\"x\": -1.605123583828206, \"y\": -0.3401270742544062, \"group\": \"business\"}, {\"x\": -1.4785379805991372, \"y\": 1.2628304505983763, \"group\": \"business\"}, {\"x\": 0.9544380955192482, \"y\": -0.16025958189218184, \"group\": \"business\"}, {\"x\": 0.28443518119554206, \"y\": 1.0626430789465793, \"group\": \"business\"}, {\"x\": 0.024339132631089836, \"y\": 0.20005646994482176, \"group\": \"business\"}, {\"x\": -2.072263098026174, \"y\": -1.7888031304974545, \"group\": \"business\"}, {\"x\": -1.2789619360515285, \"y\": -2.283563812840111, \"group\": \"business\"}, {\"x\": 0.7021849824945446, \"y\": -0.8661018624863478, \"group\": \"business\"}, {\"x\": -2.469348112177514, \"y\": -1.9793823537325368, \"group\": \"business\"}, {\"x\": 0.08896750223154998, \"y\": 0.8259677241781179, \"group\": \"business\"}, {\"x\": -0.3923820272900705, \"y\": -0.006726066634916362, \"group\": \"business\"}, {\"x\": 1.2791301638651853, \"y\": -1.0632448787437285, \"group\": \"business\"}, {\"x\": -1.621215023704896, \"y\": 1.8668914633505336, \"group\": \"business\"}, {\"x\": -0.8351973550493029, \"y\": -0.14037565352676, \"group\": \"business\"}, {\"x\": -1.0795551631481466, \"y\": -0.5779950540056953, \"group\": \"business\"}, {\"x\": 1.0809784919240852, \"y\": 0.44988736778335875, \"group\": \"business\"}, {\"x\": 0.26453285234215906, \"y\": 0.4939488718344211, \"group\": \"business\"}, {\"x\": -1.0181363295737322, \"y\": 1.3738473226906, \"group\": \"business\"}, {\"x\": 0.35247633489527685, \"y\": -0.4879863378478172, \"group\": \"business\"}, {\"x\": 1.0988721263554273, \"y\": -1.7803908338274077, \"group\": \"business\"}, {\"x\": -0.02601533638154605, \"y\": -0.3007702462672752, \"group\": \"business\"}, {\"x\": -1.437649307630573, \"y\": 1.1377467076688315, \"group\": \"business\"}, {\"x\": 0.7600434990162487, \"y\": 0.9365873065062378, \"group\": \"business\"}, {\"x\": 0.17963216406960814, \"y\": -0.29423828744227776, \"group\": \"business\"}, {\"x\": -0.5991483050246093, \"y\": 1.3536929501360895, \"group\": \"business\"}, {\"x\": -1.045681607268317, \"y\": -1.1937044117754905, \"group\": \"business\"}, {\"x\": -1.7230712065475564, \"y\": 0.8302105044603543, \"group\": \"business\"}, {\"x\": 1.0564515435677408, \"y\": 0.8772356111556463, \"group\": \"business\"}, {\"x\": 0.8941085611970264, \"y\": 1.0767439903516691, \"group\": \"business\"}, {\"x\": -1.2241102274441311, \"y\": 1.3480179674663382, \"group\": \"business\"}, {\"x\": -0.5331386784391411, \"y\": -1.282171267650927, \"group\": \"business\"}, {\"x\": -0.4611250573690529, \"y\": 0.026020077787057214, \"group\": \"business\"}, {\"x\": -0.5694662111102434, \"y\": 2.147065694256303, \"group\": \"business\"}, {\"x\": -1.238199563599314, \"y\": -0.2374872747194355, \"group\": \"business\"}, {\"x\": -1.2170131884296398, \"y\": 0.27210937942809066, \"group\": \"business\"}, {\"x\": 0.285655618842912, \"y\": 0.19093104708622452, \"group\": \"business\"}, {\"x\": -0.5111008399803504, \"y\": -3.3497318313935, \"group\": \"business\"}, {\"x\": 0.9477302371135923, \"y\": 2.310678073124976, \"group\": \"business\"}, {\"x\": 0.5392662112042297, \"y\": 0.9477521181733278, \"group\": \"business\"}, {\"x\": -1.554666836071871, \"y\": 0.08242373102876971, \"group\": \"business\"}, {\"x\": -1.9735137708099186, \"y\": -0.9456982329181456, \"group\": \"business\"}, {\"x\": 0.8289412513826455, \"y\": -1.199921598691838, \"group\": \"business\"}, {\"x\": -0.46547404155224614, \"y\": 0.7444614798290716, \"group\": \"business\"}, {\"x\": 0.44308875021233357, \"y\": 0.4686042024847769, \"group\": \"business\"}, {\"x\": -0.09716320423587814, \"y\": 1.3806469500581466, \"group\": \"business\"}, {\"x\": 0.3944186895745717, \"y\": 1.4696124680313796, \"group\": \"business\"}, {\"x\": 0.8141948789462691, \"y\": -1.9618128675838473, \"group\": \"business\"}, {\"x\": -0.407863987071101, \"y\": 0.07948802951906163, \"group\": \"business\"}, {\"x\": -0.18661015912002207, \"y\": 0.22713173628449926, \"group\": \"business\"}, {\"x\": -1.3640049864110002, \"y\": 0.9828853828449624, \"group\": \"business\"}, {\"x\": 0.5025512866973327, \"y\": 1.3183137547047654, \"group\": \"business\"}, {\"x\": 0.2617318204333107, \"y\": -1.1800606599010994, \"group\": \"business\"}, {\"x\": -1.5312563655744742, \"y\": -0.011243622829562868, \"group\": \"business\"}, {\"x\": -1.0786403169862344, \"y\": 3.382608540793135, \"group\": \"business\"}, {\"x\": -0.40278525294689016, \"y\": 0.611107250924294, \"group\": \"business\"}, {\"x\": 0.4418791745507706, \"y\": 1.206642630514872, \"group\": \"business\"}, {\"x\": -0.4550700075519606, \"y\": -0.9331448009966861, \"group\": \"business\"}, {\"x\": 2.5256744645063103, \"y\": -1.039020753343256, \"group\": \"business\"}, {\"x\": -0.41835092356782577, \"y\": -0.0980147632367698, \"group\": \"business\"}, {\"x\": -1.4193459404356943, \"y\": 2.7084552405789464, \"group\": \"business\"}, {\"x\": -1.41127162475688, \"y\": 0.1125906196852859, \"group\": \"business\"}, {\"x\": -0.7829985939915002, \"y\": -0.7122234017688863, \"group\": \"business\"}, {\"x\": -1.4483266545946418, \"y\": 0.8278629585316117, \"group\": \"business\"}, {\"x\": -1.089734454784456, \"y\": 0.5549256554547212, \"group\": \"business\"}, {\"x\": 0.7984571386219841, \"y\": -2.3596363094094093, \"group\": \"business\"}, {\"x\": 0.45851573259880685, \"y\": -1.7815391196096202, \"group\": \"business\"}, {\"x\": -0.31150326568053066, \"y\": 0.7545996916898116, \"group\": \"business\"}, {\"x\": 0.13640102537917997, \"y\": 0.338117174678024, \"group\": \"business\"}, {\"x\": -0.08031063524377038, \"y\": -2.635346187590014, \"group\": \"business\"}, {\"x\": -0.6886367150836998, \"y\": 0.8760660153511763, \"group\": \"business\"}, {\"x\": 1.0416539236128814, \"y\": -0.5098569895988471, \"group\": \"business\"}, {\"x\": -1.4225918812020824, \"y\": -1.9588513006700685, \"group\": \"business\"}, {\"x\": 1.5481962631747592, \"y\": -0.8528500542826681, \"group\": \"business\"}, {\"x\": -1.7224126578763088, \"y\": -0.9731101890856826, \"group\": \"business\"}, {\"x\": 0.3118196154724186, \"y\": -0.29334296339153976, \"group\": \"business\"}, {\"x\": -0.07647473013067176, \"y\": -0.4242864964768137, \"group\": \"business\"}, {\"x\": -0.08923503896456711, \"y\": 0.5389435599125274, \"group\": \"business\"}, {\"x\": -0.42111262723479276, \"y\": 1.2245506625381526, \"group\": \"business\"}, {\"x\": 0.8791733236300009, \"y\": 0.9272887551596721, \"group\": \"business\"}, {\"x\": 0.04120621105455736, \"y\": 0.9331353607531174, \"group\": \"business\"}, {\"x\": 1.154674490390811, \"y\": -0.5819393133104683, \"group\": \"business\"}, {\"x\": -0.779243575583329, \"y\": 1.5041997496389177, \"group\": \"business\"}, {\"x\": 0.031599308537604454, \"y\": -0.6489046707330137, \"group\": \"business\"}, {\"x\": 0.9199206805877327, \"y\": -0.3956974382667657, \"group\": \"business\"}, {\"x\": -1.7622791966161824, \"y\": 2.1757010140238644, \"group\": \"business\"}, {\"x\": -0.27266141716007863, \"y\": 0.09465581222706071, \"group\": \"business\"}, {\"x\": -3.5258460867639756, \"y\": 1.3624079795550519, \"group\": \"business\"}, {\"x\": -1.9927433109277508, \"y\": 0.764262267323914, \"group\": \"business\"}, {\"x\": -0.7046388168896103, \"y\": 0.9367502206005128, \"group\": \"business\"}, {\"x\": 0.02401980079343657, \"y\": 0.09158529318918711, \"group\": \"business\"}, {\"x\": 0.07897892935494766, \"y\": -0.5622085868085253, \"group\": \"business\"}, {\"x\": 0.15820786888479793, \"y\": -2.1463660697777414, \"group\": \"business\"}, {\"x\": -0.9749534653615111, \"y\": 1.925050506662466, \"group\": \"business\"}, {\"x\": 0.3707619317869229, \"y\": -1.8694072949889398, \"group\": \"business\"}, {\"x\": 0.6495713389874538, \"y\": 1.1227818625558728, \"group\": \"business\"}, {\"x\": 0.6951183329874465, \"y\": 0.46308904123644395, \"group\": \"business\"}, {\"x\": 0.6402924283428056, \"y\": -0.6536185289277668, \"group\": \"business\"}, {\"x\": -0.6704582264597502, \"y\": 1.0870776300521343, \"group\": \"business\"}, {\"x\": 0.45136706573575075, \"y\": 2.4950607581963995, \"group\": \"business\"}, {\"x\": 0.009933250701465298, \"y\": -0.2772039497780016, \"group\": \"business\"}, {\"x\": -0.044484610869155096, \"y\": -0.06913878277919322, \"group\": \"business\"}, {\"x\": -0.23952283280163536, \"y\": 3.4976743924204596, \"group\": \"business\"}, {\"x\": -2.0779415529780727, \"y\": 1.1911332501322431, \"group\": \"business\"}, {\"x\": 0.5984504319496716, \"y\": 2.6562970535890735, \"group\": \"business\"}, {\"x\": -0.47654773460298955, \"y\": 0.539662719818013, \"group\": \"business\"}, {\"x\": 1.8947816918717029, \"y\": -0.9087070303336987, \"group\": \"business\"}, {\"x\": 0.00971278365477551, \"y\": 2.3021657699449336, \"group\": \"business\"}, {\"x\": 0.6895034527223589, \"y\": 0.09667547281372386, \"group\": \"business\"}, {\"x\": -0.5185525097475442, \"y\": -1.417120720593776, \"group\": \"business\"}, {\"x\": 0.4209475653074516, \"y\": 1.8406815995590942, \"group\": \"business\"}, {\"x\": -1.866979486252408, \"y\": 1.523705016204074, \"group\": \"business\"}, {\"x\": -0.179347800954779, \"y\": 0.6909144864133825, \"group\": \"business\"}, {\"x\": 0.36541391455509087, \"y\": -2.2675374362471454, \"group\": \"business\"}, {\"x\": 0.38722288774628677, \"y\": 0.19021349473999946, \"group\": \"business\"}, {\"x\": 0.9940098754493164, \"y\": -0.016133463532280463, \"group\": \"business\"}, {\"x\": 1.1667228871840134, \"y\": -0.01522156993603962, \"group\": \"business\"}, {\"x\": 1.475082243038868, \"y\": 1.8203226246410282, \"group\": \"business\"}, {\"x\": -1.2146369663584484, \"y\": 0.6956324433638631, \"group\": \"business\"}, {\"x\": -0.8390041593991981, \"y\": 1.3359418240559526, \"group\": \"business\"}, {\"x\": 0.6096070124974466, \"y\": 2.392410071860105, \"group\": \"business\"}, {\"x\": -1.8073623613789982, \"y\": -1.3443509486963114, \"group\": \"business\"}, {\"x\": -0.5530644889964259, \"y\": -1.536877399058277, \"group\": \"business\"}, {\"x\": 0.18380145790845034, \"y\": -0.5431641968413861, \"group\": \"business\"}, {\"x\": 0.29045948925467363, \"y\": -1.8316161806656084, \"group\": \"business\"}, {\"x\": 0.14126723720911905, \"y\": -1.088446607007748, \"group\": \"business\"}, {\"x\": -1.0485418498397896, \"y\": -0.012458686664438745, \"group\": \"business\"}, {\"x\": -0.7175732396184917, \"y\": 0.9483006423346775, \"group\": \"business\"}, {\"x\": -0.6078430909423881, \"y\": 1.2031799933523915, \"group\": \"business\"}, {\"x\": -1.0500152827206868, \"y\": 1.3402583709778106, \"group\": \"business\"}, {\"x\": 1.858689952034571, \"y\": -0.24741744119030004, \"group\": \"business\"}, {\"x\": -2.2485151952651012, \"y\": 0.35303103830840077, \"group\": \"business\"}, {\"x\": 1.8371652453402114, \"y\": -1.051293261043913, \"group\": \"business\"}, {\"x\": 0.1610942153020479, \"y\": 1.2793128809303138, \"group\": \"business\"}, {\"x\": 0.6702539569721233, \"y\": -3.1497490507546293, \"group\": \"business\"}, {\"x\": -0.3398020805077772, \"y\": 1.0442206958787223, \"group\": \"business\"}, {\"x\": -0.295787692302693, \"y\": 1.7393349600521997, \"group\": \"business\"}, {\"x\": -0.20643562411967795, \"y\": -0.8178923701492501, \"group\": \"business\"}, {\"x\": 0.07243130496025971, \"y\": -0.9432733853538925, \"group\": \"business\"}, {\"x\": -1.3004340137608734, \"y\": -0.7234386431678343, \"group\": \"business\"}, {\"x\": -1.8981057229083713, \"y\": -0.19182309780749854, \"group\": \"business\"}, {\"x\": 0.27870641534769575, \"y\": -0.9340028964429723, \"group\": \"business\"}, {\"x\": -1.5145829087072655, \"y\": 0.9019710937485578, \"group\": \"business\"}, {\"x\": 1.2751962023992331, \"y\": 0.18556909612009637, \"group\": \"business\"}, {\"x\": -0.6931004841255171, \"y\": -0.8641270222923689, \"group\": \"business\"}, {\"x\": 1.3897554198343232, \"y\": 1.2348212877709788, \"group\": \"business\"}, {\"x\": -1.92934552257629, \"y\": 1.2147185722589713, \"group\": \"business\"}, {\"x\": -0.031670441527068355, \"y\": 0.9526933301728668, \"group\": \"business\"}, {\"x\": -1.8377892868657855, \"y\": -0.05428061579431815, \"group\": \"business\"}, {\"x\": -1.0785767897935505, \"y\": 0.12209460701894494, \"group\": \"business\"}, {\"x\": -0.4484440437018197, \"y\": -1.505558697077869, \"group\": \"business\"}, {\"x\": -1.7159038328799658, \"y\": 0.7426737806063838, \"group\": \"business\"}, {\"x\": -0.0828048078424311, \"y\": -1.0640329093926435, \"group\": \"business\"}, {\"x\": -0.9139047910301605, \"y\": -0.2643288055604541, \"group\": \"business\"}, {\"x\": -3.058112688849949, \"y\": 0.4306553626412773, \"group\": \"business\"}, {\"x\": -1.3319016194764912, \"y\": 1.7725149633450985, \"group\": \"business\"}, {\"x\": -1.6605501203332818, \"y\": -0.051733903892235845, \"group\": \"business\"}, {\"x\": 0.8502811035045356, \"y\": 1.5649140806585837, \"group\": \"business\"}, {\"x\": -0.12172842154078348, \"y\": 1.9389181930611403, \"group\": \"business\"}, {\"x\": -0.8465651126187508, \"y\": 0.6123861986261683, \"group\": \"business\"}, {\"x\": 0.6130117443031867, \"y\": -0.9065515914778933, \"group\": \"business\"}, {\"x\": -0.5549082246854281, \"y\": 0.7501051220814149, \"group\": \"business\"}, {\"x\": 1.9730544814516615, \"y\": -0.1452913967494017, \"group\": \"business\"}, {\"x\": 0.09011555583486945, \"y\": -1.4380259573619083, \"group\": \"business\"}, {\"x\": -1.0250104348507405, \"y\": 0.2667601039588564, \"group\": \"business\"}, {\"x\": -1.0288287530820461, \"y\": -1.9853284241359386, \"group\": \"business\"}, {\"x\": 0.06831963026742659, \"y\": 1.4320609494116794, \"group\": \"business\"}, {\"x\": -0.3973120284170416, \"y\": -0.8405169994704013, \"group\": \"business\"}, {\"x\": -1.6494604184107289, \"y\": -0.04680859889282074, \"group\": \"business\"}, {\"x\": 0.6428032365299434, \"y\": -0.47607389387377197, \"group\": \"business\"}, {\"x\": 0.9821075811256385, \"y\": 0.9380364997376432, \"group\": \"business\"}, {\"x\": -0.6670011583005819, \"y\": 0.01727060926550647, \"group\": \"business\"}, {\"x\": 0.08352732021780272, \"y\": -1.5509784744166675, \"group\": \"business\"}, {\"x\": -1.0258565880706674, \"y\": 0.7681923189986246, \"group\": \"business\"}, {\"x\": 0.011886800719337431, \"y\": 0.6344517356119871, \"group\": \"business\"}, {\"x\": -2.2121493924958013, \"y\": -0.16982530327205805, \"group\": \"business\"}, {\"x\": 1.0902576471281065, \"y\": -1.2759412725751988, \"group\": \"politics\"}, {\"x\": -1.7247640537910311, \"y\": 0.47888337118241836, \"group\": \"politics\"}, {\"x\": -0.20808598010872525, \"y\": 0.5537994265336407, \"group\": \"politics\"}, {\"x\": -0.20922304999291585, \"y\": -0.9112867189022114, \"group\": \"politics\"}, {\"x\": -1.6224639731467694, \"y\": 1.1180937029134281, \"group\": \"politics\"}, {\"x\": -1.9536661429222373, \"y\": -0.1867166812377702, \"group\": \"politics\"}, {\"x\": 0.17786272095189234, \"y\": -0.05031410709861522, \"group\": \"politics\"}, {\"x\": -1.366821293724585, \"y\": -1.7131634809468603, \"group\": \"politics\"}, {\"x\": -1.8964325048056094, \"y\": 0.7145633726150774, \"group\": \"politics\"}, {\"x\": -2.4872141396116874, \"y\": -0.36080572394416727, \"group\": \"politics\"}, {\"x\": -1.0828030198438596, \"y\": 1.2008928601269753, \"group\": \"politics\"}, {\"x\": 0.35737179620200543, \"y\": 0.30282452206076577, \"group\": \"politics\"}, {\"x\": 0.796760112216454, \"y\": 1.3166442137013818, \"group\": \"politics\"}, {\"x\": -0.5017851962248776, \"y\": -0.5280082066693331, \"group\": \"politics\"}, {\"x\": -0.3881988417352728, \"y\": -0.0430421234787182, \"group\": \"politics\"}, {\"x\": -0.7777668767408532, \"y\": 0.8043910460025157, \"group\": \"politics\"}, {\"x\": -2.076116174470328, \"y\": -1.3534774046953828, \"group\": \"politics\"}, {\"x\": -0.46306114169794144, \"y\": -0.9301664266565947, \"group\": \"politics\"}, {\"x\": 0.04939123395496817, \"y\": -1.1662702084942083, \"group\": \"politics\"}, {\"x\": -0.2276999877080956, \"y\": 2.8050861067518924, \"group\": \"politics\"}, {\"x\": -0.8717521982615195, \"y\": 0.2101385679319229, \"group\": \"politics\"}, {\"x\": -0.3605287276495233, \"y\": 0.6730196366093284, \"group\": \"politics\"}, {\"x\": -0.6535337623594047, \"y\": -0.697396428242092, \"group\": \"politics\"}, {\"x\": 0.4884929475395141, \"y\": 0.3569738585031073, \"group\": \"politics\"}, {\"x\": -0.7581493067081536, \"y\": -1.4143104052076327, \"group\": \"politics\"}, {\"x\": 0.20934391048406226, \"y\": 0.3315745332615262, \"group\": \"politics\"}, {\"x\": 0.8598183392517653, \"y\": 0.28399546142775617, \"group\": \"politics\"}, {\"x\": -1.4578214125451054, \"y\": -0.1822305467149152, \"group\": \"politics\"}, {\"x\": -1.7344364461644544, \"y\": -0.42283986414040675, \"group\": \"politics\"}, {\"x\": -1.1396194241608222, \"y\": -0.27729386777513587, \"group\": \"politics\"}, {\"x\": -0.8306212627588352, \"y\": 0.36813411103663385, \"group\": \"politics\"}, {\"x\": 0.5505244126637832, \"y\": -0.8743309044074518, \"group\": \"politics\"}, {\"x\": -2.6884186078855117, \"y\": -0.7565815806150417, \"group\": \"politics\"}, {\"x\": 1.1629784442881304, \"y\": -1.5557427397817225, \"group\": \"politics\"}, {\"x\": -0.08973897079199829, \"y\": -1.1734169498098346, \"group\": \"politics\"}, {\"x\": 1.4045985290275074, \"y\": -0.4236056193271815, \"group\": \"politics\"}, {\"x\": -0.10349800561957517, \"y\": 0.121944024610887, \"group\": \"politics\"}, {\"x\": 1.8071490337619964, \"y\": 1.3580570375640952, \"group\": \"politics\"}, {\"x\": -0.4143612752558433, \"y\": -0.26236422314978053, \"group\": \"politics\"}, {\"x\": -1.2919456541824763, \"y\": -0.24623236256870384, \"group\": \"politics\"}, {\"x\": -0.8948341684871649, \"y\": -0.16146852109026935, \"group\": \"politics\"}, {\"x\": 0.26021082054861117, \"y\": 2.6008649716111, \"group\": \"politics\"}, {\"x\": -1.962509075626031, \"y\": 0.22937602002286608, \"group\": \"politics\"}, {\"x\": -1.7507928652195823, \"y\": 0.5598475144121008, \"group\": \"politics\"}, {\"x\": -0.11416668524689556, \"y\": 0.9205132429343496, \"group\": \"politics\"}, {\"x\": -0.17470614488019473, \"y\": -1.4704207318938673, \"group\": \"politics\"}, {\"x\": 0.5265894720852127, \"y\": -0.02444360810151516, \"group\": \"politics\"}, {\"x\": -0.6686387473392806, \"y\": 0.900096296848294, \"group\": \"politics\"}, {\"x\": -0.23099906129028436, \"y\": 0.4492818742862523, \"group\": \"politics\"}, {\"x\": -2.2869173970608476, \"y\": 2.4156492856078255, \"group\": \"politics\"}, {\"x\": 1.4876158754374027, \"y\": -0.7323461132971315, \"group\": \"politics\"}, {\"x\": -1.6509992670996878, \"y\": -0.5312331886064878, \"group\": \"politics\"}, {\"x\": -1.0079344703322115, \"y\": 0.6687391773958044, \"group\": \"politics\"}, {\"x\": -0.42633083859836407, \"y\": 0.10134856570310909, \"group\": \"politics\"}, {\"x\": -1.1044647208119824, \"y\": -0.8953159638705289, \"group\": \"politics\"}, {\"x\": 0.6360929762420963, \"y\": 0.6659273696540077, \"group\": \"politics\"}, {\"x\": -1.90116813843306, \"y\": -2.58804441247841, \"group\": \"politics\"}, {\"x\": 1.138003315065608, \"y\": 0.6635238662407357, \"group\": \"politics\"}, {\"x\": 0.6212871975540575, \"y\": 0.8171426568748101, \"group\": \"politics\"}, {\"x\": 1.248619255278094, \"y\": 0.35385705129366213, \"group\": \"politics\"}, {\"x\": 0.9612013013575689, \"y\": -1.6065995679720906, \"group\": \"politics\"}, {\"x\": 0.7520478735710852, \"y\": -0.32281571689013455, \"group\": \"politics\"}, {\"x\": -0.017497937427604967, \"y\": -1.8785397688725751, \"group\": \"politics\"}, {\"x\": -1.3827891406329993, \"y\": -0.017454417570535355, \"group\": \"politics\"}, {\"x\": -1.7258370123908089, \"y\": 0.746959982216411, \"group\": \"politics\"}, {\"x\": 0.5071904656944377, \"y\": 0.04060437918251779, \"group\": \"politics\"}, {\"x\": 0.2804025391720887, \"y\": -0.9258979107607809, \"group\": \"politics\"}, {\"x\": -0.07255714837342357, \"y\": 0.3736871259679848, \"group\": \"politics\"}, {\"x\": 0.5830506814546531, \"y\": 1.5523223158291264, \"group\": \"politics\"}, {\"x\": 0.6728072473364959, \"y\": -1.077819775944047, \"group\": \"politics\"}, {\"x\": -0.04917001268408529, \"y\": -0.8904657607905452, \"group\": \"politics\"}, {\"x\": -1.5265793707403246, \"y\": -2.2517159938847686, \"group\": \"politics\"}, {\"x\": -1.2026687681501873, \"y\": 1.2974114026459496, \"group\": \"politics\"}, {\"x\": 0.3411588031636197, \"y\": -1.0105568232659978, \"group\": \"politics\"}, {\"x\": 1.5484952160123864, \"y\": -0.7650862917658643, \"group\": \"politics\"}, {\"x\": -0.11904761013138283, \"y\": 0.12077113647154568, \"group\": \"politics\"}, {\"x\": -0.20501498958755, \"y\": -0.5985452708294393, \"group\": \"politics\"}, {\"x\": 0.03218057763631943, \"y\": -1.4924858945043398, \"group\": \"politics\"}, {\"x\": -0.67060889508684, \"y\": -0.09982780103337945, \"group\": \"politics\"}, {\"x\": -0.01817330688886777, \"y\": 0.23377415727052067, \"group\": \"politics\"}, {\"x\": -0.4734244739951993, \"y\": -2.797531078149564, \"group\": \"politics\"}, {\"x\": -0.4906360686654434, \"y\": 1.5041704308106871, \"group\": \"politics\"}, {\"x\": -1.0558584057375873, \"y\": -0.9018880813919032, \"group\": \"politics\"}, {\"x\": 0.019942173553306408, \"y\": 2.348247964694219, \"group\": \"politics\"}, {\"x\": -1.5194133649786312, \"y\": 0.22653177264818866, \"group\": \"politics\"}, {\"x\": 0.18447964377040876, \"y\": 0.5702193179400963, \"group\": \"politics\"}, {\"x\": -0.8106170766693782, \"y\": 0.2409095910879579, \"group\": \"politics\"}, {\"x\": 0.5169310533794064, \"y\": 1.0456602917250117, \"group\": \"politics\"}, {\"x\": -0.4353549022121838, \"y\": -0.5347501939839329, \"group\": \"politics\"}, {\"x\": -0.8280185268517722, \"y\": -3.1263131626108374, \"group\": \"politics\"}, {\"x\": -1.0743195842589435, \"y\": -0.959206267174467, \"group\": \"politics\"}, {\"x\": -1.251438612343098, \"y\": -0.23649984015588976, \"group\": \"politics\"}, {\"x\": -2.0327628777016815, \"y\": -0.10595017237327378, \"group\": \"politics\"}, {\"x\": 0.435270218326249, \"y\": -0.40525133632399946, \"group\": \"politics\"}, {\"x\": -0.20852792167507095, \"y\": -0.19029619255941116, \"group\": \"politics\"}, {\"x\": -1.7268326790616388, \"y\": 0.6636051094093169, \"group\": \"politics\"}, {\"x\": -0.870029473006346, \"y\": -0.5982582502206638, \"group\": \"politics\"}, {\"x\": -1.0519646571352155, \"y\": -1.8381397527372454, \"group\": \"politics\"}, {\"x\": 0.5400472700465212, \"y\": -0.13580290984351837, \"group\": \"politics\"}, {\"x\": -0.36026537483340315, \"y\": 0.3562068580869589, \"group\": \"politics\"}, {\"x\": -0.7808031998891345, \"y\": 0.13352754769907513, \"group\": \"politics\"}, {\"x\": 0.17503652054871527, \"y\": 1.0608864271052416, \"group\": \"politics\"}, {\"x\": 0.5814933775044038, \"y\": -0.15335364856492317, \"group\": \"politics\"}, {\"x\": 0.8805324858179749, \"y\": 0.024616719178973675, \"group\": \"politics\"}, {\"x\": -0.020376020936858807, \"y\": -0.12881012442117884, \"group\": \"politics\"}, {\"x\": -1.2153853573776965, \"y\": 1.0556291031372262, \"group\": \"politics\"}, {\"x\": -0.8585627054569845, \"y\": 0.40267912635619396, \"group\": \"politics\"}, {\"x\": -0.5255051927156663, \"y\": 0.5934117040894766, \"group\": \"politics\"}, {\"x\": -0.4294209051740974, \"y\": -1.1516421613725059, \"group\": \"politics\"}, {\"x\": -0.09263341586213243, \"y\": -0.6666410882548004, \"group\": \"politics\"}, {\"x\": -0.7887943209979733, \"y\": 1.0672097636106332, \"group\": \"politics\"}, {\"x\": -1.0515599163230493, \"y\": -1.5827324985320892, \"group\": \"politics\"}, {\"x\": -0.6295882574260697, \"y\": -0.8823938793317689, \"group\": \"politics\"}, {\"x\": -0.9194621554341988, \"y\": 1.6050296759503209, \"group\": \"politics\"}, {\"x\": -0.5746337726642935, \"y\": -0.8182840768595573, \"group\": \"politics\"}, {\"x\": -0.6956285756310394, \"y\": 1.5868450730950245, \"group\": \"politics\"}, {\"x\": -1.2839508808588125, \"y\": 0.7315134136448987, \"group\": \"politics\"}, {\"x\": 0.1297803887301479, \"y\": -1.356428436859713, \"group\": \"politics\"}, {\"x\": -2.1960107014223795, \"y\": 3.474482001289271, \"group\": \"politics\"}, {\"x\": -0.4161361378475909, \"y\": 0.205152103908284, \"group\": \"politics\"}, {\"x\": -0.894381242996163, \"y\": -1.3176632689713454, \"group\": \"politics\"}, {\"x\": -1.3942791857362966, \"y\": 1.3173263783404212, \"group\": \"politics\"}, {\"x\": -0.9804406510552515, \"y\": 1.623980444514957, \"group\": \"politics\"}, {\"x\": -0.5339748028759267, \"y\": -0.5705509210275969, \"group\": \"politics\"}, {\"x\": 0.4097409963840311, \"y\": 1.1226360092902863, \"group\": \"politics\"}, {\"x\": -1.5294438065721139, \"y\": 0.22431298779349898, \"group\": \"politics\"}, {\"x\": -0.8454446407747235, \"y\": 0.32313572978496025, \"group\": \"politics\"}, {\"x\": -0.7234017721877115, \"y\": 3.002524554222987, \"group\": \"politics\"}, {\"x\": -1.2715230730672615, \"y\": 1.267413656079598, \"group\": \"politics\"}, {\"x\": 0.9060007669179688, \"y\": -1.6661976426790974, \"group\": \"politics\"}, {\"x\": 1.7889590164526576, \"y\": -2.198546402267997, \"group\": \"politics\"}, {\"x\": 0.17371654983615312, \"y\": 0.17089076920283325, \"group\": \"politics\"}, {\"x\": 0.18594310323463967, \"y\": -0.869716257848839, \"group\": \"politics\"}, {\"x\": 0.4413646146378746, \"y\": 1.6257608793462643, \"group\": \"politics\"}, {\"x\": -0.274432123017853, \"y\": -1.3346599820601495, \"group\": \"politics\"}, {\"x\": 0.2587028706232886, \"y\": 0.5915509779180876, \"group\": \"politics\"}, {\"x\": -0.8388212599313155, \"y\": 0.921257089328238, \"group\": \"politics\"}, {\"x\": -0.6091679407208008, \"y\": 0.7039243174128876, \"group\": \"politics\"}, {\"x\": 0.073086752453303, \"y\": 0.3199644623280952, \"group\": \"politics\"}, {\"x\": -0.4903194022986995, \"y\": -0.3612448535687338, \"group\": \"politics\"}, {\"x\": 1.292375000109262, \"y\": -1.7393358962506353, \"group\": \"politics\"}, {\"x\": 1.787316548485124, \"y\": -0.8942168502509219, \"group\": \"politics\"}, {\"x\": 0.2577726737384595, \"y\": 0.29310309504352416, \"group\": \"politics\"}, {\"x\": -1.2204464921171905, \"y\": 1.3505753426853195, \"group\": \"politics\"}, {\"x\": -0.15516367769844805, \"y\": -0.23451486530016086, \"group\": \"politics\"}, {\"x\": 0.3317069581517028, \"y\": 1.1994228881887297, \"group\": \"politics\"}, {\"x\": 0.6898696052866568, \"y\": -0.5945401782161099, \"group\": \"politics\"}, {\"x\": -1.901811043516455, \"y\": 1.9671716680479232, \"group\": \"politics\"}, {\"x\": -1.652606329671072, \"y\": 0.2651865135766283, \"group\": \"politics\"}, {\"x\": 1.5237687067833434, \"y\": 0.8230458428270683, \"group\": \"politics\"}, {\"x\": -0.34830718637624924, \"y\": -0.03139694878495831, \"group\": \"politics\"}, {\"x\": -2.3872953191411965, \"y\": -2.0492784573732292, \"group\": \"politics\"}, {\"x\": -0.6157682843929728, \"y\": -0.6525615893051703, \"group\": \"politics\"}, {\"x\": 0.7120582217648629, \"y\": -0.6874202510458745, \"group\": \"politics\"}, {\"x\": 1.6040118996021964, \"y\": 0.7366733241970157, \"group\": \"politics\"}, {\"x\": -0.7441545558111538, \"y\": -0.9481484634049647, \"group\": \"politics\"}, {\"x\": -1.0729805702755881, \"y\": 0.37021706004881927, \"group\": \"politics\"}, {\"x\": -1.4872481556235122, \"y\": 0.6852299935838152, \"group\": \"politics\"}, {\"x\": -0.12309931860349067, \"y\": 0.014689639455597913, \"group\": \"politics\"}, {\"x\": 0.5665619955792381, \"y\": -0.6787454706164244, \"group\": \"politics\"}, {\"x\": -1.2055708614864429, \"y\": 0.3255640542995922, \"group\": \"politics\"}, {\"x\": -0.5607006693926799, \"y\": -0.5778131627121239, \"group\": \"politics\"}, {\"x\": -0.8885203638288851, \"y\": 0.6139603174701819, \"group\": \"politics\"}, {\"x\": -2.3776684942843813, \"y\": 1.117414227057094, \"group\": \"politics\"}, {\"x\": 0.3796521401573833, \"y\": -0.04698880178558494, \"group\": \"politics\"}, {\"x\": 0.564796055629418, \"y\": -0.4851108632272585, \"group\": \"politics\"}, {\"x\": 0.8033788028967725, \"y\": 0.2630903247443501, \"group\": \"politics\"}, {\"x\": -0.9768988666079023, \"y\": 0.131617918723156, \"group\": \"politics\"}, {\"x\": -1.0728167800836688, \"y\": 1.9914875823051381, \"group\": \"politics\"}, {\"x\": -1.9767460523090423, \"y\": -0.1225833965353972, \"group\": \"politics\"}, {\"x\": -0.35949585801182443, \"y\": 0.6128793816122791, \"group\": \"politics\"}, {\"x\": 1.7313893990382223, \"y\": -0.16562763097287816, \"group\": \"politics\"}, {\"x\": 0.6989602206921858, \"y\": 0.7434497006393388, \"group\": \"politics\"}, {\"x\": 0.7614412332065912, \"y\": -0.6494328091863084, \"group\": \"politics\"}, {\"x\": 0.17807644073372858, \"y\": -1.6313511650833836, \"group\": \"politics\"}, {\"x\": -1.2931561706054215, \"y\": -0.14065090065731317, \"group\": \"politics\"}, {\"x\": 1.1149602263511338, \"y\": -0.0033517764234422174, \"group\": \"politics\"}, {\"x\": -1.3842046707239302, \"y\": 3.641289065465693, \"group\": \"politics\"}, {\"x\": 0.4299499468427574, \"y\": -0.802431020810482, \"group\": \"politics\"}, {\"x\": -2.9197512716676717, \"y\": 1.435998269628332, \"group\": \"politics\"}, {\"x\": -2.0837085217524565, \"y\": 0.0632129737628975, \"group\": \"politics\"}, {\"x\": -1.10941376446417, \"y\": 1.6292754618582126, \"group\": \"politics\"}, {\"x\": 0.2754835188996159, \"y\": 0.4164306170854993, \"group\": \"politics\"}, {\"x\": -0.21655208456832797, \"y\": -1.3612051804283911, \"group\": \"politics\"}, {\"x\": 0.1314041250658148, \"y\": -0.8558561496810756, \"group\": \"politics\"}, {\"x\": 0.1908543052548589, \"y\": 0.3197684117885921, \"group\": \"politics\"}, {\"x\": -0.6166266068990863, \"y\": 2.0997073858123363, \"group\": \"politics\"}, {\"x\": -1.0510950419718508, \"y\": 0.9900983636325251, \"group\": \"politics\"}, {\"x\": -1.0516421697495175, \"y\": -1.9932682719567485, \"group\": \"politics\"}, {\"x\": -0.4062319102793036, \"y\": -0.07511689928288427, \"group\": \"politics\"}, {\"x\": -1.2754590747340995, \"y\": -1.422520253722055, \"group\": \"politics\"}, {\"x\": -2.6226237303064965, \"y\": 0.6004618666090558, \"group\": \"politics\"}, {\"x\": -1.063537373131081, \"y\": 0.31609567187543103, \"group\": \"politics\"}, {\"x\": 0.11252270052903218, \"y\": 0.31835235347382124, \"group\": \"politics\"}, {\"x\": -0.19148266556679894, \"y\": -1.717822944703699, \"group\": \"politics\"}, {\"x\": -1.7356367753673456, \"y\": 0.8720331525365739, \"group\": \"politics\"}, {\"x\": -0.09884028577207182, \"y\": -0.651559383449932, \"group\": \"politics\"}, {\"x\": -0.7581590212265, \"y\": 0.4182266378155656, \"group\": \"politics\"}, {\"x\": -0.09911905533230635, \"y\": 1.1827785165969398, \"group\": \"politics\"}, {\"x\": -1.5233472162808432, \"y\": -0.5878645156945719, \"group\": \"politics\"}, {\"x\": 1.2801151426242021, \"y\": 1.4852754140848399, \"group\": \"politics\"}, {\"x\": 1.1128977724415696, \"y\": 1.7630109295277816, \"group\": \"politics\"}, {\"x\": -0.8103020158411435, \"y\": -3.225517697443446, \"group\": \"politics\"}, {\"x\": -0.3937118898349965, \"y\": -0.184944988280959, \"group\": \"politics\"}, {\"x\": 0.5299702723097206, \"y\": -0.10585541908404011, \"group\": \"politics\"}, {\"x\": -1.095535560667177, \"y\": 1.0554312888167503, \"group\": \"politics\"}, {\"x\": 0.02771431781871172, \"y\": -2.576731944728429, \"group\": \"politics\"}, {\"x\": -0.772311922519311, \"y\": 0.5750393756105121, \"group\": \"politics\"}, {\"x\": -0.36967904775939303, \"y\": 0.3091719229661028, \"group\": \"politics\"}, {\"x\": -0.5909108150822199, \"y\": 0.811289835160422, \"group\": \"politics\"}, {\"x\": -0.43742088494762493, \"y\": -2.0337248739768437, \"group\": \"politics\"}, {\"x\": -1.5976464218037985, \"y\": 0.4328102541355808, \"group\": \"politics\"}, {\"x\": 0.6037563251322666, \"y\": -0.5534890544823416, \"group\": \"politics\"}, {\"x\": 0.21521488700035094, \"y\": 1.2425090925714768, \"group\": \"politics\"}, {\"x\": -0.7374548651041848, \"y\": -1.2673793784755716, \"group\": \"politics\"}, {\"x\": 0.7475713318390526, \"y\": -1.0754366885554771, \"group\": \"politics\"}, {\"x\": -0.09742214531707118, \"y\": -0.0017276187019482974, \"group\": \"politics\"}, {\"x\": -1.3890287433365567, \"y\": 0.10133580836793794, \"group\": \"politics\"}, {\"x\": -1.9901085128384457, \"y\": -1.305769510690677, \"group\": \"politics\"}, {\"x\": -0.504079161305952, \"y\": 1.4028220009254802, \"group\": \"politics\"}, {\"x\": -2.0697035435958573, \"y\": 0.167653975202727, \"group\": \"politics\"}, {\"x\": -0.5599753916394475, \"y\": -1.3695284063283044, \"group\": \"politics\"}, {\"x\": -0.5217687771957955, \"y\": -1.7320352576501883, \"group\": \"politics\"}, {\"x\": -1.2545587958103406, \"y\": -0.205482867041725, \"group\": \"politics\"}, {\"x\": -0.7137931936721165, \"y\": 1.052142032823842, \"group\": \"politics\"}, {\"x\": -0.4096110985770052, \"y\": -0.3420666421527117, \"group\": \"politics\"}, {\"x\": -1.6978227849411633, \"y\": -0.817383059081347, \"group\": \"politics\"}, {\"x\": 0.37529478416631457, \"y\": 0.8306637150457454, \"group\": \"politics\"}, {\"x\": 1.212086497302301, \"y\": 1.6943348886630454, \"group\": \"politics\"}, {\"x\": -3.103811928711445, \"y\": 0.2145250793089164, \"group\": \"politics\"}, {\"x\": -1.8282654502777573, \"y\": 1.3869125576054477, \"group\": \"politics\"}, {\"x\": -0.4898132268986935, \"y\": -0.7971798402464683, \"group\": \"politics\"}, {\"x\": -0.23452207943818681, \"y\": 0.26167875362238374, \"group\": \"politics\"}, {\"x\": 0.649784620228624, \"y\": -0.2992040565982227, \"group\": \"politics\"}, {\"x\": 0.8195857952569076, \"y\": 0.2744326914197067, \"group\": \"politics\"}, {\"x\": 0.7713349298130115, \"y\": -0.6524026663285165, \"group\": \"politics\"}, {\"x\": -0.27200017627734224, \"y\": 0.3445186986552512, \"group\": \"politics\"}, {\"x\": -1.0115632728411181, \"y\": -0.3154861781375235, \"group\": \"politics\"}, {\"x\": -0.7849078967440152, \"y\": -1.6369854219708302, \"group\": \"politics\"}, {\"x\": 0.053617131435106005, \"y\": -0.9224470698848437, \"group\": \"politics\"}, {\"x\": -1.7625754480254665, \"y\": 0.08478103194639218, \"group\": \"politics\"}, {\"x\": 0.11936232240888454, \"y\": 0.6988929130098002, \"group\": \"politics\"}, {\"x\": -1.081078752676035, \"y\": 0.09184650640548453, \"group\": \"politics\"}, {\"x\": -1.432370295460404, \"y\": 1.9003604775531195, \"group\": \"politics\"}, {\"x\": 0.5534023640689376, \"y\": 0.05138696192532794, \"group\": \"politics\"}, {\"x\": -2.3454731269964926, \"y\": -0.177561184629989, \"group\": \"politics\"}, {\"x\": -1.6711229112142862, \"y\": 0.05892863295682165, \"group\": \"politics\"}, {\"x\": -0.08110598547179323, \"y\": 1.2343460702211333, \"group\": \"politics\"}, {\"x\": -1.5634872739272043, \"y\": 0.2352923407007789, \"group\": \"politics\"}, {\"x\": 0.08422633140064073, \"y\": 2.0781949664918784, \"group\": \"politics\"}, {\"x\": -0.357598966599184, \"y\": 0.568554268796574, \"group\": \"politics\"}, {\"x\": -1.5082760534068247, \"y\": 0.6873378685466786, \"group\": \"politics\"}, {\"x\": -0.4892305684915577, \"y\": -2.1280707453230474, \"group\": \"politics\"}, {\"x\": -0.4990702375331911, \"y\": 0.523112193023137, \"group\": \"politics\"}, {\"x\": 0.48570531809656153, \"y\": -0.8949138627365393, \"group\": \"politics\"}, {\"x\": 1.4690128272200562, \"y\": -0.6564122690964418, \"group\": \"politics\"}, {\"x\": -1.1790444210427367, \"y\": -1.4608947817898796, \"group\": \"politics\"}, {\"x\": -0.5327528757319602, \"y\": 0.18445727562197084, \"group\": \"politics\"}, {\"x\": 0.7881981441406797, \"y\": -2.0027678398538007, \"group\": \"politics\"}, {\"x\": -0.17524359846893744, \"y\": -1.7018181959445347, \"group\": \"politics\"}, {\"x\": 0.5965348516982606, \"y\": -0.13945148210624192, \"group\": \"politics\"}, {\"x\": 0.3959092135564714, \"y\": 0.482962092371025, \"group\": \"politics\"}, {\"x\": -0.38882441940703144, \"y\": -0.34929914880320057, \"group\": \"politics\"}, {\"x\": -1.9402636332107437, \"y\": 0.03982617460790542, \"group\": \"politics\"}, {\"x\": -1.3733059300134949, \"y\": -0.7793893099147441, \"group\": \"politics\"}, {\"x\": 0.18269496345411632, \"y\": -0.08092665330953513, \"group\": \"politics\"}, {\"x\": -1.0609328520938988, \"y\": -0.6678536757513014, \"group\": \"politics\"}, {\"x\": -0.5692136999154778, \"y\": -0.5695923592823846, \"group\": \"politics\"}, {\"x\": -1.032007374772593, \"y\": 1.5033324379413546, \"group\": \"politics\"}, {\"x\": -1.0477514874190348, \"y\": 0.2103526687582227, \"group\": \"politics\"}, {\"x\": -0.19116958888006425, \"y\": 1.6686951374984016, \"group\": \"politics\"}, {\"x\": 0.24036174449729736, \"y\": 1.8802846158317035, \"group\": \"politics\"}, {\"x\": -0.27302485407295, \"y\": 1.4020175002507773, \"group\": \"politics\"}, {\"x\": -0.6468480168497075, \"y\": -0.20505070000694475, \"group\": \"politics\"}, {\"x\": -0.4839748568983137, \"y\": 0.32178998807172665, \"group\": \"politics\"}, {\"x\": -1.272774726454101, \"y\": 1.4482169718247235, \"group\": \"politics\"}, {\"x\": 0.5582260043248182, \"y\": 1.8617895545239969, \"group\": \"politics\"}, {\"x\": -1.1307678564851233, \"y\": 1.0568213441001935, \"group\": \"politics\"}, {\"x\": 1.179196047133177, \"y\": -0.9414738905362844, \"group\": \"politics\"}, {\"x\": -0.15393042789449266, \"y\": 1.9453799746858496, \"group\": \"politics\"}, {\"x\": -0.4379301713821713, \"y\": -0.36292401717713146, \"group\": \"politics\"}, {\"x\": 0.45360704274902025, \"y\": 0.37103946077253547, \"group\": \"politics\"}, {\"x\": 0.017592532041863788, \"y\": 0.8818798989401126, \"group\": \"politics\"}, {\"x\": -0.3323432165209481, \"y\": 0.9074467035049097, \"group\": \"politics\"}, {\"x\": -0.15924120649036738, \"y\": 0.5597199362536341, \"group\": \"politics\"}, {\"x\": 0.09077875311797032, \"y\": 0.18935787524783035, \"group\": \"politics\"}, {\"x\": -0.14113098196612037, \"y\": -0.28167702800064065, \"group\": \"politics\"}, {\"x\": -0.13079832037442052, \"y\": -0.6117203589460384, \"group\": \"politics\"}, {\"x\": -1.040291327558224, \"y\": 0.18604679446204248, \"group\": \"politics\"}, {\"x\": 0.3445374878174137, \"y\": 0.5452618017833774, \"group\": \"politics\"}, {\"x\": -1.3961529763811904, \"y\": -1.4313137499776374, \"group\": \"politics\"}, {\"x\": -1.0285298319670517, \"y\": 0.7826883053875655, \"group\": \"politics\"}, {\"x\": -1.9493675808622535, \"y\": -0.9124218578742909, \"group\": \"politics\"}, {\"x\": -0.22685428078932945, \"y\": -1.1944874444683609, \"group\": \"politics\"}, {\"x\": -1.1423128010529384, \"y\": 0.29091366186388024, \"group\": \"politics\"}, {\"x\": 0.04686751757830235, \"y\": 1.0404920107659557, \"group\": \"politics\"}, {\"x\": -1.9966596413591429, \"y\": 1.483073496886812, \"group\": \"politics\"}, {\"x\": -1.3635899193692504, \"y\": 1.8697045721381118, \"group\": \"politics\"}, {\"x\": 2.0368316657389456, \"y\": 0.8324105520787131, \"group\": \"politics\"}, {\"x\": 1.1387578024631884, \"y\": 0.08575145830219383, \"group\": \"politics\"}, {\"x\": 3.351112447341631, \"y\": -1.6431515194531303, \"group\": \"politics\"}, {\"x\": -0.8729802943562683, \"y\": 0.20039385328822396, \"group\": \"politics\"}, {\"x\": -1.2310313238867778, \"y\": 0.8369456594786101, \"group\": \"politics\"}, {\"x\": 0.580281886402159, \"y\": -0.18015658841545254, \"group\": \"politics\"}, {\"x\": -2.1083908692841975, \"y\": 1.4035118229159904, \"group\": \"politics\"}, {\"x\": -0.433797430470848, \"y\": -0.22742637698784596, \"group\": \"politics\"}, {\"x\": -1.4503288156665328, \"y\": -1.6081426783348156, \"group\": \"politics\"}, {\"x\": -1.478410256445744, \"y\": 0.9961442916550071, \"group\": \"politics\"}, {\"x\": -0.6116599178132455, \"y\": -0.47462178883827255, \"group\": \"politics\"}, {\"x\": -1.9016063889208321, \"y\": 0.30194533770941023, \"group\": \"politics\"}, {\"x\": -1.136155241668977, \"y\": -0.3776480801716247, \"group\": \"politics\"}, {\"x\": -0.039285319232394963, \"y\": -0.927127742465851, \"group\": \"politics\"}, {\"x\": -0.6652602009862334, \"y\": 1.7494249420232963, \"group\": \"politics\"}, {\"x\": -0.8781403689151019, \"y\": -1.5121797652507925, \"group\": \"politics\"}, {\"x\": -0.709199487527697, \"y\": -0.41088760469733815, \"group\": \"politics\"}, {\"x\": -0.08439170786537355, \"y\": 1.4570748874680248, \"group\": \"politics\"}, {\"x\": 2.745727663739753, \"y\": 0.43389965157283683, \"group\": \"politics\"}, {\"x\": 0.39646639940723544, \"y\": -1.6875992491292715, \"group\": \"politics\"}, {\"x\": 0.332659049787418, \"y\": 0.7752794448133689, \"group\": \"politics\"}, {\"x\": -1.9278084580023926, \"y\": 2.034268822626756, \"group\": \"politics\"}, {\"x\": -0.1083596638431565, \"y\": -0.8049245300116009, \"group\": \"politics\"}, {\"x\": -0.025533125830623383, \"y\": -0.3486735358347719, \"group\": \"politics\"}, {\"x\": -0.3266409725552908, \"y\": -0.6558616936419784, \"group\": \"politics\"}, {\"x\": -0.7465859650452291, \"y\": 1.8892763129139818, \"group\": \"politics\"}, {\"x\": -1.3901209474686447, \"y\": -0.9021306084664314, \"group\": \"politics\"}, {\"x\": 1.32842025923727, \"y\": -1.1559241618478708, \"group\": \"politics\"}, {\"x\": 1.015008565657276, \"y\": -0.790837730942842, \"group\": \"politics\"}, {\"x\": -0.8001640701651606, \"y\": -0.44753228057405103, \"group\": \"politics\"}, {\"x\": 1.5616985068769729, \"y\": 0.6440563172745779, \"group\": \"politics\"}, {\"x\": -0.7707962554591313, \"y\": 0.6998182230796033, \"group\": \"politics\"}, {\"x\": -0.4569823912832291, \"y\": 0.714140898937833, \"group\": \"politics\"}, {\"x\": 1.146642361864449, \"y\": -2.348996586970632, \"group\": \"politics\"}, {\"x\": -0.633542570618414, \"y\": 1.566084938024686, \"group\": \"politics\"}, {\"x\": -0.3746042051894421, \"y\": -2.251392198065209, \"group\": \"politics\"}, {\"x\": -2.6337708038785372, \"y\": -0.2826769282124888, \"group\": \"politics\"}, {\"x\": -2.55476342973373, \"y\": 0.24367134461374426, \"group\": \"politics\"}, {\"x\": -0.26252525838036583, \"y\": -0.41741940711749975, \"group\": \"politics\"}, {\"x\": 1.4903012228429207, \"y\": -0.7076432586253887, \"group\": \"politics\"}, {\"x\": -0.4896142528760495, \"y\": 2.1758636028156784, \"group\": \"politics\"}, {\"x\": -1.2429593638415568, \"y\": 1.8834427486485972, \"group\": \"politics\"}, {\"x\": -1.308470828893763, \"y\": -0.13408786903859451, \"group\": \"politics\"}, {\"x\": -0.46280496113166314, \"y\": 0.3049374942635609, \"group\": \"politics\"}, {\"x\": -1.7305986673330427, \"y\": -0.13172672281927053, \"group\": \"politics\"}, {\"x\": -1.6990098472745785, \"y\": -0.7583792184417903, \"group\": \"politics\"}, {\"x\": 2.121970174863879, \"y\": 0.6157693771897649, \"group\": \"politics\"}, {\"x\": 0.6215052985896916, \"y\": -1.069819777270388, \"group\": \"politics\"}, {\"x\": 0.2674871339114484, \"y\": 0.3816798601710535, \"group\": \"politics\"}, {\"x\": -0.09102589530266889, \"y\": -1.9515236667560765, \"group\": \"politics\"}, {\"x\": 1.2185438235147183, \"y\": -0.6676715096121749, \"group\": \"politics\"}, {\"x\": -1.176167726084732, \"y\": 1.4112039090552084, \"group\": \"politics\"}, {\"x\": -0.5611192601128903, \"y\": -1.7184262248614877, \"group\": \"politics\"}, {\"x\": 0.7403485143197897, \"y\": 1.2216764529572712, \"group\": \"politics\"}, {\"x\": -0.38313115020065097, \"y\": -0.9227374532027273, \"group\": \"politics\"}, {\"x\": -1.6662738975845721, \"y\": -0.4761618152417315, \"group\": \"politics\"}, {\"x\": 0.09349700665154322, \"y\": -1.486085359779577, \"group\": \"politics\"}, {\"x\": 0.3597184675625898, \"y\": 0.01461212907378259, \"group\": \"politics\"}, {\"x\": -1.0762435169118163, \"y\": 0.9725511754858975, \"group\": \"politics\"}, {\"x\": 1.3257818690442962, \"y\": 0.20627243924322453, \"group\": \"politics\"}, {\"x\": -1.5754940459180216, \"y\": 0.7954551719670909, \"group\": \"politics\"}, {\"x\": 0.8211740665406687, \"y\": 0.28296683633956904, \"group\": \"politics\"}, {\"x\": 0.8088662533722683, \"y\": -0.8063093489714337, \"group\": \"politics\"}, {\"x\": -1.1785241464101606, \"y\": 1.2908725201534585, \"group\": \"politics\"}, {\"x\": -1.0377148978430641, \"y\": 0.8697501248357876, \"group\": \"politics\"}, {\"x\": -0.5964791604839071, \"y\": -1.2550035228129546, \"group\": \"politics\"}, {\"x\": -0.8378391653585757, \"y\": 0.9914928575374186, \"group\": \"politics\"}, {\"x\": -0.019514350036992437, \"y\": 0.35322840162442515, \"group\": \"politics\"}, {\"x\": -1.3160425848289015, \"y\": 0.13398857998198127, \"group\": \"politics\"}, {\"x\": -0.2805876381465393, \"y\": -1.3017092205603422, \"group\": \"politics\"}, {\"x\": 0.940074683095944, \"y\": 0.02585168487849129, \"group\": \"politics\"}, {\"x\": -0.4021994060559065, \"y\": -1.8701871755247075, \"group\": \"politics\"}, {\"x\": -1.3744691995197034, \"y\": -0.9613433695745801, \"group\": \"politics\"}, {\"x\": -0.8743310553644411, \"y\": -0.7191288636669221, \"group\": \"politics\"}, {\"x\": -1.6839195483919576, \"y\": 0.6918925904190203, \"group\": \"politics\"}, {\"x\": -0.6005072510779582, \"y\": 0.5322565546165374, \"group\": \"politics\"}, {\"x\": -1.1149555126358548, \"y\": -1.8978592364004991, \"group\": \"politics\"}, {\"x\": -1.4254561552641674, \"y\": 1.1595139685319555, \"group\": \"politics\"}, {\"x\": -0.18099407275463136, \"y\": -0.5473991719036908, \"group\": \"politics\"}, {\"x\": -0.868958063106143, \"y\": -0.5293169514157682, \"group\": \"politics\"}, {\"x\": 0.7491688412976241, \"y\": 0.5668769704538997, \"group\": \"politics\"}, {\"x\": 1.2373134098235081, \"y\": -0.6659586107972885, \"group\": \"politics\"}, {\"x\": -1.0059951227110568, \"y\": -0.34003300651304513, \"group\": \"politics\"}, {\"x\": 2.3829983968489925, \"y\": -0.27025514232613995, \"group\": \"politics\"}, {\"x\": -0.09630262915076368, \"y\": 2.1200503448582637, \"group\": \"politics\"}, {\"x\": -0.38314469515524496, \"y\": -1.285123986868482, \"group\": \"politics\"}, {\"x\": 1.4628356050735536, \"y\": 0.14229836958376638, \"group\": \"politics\"}, {\"x\": -0.87712985419794, \"y\": -0.5616675486781578, \"group\": \"politics\"}, {\"x\": -0.44216856003704363, \"y\": 1.2620811379360082, \"group\": \"politics\"}, {\"x\": -1.3083303308070682, \"y\": -1.654998996417996, \"group\": \"politics\"}, {\"x\": 0.743248590277622, \"y\": 1.4289619362221415, \"group\": \"politics\"}, {\"x\": -0.7651128868013948, \"y\": -1.756832779102869, \"group\": \"politics\"}, {\"x\": 0.17827624823488608, \"y\": 0.33996324557071744, \"group\": \"politics\"}, {\"x\": -0.6602378449468476, \"y\": 0.10822582272144474, \"group\": \"politics\"}, {\"x\": 0.71832750514581, \"y\": 2.371790926611874, \"group\": \"politics\"}, {\"x\": -0.4369018326315405, \"y\": 0.6308979087358256, \"group\": \"politics\"}, {\"x\": 0.7621493246286587, \"y\": 0.5033326883810919, \"group\": \"politics\"}, {\"x\": -0.5629692775527867, \"y\": -1.1807501069683681, \"group\": \"politics\"}, {\"x\": -1.3714260305909867, \"y\": 0.17498089129932795, \"group\": \"politics\"}, {\"x\": -1.2825720171198358, \"y\": -0.3094148712223475, \"group\": \"politics\"}, {\"x\": 0.4934736517085018, \"y\": -1.8356704125927614, \"group\": \"politics\"}, {\"x\": -1.5708098215565613, \"y\": -0.3532329424897149, \"group\": \"politics\"}, {\"x\": -0.5988509255021613, \"y\": -0.3137455335866078, \"group\": \"politics\"}, {\"x\": 0.6006856819880921, \"y\": -0.6590066623805269, \"group\": \"politics\"}, {\"x\": 1.0854305484684956, \"y\": -0.9808801126379949, \"group\": \"politics\"}, {\"x\": 0.7264159645063345, \"y\": -0.4602960642873198, \"group\": \"politics\"}, {\"x\": 0.18454819570136857, \"y\": -1.988548412204766, \"group\": \"politics\"}, {\"x\": 0.07070882142541701, \"y\": -0.7265447665517549, \"group\": \"politics\"}, {\"x\": -0.9798984601815748, \"y\": -1.9147800294421955, \"group\": \"politics\"}, {\"x\": 1.0187012374126267, \"y\": 0.8956974818459645, \"group\": \"politics\"}, {\"x\": 1.6216192148315316, \"y\": -0.14587634760711124, \"group\": \"politics\"}, {\"x\": 0.7815262157152667, \"y\": 1.9034240825896234, \"group\": \"politics\"}, {\"x\": -0.4317842768124001, \"y\": -1.432878776810707, \"group\": \"politics\"}, {\"x\": -0.4901097188346238, \"y\": -0.6142792444637181, \"group\": \"politics\"}, {\"x\": -0.4185945126718945, \"y\": 1.2516914096782605, \"group\": \"politics\"}, {\"x\": -1.1723351717390886, \"y\": -1.5940700505789152, \"group\": \"politics\"}, {\"x\": -0.69658868716009, \"y\": -0.6746032979522523, \"group\": \"politics\"}, {\"x\": -1.238635592353792, \"y\": -1.4375428738319813, \"group\": \"politics\"}, {\"x\": -1.142289725236074, \"y\": -0.006904666566603311, \"group\": \"politics\"}, {\"x\": -0.4109648386360573, \"y\": 0.998810052439167, \"group\": \"tech\"}, {\"x\": -0.9168335300282636, \"y\": 0.5503463360201891, \"group\": \"tech\"}, {\"x\": -1.2575574147428221, \"y\": -0.2617098988634183, \"group\": \"tech\"}, {\"x\": 0.007654324559221388, \"y\": 1.2680486435255032, \"group\": \"tech\"}, {\"x\": 0.008370356254864188, \"y\": 0.0489208804226978, \"group\": \"tech\"}, {\"x\": -0.13305011609750597, \"y\": -0.5581023099104192, \"group\": \"tech\"}, {\"x\": 0.17520074675849967, \"y\": 0.41987832692880744, \"group\": \"tech\"}, {\"x\": -1.3385503769826734, \"y\": 0.7583465811672956, \"group\": \"tech\"}, {\"x\": -0.8592927701093425, \"y\": 0.21666550228202341, \"group\": \"tech\"}, {\"x\": -0.04332259155111441, \"y\": -0.06487394848526498, \"group\": \"tech\"}, {\"x\": -1.4460619682086098, \"y\": -0.629407176117759, \"group\": \"tech\"}, {\"x\": 0.01384441734821457, \"y\": 0.29540975318902474, \"group\": \"tech\"}, {\"x\": -1.6506092552210778, \"y\": 1.1004835329611333, \"group\": \"tech\"}, {\"x\": 0.4734990809941199, \"y\": -1.3080600900782005, \"group\": \"tech\"}, {\"x\": -0.015404524138026763, \"y\": 1.549020624664295, \"group\": \"tech\"}, {\"x\": -1.5630537618170632, \"y\": 1.133820766611421, \"group\": \"tech\"}, {\"x\": -0.013440400486637374, \"y\": -0.6921583696011981, \"group\": \"tech\"}, {\"x\": 0.33246394237063653, \"y\": -0.44315015745421166, \"group\": \"tech\"}, {\"x\": -0.6937840284877606, \"y\": -1.223959992665734, \"group\": \"tech\"}, {\"x\": -1.4381628766348933, \"y\": -1.4831723235546002, \"group\": \"tech\"}, {\"x\": -0.5148875302851735, \"y\": -1.79861833021709, \"group\": \"tech\"}, {\"x\": -0.3495098227322654, \"y\": -1.1101822128726633, \"group\": \"tech\"}, {\"x\": 0.307102932157358, \"y\": -1.6500220281015838, \"group\": \"tech\"}, {\"x\": 0.4533942546602489, \"y\": 1.6234725822800742, \"group\": \"tech\"}, {\"x\": 1.0221803951784378, \"y\": 0.9007225563360715, \"group\": \"tech\"}, {\"x\": -0.5445027077793332, \"y\": 1.0049772805173078, \"group\": \"tech\"}, {\"x\": -1.5726673776375857, \"y\": 0.9520242719517946, \"group\": \"tech\"}, {\"x\": -0.7233241844717443, \"y\": -0.22120195536202455, \"group\": \"tech\"}, {\"x\": 0.12343778004719812, \"y\": -2.39052447756695, \"group\": \"tech\"}, {\"x\": 0.01654813266325938, \"y\": 1.4463126217206848, \"group\": \"tech\"}, {\"x\": -0.2760647016355435, \"y\": 0.24040967565362145, \"group\": \"tech\"}, {\"x\": -0.2702491122857987, \"y\": -0.7969600779948507, \"group\": \"tech\"}, {\"x\": -0.9468688425217962, \"y\": -2.044891659337973, \"group\": \"tech\"}, {\"x\": 0.7223140632019769, \"y\": 0.3944593845860349, \"group\": \"tech\"}, {\"x\": 0.580697358000599, \"y\": -0.522089492888003, \"group\": \"tech\"}, {\"x\": -2.6865177468395576, \"y\": 0.23945148950226844, \"group\": \"tech\"}, {\"x\": -3.5588785363296815, \"y\": 0.9627174384750905, \"group\": \"tech\"}, {\"x\": -1.2626842572264865, \"y\": -1.1603112522090198, \"group\": \"tech\"}, {\"x\": -1.5206072263160582, \"y\": 0.11437529071361861, \"group\": \"tech\"}, {\"x\": -0.47461926332771254, \"y\": 1.113866822222465, \"group\": \"tech\"}, {\"x\": -1.9363331561233434, \"y\": 0.9457958172487444, \"group\": \"tech\"}, {\"x\": 1.3086111617626741, \"y\": -0.5094513715169882, \"group\": \"tech\"}, {\"x\": -0.6278197544498539, \"y\": 0.191843228312005, \"group\": \"tech\"}, {\"x\": -1.5303361141913596, \"y\": -0.313048478574928, \"group\": \"tech\"}, {\"x\": -0.6987354635564292, \"y\": 0.7102261584379523, \"group\": \"tech\"}, {\"x\": -0.9052128328908853, \"y\": -1.2000174715786434, \"group\": \"tech\"}, {\"x\": -0.7578765168250797, \"y\": 1.868552618312728, \"group\": \"tech\"}, {\"x\": 0.8331616380976283, \"y\": 1.4632369012055242, \"group\": \"tech\"}, {\"x\": 0.2509328872023398, \"y\": -0.879776833509221, \"group\": \"tech\"}, {\"x\": -0.37441001458881656, \"y\": 1.5437113296945302, \"group\": \"tech\"}, {\"x\": -0.99656440430544, \"y\": -1.1840893724251416, \"group\": \"tech\"}, {\"x\": -0.11016809313329463, \"y\": 1.9747469984888812, \"group\": \"tech\"}, {\"x\": 0.32417060773537265, \"y\": 1.0324132481263468, \"group\": \"tech\"}, {\"x\": 1.0987107247629135, \"y\": 0.5207372122185016, \"group\": \"tech\"}, {\"x\": -0.42621387998411525, \"y\": -1.0258412210716354, \"group\": \"tech\"}, {\"x\": -1.0528835332366844, \"y\": -0.47080222511052305, \"group\": \"tech\"}, {\"x\": -1.244119785945735, \"y\": -0.08588023430188388, \"group\": \"tech\"}, {\"x\": -0.48199487712085604, \"y\": 0.23082545102332497, \"group\": \"tech\"}, {\"x\": 1.5334584383081473, \"y\": 0.7109082082526961, \"group\": \"tech\"}, {\"x\": -1.6701447528819249, \"y\": -0.023653074570620637, \"group\": \"tech\"}, {\"x\": -0.3497079710995418, \"y\": -3.2896031444160836, \"group\": \"tech\"}, {\"x\": -1.2332516114565755, \"y\": -0.2953094664902116, \"group\": \"tech\"}, {\"x\": -0.49627189528772275, \"y\": -0.6022380391690794, \"group\": \"tech\"}, {\"x\": -0.6283018797942597, \"y\": -0.643666869006776, \"group\": \"tech\"}, {\"x\": -0.42833214523467755, \"y\": -2.7521681386227392, \"group\": \"tech\"}, {\"x\": 0.09369083967345794, \"y\": 1.8131411204545398, \"group\": \"tech\"}, {\"x\": -2.3433411006314486, \"y\": -1.483235753632374, \"group\": \"tech\"}, {\"x\": -1.6694770396975296, \"y\": -1.3348568539046504, \"group\": \"tech\"}, {\"x\": -1.2098003054372122, \"y\": -1.36888570298703, \"group\": \"tech\"}, {\"x\": 0.2920629390900796, \"y\": -0.6634323016390665, \"group\": \"tech\"}, {\"x\": -1.3573136426216117, \"y\": 1.441508296393001, \"group\": \"tech\"}, {\"x\": 0.6574271076987904, \"y\": -0.5297240117153957, \"group\": \"tech\"}, {\"x\": -1.235190792939211, \"y\": -1.0212601160513388, \"group\": \"tech\"}, {\"x\": -0.42783959223071333, \"y\": -2.035159994951167, \"group\": \"tech\"}, {\"x\": -1.2814749721768945, \"y\": 0.8311456251587998, \"group\": \"tech\"}, {\"x\": -0.5912221642979352, \"y\": -0.39751606671778444, \"group\": \"tech\"}, {\"x\": 0.3312776732796636, \"y\": 0.2027978986732593, \"group\": \"tech\"}, {\"x\": 1.870881709879099, \"y\": 1.5066600371298875, \"group\": \"tech\"}, {\"x\": 0.1947329486259055, \"y\": -0.6581008215307305, \"group\": \"tech\"}, {\"x\": 0.7613403724235762, \"y\": -0.23015512239509112, \"group\": \"tech\"}, {\"x\": -1.0016124196715834, \"y\": -1.095765235820525, \"group\": \"tech\"}, {\"x\": -1.3886544171805957, \"y\": -0.3819982443748488, \"group\": \"tech\"}, {\"x\": 2.2055237522231144, \"y\": -1.1240155456256964, \"group\": \"tech\"}, {\"x\": -0.7151854952078208, \"y\": -0.21789665314033968, \"group\": \"tech\"}, {\"x\": -0.8979361962155779, \"y\": 1.0399735405353177, \"group\": \"tech\"}, {\"x\": -1.42501249446152, \"y\": -0.47525046857078507, \"group\": \"tech\"}, {\"x\": -2.057667421978281, \"y\": 0.5410213029743204, \"group\": \"tech\"}, {\"x\": 0.44330434770473015, \"y\": -0.1846347790541855, \"group\": \"tech\"}, {\"x\": -1.744448575562839, \"y\": 0.8116189204476122, \"group\": \"tech\"}, {\"x\": -1.3868485119308758, \"y\": -1.322067096857333, \"group\": \"tech\"}, {\"x\": -1.1139027342845982, \"y\": 0.4017302502052735, \"group\": \"tech\"}, {\"x\": 0.23001550517953212, \"y\": 0.17809814197267795, \"group\": \"tech\"}, {\"x\": -0.878290329336434, \"y\": 0.6154221143437344, \"group\": \"tech\"}, {\"x\": 1.2244413845216378, \"y\": -0.36863157735153984, \"group\": \"tech\"}, {\"x\": 0.8376622480750168, \"y\": -0.827754342977343, \"group\": \"tech\"}, {\"x\": 0.4881255770068187, \"y\": 1.0146099831422102, \"group\": \"tech\"}, {\"x\": 0.39190776445745046, \"y\": -1.427974473055834, \"group\": \"tech\"}, {\"x\": -0.6796462582611638, \"y\": -0.5449760685683467, \"group\": \"tech\"}, {\"x\": 0.04366918104268191, \"y\": 0.6726855250155594, \"group\": \"tech\"}, {\"x\": -1.81371573869819, \"y\": 1.7051509650971042, \"group\": \"tech\"}, {\"x\": -1.7819952578596585, \"y\": -0.0277674825375957, \"group\": \"tech\"}, {\"x\": -0.807303705068701, \"y\": -1.0733644960657462, \"group\": \"tech\"}, {\"x\": -0.7942498659725633, \"y\": 1.4478354649287908, \"group\": \"tech\"}, {\"x\": 0.8643955564533384, \"y\": 1.1973976600753378, \"group\": \"tech\"}, {\"x\": 1.0716632670871453, \"y\": -0.0645319615032914, \"group\": \"tech\"}, {\"x\": 0.9115851202459326, \"y\": -2.492433769299607, \"group\": \"tech\"}, {\"x\": -0.12073971773892207, \"y\": -1.1907777445436398, \"group\": \"tech\"}, {\"x\": -0.306396485950792, \"y\": -1.0440324621675565, \"group\": \"tech\"}, {\"x\": -0.6181132173801334, \"y\": 0.5646338400449114, \"group\": \"tech\"}, {\"x\": 0.25605462010084673, \"y\": -1.502199559952834, \"group\": \"tech\"}, {\"x\": 0.6434854723916907, \"y\": 0.8466617356198888, \"group\": \"tech\"}, {\"x\": -0.5253292866627046, \"y\": 0.6855421234623361, \"group\": \"tech\"}, {\"x\": -0.3059630254876989, \"y\": -1.4808491275935944, \"group\": \"tech\"}, {\"x\": 0.5932160541545649, \"y\": 1.1787872661674275, \"group\": \"tech\"}, {\"x\": -1.116542783302566, \"y\": -0.752914056760359, \"group\": \"tech\"}, {\"x\": -0.4396588848288398, \"y\": -1.7126845795983567, \"group\": \"tech\"}, {\"x\": -0.1535552040368433, \"y\": -0.4945593344937711, \"group\": \"tech\"}, {\"x\": -0.037708619586115974, \"y\": 1.7904562344757957, \"group\": \"tech\"}, {\"x\": -0.4286692808212439, \"y\": -0.20042661246646648, \"group\": \"tech\"}, {\"x\": -0.5002715571512727, \"y\": 0.8654929745803863, \"group\": \"tech\"}, {\"x\": -2.0844459447948167, \"y\": 1.268007867129167, \"group\": \"tech\"}, {\"x\": -0.6237029771410396, \"y\": 1.6218655659696755, \"group\": \"tech\"}, {\"x\": 1.1324840165952104, \"y\": -0.4980051689594465, \"group\": \"tech\"}, {\"x\": -0.43141114033289313, \"y\": 1.3284639472515114, \"group\": \"tech\"}, {\"x\": 0.27950185772496455, \"y\": 0.3095588241816606, \"group\": \"tech\"}, {\"x\": 1.494659808945096, \"y\": 1.0150089294792597, \"group\": \"tech\"}, {\"x\": -1.158649522343247, \"y\": -0.3784967915378878, \"group\": \"tech\"}, {\"x\": 1.1065480594996304, \"y\": 0.14676042977870796, \"group\": \"tech\"}, {\"x\": 1.1516071725205612, \"y\": 0.3661649487022552, \"group\": \"tech\"}, {\"x\": 1.4280846328926224, \"y\": -0.04846111775072657, \"group\": \"tech\"}, {\"x\": -0.08762590591672574, \"y\": 1.436418457584111, \"group\": \"tech\"}, {\"x\": 1.718017724543237, \"y\": -1.0598030288172906, \"group\": \"tech\"}, {\"x\": -0.6043426965128242, \"y\": -1.466528675857172, \"group\": \"tech\"}, {\"x\": -1.5350767778979264, \"y\": -0.17917398671703422, \"group\": \"tech\"}, {\"x\": 0.030847358627859915, \"y\": 2.356090392439189, \"group\": \"tech\"}, {\"x\": -0.5069388562848509, \"y\": 0.07190042481348011, \"group\": \"tech\"}, {\"x\": -0.13816181615897535, \"y\": -0.31929893417947003, \"group\": \"tech\"}, {\"x\": -2.1601267912979942, \"y\": 1.0192315096905036, \"group\": \"tech\"}, {\"x\": 1.2591468379281503, \"y\": 2.0582423889641195, \"group\": \"tech\"}, {\"x\": -0.18508505828751487, \"y\": 0.28710061587044255, \"group\": \"tech\"}, {\"x\": -0.25662209379877593, \"y\": 0.5392447327342584, \"group\": \"tech\"}, {\"x\": -1.7040241137061263, \"y\": 0.7035171798894855, \"group\": \"tech\"}, {\"x\": -0.6254498896521977, \"y\": -1.1146362569021593, \"group\": \"tech\"}, {\"x\": -0.8753299943087199, \"y\": -0.7470022116935502, \"group\": \"tech\"}, {\"x\": 0.23227998083210177, \"y\": 3.0192090275001022, \"group\": \"tech\"}, {\"x\": -1.096166378957044, \"y\": -1.9834907583956523, \"group\": \"tech\"}, {\"x\": -0.4552322361282453, \"y\": 0.696085460441428, \"group\": \"tech\"}, {\"x\": -0.7914267639297858, \"y\": -1.8626365650976546, \"group\": \"tech\"}, {\"x\": -0.8115601011280577, \"y\": -0.4828892415303358, \"group\": \"tech\"}, {\"x\": -0.7879952700037675, \"y\": 0.21160411780429408, \"group\": \"tech\"}, {\"x\": -2.3151278470464796, \"y\": 2.0762457904166753, \"group\": \"tech\"}, {\"x\": -0.2771548087516925, \"y\": 1.7876442259928977, \"group\": \"tech\"}, {\"x\": 0.11884611416333651, \"y\": -1.1964153384441234, \"group\": \"tech\"}, {\"x\": -1.2564244312275785, \"y\": 1.6186343809584829, \"group\": \"tech\"}, {\"x\": 0.524045936144182, \"y\": 1.6645745706267197, \"group\": \"tech\"}, {\"x\": -0.7515137865741308, \"y\": 1.0870399640706419, \"group\": \"tech\"}, {\"x\": -0.9265065694228366, \"y\": 1.978235784982864, \"group\": \"tech\"}, {\"x\": 1.4178377465722336, \"y\": -0.42135266685842054, \"group\": \"tech\"}, {\"x\": -1.880148617655099, \"y\": -1.682371136537227, \"group\": \"tech\"}, {\"x\": -0.14802283994252816, \"y\": -0.26472162490942514, \"group\": \"tech\"}, {\"x\": -0.09145477432985123, \"y\": -2.7675645273330347, \"group\": \"tech\"}, {\"x\": -0.3464098129639944, \"y\": 1.1186127076554448, \"group\": \"tech\"}, {\"x\": -0.032576256663168233, \"y\": -0.6281438285157555, \"group\": \"tech\"}, {\"x\": -0.4716932855743962, \"y\": -0.4513223490551599, \"group\": \"tech\"}, {\"x\": 0.1565640374687483, \"y\": -0.36311409875093825, \"group\": \"tech\"}, {\"x\": 0.5297945836432407, \"y\": -0.9182711676164931, \"group\": \"tech\"}, {\"x\": -0.09543441372484482, \"y\": -0.6771073779640464, \"group\": \"tech\"}, {\"x\": 1.3825444433993617, \"y\": -0.8186793673724516, \"group\": \"tech\"}, {\"x\": -2.685449383261421, \"y\": -0.2163209234797977, \"group\": \"tech\"}, {\"x\": -1.1382105267039893, \"y\": -0.717963467367984, \"group\": \"tech\"}, {\"x\": -1.2733454845798862, \"y\": 0.8622897472656054, \"group\": \"tech\"}, {\"x\": 0.22350242474944895, \"y\": 1.3051986339891615, \"group\": \"tech\"}, {\"x\": -1.6522839547246038, \"y\": -0.8172150234694149, \"group\": \"tech\"}, {\"x\": -1.500741607166058, \"y\": -0.657012175709431, \"group\": \"tech\"}, {\"x\": -2.1889975621645905, \"y\": 0.25789547994102735, \"group\": \"tech\"}, {\"x\": -2.2417530632600284, \"y\": 0.5418396929613962, \"group\": \"tech\"}, {\"x\": -0.9400096931073274, \"y\": 0.35769996424968803, \"group\": \"tech\"}, {\"x\": 0.6791151979473049, \"y\": -0.178998715800468, \"group\": \"tech\"}, {\"x\": 0.3910286305496657, \"y\": 0.09726852309750404, \"group\": \"tech\"}, {\"x\": -0.955103834061276, \"y\": 0.006110341773792045, \"group\": \"tech\"}, {\"x\": -0.1649926667706599, \"y\": 3.64201173094102, \"group\": \"tech\"}, {\"x\": 1.3364962980686257, \"y\": -0.8823613888417027, \"group\": \"tech\"}, {\"x\": 0.8682766963418277, \"y\": 1.1559861838814633, \"group\": \"tech\"}, {\"x\": -0.6097707115852208, \"y\": 0.09141175677989538, \"group\": \"tech\"}, {\"x\": -1.4556075199363219, \"y\": -1.3326605561072298, \"group\": \"tech\"}, {\"x\": -1.2565955493698178, \"y\": -0.22408619200981778, \"group\": \"tech\"}, {\"x\": -1.7047882099047755, \"y\": 0.3814360972708046, \"group\": \"tech\"}, {\"x\": 1.0568872490739345, \"y\": -0.2673746215173337, \"group\": \"tech\"}, {\"x\": -1.2125381024398758, \"y\": -1.2215457867042938, \"group\": \"tech\"}, {\"x\": 1.4900632072436837, \"y\": 0.7482855981382175, \"group\": \"tech\"}, {\"x\": -0.7910043623571157, \"y\": 0.44631514033827946, \"group\": \"tech\"}, {\"x\": 0.6731091011511512, \"y\": -2.2011075259756487, \"group\": \"tech\"}, {\"x\": -2.5401468507727154, \"y\": 1.0898010741546917, \"group\": \"tech\"}, {\"x\": -0.004347899820804956, \"y\": 0.30465860033722253, \"group\": \"tech\"}, {\"x\": -0.23275994173496814, \"y\": -0.15634689140536293, \"group\": \"tech\"}, {\"x\": -0.47143941120850197, \"y\": 1.3916984509604458, \"group\": \"tech\"}, {\"x\": -1.4967602602592862, \"y\": -3.600420960279673, \"group\": \"tech\"}, {\"x\": -1.1968227343915747, \"y\": -0.6141464174498411, \"group\": \"tech\"}, {\"x\": 0.3199145095081286, \"y\": -1.4780426567354488, \"group\": \"tech\"}, {\"x\": -2.4488975239984807, \"y\": 0.9585247694700048, \"group\": \"tech\"}, {\"x\": -1.0620857912199686, \"y\": -0.32424217606270705, \"group\": \"tech\"}, {\"x\": 0.22063589912448048, \"y\": -1.0003908673731545, \"group\": \"tech\"}, {\"x\": -2.220186493723867, \"y\": 0.7821483551761444, \"group\": \"tech\"}, {\"x\": -0.23465591162681437, \"y\": -0.7306796844563378, \"group\": \"tech\"}, {\"x\": -0.10460107352666892, \"y\": -0.46721303537644027, \"group\": \"tech\"}, {\"x\": -0.6397584989727295, \"y\": -1.6953462294703379, \"group\": \"tech\"}, {\"x\": -0.6920030162706117, \"y\": -0.10970874530635737, \"group\": \"tech\"}, {\"x\": 0.09884004057101928, \"y\": -0.8928927200184044, \"group\": \"tech\"}, {\"x\": 0.14986342198842398, \"y\": -0.04056103999012208, \"group\": \"tech\"}, {\"x\": -1.1750014061415521, \"y\": -0.8995111690505233, \"group\": \"tech\"}, {\"x\": -1.778268731348745, \"y\": 0.9031507757408258, \"group\": \"tech\"}, {\"x\": -0.7296267644685344, \"y\": 1.1100835048356796, \"group\": \"tech\"}, {\"x\": -2.5044314407146895, \"y\": -0.5900396147566476, \"group\": \"tech\"}, {\"x\": -1.2855362724902102, \"y\": 1.4748441447718428, \"group\": \"tech\"}, {\"x\": 0.31113691024972856, \"y\": -0.6190172774174628, \"group\": \"tech\"}, {\"x\": 0.01665741482378471, \"y\": -0.7635086656927167, \"group\": \"tech\"}, {\"x\": -0.7632829128367451, \"y\": 0.5319650239857525, \"group\": \"tech\"}, {\"x\": 1.1357721546568311, \"y\": 0.9945311183611513, \"group\": \"tech\"}, {\"x\": -0.5004084605525645, \"y\": 0.7815516000341307, \"group\": \"tech\"}, {\"x\": 0.011994255247787008, \"y\": -0.19560262512401067, \"group\": \"tech\"}, {\"x\": -0.04058953958733259, \"y\": -0.46823804681101205, \"group\": \"tech\"}, {\"x\": -0.10969173350481314, \"y\": -3.6424268278179426, \"group\": \"tech\"}, {\"x\": -1.4209061457146268, \"y\": 0.5117285182173029, \"group\": \"tech\"}, {\"x\": -1.2945816702374116, \"y\": 1.0565925048844695, \"group\": \"tech\"}, {\"x\": -0.204969570892888, \"y\": -1.257232835943589, \"group\": \"tech\"}, {\"x\": 0.1494407639160068, \"y\": -0.6355306971203751, \"group\": \"tech\"}, {\"x\": -0.5060566324906217, \"y\": -0.8331691142866638, \"group\": \"tech\"}, {\"x\": -1.2490486161155279, \"y\": 0.33168667113358546, \"group\": \"tech\"}, {\"x\": -0.0723872952455407, \"y\": -2.6011319196804017, \"group\": \"tech\"}, {\"x\": -0.498513613648565, \"y\": 1.397487570805162, \"group\": \"tech\"}, {\"x\": -1.3542117629586796, \"y\": -2.7329237567169535, \"group\": \"tech\"}, {\"x\": 0.26217558089479254, \"y\": -0.14504708657652893, \"group\": \"tech\"}, {\"x\": -0.4046625584551712, \"y\": 0.065656402970165, \"group\": \"tech\"}, {\"x\": 0.6130496216717206, \"y\": 2.3484393235482757, \"group\": \"tech\"}, {\"x\": -0.19564433753251487, \"y\": 1.7508585777284609, \"group\": \"tech\"}, {\"x\": -0.6193273398482825, \"y\": 2.27479293221976, \"group\": \"tech\"}, {\"x\": -0.6249034530694344, \"y\": 0.13138100785397042, \"group\": \"tech\"}, {\"x\": -1.377697228703949, \"y\": -0.29278446035480254, \"group\": \"tech\"}, {\"x\": -0.6220432843425111, \"y\": 1.0209758902359953, \"group\": \"tech\"}, {\"x\": -0.10204016602789336, \"y\": 0.2580300462800186, \"group\": \"tech\"}, {\"x\": -1.679974815110792, \"y\": 0.3313955510317939, \"group\": \"tech\"}, {\"x\": -1.0372259584236616, \"y\": -1.8693842421616937, \"group\": \"tech\"}, {\"x\": -1.3197779462153134, \"y\": 1.6504539521421009, \"group\": \"tech\"}, {\"x\": -1.0436540250606832, \"y\": -0.6203977006485648, \"group\": \"tech\"}, {\"x\": -0.8696565946821202, \"y\": -0.23064261774732533, \"group\": \"tech\"}, {\"x\": 0.791480135153985, \"y\": 1.3705921438015547, \"group\": \"tech\"}, {\"x\": -1.039040195993598, \"y\": -0.2488095982656443, \"group\": \"tech\"}, {\"x\": -0.30422657931412384, \"y\": -1.6424976252633947, \"group\": \"tech\"}, {\"x\": 0.7583720571151886, \"y\": -0.04071828738867951, \"group\": \"tech\"}, {\"x\": 0.3895399193012753, \"y\": 0.05925244439022648, \"group\": \"tech\"}, {\"x\": -0.19329840441508297, \"y\": 0.34521349849564914, \"group\": \"tech\"}, {\"x\": -0.4965185317376013, \"y\": 0.009455860801233668, \"group\": \"tech\"}, {\"x\": -1.1992259060074317, \"y\": -0.3359932824716788, \"group\": \"tech\"}, {\"x\": -1.2174170177344836, \"y\": -1.7978551640142089, \"group\": \"tech\"}, {\"x\": -0.9564105756384079, \"y\": -0.7105954688769729, \"group\": \"tech\"}, {\"x\": -0.19748882602575635, \"y\": 1.3891156444974497, \"group\": \"tech\"}, {\"x\": -1.516857568069193, \"y\": -2.4792534553047254, \"group\": \"tech\"}, {\"x\": -2.4761267417890003, \"y\": -0.17435892624584787, \"group\": \"tech\"}, {\"x\": 0.9094569561687356, \"y\": 1.3867348953596252, \"group\": \"tech\"}, {\"x\": -0.6481156458663369, \"y\": -0.5838502750855572, \"group\": \"tech\"}, {\"x\": -1.0572205811218371, \"y\": -0.05590310323575388, \"group\": \"tech\"}, {\"x\": 0.8101610054225125, \"y\": -1.5952228859629727, \"group\": \"tech\"}, {\"x\": 0.4139006890755078, \"y\": 0.540409641851185, \"group\": \"tech\"}, {\"x\": -0.3741026796085699, \"y\": -0.6173094749183526, \"group\": \"tech\"}, {\"x\": 0.4878605884539525, \"y\": 1.3851035262964604, \"group\": \"tech\"}, {\"x\": 0.25433485987295357, \"y\": -0.08540162608841258, \"group\": \"tech\"}, {\"x\": 0.8601372016802843, \"y\": 1.1644439660692123, \"group\": \"tech\"}, {\"x\": 1.5098338032523861, \"y\": -0.21687435136482294, \"group\": \"tech\"}, {\"x\": -1.07868058309089, \"y\": -0.5096847236410043, \"group\": \"tech\"}, {\"x\": -0.39372241071953684, \"y\": -0.9124895019717612, \"group\": \"tech\"}, {\"x\": -0.3671300487534095, \"y\": -1.911832103138572, \"group\": \"tech\"}, {\"x\": 0.39197038109690296, \"y\": -1.2726282975697591, \"group\": \"tech\"}, {\"x\": 0.39177771377234205, \"y\": -2.101296621560182, \"group\": \"tech\"}, {\"x\": -0.7650084463405156, \"y\": -1.779218062286175, \"group\": \"tech\"}, {\"x\": -1.746110483585235, \"y\": 1.0199442964204324, \"group\": \"tech\"}, {\"x\": -0.6400403431230618, \"y\": -0.993942986785834, \"group\": \"tech\"}, {\"x\": -0.5700185390801943, \"y\": 0.35243731637537723, \"group\": \"tech\"}, {\"x\": -1.2457897709041332, \"y\": 0.09942770823650443, \"group\": \"tech\"}, {\"x\": -0.4109728734860271, \"y\": 1.2666479189719533, \"group\": \"tech\"}, {\"x\": -1.3014325525626196, \"y\": 0.42046153685499, \"group\": \"tech\"}, {\"x\": 0.7848592063674297, \"y\": 0.3150624982900363, \"group\": \"tech\"}, {\"x\": -1.8142465624896624, \"y\": -0.5403020721937877, \"group\": \"tech\"}, {\"x\": 0.10999335551292085, \"y\": 0.9918177718718372, \"group\": \"tech\"}, {\"x\": -0.06024048759426109, \"y\": 1.8791406477470298, \"group\": \"tech\"}, {\"x\": -0.9373128929293028, \"y\": -0.6741080188232649, \"group\": \"tech\"}, {\"x\": 0.2256081836302787, \"y\": 1.1097029281731046, \"group\": \"tech\"}, {\"x\": -2.243631190503078, \"y\": -1.0797069762578912, \"group\": \"tech\"}, {\"x\": -1.8714387200013065, \"y\": -1.9322570459497612, \"group\": \"tech\"}, {\"x\": -0.04611898974301867, \"y\": -0.27424642144368633, \"group\": \"tech\"}, {\"x\": 0.006241904168926294, \"y\": -1.3549854183098842, \"group\": \"tech\"}, {\"x\": 0.6471703022704831, \"y\": 2.994792387012133, \"group\": \"tech\"}, {\"x\": -0.4077651141494936, \"y\": 0.426272869942124, \"group\": \"tech\"}, {\"x\": -0.10460628972631637, \"y\": 1.5292798722030656, \"group\": \"tech\"}, {\"x\": -0.1011705748168695, \"y\": -0.7280452156129513, \"group\": \"tech\"}, {\"x\": -0.4318297271676825, \"y\": 0.3691006696520503, \"group\": \"tech\"}, {\"x\": -1.9571801329111733, \"y\": -0.850086823132361, \"group\": \"tech\"}, {\"x\": -0.6957255858134905, \"y\": 0.24803990628195302, \"group\": \"tech\"}, {\"x\": -3.2246107589090474, \"y\": -0.9573052701431477, \"group\": \"tech\"}, {\"x\": 0.7361048306226639, \"y\": 0.03266744479352963, \"group\": \"tech\"}, {\"x\": -0.4376636266767592, \"y\": 0.8930262257195922, \"group\": \"tech\"}, {\"x\": 0.22986258638388446, \"y\": -0.56568598630116, \"group\": \"tech\"}, {\"x\": 0.19649723457026508, \"y\": 0.44218423096517695, \"group\": \"tech\"}, {\"x\": -0.9217110610520859, \"y\": 1.8633783927509453, \"group\": \"tech\"}, {\"x\": -2.0370304619186106, \"y\": -1.0643841439689345, \"group\": \"tech\"}, {\"x\": -2.160662709398944, \"y\": -0.21056105971102487, \"group\": \"tech\"}, {\"x\": 3.211068326125084, \"y\": 1.1524068661384226, \"group\": \"tech\"}, {\"x\": -1.0746724397766676, \"y\": 2.6010179732200234, \"group\": \"tech\"}, {\"x\": -0.1818590520428183, \"y\": -0.17223859282721724, \"group\": \"tech\"}, {\"x\": -0.4457893132800442, \"y\": 0.8345685272931127, \"group\": \"tech\"}, {\"x\": -0.3275553700552924, \"y\": 0.30936490082790497, \"group\": \"tech\"}, {\"x\": -3.519228263417848, \"y\": 0.5260526932650794, \"group\": \"tech\"}, {\"x\": 1.4527972942039669, \"y\": 0.4441261916832891, \"group\": \"tech\"}, {\"x\": 1.6808337141878447, \"y\": 0.06732008793078548, \"group\": \"tech\"}, {\"x\": -1.723801892828108, \"y\": -1.375760874379225, \"group\": \"tech\"}, {\"x\": 0.08813988493911852, \"y\": -0.2669945647147182, \"group\": \"tech\"}, {\"x\": 0.7579105462801239, \"y\": 1.5798378739141878, \"group\": \"tech\"}, {\"x\": -2.4226211147021868, \"y\": -1.3381459576716817, \"group\": \"tech\"}, {\"x\": 0.8443960774176001, \"y\": -0.8351605207283657, \"group\": \"tech\"}, {\"x\": 0.25974722379486437, \"y\": -0.38565132822646986, \"group\": \"tech\"}, {\"x\": 1.7856410146821766, \"y\": -1.6626310314045396, \"group\": \"tech\"}, {\"x\": -1.870625415276216, \"y\": -0.8293199602428655, \"group\": \"tech\"}, {\"x\": -0.779433324577551, \"y\": 1.269900768700068, \"group\": \"tech\"}, {\"x\": -0.2728613315127931, \"y\": 1.2371350701297874, \"group\": \"tech\"}, {\"x\": -0.5415331080192808, \"y\": 1.912652586251734, \"group\": \"tech\"}, {\"x\": 0.2341342756486468, \"y\": 1.4763469923939379, \"group\": \"tech\"}, {\"x\": 1.8374430544368363, \"y\": -0.03016353284104146, \"group\": \"tech\"}, {\"x\": -0.8133140545294583, \"y\": -0.6059585861931602, \"group\": \"tech\"}, {\"x\": 0.48838442617634004, \"y\": -0.8075904735793831, \"group\": \"tech\"}, {\"x\": 1.3447696354430472, \"y\": -1.7449230138520473, \"group\": \"tech\"}, {\"x\": -0.5712307974222297, \"y\": -0.9066435052276803, \"group\": \"tech\"}, {\"x\": -1.324043961028351, \"y\": -1.2915994407897977, \"group\": \"tech\"}, {\"x\": -0.09610654733374713, \"y\": -0.8873977719297993, \"group\": \"tech\"}, {\"x\": -1.3781234852191178, \"y\": 0.9017215717502485, \"group\": \"tech\"}, {\"x\": 0.03940368250346963, \"y\": -1.4818171866970946, \"group\": \"tech\"}, {\"x\": -1.444846334695809, \"y\": -1.0954064434637085, \"group\": \"tech\"}, {\"x\": -0.5623543811888073, \"y\": -0.7803952111598369, \"group\": \"tech\"}, {\"x\": -0.8433877955784118, \"y\": -1.9897449423937572, \"group\": \"tech\"}, {\"x\": 1.9418272135002062, \"y\": 1.5824139057823123, \"group\": \"tech\"}, {\"x\": -0.2468798895843762, \"y\": 0.3805584141050846, \"group\": \"tech\"}, {\"x\": 0.3261033392182169, \"y\": -0.6791957894537102, \"group\": \"tech\"}, {\"x\": 0.004128074928349002, \"y\": 0.8980568774705833, \"group\": \"tech\"}, {\"x\": -1.5137787031025527, \"y\": -1.9157929292917033, \"group\": \"tech\"}, {\"x\": 0.35282873364034617, \"y\": 1.922926166722895, \"group\": \"tech\"}, {\"x\": -0.22421404161407285, \"y\": -1.578653676516387, \"group\": \"tech\"}, {\"x\": -0.5834185449256097, \"y\": 0.07641952434486929, \"group\": \"tech\"}, {\"x\": 1.5885142826445593, \"y\": 1.6940704827116602, \"group\": \"tech\"}, {\"x\": 0.23354086775362987, \"y\": -0.0837064320831416, \"group\": \"tech\"}, {\"x\": -2.546460045109038, \"y\": -1.6232977173437737, \"group\": \"tech\"}, {\"x\": 0.02210535439047281, \"y\": -0.6777125310657642, \"group\": \"tech\"}, {\"x\": -0.6145497836152596, \"y\": -0.18377273367681413, \"group\": \"tech\"}, {\"x\": -2.2186972839124963, \"y\": -0.38054065247054436, \"group\": \"tech\"}, {\"x\": -1.3062337193788613, \"y\": 0.34787926167253397, \"group\": \"tech\"}, {\"x\": -1.7299018503364991, \"y\": 0.060477846146463315, \"group\": \"tech\"}, {\"x\": -0.4445630305509691, \"y\": -3.040428598542803, \"group\": \"tech\"}, {\"x\": -2.302717258591102, \"y\": -2.3659598193030176, \"group\": \"tech\"}, {\"x\": 0.3226750187558637, \"y\": -1.0122959887473462, \"group\": \"tech\"}, {\"x\": 1.7541137320967606, \"y\": 1.646348510908034, \"group\": \"tech\"}, {\"x\": -0.595947313943274, \"y\": 0.9032205096694371, \"group\": \"tech\"}, {\"x\": -1.268662577606412, \"y\": 0.377466888804959, \"group\": \"tech\"}, {\"x\": 0.25368000504518284, \"y\": 1.9383117415172963, \"group\": \"tech\"}, {\"x\": -0.5021844701698296, \"y\": 1.2973507594252673, \"group\": \"tech\"}, {\"x\": 0.9724050091210106, \"y\": 1.6421443790366583, \"group\": \"tech\"}, {\"x\": 1.811253946236588, \"y\": 0.017800481311962543, \"group\": \"tech\"}, {\"x\": 0.6206537807114617, \"y\": 1.4320989741560424, \"group\": \"tech\"}, {\"x\": -1.3797516557988536, \"y\": 0.15149351209286807, \"group\": \"tech\"}, {\"x\": 0.8747468099805883, \"y\": -0.5099565307070912, \"group\": \"tech\"}, {\"x\": -0.4406666380676564, \"y\": -0.7936397105178824, \"group\": \"tech\"}, {\"x\": -0.31630567185996805, \"y\": -0.6525377214999877, \"group\": \"tech\"}, {\"x\": 0.8516894653286248, \"y\": -1.2839051624525504, \"group\": \"tech\"}, {\"x\": 2.2383211916287564, \"y\": -0.6175080430364183, \"group\": \"tech\"}, {\"x\": -0.8913338096812391, \"y\": 0.3790331891934169, \"group\": \"tech\"}, {\"x\": 1.584192325140187, \"y\": -0.9500377216269874, \"group\": \"tech\"}, {\"x\": -2.2832332200025043, \"y\": -0.6130785393143598, \"group\": \"tech\"}, {\"x\": -1.3588136092244598, \"y\": -0.8454588466691504, \"group\": \"tech\"}, {\"x\": -0.5003774283886223, \"y\": -2.5238160243720515, \"group\": \"tech\"}, {\"x\": -0.2756784739483508, \"y\": 0.16420178869666166, \"group\": \"tech\"}, {\"x\": -0.5733793785686437, \"y\": 2.339861622296306, \"group\": \"tech\"}, {\"x\": 1.6928100084616102, \"y\": 0.08344553058165134, \"group\": \"tech\"}, {\"x\": -0.8021930887071159, \"y\": 0.6083195424185472, \"group\": \"tech\"}, {\"x\": 0.01777489128615012, \"y\": -0.9055473790430415, \"group\": \"tech\"}, {\"x\": 0.1272269748783571, \"y\": -1.1671947814226413, \"group\": \"tech\"}, {\"x\": -0.2864238586246208, \"y\": 1.0747575647117016, \"group\": \"tech\"}, {\"x\": -2.125132567958956, \"y\": -0.1706941191974993, \"group\": \"tech\"}, {\"x\": -2.5830220158290427, \"y\": 0.5245475760605601, \"group\": \"tech\"}, {\"x\": -0.05127581757292839, \"y\": -0.31350481163193183, \"group\": \"tech\"}, {\"x\": 0.6766687249874841, \"y\": -0.9151263211871418, \"group\": \"tech\"}, {\"x\": -0.7034864199846448, \"y\": 0.3088929768629736, \"group\": \"tech\"}, {\"x\": -1.7543277911558253, \"y\": 1.891985426544848, \"group\": \"tech\"}, {\"x\": -0.7208209918040348, \"y\": 0.8152563176147639, \"group\": \"tech\"}, {\"x\": -2.1806911473176767, \"y\": 0.22996192878559454, \"group\": \"tech\"}, {\"x\": -1.180248623726353, \"y\": 2.130333161084555, \"group\": \"tech\"}, {\"x\": -1.9195702393525091, \"y\": -0.6608189473187461, \"group\": \"tech\"}, {\"x\": -0.49392283366905554, \"y\": -1.571884188383586, \"group\": \"tech\"}, {\"x\": 1.8148831916068642, \"y\": 0.6188409361852216, \"group\": \"tech\"}, {\"x\": -1.5585180724028194, \"y\": 0.26517223142859814, \"group\": \"tech\"}, {\"x\": 0.16331087420394827, \"y\": 1.221835408449137, \"group\": \"tech\"}, {\"x\": -0.6569748807308782, \"y\": 0.02691464804798048, \"group\": \"tech\"}, {\"x\": -1.286966346245347, \"y\": 0.6962014156478946, \"group\": \"tech\"}, {\"x\": -0.6144512824041113, \"y\": 1.8774104172218025, \"group\": \"tech\"}, {\"x\": -0.30496191414306334, \"y\": 3.316058119910781, \"group\": \"tech\"}, {\"x\": 1.5922034112068981, \"y\": -1.9704951240922135, \"group\": \"tech\"}, {\"x\": -1.5232137724573562, \"y\": 0.23815304850229924, \"group\": \"entertainment\"}, {\"x\": -0.11926413114737247, \"y\": -1.781445560186925, \"group\": \"entertainment\"}, {\"x\": -0.21433501691202966, \"y\": -0.7427062325144164, \"group\": \"entertainment\"}, {\"x\": -0.6239460633905244, \"y\": 0.38270361835693656, \"group\": \"entertainment\"}, {\"x\": -0.22608074464911732, \"y\": -0.11093583875274365, \"group\": \"entertainment\"}, {\"x\": -0.7865559143541595, \"y\": -1.191277000536582, \"group\": \"entertainment\"}, {\"x\": -1.4842109081949566, \"y\": -1.2801632049049092, \"group\": \"entertainment\"}, {\"x\": -0.5407399733226517, \"y\": -0.4057070453148218, \"group\": \"entertainment\"}, {\"x\": 1.1305299899579635, \"y\": -0.8181010983837924, \"group\": \"entertainment\"}, {\"x\": 0.019641825792133395, \"y\": -2.028420027259073, \"group\": \"entertainment\"}, {\"x\": 0.8544138875668392, \"y\": 0.045614814926374835, \"group\": \"entertainment\"}, {\"x\": -0.8812541418929168, \"y\": 0.6654773766395472, \"group\": \"entertainment\"}, {\"x\": -0.02647638378145007, \"y\": 1.065000429492269, \"group\": \"entertainment\"}, {\"x\": -0.5845920143891853, \"y\": 0.6514078424314317, \"group\": \"entertainment\"}, {\"x\": 0.2762832024257984, \"y\": 0.006948498632424585, \"group\": \"entertainment\"}, {\"x\": -0.8286757163880627, \"y\": -0.9721097747655943, \"group\": \"entertainment\"}, {\"x\": -1.9041364090406916, \"y\": -0.5682763181462575, \"group\": \"entertainment\"}, {\"x\": -0.6038979111674915, \"y\": -1.4519069699286327, \"group\": \"entertainment\"}, {\"x\": 1.0347900017654876, \"y\": -1.7668314621358434, \"group\": \"entertainment\"}, {\"x\": -0.5680916189822274, \"y\": 1.3768544438157886, \"group\": \"entertainment\"}, {\"x\": -1.4557237638352887, \"y\": 0.6863910278941568, \"group\": \"entertainment\"}, {\"x\": -0.354738037872572, \"y\": -2.16871281256335, \"group\": \"entertainment\"}, {\"x\": -0.3467552007237553, \"y\": -0.9049291530558561, \"group\": \"entertainment\"}, {\"x\": -0.7588348834612527, \"y\": -2.7009008887990875, \"group\": \"entertainment\"}, {\"x\": -2.4163962807206345, \"y\": -1.9281435690743192, \"group\": \"entertainment\"}, {\"x\": -0.04042656406365354, \"y\": -0.3021283366150439, \"group\": \"entertainment\"}, {\"x\": -1.2892953576952264, \"y\": 1.652130580428345, \"group\": \"entertainment\"}, {\"x\": -0.5575133352537585, \"y\": -0.14240221127667585, \"group\": \"entertainment\"}, {\"x\": 0.1755769527743981, \"y\": -1.298541145522163, \"group\": \"entertainment\"}, {\"x\": -0.865101807696973, \"y\": -0.009196827611073929, \"group\": \"entertainment\"}, {\"x\": -0.19605890502538884, \"y\": -0.3634009874331018, \"group\": \"entertainment\"}, {\"x\": 1.6647704189889538, \"y\": -1.142218339747404, \"group\": \"entertainment\"}, {\"x\": -0.5596128916215978, \"y\": -0.6566116334517885, \"group\": \"entertainment\"}, {\"x\": -1.2710298907571447, \"y\": 0.4945913888991643, \"group\": \"entertainment\"}, {\"x\": 0.3210568134027183, \"y\": 0.6244251517569915, \"group\": \"entertainment\"}, {\"x\": -1.008662843347979, \"y\": -0.09062435098534104, \"group\": \"entertainment\"}, {\"x\": -1.4505519483580107, \"y\": -0.2876139054940333, \"group\": \"entertainment\"}, {\"x\": -0.4852690527265989, \"y\": 0.13679865218165224, \"group\": \"entertainment\"}, {\"x\": 0.016241756802607164, \"y\": -0.3258258311980075, \"group\": \"entertainment\"}, {\"x\": 0.5099482985858343, \"y\": -0.6309868075590669, \"group\": \"entertainment\"}, {\"x\": -0.31063337934084645, \"y\": 0.49626356307249364, \"group\": \"entertainment\"}, {\"x\": -0.3255666790383446, \"y\": 0.5210432459180036, \"group\": \"entertainment\"}, {\"x\": 0.8501993721861009, \"y\": 1.3113229229263514, \"group\": \"entertainment\"}, {\"x\": -2.7821140218373217, \"y\": 0.796213943720092, \"group\": \"entertainment\"}, {\"x\": -1.47856154491293, \"y\": -1.2789045743227574, \"group\": \"entertainment\"}, {\"x\": -0.015956982517880296, \"y\": 0.05295856230684785, \"group\": \"entertainment\"}, {\"x\": -0.12840811413465567, \"y\": 0.706196634840608, \"group\": \"entertainment\"}, {\"x\": 1.3396898986238654, \"y\": 2.1737844994015054, \"group\": \"entertainment\"}, {\"x\": 0.301226616186724, \"y\": 2.6068148759596537, \"group\": \"entertainment\"}, {\"x\": -1.762302536675912, \"y\": -1.2996048734121712, \"group\": \"entertainment\"}, {\"x\": -1.4274258207881279, \"y\": 0.23903209991313845, \"group\": \"entertainment\"}, {\"x\": 0.046432583359558674, \"y\": 0.05839547596798691, \"group\": \"entertainment\"}, {\"x\": -0.8020367854998046, \"y\": 3.140650531062431, \"group\": \"entertainment\"}, {\"x\": 0.2141111067986266, \"y\": -0.1988526760607882, \"group\": \"entertainment\"}, {\"x\": 0.14367851307611898, \"y\": 0.08808677460243354, \"group\": \"entertainment\"}, {\"x\": -0.4783640838539088, \"y\": 0.13831955680048783, \"group\": \"entertainment\"}, {\"x\": -2.484505189713232, \"y\": -0.6017407720079792, \"group\": \"entertainment\"}, {\"x\": 0.9088056513322744, \"y\": -0.052869066191108385, \"group\": \"entertainment\"}, {\"x\": -1.9125824231564115, \"y\": 1.6175056102277527, \"group\": \"entertainment\"}, {\"x\": -2.937312992133008, \"y\": -1.7300466024469137, \"group\": \"entertainment\"}, {\"x\": 0.07357791076388069, \"y\": -0.19361811985797941, \"group\": \"entertainment\"}, {\"x\": -0.7500519961805979, \"y\": -2.734254007192347, \"group\": \"entertainment\"}, {\"x\": 0.3823982919750135, \"y\": -1.5528079483395527, \"group\": \"entertainment\"}, {\"x\": 1.0789187333114671, \"y\": 0.9456360678114657, \"group\": \"entertainment\"}, {\"x\": -0.5794174075811692, \"y\": 1.1094983046712763, \"group\": \"entertainment\"}, {\"x\": -1.5970179674563323, \"y\": 2.3297350997521797, \"group\": \"entertainment\"}, {\"x\": -0.1250499493515996, \"y\": 1.2985865356875692, \"group\": \"entertainment\"}, {\"x\": 0.61981138747898, \"y\": 1.1801659265838977, \"group\": \"entertainment\"}, {\"x\": -0.04818618911506879, \"y\": -0.2339930731275851, \"group\": \"entertainment\"}, {\"x\": 0.030474531841324735, \"y\": -0.024263041522558943, \"group\": \"entertainment\"}, {\"x\": -0.16477319444403804, \"y\": -0.4718808499772357, \"group\": \"entertainment\"}, {\"x\": 0.2183549097291916, \"y\": 0.00443264897980336, \"group\": \"entertainment\"}, {\"x\": -0.3385939906623849, \"y\": -0.10834748456505594, \"group\": \"entertainment\"}, {\"x\": -2.139926898812365, \"y\": -0.4926136387274642, \"group\": \"entertainment\"}, {\"x\": -0.2917238789434347, \"y\": -0.14030594185126308, \"group\": \"entertainment\"}, {\"x\": -1.2370394908180882, \"y\": 0.06866383550447587, \"group\": \"entertainment\"}, {\"x\": 0.9841581901429471, \"y\": 0.1761961653336129, \"group\": \"entertainment\"}, {\"x\": -1.7932162142257002, \"y\": 0.6224615114590636, \"group\": \"entertainment\"}, {\"x\": -1.9890467344295681, \"y\": -1.0125845049223297, \"group\": \"entertainment\"}, {\"x\": 0.2041705706137984, \"y\": 1.5841138553469847, \"group\": \"entertainment\"}, {\"x\": -1.014452049787623, \"y\": -0.7697822295129763, \"group\": \"entertainment\"}, {\"x\": 0.2319802958796422, \"y\": 0.905677278804003, \"group\": \"entertainment\"}, {\"x\": -0.5606949914788654, \"y\": -0.9485907316257913, \"group\": \"entertainment\"}, {\"x\": -0.866192070151659, \"y\": 1.6877740610311167, \"group\": \"entertainment\"}, {\"x\": 0.44433787798593877, \"y\": 0.017469351613051222, \"group\": \"entertainment\"}, {\"x\": -0.016726235635629486, \"y\": 0.999605810072006, \"group\": \"entertainment\"}, {\"x\": -1.2035223597590794, \"y\": 0.0444864936321744, \"group\": \"entertainment\"}, {\"x\": 1.8447807879478808, \"y\": -0.1052489737641611, \"group\": \"entertainment\"}, {\"x\": -0.2066629570439289, \"y\": -1.5876406790813016, \"group\": \"entertainment\"}, {\"x\": -1.2817014108060538, \"y\": -0.5131072597323907, \"group\": \"entertainment\"}, {\"x\": -0.35933121678449287, \"y\": 0.6298470083847773, \"group\": \"entertainment\"}, {\"x\": 0.48718315370525955, \"y\": -0.8529223698746903, \"group\": \"entertainment\"}, {\"x\": -1.358861662587116, \"y\": 0.2953449475260097, \"group\": \"entertainment\"}, {\"x\": -1.869889110093246, \"y\": 0.46068404457397644, \"group\": \"entertainment\"}, {\"x\": -1.900069559359326, \"y\": -0.06769599302949815, \"group\": \"entertainment\"}, {\"x\": -0.4273743051389091, \"y\": 0.5689294563659033, \"group\": \"entertainment\"}, {\"x\": -0.13434388658085075, \"y\": -1.3157562876026303, \"group\": \"entertainment\"}, {\"x\": -0.20593373416421729, \"y\": -0.9802505413966165, \"group\": \"entertainment\"}, {\"x\": 0.0702418338887471, \"y\": 0.2800003758983521, \"group\": \"entertainment\"}, {\"x\": -1.5819164239231482, \"y\": -0.8237602141525641, \"group\": \"entertainment\"}, {\"x\": -0.6884875193784394, \"y\": -0.5465658669753651, \"group\": \"entertainment\"}, {\"x\": -1.9772671959100845, \"y\": 0.3414190345806007, \"group\": \"entertainment\"}, {\"x\": -0.12702951226317044, \"y\": 0.7522812204837902, \"group\": \"entertainment\"}, {\"x\": -2.418939047882175, \"y\": 1.3639905738397453, \"group\": \"entertainment\"}, {\"x\": 0.31651320764629337, \"y\": 0.3293990682521905, \"group\": \"entertainment\"}, {\"x\": -0.1249538610844818, \"y\": -1.8511332464075618, \"group\": \"entertainment\"}, {\"x\": -0.9668527320650873, \"y\": 2.77352376621388, \"group\": \"entertainment\"}, {\"x\": -0.0010506092747120486, \"y\": 1.884591682079557, \"group\": \"entertainment\"}, {\"x\": -0.29305822922335306, \"y\": -0.06257999148243715, \"group\": \"entertainment\"}, {\"x\": -1.1318807487495888, \"y\": -0.4348243979326331, \"group\": \"entertainment\"}, {\"x\": 0.6047569511237637, \"y\": -0.4429123473750802, \"group\": \"entertainment\"}, {\"x\": 0.6676656603879031, \"y\": 1.192498829821366, \"group\": \"entertainment\"}, {\"x\": 0.5829700566361614, \"y\": -0.1692909762236789, \"group\": \"entertainment\"}, {\"x\": -0.5880218665445233, \"y\": 1.0333865471034929, \"group\": \"entertainment\"}, {\"x\": -1.4428257397869133, \"y\": -1.198679864362287, \"group\": \"entertainment\"}, {\"x\": 2.574037547636978, \"y\": -1.9782765678150487, \"group\": \"entertainment\"}, {\"x\": 1.46192313379531, \"y\": 0.21201476577372264, \"group\": \"entertainment\"}, {\"x\": -0.30547916931644276, \"y\": 0.8638165573156157, \"group\": \"entertainment\"}, {\"x\": -1.8423033459777045, \"y\": -1.6828755014514638, \"group\": \"entertainment\"}, {\"x\": -0.7848217545015874, \"y\": -1.7885761788466856, \"group\": \"entertainment\"}, {\"x\": -0.5889908002072599, \"y\": -2.177574852500265, \"group\": \"entertainment\"}, {\"x\": -2.5917863922039346, \"y\": 2.715802111958428, \"group\": \"entertainment\"}, {\"x\": 0.33445444105049354, \"y\": 0.5057057019453667, \"group\": \"entertainment\"}, {\"x\": -0.16765260652245623, \"y\": -1.283240520038855, \"group\": \"entertainment\"}, {\"x\": -1.0887678126594038, \"y\": -0.6975471079705335, \"group\": \"entertainment\"}, {\"x\": 0.5747504040940973, \"y\": -0.52226790799428, \"group\": \"entertainment\"}, {\"x\": -1.5808127320882193, \"y\": 0.11515993784634086, \"group\": \"entertainment\"}, {\"x\": 0.8589954602690654, \"y\": -0.14919870197964916, \"group\": \"entertainment\"}, {\"x\": -0.170755000755362, \"y\": 0.18308629150154473, \"group\": \"entertainment\"}, {\"x\": -1.0516748259925572, \"y\": 1.2615927897293906, \"group\": \"entertainment\"}, {\"x\": -0.23222982178046417, \"y\": -0.2700541694400375, \"group\": \"entertainment\"}, {\"x\": -0.6615214115107674, \"y\": 2.2201929965817486, \"group\": \"entertainment\"}, {\"x\": 0.21421572426803023, \"y\": -0.17210366275879924, \"group\": \"entertainment\"}, {\"x\": -0.7422846126461794, \"y\": -0.4960771393084634, \"group\": \"entertainment\"}, {\"x\": -1.147963138431536, \"y\": 0.4335462174207079, \"group\": \"entertainment\"}, {\"x\": 1.275763520952095, \"y\": 0.5232462134431355, \"group\": \"entertainment\"}, {\"x\": -0.020216029438604254, \"y\": -0.8450597126504712, \"group\": \"entertainment\"}, {\"x\": -0.005018222693258527, \"y\": -1.1825332025796327, \"group\": \"entertainment\"}, {\"x\": 0.08620119108070201, \"y\": 1.906885818661059, \"group\": \"entertainment\"}, {\"x\": 0.9382861375098435, \"y\": -2.615530487715081, \"group\": \"entertainment\"}, {\"x\": 1.183087346720224, \"y\": -0.5795655345115907, \"group\": \"entertainment\"}, {\"x\": 0.5359140447743935, \"y\": -0.24514156945220528, \"group\": \"entertainment\"}, {\"x\": 0.583972545122232, \"y\": 0.16410379361979735, \"group\": \"entertainment\"}, {\"x\": 1.2412742722957428, \"y\": -0.25862269836464336, \"group\": \"entertainment\"}, {\"x\": -2.7181179406212563, \"y\": -0.12762484355638204, \"group\": \"entertainment\"}, {\"x\": -0.8995542159929323, \"y\": -1.3161161642878334, \"group\": \"entertainment\"}, {\"x\": -0.6587143280145338, \"y\": 1.4750338850931282, \"group\": \"entertainment\"}, {\"x\": 1.0290899425763724, \"y\": -1.191770271142014, \"group\": \"entertainment\"}, {\"x\": -0.6023774894650553, \"y\": -2.1493221513093945, \"group\": \"entertainment\"}, {\"x\": -1.088919408516253, \"y\": -2.3531587913527967, \"group\": \"entertainment\"}, {\"x\": -0.6289480130967822, \"y\": 1.8797276763616106, \"group\": \"entertainment\"}, {\"x\": 0.33563870186178907, \"y\": -0.40325767459008804, \"group\": \"entertainment\"}, {\"x\": -2.634130557244575, \"y\": 2.458600725206062, \"group\": \"entertainment\"}, {\"x\": -0.574413983479674, \"y\": 2.0683895530110257, \"group\": \"entertainment\"}, {\"x\": -0.37644793382977887, \"y\": -0.7278374923205607, \"group\": \"entertainment\"}, {\"x\": -0.027796134786014844, \"y\": -0.14123096784042538, \"group\": \"entertainment\"}, {\"x\": -1.6930280019268784, \"y\": 0.8821951787870721, \"group\": \"entertainment\"}, {\"x\": -1.0130527764917459, \"y\": -0.8097201600257284, \"group\": \"entertainment\"}, {\"x\": -0.9147657451912299, \"y\": 0.14940159787228113, \"group\": \"entertainment\"}, {\"x\": 0.48918219265215573, \"y\": 1.6567717614882453, \"group\": \"entertainment\"}, {\"x\": 1.9662848868249088, \"y\": -1.2492573721093243, \"group\": \"entertainment\"}, {\"x\": 1.0091104801271884, \"y\": 1.8861464643461165, \"group\": \"entertainment\"}, {\"x\": 1.0857790053277614, \"y\": 0.6174743506176386, \"group\": \"entertainment\"}, {\"x\": 0.013261830963461178, \"y\": 0.13052240407034615, \"group\": \"entertainment\"}, {\"x\": -0.7328800006196048, \"y\": 1.7568173980062671, \"group\": \"entertainment\"}, {\"x\": -1.4172197490472933, \"y\": -1.9576338183188149, \"group\": \"entertainment\"}, {\"x\": -0.32134656337874196, \"y\": -0.9567995315352319, \"group\": \"entertainment\"}, {\"x\": 0.3726084392012201, \"y\": 0.4537933050757047, \"group\": \"entertainment\"}, {\"x\": -1.3986769744860807, \"y\": 0.18540893078893836, \"group\": \"entertainment\"}, {\"x\": -0.6652662865644622, \"y\": 0.9571597632577998, \"group\": \"entertainment\"}, {\"x\": 0.06498325394962592, \"y\": -1.8153439919704617, \"group\": \"entertainment\"}, {\"x\": -0.0290051662164922, \"y\": -0.33256885318558577, \"group\": \"entertainment\"}, {\"x\": -0.9446236919922733, \"y\": 0.5189365961027278, \"group\": \"entertainment\"}, {\"x\": -0.20427106153002153, \"y\": -1.4424744938007847, \"group\": \"entertainment\"}, {\"x\": -1.433286758661908, \"y\": -0.5038740740812238, \"group\": \"entertainment\"}, {\"x\": -0.4997711656206305, \"y\": 0.3869673289930185, \"group\": \"entertainment\"}, {\"x\": -0.0381632101068446, \"y\": -0.6471285633031282, \"group\": \"entertainment\"}, {\"x\": -0.34471973300081116, \"y\": 1.6112203969842571, \"group\": \"entertainment\"}, {\"x\": -1.519362338666296, \"y\": 0.004762073252871279, \"group\": \"entertainment\"}, {\"x\": -0.894867754415865, \"y\": 0.5766659221886393, \"group\": \"entertainment\"}, {\"x\": 1.311315583295156, \"y\": 1.9960363150581117, \"group\": \"entertainment\"}, {\"x\": 1.0279091515183743, \"y\": 1.0613854699897391, \"group\": \"entertainment\"}, {\"x\": -0.6689613802229836, \"y\": 1.1055131817334558, \"group\": \"entertainment\"}, {\"x\": -2.5344197867277263, \"y\": 0.1467929561942917, \"group\": \"entertainment\"}, {\"x\": 0.3936551617631234, \"y\": 1.7210709799206914, \"group\": \"entertainment\"}, {\"x\": 0.008312191550377443, \"y\": -1.1812602997702253, \"group\": \"entertainment\"}, {\"x\": -1.2451097628244128, \"y\": 0.433204650727632, \"group\": \"entertainment\"}, {\"x\": 0.9500759985540946, \"y\": 1.1483985658597295, \"group\": \"entertainment\"}, {\"x\": -1.3510459504076222, \"y\": 0.6182925919045245, \"group\": \"entertainment\"}, {\"x\": -0.18949551875128337, \"y\": 1.0197466702422024, \"group\": \"entertainment\"}, {\"x\": 0.25938302021358733, \"y\": -1.9170543911580586, \"group\": \"entertainment\"}, {\"x\": -0.10094150869251521, \"y\": 0.6952740200708614, \"group\": \"entertainment\"}, {\"x\": 1.0347643377619393, \"y\": -0.9877947145408027, \"group\": \"entertainment\"}, {\"x\": -0.4753102181920855, \"y\": -1.6316153220309704, \"group\": \"entertainment\"}, {\"x\": -0.8735408448547036, \"y\": -0.29033939290485167, \"group\": \"entertainment\"}, {\"x\": 0.029110659178876702, \"y\": 0.452421002910208, \"group\": \"entertainment\"}, {\"x\": -0.05860271210013086, \"y\": -0.8478555652506405, \"group\": \"entertainment\"}, {\"x\": -0.8300834651832514, \"y\": 0.7568010749214573, \"group\": \"entertainment\"}, {\"x\": 0.42375802906221227, \"y\": -1.5396487632424425, \"group\": \"entertainment\"}, {\"x\": 0.8181160841283358, \"y\": 1.0228690750526568, \"group\": \"entertainment\"}, {\"x\": -1.0388511038904018, \"y\": 0.38171397027694426, \"group\": \"entertainment\"}, {\"x\": -3.128826491010275, \"y\": 1.7531715602216174, \"group\": \"entertainment\"}, {\"x\": -1.8287147087948739, \"y\": 1.2860655214579486, \"group\": \"entertainment\"}, {\"x\": -0.8097497116579482, \"y\": 0.5103967124738815, \"group\": \"entertainment\"}, {\"x\": -0.9693161225901401, \"y\": -0.7993308958233971, \"group\": \"entertainment\"}, {\"x\": -0.2643323847294339, \"y\": 1.2398650107183353, \"group\": \"entertainment\"}, {\"x\": 0.5239085977901831, \"y\": -0.03085501620364031, \"group\": \"entertainment\"}, {\"x\": -0.772790352824562, \"y\": 0.1242652007541338, \"group\": \"entertainment\"}, {\"x\": -2.3304813864275897, \"y\": 0.5438749477793833, \"group\": \"entertainment\"}, {\"x\": -0.255894329824214, \"y\": 1.2308940390149903, \"group\": \"entertainment\"}, {\"x\": 1.0603393184443437, \"y\": 0.8164842068312772, \"group\": \"entertainment\"}, {\"x\": 0.28693153362854934, \"y\": -0.8002105600904489, \"group\": \"entertainment\"}, {\"x\": -1.1718842429756968, \"y\": 1.8730534681574251, \"group\": \"entertainment\"}, {\"x\": -1.07986286702863, \"y\": -1.0675079470135556, \"group\": \"entertainment\"}, {\"x\": 0.7200099521082115, \"y\": 0.28138803045828215, \"group\": \"entertainment\"}, {\"x\": -0.7647803660159238, \"y\": 0.9897724224734462, \"group\": \"entertainment\"}, {\"x\": -0.817238319751705, \"y\": 1.6228482617380258, \"group\": \"entertainment\"}, {\"x\": 0.7080283285809614, \"y\": -0.10303521434171836, \"group\": \"entertainment\"}, {\"x\": 1.3343494429293108, \"y\": 0.8161077669809916, \"group\": \"entertainment\"}, {\"x\": -0.5014579072769764, \"y\": -1.9968827126919488, \"group\": \"entertainment\"}, {\"x\": -0.5337464362936962, \"y\": -0.008391701340517784, \"group\": \"entertainment\"}, {\"x\": 0.148205249851169, \"y\": 0.3748611618874162, \"group\": \"entertainment\"}, {\"x\": -1.9278847901206504, \"y\": -0.34059583579657915, \"group\": \"entertainment\"}, {\"x\": 0.2622918544134372, \"y\": 0.5625200782271925, \"group\": \"entertainment\"}, {\"x\": -1.1348258139914928, \"y\": 2.4364649959410825, \"group\": \"entertainment\"}, {\"x\": -1.3512556259892612, \"y\": 0.5557327118595335, \"group\": \"entertainment\"}, {\"x\": -1.7035081834028467, \"y\": -0.12300737649284975, \"group\": \"entertainment\"}, {\"x\": -1.7603626662581742, \"y\": -0.01352325006622533, \"group\": \"entertainment\"}, {\"x\": -1.458767527712696, \"y\": -1.1738926894772757, \"group\": \"entertainment\"}, {\"x\": -1.3094354805565132, \"y\": -0.6873400029591812, \"group\": \"entertainment\"}, {\"x\": 0.864839267226558, \"y\": 1.3317571502488574, \"group\": \"entertainment\"}, {\"x\": -1.607176146879817, \"y\": -1.1996113993596036, \"group\": \"entertainment\"}, {\"x\": 0.7868992882237387, \"y\": -0.11151340769101806, \"group\": \"entertainment\"}, {\"x\": -0.8177648797108399, \"y\": -0.8683025131111528, \"group\": \"entertainment\"}, {\"x\": -0.1754402932829939, \"y\": -1.0347125395833316, \"group\": \"entertainment\"}, {\"x\": -0.2639857852500377, \"y\": -1.3468357004551093, \"group\": \"entertainment\"}, {\"x\": -2.0020937418118385, \"y\": -1.1897699674021402, \"group\": \"entertainment\"}, {\"x\": 1.6640756611644834, \"y\": 0.7811644181977894, \"group\": \"entertainment\"}, {\"x\": 1.754847574835065, \"y\": 0.08702995224127294, \"group\": \"entertainment\"}, {\"x\": -0.5067967504588997, \"y\": -0.2262675778984306, \"group\": \"entertainment\"}, {\"x\": -2.464246679481305, \"y\": -1.0511091801680972, \"group\": \"entertainment\"}, {\"x\": -0.6348292158240031, \"y\": 0.1958269623006786, \"group\": \"entertainment\"}, {\"x\": -0.6883950693303228, \"y\": -0.5030815182551192, \"group\": \"entertainment\"}, {\"x\": 0.411901134284697, \"y\": -0.4246308344029399, \"group\": \"entertainment\"}, {\"x\": 1.3973510619210951, \"y\": -1.6502226496255494, \"group\": \"entertainment\"}, {\"x\": 2.169615797850073, \"y\": 0.27111583563425856, \"group\": \"entertainment\"}, {\"x\": -0.5307157261326777, \"y\": -0.0014468885109892905, \"group\": \"entertainment\"}, {\"x\": -0.8504487621180056, \"y\": 1.0616728817254555, \"group\": \"entertainment\"}, {\"x\": 0.7157245709915003, \"y\": 0.15047804683527533, \"group\": \"entertainment\"}, {\"x\": -1.0758615107328493, \"y\": 0.4340487599360112, \"group\": \"entertainment\"}, {\"x\": 0.5638087810449569, \"y\": 1.4948329652603138, \"group\": \"entertainment\"}, {\"x\": 0.7939106262794439, \"y\": -0.4739599831744597, \"group\": \"entertainment\"}, {\"x\": -0.18967714949889594, \"y\": -0.0228935079771041, \"group\": \"entertainment\"}, {\"x\": -1.5341602194331776, \"y\": 1.03465313787471, \"group\": \"entertainment\"}, {\"x\": -0.5525039407379698, \"y\": 1.267012740234663, \"group\": \"entertainment\"}, {\"x\": -0.27038113068549235, \"y\": 0.9846629909701984, \"group\": \"entertainment\"}, {\"x\": -2.212973128058873, \"y\": 0.9850283691097204, \"group\": \"entertainment\"}, {\"x\": 0.2440202276723315, \"y\": -0.08295335716587876, \"group\": \"entertainment\"}, {\"x\": -0.10290815601002601, \"y\": 0.14061182362270885, \"group\": \"entertainment\"}, {\"x\": -1.0598138266095225, \"y\": 0.8891790829924127, \"group\": \"entertainment\"}, {\"x\": 1.0207750958201438, \"y\": 2.471962165154465, \"group\": \"entertainment\"}, {\"x\": 1.0651924065150975, \"y\": -2.1329343063375443, \"group\": \"entertainment\"}, {\"x\": 0.17179292950484404, \"y\": 0.6804922068576394, \"group\": \"entertainment\"}, {\"x\": 0.003497749670032349, \"y\": -1.5725198080269758, \"group\": \"entertainment\"}, {\"x\": -1.2011294726190473, \"y\": -0.5170959739868073, \"group\": \"entertainment\"}, {\"x\": 0.3063718268732483, \"y\": -1.6653298012964703, \"group\": \"entertainment\"}, {\"x\": -1.2100646946481717, \"y\": 0.1469338576909023, \"group\": \"entertainment\"}, {\"x\": -0.4736904740164574, \"y\": 0.26480064963294336, \"group\": \"entertainment\"}, {\"x\": -1.996607498560842, \"y\": -0.4330323192581026, \"group\": \"entertainment\"}, {\"x\": -0.29417754039128785, \"y\": -1.0024454510213494, \"group\": \"entertainment\"}, {\"x\": 0.37656299745111615, \"y\": -0.6459194776678069, \"group\": \"entertainment\"}, {\"x\": -2.4196038638118025, \"y\": -0.3419538885766763, \"group\": \"entertainment\"}, {\"x\": 0.4712908437825525, \"y\": -0.3663061316799376, \"group\": \"entertainment\"}, {\"x\": -0.3142449185621643, \"y\": -0.2118823337445449, \"group\": \"entertainment\"}, {\"x\": -1.5401988649210974, \"y\": -0.5536230892318578, \"group\": \"entertainment\"}, {\"x\": 0.010438929719227897, \"y\": 1.8385662998802639, \"group\": \"entertainment\"}, {\"x\": 0.4648539953000096, \"y\": -0.8683886989153811, \"group\": \"entertainment\"}, {\"x\": -0.49373460624308896, \"y\": 0.7425443458243409, \"group\": \"entertainment\"}, {\"x\": -0.33003580878025557, \"y\": 0.7677535636904089, \"group\": \"entertainment\"}, {\"x\": -0.1330899880303123, \"y\": -0.46741949001743066, \"group\": \"entertainment\"}, {\"x\": -0.2892243544367243, \"y\": 0.23346749689409665, \"group\": \"entertainment\"}, {\"x\": -1.1003791747660356, \"y\": 1.7761753878074162, \"group\": \"entertainment\"}, {\"x\": -1.1646202304564413, \"y\": -0.6244493354030821, \"group\": \"entertainment\"}, {\"x\": 0.5162358430077876, \"y\": 1.2667603246578032, \"group\": \"entertainment\"}, {\"x\": -2.5676038894211333, \"y\": -2.5114430158206402, \"group\": \"entertainment\"}, {\"x\": -0.3612351898948471, \"y\": -0.36701877567320956, \"group\": \"entertainment\"}, {\"x\": -0.8253250160925089, \"y\": 1.6581682356363232, \"group\": \"entertainment\"}, {\"x\": 0.41150516004848553, \"y\": 0.2699723598796008, \"group\": \"entertainment\"}, {\"x\": 1.3043953859729827, \"y\": 0.2905573576714044, \"group\": \"entertainment\"}, {\"x\": -1.5474644643552955, \"y\": -3.6425029318312494, \"group\": \"entertainment\"}, {\"x\": 0.7994245865303025, \"y\": 0.17620264869373314, \"group\": \"entertainment\"}, {\"x\": -1.5634001914309918, \"y\": 0.8197562497132723, \"group\": \"entertainment\"}, {\"x\": -0.5548901324823267, \"y\": -0.49263762546446516, \"group\": \"entertainment\"}, {\"x\": 0.9016991080055816, \"y\": 1.6865318960069322, \"group\": \"entertainment\"}, {\"x\": -1.7560850229831195, \"y\": -1.4273539820463095, \"group\": \"entertainment\"}, {\"x\": 1.1731089633190461, \"y\": 0.8757283750212366, \"group\": \"entertainment\"}, {\"x\": -0.6513096564296182, \"y\": -1.1416706601260256, \"group\": \"entertainment\"}, {\"x\": 0.7856175047980466, \"y\": -0.2602581534721642, \"group\": \"entertainment\"}, {\"x\": -0.11731929234433337, \"y\": -0.46504992900345665, \"group\": \"entertainment\"}, {\"x\": -1.3087189986056562, \"y\": -1.5262973024975521, \"group\": \"entertainment\"}, {\"x\": -0.5925231973650006, \"y\": -2.712921138876491, \"group\": \"entertainment\"}, {\"x\": -0.5743521544275376, \"y\": 1.9082166587353404, \"group\": \"entertainment\"}, {\"x\": -1.2224188037853256, \"y\": 0.6993988261164842, \"group\": \"entertainment\"}, {\"x\": -1.0636225748942791, \"y\": 0.6686739752490208, \"group\": \"entertainment\"}, {\"x\": -0.5271748400388501, \"y\": 0.5254100941150601, \"group\": \"entertainment\"}, {\"x\": -0.725465675725024, \"y\": -1.3014087243739003, \"group\": \"entertainment\"}, {\"x\": -2.2514462287879624, \"y\": 1.2866403732901266, \"group\": \"entertainment\"}, {\"x\": -0.8261241663010057, \"y\": -1.9610051689024335, \"group\": \"entertainment\"}, {\"x\": -0.5143356422089195, \"y\": 0.013136578290941612, \"group\": \"entertainment\"}, {\"x\": 0.4514922417144474, \"y\": -0.17194535465993527, \"group\": \"entertainment\"}, {\"x\": -0.6808493821785765, \"y\": 2.0140705589914156, \"group\": \"entertainment\"}, {\"x\": -0.18980828221356258, \"y\": 1.7010416392268106, \"group\": \"entertainment\"}, {\"x\": -0.9561867668241125, \"y\": -0.6848747143683389, \"group\": \"entertainment\"}, {\"x\": -0.40275422572770436, \"y\": -1.5397764981394035, \"group\": \"entertainment\"}, {\"x\": -0.3293225271125116, \"y\": 1.567063289561635, \"group\": \"entertainment\"}, {\"x\": 0.12870468459509313, \"y\": 0.29366657129669904, \"group\": \"entertainment\"}, {\"x\": 1.4723017933966336, \"y\": 1.0567408894413488, \"group\": \"entertainment\"}, {\"x\": -1.2567160833309847, \"y\": -0.6024199440352062, \"group\": \"entertainment\"}, {\"x\": -1.8263948825045089, \"y\": -0.639412390361227, \"group\": \"entertainment\"}, {\"x\": -0.9986476008255656, \"y\": 1.2677100021765608, \"group\": \"entertainment\"}, {\"x\": -1.8675800685014445, \"y\": 0.6929072517055433, \"group\": \"entertainment\"}, {\"x\": 0.46835936865908706, \"y\": -0.6761703656416496, \"group\": \"entertainment\"}, {\"x\": -1.1301644548541712, \"y\": 0.6071208476526587, \"group\": \"entertainment\"}, {\"x\": 3.0194444620325216, \"y\": 0.33390348439360623, \"group\": \"entertainment\"}, {\"x\": -0.5529275649024541, \"y\": 0.9113939296907742, \"group\": \"entertainment\"}, {\"x\": -0.5460675872323061, \"y\": 1.1332364609907057, \"group\": \"entertainment\"}, {\"x\": -0.9894867504737248, \"y\": -0.4922262490993341, \"group\": \"entertainment\"}, {\"x\": 0.2786254654867541, \"y\": -1.5933667213604055, \"group\": \"entertainment\"}, {\"x\": -0.960909310698507, \"y\": -1.4494282955312385, \"group\": \"entertainment\"}, {\"x\": -1.27113652635205, \"y\": 0.26624712160175734, \"group\": \"entertainment\"}, {\"x\": -1.167392732921161, \"y\": 0.32603427036076227, \"group\": \"entertainment\"}, {\"x\": -1.1703749555286058, \"y\": -0.1093621288003194, \"group\": \"entertainment\"}, {\"x\": -0.5638236532695878, \"y\": 0.23873808484671047, \"group\": \"entertainment\"}, {\"x\": -0.30163078103763513, \"y\": 1.0115814774744694, \"group\": \"entertainment\"}, {\"x\": 0.5209851051332504, \"y\": 0.604776018174421, \"group\": \"entertainment\"}, {\"x\": 0.4202533834431382, \"y\": 0.6300603399633755, \"group\": \"entertainment\"}, {\"x\": 0.23293091988183753, \"y\": -0.5129712910332543, \"group\": \"entertainment\"}, {\"x\": -1.0307236092622136, \"y\": -0.31284372798567983, \"group\": \"entertainment\"}, {\"x\": 0.6093244073568892, \"y\": -0.6338274831225823, \"group\": \"entertainment\"}, {\"x\": -1.5720893082507408, \"y\": -0.27745811730784786, \"group\": \"entertainment\"}, {\"x\": -1.0567144754872988, \"y\": 0.07433961824986299, \"group\": \"entertainment\"}, {\"x\": 0.23244313586043067, \"y\": -0.10310953495775875, \"group\": \"entertainment\"}, {\"x\": 0.4106290056744478, \"y\": -1.0427971211386382, \"group\": \"entertainment\"}, {\"x\": 0.8521143408861162, \"y\": 1.2047613787877238, \"group\": \"entertainment\"}, {\"x\": -1.0821761890818558, \"y\": -2.0964335468493527, \"group\": \"entertainment\"}, {\"x\": -0.33597472952199514, \"y\": -0.3040579552180105, \"group\": \"entertainment\"}, {\"x\": -0.5060249702940359, \"y\": -0.2940561986456022, \"group\": \"entertainment\"}, {\"x\": 0.058085663506027535, \"y\": -0.4020049082981127, \"group\": \"entertainment\"}, {\"x\": -0.7755112772781012, \"y\": -0.13032258067577793, \"group\": \"entertainment\"}, {\"x\": 0.2214743232376844, \"y\": -0.5186215356773057, \"group\": \"entertainment\"}, {\"x\": -1.1605480630219636, \"y\": -0.783674903874567, \"group\": \"entertainment\"}, {\"x\": -0.2295407512770379, \"y\": -0.8624694549855609, \"group\": \"entertainment\"}, {\"x\": 0.3107439422826787, \"y\": 0.5406885320023079, \"group\": \"entertainment\"}, {\"x\": -0.39661076845101056, \"y\": 0.05841463967338586, \"group\": \"entertainment\"}, {\"x\": -0.35130261506930366, \"y\": -1.3136332945695341, \"group\": \"entertainment\"}, {\"x\": -1.8395935816628393, \"y\": -0.02341648390297952, \"group\": \"entertainment\"}, {\"x\": 0.10293528910209694, \"y\": 1.208009423165996, \"group\": \"entertainment\"}, {\"x\": 0.9227852149618037, \"y\": -1.7840934776706685, \"group\": \"entertainment\"}, {\"x\": 0.17857413402337474, \"y\": 1.5791271478129596, \"group\": \"entertainment\"}, {\"x\": 0.9185255601982815, \"y\": -0.8943111665991968, \"group\": \"entertainment\"}, {\"x\": -0.6108266104479592, \"y\": -0.8020931533724494, \"group\": \"entertainment\"}, {\"x\": 0.9023427233287946, \"y\": -3.6991867271449683, \"group\": \"entertainment\"}, {\"x\": 0.29455260944804196, \"y\": 1.9289597114106716, \"group\": \"entertainment\"}, {\"x\": -0.6432740297301419, \"y\": -0.17744305573776115, \"group\": \"entertainment\"}, {\"x\": -1.819517687991375, \"y\": -0.7944248016271328, \"group\": \"entertainment\"}, {\"x\": 0.04783272537656618, \"y\": 0.0014078268517398677, \"group\": \"entertainment\"}, {\"x\": 1.0476579226420741, \"y\": -0.11063752241432925, \"group\": \"entertainment\"}, {\"x\": -0.8894205034004933, \"y\": 2.3801622586137023, \"group\": \"entertainment\"}, {\"x\": 0.49105405477740033, \"y\": -0.7657223545108235, \"group\": \"entertainment\"}, {\"x\": -1.6903313224559326, \"y\": 0.3014816492729658, \"group\": \"entertainment\"}, {\"x\": 0.7767025126762942, \"y\": 0.2937757071084006, \"group\": \"entertainment\"}, {\"x\": 0.9148032468608913, \"y\": -1.6392430002948122, \"group\": \"entertainment\"}, {\"x\": -0.21096646382611917, \"y\": -0.4470817373430244, \"group\": \"entertainment\"}, {\"x\": -0.3988328438202535, \"y\": -1.5993815800982139, \"group\": \"entertainment\"}, {\"x\": -1.4649888278434087, \"y\": 0.65061108267248, \"group\": \"entertainment\"}, {\"x\": 0.9689255823104069, \"y\": 0.14255245370488745, \"group\": \"entertainment\"}, {\"x\": 0.7459731164615391, \"y\": -0.6857858768176693, \"group\": \"entertainment\"}, {\"x\": -2.453888340315311, \"y\": 1.254641844151011, \"group\": \"entertainment\"}, {\"x\": -0.3942384964105483, \"y\": -0.9090983828254864, \"group\": \"entertainment\"}, {\"x\": -1.6342585662653624, \"y\": -1.7213106887951202, \"group\": \"entertainment\"}, {\"x\": -1.6192585182553945, \"y\": -0.04635688657608352, \"group\": \"entertainment\"}, {\"x\": -0.4547556997821545, \"y\": 2.7359796343649925, \"group\": \"entertainment\"}, {\"x\": 0.6974099675527476, \"y\": 1.4614438644617476, \"group\": \"entertainment\"}, {\"x\": -0.9344640678888395, \"y\": 1.1515474084622053, \"group\": \"entertainment\"}, {\"x\": -1.9735165759295115, \"y\": -2.3448718891175484, \"group\": \"entertainment\"}, {\"x\": -0.41443165784531905, \"y\": -0.8020334414301259, \"group\": \"entertainment\"}]}}, {\"mode\": \"vega-lite\"});\n",
       "</script>"
      ],
      "text/plain": [
       "alt.Chart(...)"
      ]
     },
     "execution_count": 41,
     "metadata": {},
     "output_type": "execute_result"
    }
   ],
   "source": [
    "bbc_2d = pca_2d(bbc_model['paragraph_matrix'].data, bbc_df.group.to_numpy())\n",
    "chart = alt.Chart(bbc_2d).mark_point().encode(x=\"x\", y=\"y\", color=\"group\")\n",
    "# Uncomment to print chart inline, but beware it will inflate the notebook size\n",
    "chart"
   ]
  },
  {
   "cell_type": "markdown",
   "metadata": {},
   "source": [
    "`2-component PCA, explains 2.65% of variance`\n",
    "\n",
    "![](./img/bbc_pca_all_topics.png)"
   ]
  },
  {
   "cell_type": "markdown",
   "metadata": {},
   "source": [
    "Estos resultados no son magníficos, pero podemos ver los inicios de la separación. Si nos fijamos en sólo dos temas, se hace más evidente."
   ]
  },
  {
   "cell_type": "code",
   "execution_count": 42,
   "metadata": {},
   "outputs": [
    {
     "data": {
      "text/html": [
       "\n",
       "<style>\n",
       "  #altair-viz-513ecae180a741e796413c46af48d635.vega-embed {\n",
       "    width: 100%;\n",
       "    display: flex;\n",
       "  }\n",
       "\n",
       "  #altair-viz-513ecae180a741e796413c46af48d635.vega-embed details,\n",
       "  #altair-viz-513ecae180a741e796413c46af48d635.vega-embed details summary {\n",
       "    position: relative;\n",
       "  }\n",
       "</style>\n",
       "<div id=\"altair-viz-513ecae180a741e796413c46af48d635\"></div>\n",
       "<script type=\"text/javascript\">\n",
       "  var VEGA_DEBUG = (typeof VEGA_DEBUG == \"undefined\") ? {} : VEGA_DEBUG;\n",
       "  (function(spec, embedOpt){\n",
       "    let outputDiv = document.currentScript.previousElementSibling;\n",
       "    if (outputDiv.id !== \"altair-viz-513ecae180a741e796413c46af48d635\") {\n",
       "      outputDiv = document.getElementById(\"altair-viz-513ecae180a741e796413c46af48d635\");\n",
       "    }\n",
       "    const paths = {\n",
       "      \"vega\": \"https://cdn.jsdelivr.net/npm/vega@5?noext\",\n",
       "      \"vega-lib\": \"https://cdn.jsdelivr.net/npm/vega-lib?noext\",\n",
       "      \"vega-lite\": \"https://cdn.jsdelivr.net/npm/vega-lite@5.16.3?noext\",\n",
       "      \"vega-embed\": \"https://cdn.jsdelivr.net/npm/vega-embed@6?noext\",\n",
       "    };\n",
       "\n",
       "    function maybeLoadScript(lib, version) {\n",
       "      var key = `${lib.replace(\"-\", \"\")}_version`;\n",
       "      return (VEGA_DEBUG[key] == version) ?\n",
       "        Promise.resolve(paths[lib]) :\n",
       "        new Promise(function(resolve, reject) {\n",
       "          var s = document.createElement('script');\n",
       "          document.getElementsByTagName(\"head\")[0].appendChild(s);\n",
       "          s.async = true;\n",
       "          s.onload = () => {\n",
       "            VEGA_DEBUG[key] = version;\n",
       "            return resolve(paths[lib]);\n",
       "          };\n",
       "          s.onerror = () => reject(`Error loading script: ${paths[lib]}`);\n",
       "          s.src = paths[lib];\n",
       "        });\n",
       "    }\n",
       "\n",
       "    function showError(err) {\n",
       "      outputDiv.innerHTML = `<div class=\"error\" style=\"color:red;\">${err}</div>`;\n",
       "      throw err;\n",
       "    }\n",
       "\n",
       "    function displayChart(vegaEmbed) {\n",
       "      vegaEmbed(outputDiv, spec, embedOpt)\n",
       "        .catch(err => showError(`Javascript Error: ${err.message}<br>This usually means there's a typo in your chart specification. See the javascript console for the full traceback.`));\n",
       "    }\n",
       "\n",
       "    if(typeof define === \"function\" && define.amd) {\n",
       "      requirejs.config({paths});\n",
       "      require([\"vega-embed\"], displayChart, err => showError(`Error loading script: ${err.message}`));\n",
       "    } else {\n",
       "      maybeLoadScript(\"vega\", \"5\")\n",
       "        .then(() => maybeLoadScript(\"vega-lite\", \"5.16.3\"))\n",
       "        .then(() => maybeLoadScript(\"vega-embed\", \"6\"))\n",
       "        .catch(showError)\n",
       "        .then(() => displayChart(vegaEmbed));\n",
       "    }\n",
       "  })({\"config\": {\"view\": {\"continuousWidth\": 300, \"continuousHeight\": 300}}, \"data\": {\"name\": \"data-34fc6e764fb31b563f1a80685d6d3df5\"}, \"mark\": {\"type\": \"point\"}, \"encoding\": {\"color\": {\"field\": \"group\", \"type\": \"nominal\"}, \"x\": {\"field\": \"x\", \"type\": \"quantitative\"}, \"y\": {\"field\": \"y\", \"type\": \"quantitative\"}}, \"$schema\": \"https://vega.github.io/schema/vega-lite/v5.16.3.json\", \"datasets\": {\"data-34fc6e764fb31b563f1a80685d6d3df5\": [{\"x\": 1.7293229093727442, \"y\": 1.2399662919065386, \"group\": \"sport\"}, {\"x\": 2.360131321488412, \"y\": 0.5337741242159378, \"group\": \"sport\"}, {\"x\": 1.8959511224201395, \"y\": 0.10804969018348448, \"group\": \"sport\"}, {\"x\": 1.1985643442180542, \"y\": -0.8000158157894592, \"group\": \"sport\"}, {\"x\": 1.369508053833407, \"y\": 0.05417664885793166, \"group\": \"sport\"}, {\"x\": 1.3580570110331969, \"y\": 1.395517839373935, \"group\": \"sport\"}, {\"x\": 2.158969425609731, \"y\": 0.04502799231316216, \"group\": \"sport\"}, {\"x\": 1.7836352680058238, \"y\": 0.49793780180239683, \"group\": \"sport\"}, {\"x\": 0.9984579890486864, \"y\": -0.690469149589869, \"group\": \"sport\"}, {\"x\": 1.3662641177741162, \"y\": 0.711853723328504, \"group\": \"sport\"}, {\"x\": 1.0783284160846136, \"y\": -0.7100737124815514, \"group\": \"sport\"}, {\"x\": 1.2725664358465387, \"y\": -0.22500313968418958, \"group\": \"sport\"}, {\"x\": 1.3220468238178962, \"y\": 0.8278925118096154, \"group\": \"sport\"}, {\"x\": 0.9924537575691437, \"y\": 0.6243952682895707, \"group\": \"sport\"}, {\"x\": 1.8400582567590296, \"y\": 1.6041474871812507, \"group\": \"sport\"}, {\"x\": 1.704097619052919, \"y\": 0.13039295834276268, \"group\": \"sport\"}, {\"x\": 0.8580908034742505, \"y\": -0.45293689617323024, \"group\": \"sport\"}, {\"x\": 1.455266986792106, \"y\": -0.49090086024262225, \"group\": \"sport\"}, {\"x\": 0.581265397327802, \"y\": 0.3735963438041366, \"group\": \"sport\"}, {\"x\": 0.39970917670361233, \"y\": 1.113229309616879, \"group\": \"sport\"}, {\"x\": 1.6344238878003192, \"y\": 1.249388178858154, \"group\": \"sport\"}, {\"x\": 1.5129377078422388, \"y\": 0.04710834566212623, \"group\": \"sport\"}, {\"x\": 1.463838848500277, \"y\": -0.24553853956356433, \"group\": \"sport\"}, {\"x\": 0.6069145586911073, \"y\": 0.3706923034897167, \"group\": \"sport\"}, {\"x\": 1.615150497852864, \"y\": 0.960427397656205, \"group\": \"sport\"}, {\"x\": 1.3988927487140579, \"y\": 1.1524723176476461, \"group\": \"sport\"}, {\"x\": 1.3951506647732956, \"y\": -0.23399771981650608, \"group\": \"sport\"}, {\"x\": 0.2802918294017377, \"y\": -0.21953093116309735, \"group\": \"sport\"}, {\"x\": 0.8336461574149333, \"y\": 1.189821910810552, \"group\": \"sport\"}, {\"x\": 1.5296015494588096, \"y\": 0.8010819246951156, \"group\": \"sport\"}, {\"x\": 1.7046332071056622, \"y\": -0.6904873403801558, \"group\": \"sport\"}, {\"x\": 1.617483026500384, \"y\": 0.31809243603763887, \"group\": \"sport\"}, {\"x\": 0.8275811847682052, \"y\": 0.36950056438014384, \"group\": \"sport\"}, {\"x\": 1.1979685695381772, \"y\": -0.6250375177834909, \"group\": \"sport\"}, {\"x\": 1.384720599344239, \"y\": 1.6369930039829712, \"group\": \"sport\"}, {\"x\": 1.5819251086882535, \"y\": 0.6260375591472622, \"group\": \"sport\"}, {\"x\": 1.1653877113714735, \"y\": 0.38115317374829333, \"group\": \"sport\"}, {\"x\": 1.5090975935723068, \"y\": 1.0522364993524544, \"group\": \"sport\"}, {\"x\": 2.1633766906644714, \"y\": 1.8458305619436886, \"group\": \"sport\"}, {\"x\": 1.336105176922962, \"y\": 1.304287262953532, \"group\": \"sport\"}, {\"x\": 0.32507854430483696, \"y\": 0.7681528636834196, \"group\": \"sport\"}, {\"x\": 1.0581471949818606, \"y\": 0.37306960048175525, \"group\": \"sport\"}, {\"x\": 1.4891150876242303, \"y\": 0.1318869145332114, \"group\": \"sport\"}, {\"x\": 1.898175704712683, \"y\": 0.8899040843877747, \"group\": \"sport\"}, {\"x\": 1.7088139335958676, \"y\": -0.8596659103343075, \"group\": \"sport\"}, {\"x\": 1.2858906744418486, \"y\": -0.3824831163100934, \"group\": \"sport\"}, {\"x\": 1.266028657726584, \"y\": 0.04145037261499552, \"group\": \"sport\"}, {\"x\": 2.594986872496881, \"y\": 1.3484363707212461, \"group\": \"sport\"}, {\"x\": 1.6653184989300238, \"y\": -0.1709424478001049, \"group\": \"sport\"}, {\"x\": 0.6042552034481681, \"y\": 1.4610986473538616, \"group\": \"sport\"}, {\"x\": 1.7757506509365422, \"y\": 0.8747584100130102, \"group\": \"sport\"}, {\"x\": 0.09957276742275736, \"y\": -0.3302510772657616, \"group\": \"sport\"}, {\"x\": 0.5642976991564562, \"y\": -1.0081536724348916, \"group\": \"sport\"}, {\"x\": 1.6471914656942668, \"y\": 0.06201666315059656, \"group\": \"sport\"}, {\"x\": 1.766405995257351, \"y\": 0.8803125782312733, \"group\": \"sport\"}, {\"x\": 0.7261072884672846, \"y\": -0.30338805596640955, \"group\": \"sport\"}, {\"x\": 0.8679530274516273, \"y\": 0.6269068633123291, \"group\": \"sport\"}, {\"x\": 1.4542847647790729, \"y\": 0.3542297469487653, \"group\": \"sport\"}, {\"x\": 1.0685926171126063, \"y\": 0.08658913633785055, \"group\": \"sport\"}, {\"x\": 2.2449688906845413, \"y\": 0.8042362079077402, \"group\": \"sport\"}, {\"x\": 2.4132410925706242, \"y\": -0.10989395253166746, \"group\": \"sport\"}, {\"x\": 1.8369339419514668, \"y\": 0.3232904809367578, \"group\": \"sport\"}, {\"x\": 0.6898573600405965, \"y\": 0.33376414336915156, \"group\": \"sport\"}, {\"x\": 0.758156508654295, \"y\": -0.053219173151969966, \"group\": \"sport\"}, {\"x\": 0.8454761800781637, \"y\": 0.8748353476343353, \"group\": \"sport\"}, {\"x\": 1.4760278029075793, \"y\": 0.7133703215859105, \"group\": \"sport\"}, {\"x\": 1.3503647477198322, \"y\": 1.1952975692167258, \"group\": \"sport\"}, {\"x\": 1.1693778638761514, \"y\": 0.6263983838493109, \"group\": \"sport\"}, {\"x\": 0.5500192922069322, \"y\": 0.2370298907736647, \"group\": \"sport\"}, {\"x\": 0.47238649851673314, \"y\": -0.21033462873583977, \"group\": \"sport\"}, {\"x\": 0.1847508619299694, \"y\": -0.8584367799530346, \"group\": \"sport\"}, {\"x\": 0.9667279873596467, \"y\": -0.6740593103401196, \"group\": \"sport\"}, {\"x\": 1.5565885781197188, \"y\": 0.4137734125578122, \"group\": \"sport\"}, {\"x\": 1.4595175265891263, \"y\": -0.005264800988524788, \"group\": \"sport\"}, {\"x\": 2.05787253562703, \"y\": 0.12139210532796478, \"group\": \"sport\"}, {\"x\": 0.8593227833153292, \"y\": 0.7848581958146561, \"group\": \"sport\"}, {\"x\": 1.5028023169978983, \"y\": -0.04277097922672316, \"group\": \"sport\"}, {\"x\": 0.6714908830109961, \"y\": 1.3169324056475558, \"group\": \"sport\"}, {\"x\": 2.240124859144606, \"y\": 0.21876262301292074, \"group\": \"sport\"}, {\"x\": 0.23001262890882124, \"y\": 1.7952756803225833, \"group\": \"sport\"}, {\"x\": 1.7995030589709997, \"y\": -0.9085586451485601, \"group\": \"sport\"}, {\"x\": 1.5777725180029656, \"y\": 0.4840275194810799, \"group\": \"sport\"}, {\"x\": 1.5812073682386398, \"y\": 0.5677777868044835, \"group\": \"sport\"}, {\"x\": 1.2169035286820666, \"y\": 1.228900402478622, \"group\": \"sport\"}, {\"x\": 1.446721571341404, \"y\": -0.004702028016029741, \"group\": \"sport\"}, {\"x\": 1.382733011377333, \"y\": 0.4157494943971745, \"group\": \"sport\"}, {\"x\": 0.9592848502973876, \"y\": 0.2847313988657697, \"group\": \"sport\"}, {\"x\": 1.696229067816741, \"y\": -0.22798666833517192, \"group\": \"sport\"}, {\"x\": 2.0248489403686185, \"y\": 1.234150790365894, \"group\": \"sport\"}, {\"x\": 1.7590361969741486, \"y\": -0.11211289180851947, \"group\": \"sport\"}, {\"x\": 0.63276280228028, \"y\": 0.5479293357716281, \"group\": \"sport\"}, {\"x\": -0.4959528013680097, \"y\": -0.2939421658925736, \"group\": \"sport\"}, {\"x\": 0.19332727950597092, \"y\": -0.1386451879369523, \"group\": \"sport\"}, {\"x\": 1.4811322103632014, \"y\": 0.16388213580292846, \"group\": \"sport\"}, {\"x\": 0.6486250651648263, \"y\": 0.03620319761605832, \"group\": \"sport\"}, {\"x\": 0.5562104846342601, \"y\": -1.4375724026007872, \"group\": \"sport\"}, {\"x\": 0.9713480615263479, \"y\": -0.1891924671895172, \"group\": \"sport\"}, {\"x\": 0.972165753150201, \"y\": -0.31265665584296554, \"group\": \"sport\"}, {\"x\": 0.4670677463677675, \"y\": -0.8777274635732527, \"group\": \"sport\"}, {\"x\": 0.7823075056590448, \"y\": -0.011354825792135967, \"group\": \"sport\"}, {\"x\": 0.9110834797603137, \"y\": -0.22513471656413808, \"group\": \"sport\"}, {\"x\": 1.080929474286707, \"y\": 1.6858358123074593, \"group\": \"sport\"}, {\"x\": 0.879029989275159, \"y\": -0.9384602400771714, \"group\": \"sport\"}, {\"x\": 0.07536529258821223, \"y\": 0.4551129367802582, \"group\": \"sport\"}, {\"x\": 0.5356596949133985, \"y\": 0.1286969497051299, \"group\": \"sport\"}, {\"x\": 1.048585069225443, \"y\": -0.04734696754839895, \"group\": \"sport\"}, {\"x\": 0.584915630737504, \"y\": 0.7733435631073312, \"group\": \"sport\"}, {\"x\": 0.7707331626519462, \"y\": -0.7408894652339657, \"group\": \"sport\"}, {\"x\": 0.3821267037173561, \"y\": 1.521997414900625, \"group\": \"sport\"}, {\"x\": 0.9511153556716972, \"y\": -0.3746808705903988, \"group\": \"sport\"}, {\"x\": 0.27140290542539364, \"y\": -0.45861166956513916, \"group\": \"sport\"}, {\"x\": 1.4752161658262806, \"y\": -0.5650019740362546, \"group\": \"sport\"}, {\"x\": 0.22596495444177703, \"y\": 0.5068390750927464, \"group\": \"sport\"}, {\"x\": 1.4196452622816713, \"y\": 0.6527201154083656, \"group\": \"sport\"}, {\"x\": 0.6246523933117347, \"y\": -0.15996918145881184, \"group\": \"sport\"}, {\"x\": 1.6553370310954933, \"y\": 0.26834190992747, \"group\": \"sport\"}, {\"x\": 1.1369670739001534, \"y\": -0.6154832011516214, \"group\": \"sport\"}, {\"x\": 1.6840216722822838, \"y\": 0.1111573181622579, \"group\": \"sport\"}, {\"x\": 0.7638814869864519, \"y\": -0.7885239871340926, \"group\": \"sport\"}, {\"x\": 1.7106857814957, \"y\": -0.45155469334662623, \"group\": \"sport\"}, {\"x\": 1.1573496024826773, \"y\": -0.04932707097173494, \"group\": \"sport\"}, {\"x\": 0.5513218159339636, \"y\": -0.38659260901407516, \"group\": \"sport\"}, {\"x\": 0.7057637959657281, \"y\": -0.612486415082131, \"group\": \"sport\"}, {\"x\": 0.32185678805436796, \"y\": -0.18400558968980488, \"group\": \"sport\"}, {\"x\": 1.2478246178482408, \"y\": -1.2441577900181637, \"group\": \"sport\"}, {\"x\": 1.2949782621718415, \"y\": -0.984010682784295, \"group\": \"sport\"}, {\"x\": 0.6124008718713442, \"y\": 0.19358215069589954, \"group\": \"sport\"}, {\"x\": 0.36110837869594703, \"y\": -0.46080809281405677, \"group\": \"sport\"}, {\"x\": 1.8130110732596003, \"y\": -1.1940559341733545, \"group\": \"sport\"}, {\"x\": 0.6550563283971499, \"y\": -0.037806419704177474, \"group\": \"sport\"}, {\"x\": 0.7827942322471264, \"y\": 0.30390944342449816, \"group\": \"sport\"}, {\"x\": 0.6681797887529437, \"y\": -0.12879247353822346, \"group\": \"sport\"}, {\"x\": 1.5206982164833192, \"y\": 1.828677951085912, \"group\": \"sport\"}, {\"x\": 1.4944491288217794, \"y\": -0.68615697152825, \"group\": \"sport\"}, {\"x\": 0.7937631612588767, \"y\": -1.315748716124521, \"group\": \"sport\"}, {\"x\": 1.593869882131389, \"y\": 0.3136988688953072, \"group\": \"sport\"}, {\"x\": 1.5644167456242524, \"y\": 0.6517526618353562, \"group\": \"sport\"}, {\"x\": 1.8869698786892373, \"y\": 1.3746863131949274, \"group\": \"sport\"}, {\"x\": 0.7184241785149055, \"y\": 0.44091726775625845, \"group\": \"sport\"}, {\"x\": 1.431176548898618, \"y\": 0.09304324733071472, \"group\": \"sport\"}, {\"x\": 1.4165774278769925, \"y\": -0.30040236038644413, \"group\": \"sport\"}, {\"x\": 1.0468281115206406, \"y\": -0.8960025816279054, \"group\": \"sport\"}, {\"x\": 1.239379988407695, \"y\": -0.0413685188710893, \"group\": \"sport\"}, {\"x\": 1.1001369464943973, \"y\": -1.1802495648854527, \"group\": \"sport\"}, {\"x\": 1.6692396296273073, \"y\": 0.8442881011972891, \"group\": \"sport\"}, {\"x\": 1.1131934056462371, \"y\": -0.11091958137058827, \"group\": \"sport\"}, {\"x\": 1.0820938051688442, \"y\": -0.7832683676799196, \"group\": \"sport\"}, {\"x\": 0.008253001012981306, \"y\": -0.17093144249978956, \"group\": \"sport\"}, {\"x\": 1.3619885355007826, \"y\": 0.8092397242126194, \"group\": \"sport\"}, {\"x\": 1.920818430124574, \"y\": -0.11729412983186456, \"group\": \"sport\"}, {\"x\": 0.7551773246823108, \"y\": -0.009802725086897826, \"group\": \"sport\"}, {\"x\": 0.5226095600134683, \"y\": -1.6030899215203553, \"group\": \"sport\"}, {\"x\": 1.4788216141476074, \"y\": -0.32116421998081823, \"group\": \"sport\"}, {\"x\": 1.1423897260134854, \"y\": -0.42273204717674184, \"group\": \"sport\"}, {\"x\": 0.665712469313326, \"y\": 0.3039474242596159, \"group\": \"sport\"}, {\"x\": 0.8270023773748049, \"y\": -1.0467721997778554, \"group\": \"sport\"}, {\"x\": -0.036995804916794356, \"y\": -0.9117832896161412, \"group\": \"sport\"}, {\"x\": 1.1147179637800346, \"y\": -0.0865992823866225, \"group\": \"sport\"}, {\"x\": 0.9130107072363591, \"y\": -0.9837014830561162, \"group\": \"sport\"}, {\"x\": 0.2564215758292585, \"y\": 0.37344533277422554, \"group\": \"sport\"}, {\"x\": 1.0581027926554463, \"y\": 0.45452838997502093, \"group\": \"sport\"}, {\"x\": 1.8052989022676371, \"y\": -0.08121522454737472, \"group\": \"sport\"}, {\"x\": 0.6169491553675707, \"y\": 0.016612230969536877, \"group\": \"sport\"}, {\"x\": 1.3639310940463314, \"y\": 0.02717512103417195, \"group\": \"sport\"}, {\"x\": 0.8849708429210681, \"y\": -1.1736138955164683, \"group\": \"sport\"}, {\"x\": 1.2444481289149725, \"y\": -0.7772903149992029, \"group\": \"sport\"}, {\"x\": 1.2606979423114328, \"y\": 0.3926417397703754, \"group\": \"sport\"}, {\"x\": 1.2501201758251297, \"y\": 0.1390902092197142, \"group\": \"sport\"}, {\"x\": 1.459079053588929, \"y\": -1.4085346997483779, \"group\": \"sport\"}, {\"x\": 1.1774259009706678, \"y\": 0.7083306988342742, \"group\": \"sport\"}, {\"x\": 0.8618099650121808, \"y\": 0.576870061010873, \"group\": \"sport\"}, {\"x\": 1.1789195541679434, \"y\": 0.1423953421178684, \"group\": \"sport\"}, {\"x\": 0.9615480870168289, \"y\": 0.6612147850954105, \"group\": \"sport\"}, {\"x\": 1.4366005965062771, \"y\": 0.5180843084729917, \"group\": \"sport\"}, {\"x\": 1.8038958839295987, \"y\": -0.5420899421257637, \"group\": \"sport\"}, {\"x\": 1.1181603954497406, \"y\": 0.15095451084564807, \"group\": \"sport\"}, {\"x\": 1.5321638686977976, \"y\": -0.8075295350782544, \"group\": \"sport\"}, {\"x\": 1.1588872440005664, \"y\": -0.40260243669919477, \"group\": \"sport\"}, {\"x\": 1.713162386791744, \"y\": -0.11238434272581224, \"group\": \"sport\"}, {\"x\": 2.466725028155854, \"y\": 0.480785617392958, \"group\": \"sport\"}, {\"x\": 1.5361485233017895, \"y\": 1.191077859001489, \"group\": \"sport\"}, {\"x\": 0.34829956744951235, \"y\": -0.13237894152829427, \"group\": \"sport\"}, {\"x\": 0.5362191396138799, \"y\": 0.12276330672799743, \"group\": \"sport\"}, {\"x\": 1.752969486625301, \"y\": -1.240778642206166, \"group\": \"sport\"}, {\"x\": 0.7433304811089877, \"y\": -0.9129912504108607, \"group\": \"sport\"}, {\"x\": 1.3499282473939753, \"y\": 0.7646692716879054, \"group\": \"sport\"}, {\"x\": 0.6740261868348454, \"y\": -1.5663894460208219, \"group\": \"sport\"}, {\"x\": 1.4296137967119154, \"y\": -0.47033218061794185, \"group\": \"sport\"}, {\"x\": 0.6604970542681421, \"y\": -0.45824493502947033, \"group\": \"sport\"}, {\"x\": 1.686266945808402, \"y\": 0.012483720967531215, \"group\": \"sport\"}, {\"x\": 1.0559555778158234, \"y\": -0.46297119906611356, \"group\": \"sport\"}, {\"x\": 0.571968793666693, \"y\": 0.9923860756793742, \"group\": \"sport\"}, {\"x\": 0.8764604389347925, \"y\": -0.8213381847426023, \"group\": \"sport\"}, {\"x\": 0.24663938800281793, \"y\": -0.23202630951947018, \"group\": \"sport\"}, {\"x\": 0.4896843651428006, \"y\": -0.4795716770675623, \"group\": \"sport\"}, {\"x\": 1.4258701998769197, \"y\": -0.07259127098709338, \"group\": \"sport\"}, {\"x\": 0.7403229457841141, \"y\": -0.5287244246089587, \"group\": \"sport\"}, {\"x\": 0.9599995271089323, \"y\": -0.5505928568624328, \"group\": \"sport\"}, {\"x\": 1.3241022915565068, \"y\": 2.085559321493472, \"group\": \"sport\"}, {\"x\": -0.01456634226501937, \"y\": -0.29604126096349714, \"group\": \"sport\"}, {\"x\": 1.0112366001244555, \"y\": -0.3265494848659592, \"group\": \"sport\"}, {\"x\": 0.6511481800261288, \"y\": -0.530110333583884, \"group\": \"sport\"}, {\"x\": 0.1928172135626766, \"y\": 0.36840975138811094, \"group\": \"sport\"}, {\"x\": 0.9565496019619287, \"y\": 0.12686190794232835, \"group\": \"sport\"}, {\"x\": 0.8204803727936756, \"y\": -1.3193520756099615, \"group\": \"sport\"}, {\"x\": 0.5595231166419252, \"y\": 0.011319714219697461, \"group\": \"sport\"}, {\"x\": 0.7154180566518773, \"y\": -1.5134408126962384, \"group\": \"sport\"}, {\"x\": 0.37024254996945744, \"y\": 0.38076748858322995, \"group\": \"sport\"}, {\"x\": 0.8576289777423415, \"y\": -0.9272608034635159, \"group\": \"sport\"}, {\"x\": 1.075830761637893, \"y\": -0.6213612230890404, \"group\": \"sport\"}, {\"x\": 0.7416864151822855, \"y\": 0.6197820514843676, \"group\": \"sport\"}, {\"x\": 0.9208432251697893, \"y\": -1.3745154972646156, \"group\": \"sport\"}, {\"x\": 0.5975375446982668, \"y\": -1.5642020961538117, \"group\": \"sport\"}, {\"x\": 1.554606772370822, \"y\": -0.23228108998648314, \"group\": \"sport\"}, {\"x\": 1.458279910114634, \"y\": 0.11984792607866815, \"group\": \"sport\"}, {\"x\": 0.9416034980143804, \"y\": -0.007911442369735894, \"group\": \"sport\"}, {\"x\": 1.3782443734006398, \"y\": 0.924874912824077, \"group\": \"sport\"}, {\"x\": 1.8661714895557269, \"y\": -1.6948986666672305, \"group\": \"sport\"}, {\"x\": 1.0423496017525427, \"y\": 1.2981543213857982, \"group\": \"sport\"}, {\"x\": 0.3837250610957594, \"y\": -1.8175675250381669, \"group\": \"sport\"}, {\"x\": 1.0781243233893114, \"y\": 0.013464783491577934, \"group\": \"sport\"}, {\"x\": 0.6367699969215834, \"y\": 1.2772735517389222, \"group\": \"sport\"}, {\"x\": 0.19912003660577576, \"y\": -0.14351592473143576, \"group\": \"sport\"}, {\"x\": 1.2350633364102281, \"y\": -1.243061263790161, \"group\": \"sport\"}, {\"x\": 1.2689308691538062, \"y\": -0.5669783660967668, \"group\": \"sport\"}, {\"x\": 0.8702215293423256, \"y\": -0.13669368640012539, \"group\": \"sport\"}, {\"x\": 0.4672149229221493, \"y\": -1.420697513308386, \"group\": \"sport\"}, {\"x\": 0.8305234909605858, \"y\": -1.3517081878910022, \"group\": \"sport\"}, {\"x\": 0.45767248381958864, \"y\": -0.8728188461228964, \"group\": \"sport\"}, {\"x\": 1.657975541689572, \"y\": 0.38942780820324174, \"group\": \"sport\"}, {\"x\": 0.9720854337233398, \"y\": 0.35860891903866876, \"group\": \"sport\"}, {\"x\": 1.5980689008469278, \"y\": 0.23166672363752755, \"group\": \"sport\"}, {\"x\": 1.1980776094543624, \"y\": 0.44824189057455704, \"group\": \"sport\"}, {\"x\": 1.492254097210398, \"y\": -0.7594919483361787, \"group\": \"sport\"}, {\"x\": 0.7479563377036805, \"y\": -0.9296342679836036, \"group\": \"sport\"}, {\"x\": 0.9535931655720926, \"y\": -0.07824623692188863, \"group\": \"sport\"}, {\"x\": 0.2705559419078721, \"y\": -0.5812535704146958, \"group\": \"sport\"}, {\"x\": -0.14582257346025346, \"y\": 0.36734098124689096, \"group\": \"sport\"}, {\"x\": -0.04611160277782512, \"y\": 0.01895689189605933, \"group\": \"sport\"}, {\"x\": 0.26277032243006015, \"y\": -0.36180238514818425, \"group\": \"sport\"}, {\"x\": 1.3328823234026268, \"y\": 0.7523295096393051, \"group\": \"sport\"}, {\"x\": 0.4767393838803281, \"y\": -2.070366746601271, \"group\": \"sport\"}, {\"x\": 0.9500316229546137, \"y\": -1.187310204120082, \"group\": \"sport\"}, {\"x\": 0.7664183294865704, \"y\": 0.22018900115053458, \"group\": \"sport\"}, {\"x\": 0.39823687584967554, \"y\": -0.03804233262353251, \"group\": \"sport\"}, {\"x\": 1.3415208152575262, \"y\": 0.5927152454866347, \"group\": \"sport\"}, {\"x\": -0.011845253148746416, \"y\": -0.7052849108651191, \"group\": \"sport\"}, {\"x\": 0.11401726550615432, \"y\": -0.541729634508329, \"group\": \"sport\"}, {\"x\": 0.8423071390323038, \"y\": 0.40735991753848366, \"group\": \"sport\"}, {\"x\": 0.5679833608621621, \"y\": -0.5870274870626186, \"group\": \"sport\"}, {\"x\": 1.3596237568042289, \"y\": 0.2893859213443224, \"group\": \"sport\"}, {\"x\": 1.2559766179610945, \"y\": -1.0096330773588866, \"group\": \"sport\"}, {\"x\": 1.8693309200845583, \"y\": 0.16451811132982586, \"group\": \"sport\"}, {\"x\": 0.7141525243204624, \"y\": -0.6835726270630105, \"group\": \"sport\"}, {\"x\": 1.450680307401358, \"y\": -0.7654161019550523, \"group\": \"sport\"}, {\"x\": 1.0001123697332899, \"y\": 0.43714167830260897, \"group\": \"sport\"}, {\"x\": 1.6722841137644784, \"y\": -1.3631902481848395, \"group\": \"sport\"}, {\"x\": 1.2996314450423907, \"y\": 0.3287547941003534, \"group\": \"sport\"}, {\"x\": 0.6433039431285271, \"y\": -0.537979975124422, \"group\": \"sport\"}, {\"x\": 1.9189219712222272, \"y\": -1.6533830730843766, \"group\": \"sport\"}, {\"x\": 0.4198292324454537, \"y\": -1.2997601961796623, \"group\": \"sport\"}, {\"x\": 2.100902380752181, \"y\": 0.050875226479454305, \"group\": \"sport\"}, {\"x\": 1.1714397182906582, \"y\": -0.08704201714228828, \"group\": \"sport\"}, {\"x\": 0.6482174385683903, \"y\": -0.8878290447234333, \"group\": \"sport\"}, {\"x\": 0.3296400760121952, \"y\": -0.9182916396902541, \"group\": \"sport\"}, {\"x\": 0.4437311110885891, \"y\": 1.4789928894042417, \"group\": \"sport\"}, {\"x\": 1.028229354137306, \"y\": -1.6783757007652953, \"group\": \"sport\"}, {\"x\": -0.00031885874401303883, \"y\": 0.6844400382742966, \"group\": \"sport\"}, {\"x\": 1.0673284887652483, \"y\": -0.9466515559037497, \"group\": \"sport\"}, {\"x\": 1.176498978055596, \"y\": -1.5759812952930414, \"group\": \"sport\"}, {\"x\": -0.22833675867260794, \"y\": -0.032598320639326564, \"group\": \"sport\"}, {\"x\": 0.7496153412606846, \"y\": -1.2567533504191537, \"group\": \"sport\"}, {\"x\": 1.3930010332971607, \"y\": -0.19577433392414362, \"group\": \"sport\"}, {\"x\": 0.3488407903942085, \"y\": 0.04608702332931442, \"group\": \"sport\"}, {\"x\": 0.7495230172766013, \"y\": 0.07141404056883108, \"group\": \"sport\"}, {\"x\": 0.16967370899115117, \"y\": -0.8874827024189358, \"group\": \"sport\"}, {\"x\": 0.11571123522870672, \"y\": 0.06326288704865347, \"group\": \"sport\"}, {\"x\": -0.018143423251505007, \"y\": -0.1492515133387944, \"group\": \"sport\"}, {\"x\": 0.25882253911207725, \"y\": -1.4782352898928848, \"group\": \"sport\"}, {\"x\": 0.552854702774427, \"y\": 1.071959022152672, \"group\": \"sport\"}, {\"x\": 1.4367204261183844, \"y\": -2.3236259266275145, \"group\": \"sport\"}, {\"x\": 0.8151782847251398, \"y\": -1.1763497297280736, \"group\": \"sport\"}, {\"x\": 0.3976483290103879, \"y\": -0.7795165201523668, \"group\": \"sport\"}, {\"x\": 0.6925807078764344, \"y\": -0.6348862876954896, \"group\": \"sport\"}, {\"x\": 0.8877939349834325, \"y\": -1.206793587855911, \"group\": \"sport\"}, {\"x\": 0.6377593446499242, \"y\": -0.09233383782021931, \"group\": \"sport\"}, {\"x\": 0.5724645723879599, \"y\": -0.5296808652117024, \"group\": \"sport\"}, {\"x\": 0.03479806511295208, \"y\": -1.1726012398198062, \"group\": \"sport\"}, {\"x\": 1.9576496903473004, \"y\": 0.423777638536978, \"group\": \"sport\"}, {\"x\": 1.9293928801788947, \"y\": -2.004258496209871, \"group\": \"sport\"}, {\"x\": 0.45689528491885006, \"y\": -0.027453302771309262, \"group\": \"sport\"}, {\"x\": 0.9505395595887444, \"y\": -0.4201282506745786, \"group\": \"sport\"}, {\"x\": 0.5025947302131812, \"y\": -1.676677033518562, \"group\": \"sport\"}, {\"x\": 0.30448889817579833, \"y\": -1.028733603400476, \"group\": \"sport\"}, {\"x\": 0.7652119399661483, \"y\": -0.9351685279039019, \"group\": \"sport\"}, {\"x\": 0.8515239700793985, \"y\": -0.5290155160548671, \"group\": \"sport\"}, {\"x\": 1.479124691431561, \"y\": -0.8106736017130489, \"group\": \"sport\"}, {\"x\": 1.0996105092586697, \"y\": -0.3264383753749924, \"group\": \"sport\"}, {\"x\": 1.1144904304527048, \"y\": -0.8532821709535955, \"group\": \"sport\"}, {\"x\": 0.45516262375775607, \"y\": -0.20528075632410275, \"group\": \"sport\"}, {\"x\": 0.38237571033638296, \"y\": -0.15304402307369314, \"group\": \"sport\"}, {\"x\": 0.5511499215803242, \"y\": -1.3530429522096878, \"group\": \"sport\"}, {\"x\": 0.9227288666910135, \"y\": -1.53739685613448, \"group\": \"sport\"}, {\"x\": 0.7913377167369462, \"y\": -1.0693724447572612, \"group\": \"sport\"}, {\"x\": 0.048944921810166464, \"y\": 0.1666805437206574, \"group\": \"sport\"}, {\"x\": 0.469786636260502, \"y\": -0.6876216728886412, \"group\": \"sport\"}, {\"x\": 0.8321922469643, \"y\": 0.41270526045387984, \"group\": \"sport\"}, {\"x\": 1.3962578370200083, \"y\": 0.5195989389347325, \"group\": \"sport\"}, {\"x\": 0.6081272438600177, \"y\": -0.23816624818362248, \"group\": \"sport\"}, {\"x\": 1.7964876951349815, \"y\": 0.3035403990863616, \"group\": \"sport\"}, {\"x\": 1.02905507961211, \"y\": -0.9235817369090334, \"group\": \"sport\"}, {\"x\": 1.8774032643937084, \"y\": -1.175843548799683, \"group\": \"sport\"}, {\"x\": 1.1430872180393705, \"y\": -1.601808052160628, \"group\": \"sport\"}, {\"x\": 0.9594409067778894, \"y\": -0.05462808701988123, \"group\": \"sport\"}, {\"x\": 1.672728072760857, \"y\": 0.4609496423621757, \"group\": \"sport\"}, {\"x\": 0.2464677332966332, \"y\": -0.940795934789193, \"group\": \"sport\"}, {\"x\": 1.0443022086193112, \"y\": -0.7714337326017553, \"group\": \"sport\"}, {\"x\": 1.2798270165382337, \"y\": 1.0786661520352836, \"group\": \"sport\"}, {\"x\": 1.1192010685047613, \"y\": -0.5482522668124621, \"group\": \"sport\"}, {\"x\": 0.983544219031233, \"y\": 0.18311379602871303, \"group\": \"sport\"}, {\"x\": 1.3066331989673392, \"y\": -1.1399975936506397, \"group\": \"sport\"}, {\"x\": 0.5652414895441865, \"y\": -0.15677880866883181, \"group\": \"sport\"}, {\"x\": 1.567547346626357, \"y\": -1.599755525919007, \"group\": \"sport\"}, {\"x\": 1.3765625457675104, \"y\": 1.3388310261463938, \"group\": \"sport\"}, {\"x\": 0.4197161500640722, \"y\": -0.6717520596823339, \"group\": \"sport\"}, {\"x\": 0.9583049846156968, \"y\": 0.028888008444295704, \"group\": \"sport\"}, {\"x\": 1.6260539288953018, \"y\": -0.12844719536852123, \"group\": \"sport\"}, {\"x\": 2.104499449860501, \"y\": 0.2760036135689549, \"group\": \"sport\"}, {\"x\": 1.680493876517518, \"y\": -1.1348519317347363, \"group\": \"sport\"}, {\"x\": 1.4779334397238817, \"y\": -1.3836569173266218, \"group\": \"sport\"}, {\"x\": 0.6600851988263019, \"y\": 0.0027721456041412585, \"group\": \"sport\"}, {\"x\": 0.3929747679382743, \"y\": 0.3612360360029337, \"group\": \"sport\"}, {\"x\": 1.1538959921818697, \"y\": -1.426565889093454, \"group\": \"sport\"}, {\"x\": 1.2723286402482505, \"y\": -1.0101406861341784, \"group\": \"sport\"}, {\"x\": 1.6245928700237642, \"y\": 0.026783367364742634, \"group\": \"sport\"}, {\"x\": 0.3024186920174827, \"y\": -1.1087810140232375, \"group\": \"sport\"}, {\"x\": 1.1964516952910225, \"y\": -0.4379903464949945, \"group\": \"sport\"}, {\"x\": 1.4633357680328234, \"y\": 0.01379082411848776, \"group\": \"sport\"}, {\"x\": 1.3874181427159842, \"y\": -0.19849387213076194, \"group\": \"sport\"}, {\"x\": 2.0392149092315472, \"y\": 0.6097159065407355, \"group\": \"sport\"}, {\"x\": 1.0403588526919256, \"y\": -0.5080217921169674, \"group\": \"sport\"}, {\"x\": 1.190412671410337, \"y\": 0.26709191148776956, \"group\": \"sport\"}, {\"x\": 1.456966105818376, \"y\": 0.13043542425327598, \"group\": \"sport\"}, {\"x\": 1.113824973502775, \"y\": -0.9465391930005771, \"group\": \"sport\"}, {\"x\": 0.2403717584459882, \"y\": -1.4506781795348584, \"group\": \"sport\"}, {\"x\": 1.0355173331019039, \"y\": -0.846951480727107, \"group\": \"sport\"}, {\"x\": 0.05203516623023844, \"y\": -0.16959703160289938, \"group\": \"sport\"}, {\"x\": 0.8967746336080494, \"y\": -0.5692571446578083, \"group\": \"sport\"}, {\"x\": 0.7339232028270826, \"y\": 0.3843470962655217, \"group\": \"sport\"}, {\"x\": 1.3752164836660195, \"y\": -1.3547620269769067, \"group\": \"sport\"}, {\"x\": 0.6599775724301493, \"y\": -1.4182622411466483, \"group\": \"sport\"}, {\"x\": 1.0389226981744475, \"y\": -0.31973649450056807, \"group\": \"sport\"}, {\"x\": 0.29897365130074316, \"y\": -0.2977829421991753, \"group\": \"sport\"}, {\"x\": 1.3172761501846388, \"y\": -1.5282899525009008, \"group\": \"sport\"}, {\"x\": 0.6293734003805549, \"y\": -0.8035256147796618, \"group\": \"sport\"}, {\"x\": 1.7917301866894288, \"y\": -0.02158923446068536, \"group\": \"sport\"}, {\"x\": 0.3467675932952211, \"y\": -0.23704185788142768, \"group\": \"sport\"}, {\"x\": 0.2819936679648195, \"y\": 0.4429875233948154, \"group\": \"sport\"}, {\"x\": 0.4925047383570704, \"y\": 0.6568841498607252, \"group\": \"sport\"}, {\"x\": 0.3171393173537273, \"y\": 0.622242491985002, \"group\": \"sport\"}, {\"x\": 0.6697703375945555, \"y\": -0.8161167033258867, \"group\": \"sport\"}, {\"x\": 0.6504248475819766, \"y\": -0.21874270729495945, \"group\": \"sport\"}, {\"x\": 0.3354698067902254, \"y\": -0.10757242307913412, \"group\": \"sport\"}, {\"x\": 0.754210078718905, \"y\": -2.1921996003562048, \"group\": \"sport\"}, {\"x\": 0.24059053982677997, \"y\": -1.0078231775132498, \"group\": \"sport\"}, {\"x\": 0.9273383312409172, \"y\": -1.2758069717845728, \"group\": \"sport\"}, {\"x\": 1.0700198555298006, \"y\": -1.0728627031921878, \"group\": \"sport\"}, {\"x\": 1.3153113766946831, \"y\": 0.09249659406009812, \"group\": \"sport\"}, {\"x\": 1.1783044768212632, \"y\": 1.8550474382104922, \"group\": \"sport\"}, {\"x\": 1.0427184139599694, \"y\": -0.8491790989930216, \"group\": \"sport\"}, {\"x\": 1.6238307539686287, \"y\": 0.10632254294671947, \"group\": \"sport\"}, {\"x\": 0.7276506780365954, \"y\": 0.13691299473520174, \"group\": \"sport\"}, {\"x\": 1.831516897577386, \"y\": -0.17229950661520627, \"group\": \"sport\"}, {\"x\": 0.9278394875349675, \"y\": 0.35461503936259225, \"group\": \"sport\"}, {\"x\": 0.7532204545444855, \"y\": 0.1780047584390356, \"group\": \"sport\"}, {\"x\": 1.06661300476271, \"y\": -0.2576135791580574, \"group\": \"sport\"}, {\"x\": 1.2302533034836385, \"y\": 1.2867500968491163, \"group\": \"sport\"}, {\"x\": 0.011131003157140627, \"y\": 1.766946008122185, \"group\": \"sport\"}, {\"x\": 0.0912359925218823, \"y\": -1.3563652711892895, \"group\": \"sport\"}, {\"x\": 1.8789963601195168, \"y\": 1.3033949532190137, \"group\": \"sport\"}, {\"x\": 1.4539935415824192, \"y\": 1.310576467081514, \"group\": \"sport\"}, {\"x\": 1.3288048029735828, \"y\": 1.695262700686859, \"group\": \"sport\"}, {\"x\": 0.7638792633324866, \"y\": -0.539385001791008, \"group\": \"sport\"}, {\"x\": 0.6390728090155797, \"y\": 0.5310594879434027, \"group\": \"sport\"}, {\"x\": 1.8203598729754589, \"y\": 0.3520263459707023, \"group\": \"sport\"}, {\"x\": 0.7410461046159829, \"y\": 0.2088889302288751, \"group\": \"sport\"}, {\"x\": 2.3917413072211073, \"y\": 0.1121446974537468, \"group\": \"sport\"}, {\"x\": 1.0676816415584331, \"y\": 0.590774531044275, \"group\": \"sport\"}, {\"x\": 1.4504143191471146, \"y\": 0.011424317022402571, \"group\": \"sport\"}, {\"x\": 1.5201687570041005, \"y\": 0.5734751870083261, \"group\": \"sport\"}, {\"x\": 0.8260261511214586, \"y\": 0.7014058523018588, \"group\": \"sport\"}, {\"x\": 1.1046800338454104, \"y\": -0.9477949549505962, \"group\": \"sport\"}, {\"x\": 1.9669379440695658, \"y\": -0.40706390744823007, \"group\": \"sport\"}, {\"x\": 0.01905439537377668, \"y\": 0.17903207097362445, \"group\": \"sport\"}, {\"x\": 1.1530582772677842, \"y\": -0.3853405740734078, \"group\": \"sport\"}, {\"x\": 0.6959856039329484, \"y\": -1.2832820410957135, \"group\": \"sport\"}, {\"x\": 2.0796661442242113, \"y\": 0.16175139529541607, \"group\": \"sport\"}, {\"x\": 1.3030918276411279, \"y\": -0.7808609396596429, \"group\": \"sport\"}, {\"x\": 1.3355292496977156, \"y\": 0.45047719559312527, \"group\": \"sport\"}, {\"x\": 2.2846611324449064, \"y\": 0.42875635911070115, \"group\": \"sport\"}, {\"x\": 0.9605454734663063, \"y\": -0.4940769839651557, \"group\": \"sport\"}, {\"x\": 2.291190717587875, \"y\": -1.5820757945413102, \"group\": \"sport\"}, {\"x\": 2.5075198462252475, \"y\": -0.702712415466725, \"group\": \"sport\"}, {\"x\": 1.3146692366211536, \"y\": -0.1434778414449304, \"group\": \"sport\"}, {\"x\": 1.715035330637968, \"y\": 0.8137453656382145, \"group\": \"sport\"}, {\"x\": 1.7250706896640868, \"y\": -0.9000984944275907, \"group\": \"sport\"}, {\"x\": 1.854713133187314, \"y\": -1.4414246429845394, \"group\": \"sport\"}, {\"x\": 1.047060670381242, \"y\": -1.394571068712148, \"group\": \"sport\"}, {\"x\": 1.9192910939984706, \"y\": -1.6357311614120948, \"group\": \"sport\"}, {\"x\": 1.9638636006745538, \"y\": -0.9202650281874534, \"group\": \"sport\"}, {\"x\": 0.6251270312414723, \"y\": -1.9970468976000422, \"group\": \"sport\"}, {\"x\": 1.3959341388383963, \"y\": -0.2706262866454929, \"group\": \"sport\"}, {\"x\": 1.762350947528027, \"y\": -1.0924093796759131, \"group\": \"sport\"}, {\"x\": 1.0723366880207772, \"y\": -0.9127009989235225, \"group\": \"sport\"}, {\"x\": 1.736861868759033, \"y\": -1.312254104745703, \"group\": \"sport\"}, {\"x\": 2.640762961914657, \"y\": -0.5208531348726099, \"group\": \"sport\"}, {\"x\": 1.3828266362016484, \"y\": -0.3366333401449266, \"group\": \"sport\"}, {\"x\": 2.5305013544657213, \"y\": -0.1582113450558057, \"group\": \"sport\"}, {\"x\": 0.7993023150340273, \"y\": 0.8775097861104536, \"group\": \"sport\"}, {\"x\": 2.2654219665405537, \"y\": 0.4942229079562901, \"group\": \"sport\"}, {\"x\": 2.3864652632339824, \"y\": -0.5502447871187464, \"group\": \"sport\"}, {\"x\": 2.2712448592413503, \"y\": 0.21524330192368676, \"group\": \"sport\"}, {\"x\": 3.3617026702644783, \"y\": -0.0646159150039096, \"group\": \"sport\"}, {\"x\": 1.9952747603059122, \"y\": -0.2876472092876141, \"group\": \"sport\"}, {\"x\": 2.9085426033774606, \"y\": 0.32058628783341586, \"group\": \"sport\"}, {\"x\": 1.0001929644484058, \"y\": 0.06765792316766117, \"group\": \"sport\"}, {\"x\": 2.521060254558517, \"y\": -0.519312427511278, \"group\": \"sport\"}, {\"x\": 1.7531185716683653, \"y\": -1.3859897844600053, \"group\": \"sport\"}, {\"x\": 2.639302952134615, \"y\": 1.5444492289815157, \"group\": \"sport\"}, {\"x\": 0.9077834496693793, \"y\": 0.08131737544453191, \"group\": \"sport\"}, {\"x\": 2.055707237396239, \"y\": 1.5286694412830355, \"group\": \"sport\"}, {\"x\": 1.7485628046988233, \"y\": 0.6439824972190248, \"group\": \"sport\"}, {\"x\": 2.7430381053712654, \"y\": 0.33458901208332237, \"group\": \"sport\"}, {\"x\": 2.0403113859304822, \"y\": -2.2459399406092295, \"group\": \"sport\"}, {\"x\": 0.9695897340532202, \"y\": 2.298979958073793, \"group\": \"sport\"}, {\"x\": 2.1089532508483093, \"y\": -1.550062510552351, \"group\": \"sport\"}, {\"x\": 2.079674860189531, \"y\": -0.791641858093567, \"group\": \"sport\"}, {\"x\": 1.90656400495257, \"y\": -0.28503391545836315, \"group\": \"sport\"}, {\"x\": 2.2252973260834232, \"y\": 0.9494570793077939, \"group\": \"sport\"}, {\"x\": 3.434975773011316, \"y\": 0.6130126096482128, \"group\": \"sport\"}, {\"x\": 3.2139329841971613, \"y\": 0.4571189201090122, \"group\": \"sport\"}, {\"x\": 1.5892534965343659, \"y\": -0.06658919190752818, \"group\": \"sport\"}, {\"x\": 0.543101908960566, \"y\": 0.9411056920930718, \"group\": \"sport\"}, {\"x\": 1.4409792785127427, \"y\": 0.3382473161108726, \"group\": \"sport\"}, {\"x\": 3.254258032812275, \"y\": 1.275325578548017, \"group\": \"sport\"}, {\"x\": 2.289652504007124, \"y\": 1.69168746668156, \"group\": \"sport\"}, {\"x\": 1.4635867559331306, \"y\": 1.2800964174270157, \"group\": \"sport\"}, {\"x\": 1.6116605044396934, \"y\": 1.92520779927244, \"group\": \"sport\"}, {\"x\": 1.267903831351761, \"y\": 0.9720748960880231, \"group\": \"sport\"}, {\"x\": 3.0945342498276966, \"y\": 1.1950366412232998, \"group\": \"sport\"}, {\"x\": 1.6327166664817325, \"y\": 3.7803852476574473, \"group\": \"sport\"}, {\"x\": 3.1320383594993833, \"y\": 1.0290184454944902, \"group\": \"sport\"}, {\"x\": 2.5342036146000506, \"y\": 0.1888312015684695, \"group\": \"sport\"}, {\"x\": 1.9916629751463777, \"y\": -0.8679103496754069, \"group\": \"sport\"}, {\"x\": 1.6401099816724258, \"y\": 0.591912442032363, \"group\": \"sport\"}, {\"x\": 1.7552892578311634, \"y\": 0.240278350752216, \"group\": \"sport\"}, {\"x\": 2.482340543258546, \"y\": 1.0963087515854915, \"group\": \"sport\"}, {\"x\": 2.3310720048336426, \"y\": -0.5945112824968605, \"group\": \"sport\"}, {\"x\": 1.9627701280430612, \"y\": 1.0179100101630036, \"group\": \"sport\"}, {\"x\": 1.9121587527848956, \"y\": 0.3881812919776883, \"group\": \"sport\"}, {\"x\": 1.5724542095769636, \"y\": 1.4612187191881567, \"group\": \"sport\"}, {\"x\": 1.5493164456979778, \"y\": 2.4216928132502273, \"group\": \"sport\"}, {\"x\": 3.1615123189492285, \"y\": 1.1406895906767855, \"group\": \"sport\"}, {\"x\": 0.7909467165931898, \"y\": -0.10441113769770319, \"group\": \"sport\"}, {\"x\": 3.094392806366251, \"y\": 2.817636843512587, \"group\": \"sport\"}, {\"x\": 3.191832941405778, \"y\": 1.5067622261581106, \"group\": \"sport\"}, {\"x\": 3.090608502282362, \"y\": 1.722988243012613, \"group\": \"sport\"}, {\"x\": 2.1153400477267756, \"y\": 0.66881273128489, \"group\": \"sport\"}, {\"x\": 2.351100622168731, \"y\": -0.11214418110611812, \"group\": \"sport\"}, {\"x\": 3.4580193034410263, \"y\": 0.2216481194822719, \"group\": \"sport\"}, {\"x\": 1.902391910881051, \"y\": 0.3998779052635009, \"group\": \"sport\"}, {\"x\": 2.1646535626467562, \"y\": -1.8677701836958145, \"group\": \"sport\"}, {\"x\": 1.3425358994441372, \"y\": -1.385810318628009, \"group\": \"sport\"}, {\"x\": 2.8659785608083275, \"y\": -0.18513707120562908, \"group\": \"sport\"}, {\"x\": 1.3087094461864055, \"y\": 0.06933089112014565, \"group\": \"sport\"}, {\"x\": 3.8685918835785205, \"y\": 0.002720885106551517, \"group\": \"sport\"}, {\"x\": 2.6494567710323778, \"y\": 0.1902563625169312, \"group\": \"sport\"}, {\"x\": 2.469268075703718, \"y\": 0.816121313398188, \"group\": \"sport\"}, {\"x\": 2.027589478250739, \"y\": 2.268135093207867, \"group\": \"sport\"}, {\"x\": 2.234221157502062, \"y\": 2.565180057774297, \"group\": \"sport\"}, {\"x\": 2.6150863173622603, \"y\": 0.7076397388165492, \"group\": \"sport\"}, {\"x\": 1.633083962618122, \"y\": 0.5097773528145777, \"group\": \"sport\"}, {\"x\": 3.9005279708702263, \"y\": 0.12464195710430954, \"group\": \"sport\"}, {\"x\": 0.6708874704717621, \"y\": 0.6535101675637776, \"group\": \"sport\"}, {\"x\": 3.071896001343126, \"y\": 0.6097241566185087, \"group\": \"sport\"}, {\"x\": 1.9091436359192206, \"y\": 0.10564467356963957, \"group\": \"sport\"}, {\"x\": 1.741073735649485, \"y\": -1.0398691541460887, \"group\": \"sport\"}, {\"x\": 2.661722906206647, \"y\": -0.13243866012598388, \"group\": \"sport\"}, {\"x\": 2.6543304051567858, \"y\": 0.7041830075723927, \"group\": \"sport\"}, {\"x\": 3.1823163225783784, \"y\": 0.14751571903489977, \"group\": \"sport\"}, {\"x\": 3.0923061158602168, \"y\": -0.9594972561596946, \"group\": \"sport\"}, {\"x\": 2.5925650762688908, \"y\": -0.2799541446452872, \"group\": \"sport\"}, {\"x\": 2.4324528830819254, \"y\": 0.3672476210285211, \"group\": \"sport\"}, {\"x\": 2.357991824963542, \"y\": -0.014583944385756876, \"group\": \"sport\"}, {\"x\": 2.491510552174314, \"y\": 1.2579781528675795, \"group\": \"sport\"}, {\"x\": 2.9401032060909595, \"y\": -1.7252567949740252, \"group\": \"sport\"}, {\"x\": 1.7342311222788722, \"y\": -0.22012637784595215, \"group\": \"sport\"}, {\"x\": 2.5955568766003934, \"y\": -1.2428851643879528, \"group\": \"sport\"}, {\"x\": 3.270533741880578, \"y\": 1.1953959998835357, \"group\": \"sport\"}, {\"x\": 2.545527670901284, \"y\": 1.2847307103903083, \"group\": \"sport\"}, {\"x\": 2.2842293643981204, \"y\": 0.08574037480111119, \"group\": \"sport\"}, {\"x\": 1.701290287988722, \"y\": 2.0898598395187293, \"group\": \"sport\"}, {\"x\": 2.5940962351334425, \"y\": -0.37399954405279295, \"group\": \"sport\"}, {\"x\": 1.020610420600834, \"y\": 0.921265714050331, \"group\": \"sport\"}, {\"x\": 2.479135449552909, \"y\": 1.3834888123681812, \"group\": \"sport\"}, {\"x\": 3.092211024644208, \"y\": -0.743169358624441, \"group\": \"sport\"}, {\"x\": 2.214781774888421, \"y\": 0.8295528719054454, \"group\": \"sport\"}, {\"x\": 2.9265377945742777, \"y\": -1.0468987180928861, \"group\": \"sport\"}, {\"x\": 2.610880320825903, \"y\": 0.14086850871582837, \"group\": \"sport\"}, {\"x\": 3.6201993090182927, \"y\": 1.30811642030005, \"group\": \"sport\"}, {\"x\": 4.950478929446322, \"y\": 0.9118598546097855, \"group\": \"sport\"}, {\"x\": 1.1380360660356073, \"y\": 0.5724092250935787, \"group\": \"business\"}, {\"x\": -0.3258364418859268, \"y\": -0.2697850086136871, \"group\": \"business\"}, {\"x\": 0.5646686042454868, \"y\": 0.12448437783054062, \"group\": \"business\"}, {\"x\": 0.22635022075413844, \"y\": 0.4689992645663278, \"group\": \"business\"}, {\"x\": 0.4578801784948239, \"y\": 0.9290843218569742, \"group\": \"business\"}, {\"x\": -1.0637129165732757, \"y\": 0.8152960386616671, \"group\": \"business\"}, {\"x\": 0.7766427761852419, \"y\": 1.6399117668597283, \"group\": \"business\"}, {\"x\": -0.46725837002005505, \"y\": 0.6467478743479179, \"group\": \"business\"}, {\"x\": 0.19716472465627144, \"y\": -1.8330035228867514, \"group\": \"business\"}, {\"x\": -0.14598303128423848, \"y\": -0.5531544289465593, \"group\": \"business\"}, {\"x\": -0.3088262946306812, \"y\": 0.39030290834133946, \"group\": \"business\"}, {\"x\": -0.9861047877564282, \"y\": 1.0993977113886704, \"group\": \"business\"}, {\"x\": -0.605923350647067, \"y\": -3.022161885746414, \"group\": \"business\"}, {\"x\": -1.0675904986653155, \"y\": -0.3409145793099056, \"group\": \"business\"}, {\"x\": 0.5012407327155473, \"y\": 0.027818115748881878, \"group\": \"business\"}, {\"x\": 0.8049257470635894, \"y\": -1.3956246552550147, \"group\": \"business\"}, {\"x\": -1.2108830940422268, \"y\": 0.39614076555443883, \"group\": \"business\"}, {\"x\": -1.0476910650999063, \"y\": 0.034771947817798216, \"group\": \"business\"}, {\"x\": 1.5060631943951415, \"y\": -0.4240139554967553, \"group\": \"business\"}, {\"x\": -1.6027701673812524, \"y\": -0.1846143226884754, \"group\": \"business\"}, {\"x\": -0.07162852603414863, \"y\": 0.5261933037896748, \"group\": \"business\"}, {\"x\": -0.26957999676113475, \"y\": -0.21587496571569043, \"group\": \"business\"}, {\"x\": 1.9104162747013054, \"y\": -2.697943062491425, \"group\": \"business\"}, {\"x\": 0.01786844768747534, \"y\": 1.10469853126953, \"group\": \"business\"}, {\"x\": 0.15830722171839234, \"y\": -0.803756666101975, \"group\": \"business\"}, {\"x\": 2.2445235739375637, \"y\": -0.3294995962012884, \"group\": \"business\"}, {\"x\": -1.2613273711281392, \"y\": 1.3171821005598559, \"group\": \"business\"}, {\"x\": 0.2580065073122816, \"y\": 1.2370020932892516, \"group\": \"business\"}, {\"x\": -1.7354379850645383, \"y\": 0.3429240578722788, \"group\": \"business\"}, {\"x\": -1.7116724370416998, \"y\": 1.5245536725004858, \"group\": \"business\"}, {\"x\": 0.15518877277369086, \"y\": 1.5861474201519663, \"group\": \"business\"}, {\"x\": -1.9448745853712004, \"y\": -1.6663292456669025, \"group\": \"business\"}, {\"x\": -1.9097601880875468, \"y\": -0.46729933776563803, \"group\": \"business\"}, {\"x\": -1.2909802699747157, \"y\": 0.2357836556696238, \"group\": \"business\"}, {\"x\": 0.5678178244899964, \"y\": -0.6738925275346035, \"group\": \"business\"}, {\"x\": 0.4730241212960627, \"y\": 0.7115798881028994, \"group\": \"business\"}, {\"x\": -1.686573544139057, \"y\": 2.6721926710977577, \"group\": \"business\"}, {\"x\": -0.6256598155009359, \"y\": 0.7166476883125545, \"group\": \"business\"}, {\"x\": 0.1133507571454325, \"y\": -0.28371407985516556, \"group\": \"business\"}, {\"x\": -0.47244600935844255, \"y\": -0.049590124838827056, \"group\": \"business\"}, {\"x\": 0.13007853748531448, \"y\": -0.16091562016255162, \"group\": \"business\"}, {\"x\": -2.6243674796978103, \"y\": 1.5912121351304465, \"group\": \"business\"}, {\"x\": -1.9009911933903691, \"y\": -3.0822580480554285, \"group\": \"business\"}, {\"x\": -1.3401725616684352, \"y\": 0.6508050463331011, \"group\": \"business\"}, {\"x\": 1.0855798563505752, \"y\": -0.8078461793278521, \"group\": \"business\"}, {\"x\": -0.14282011721476587, \"y\": -0.9007098451189871, \"group\": \"business\"}, {\"x\": -0.11386451672252812, \"y\": 1.0758013165824114, \"group\": \"business\"}, {\"x\": -0.48389545871515793, \"y\": 0.22196732512878217, \"group\": \"business\"}, {\"x\": -0.7736296929803543, \"y\": 1.2618840784009413, \"group\": \"business\"}, {\"x\": -0.7797388705249645, \"y\": 1.0474789259590238, \"group\": \"business\"}, {\"x\": -0.4708633512567204, \"y\": 0.5242523931409274, \"group\": \"business\"}, {\"x\": -1.6929967653452804, \"y\": -0.32814858877887554, \"group\": \"business\"}, {\"x\": -0.5822909163212876, \"y\": -1.952485110223279, \"group\": \"business\"}, {\"x\": -2.492218381110506, \"y\": 0.13410053728577953, \"group\": \"business\"}, {\"x\": -2.040574220216896, \"y\": 1.9517525952567423, \"group\": \"business\"}, {\"x\": 0.174259482518389, \"y\": -0.610691753964271, \"group\": \"business\"}, {\"x\": -0.10136062590522203, \"y\": 0.2877909905353739, \"group\": \"business\"}, {\"x\": 0.2636835692709615, \"y\": -0.7728519295068337, \"group\": \"business\"}, {\"x\": -1.6064339397412444, \"y\": -1.7673255136565653, \"group\": \"business\"}, {\"x\": -0.7144699123433479, \"y\": -0.4444548819068155, \"group\": \"business\"}, {\"x\": -0.501252728363909, \"y\": 0.33519182841751693, \"group\": \"business\"}, {\"x\": -1.660328518225399, \"y\": 1.4576916873778882, \"group\": \"business\"}, {\"x\": -0.09580689061940743, \"y\": -0.9332919836144132, \"group\": \"business\"}, {\"x\": 2.134287635003422, \"y\": -1.076644649854014, \"group\": \"business\"}, {\"x\": -1.7204734917131015, \"y\": 0.8971372303654254, \"group\": \"business\"}, {\"x\": -0.1836141824450601, \"y\": 1.1172872989562215, \"group\": \"business\"}, {\"x\": 2.178248483999191, \"y\": 1.5637060915057863, \"group\": \"business\"}, {\"x\": -0.15053562984890337, \"y\": 0.20088477538169733, \"group\": \"business\"}, {\"x\": -0.8664176804708211, \"y\": 1.3263897209944775, \"group\": \"business\"}, {\"x\": -0.9939676981596168, \"y\": -0.6869908835325437, \"group\": \"business\"}, {\"x\": 1.2186690400455977, \"y\": -0.3422441138051494, \"group\": \"business\"}, {\"x\": 0.6461337590729229, \"y\": 1.5781285760626846, \"group\": \"business\"}, {\"x\": 1.0745496768393634, \"y\": -0.4536865569231849, \"group\": \"business\"}, {\"x\": 0.09064419938175028, \"y\": -2.3778430152848005, \"group\": \"business\"}, {\"x\": -0.7165873154847587, \"y\": -0.5133407726761923, \"group\": \"business\"}, {\"x\": 0.30581067602615014, \"y\": 0.11705454069989289, \"group\": \"business\"}, {\"x\": -0.48984881616499837, \"y\": -0.18201061514285338, \"group\": \"business\"}, {\"x\": 0.35372403255179524, \"y\": -0.4622456734838151, \"group\": \"business\"}, {\"x\": 1.5839446373097685, \"y\": -0.5524648444473985, \"group\": \"business\"}, {\"x\": 1.6383366972635995, \"y\": -1.480271443753944, \"group\": \"business\"}, {\"x\": 0.7413479986025459, \"y\": 0.08716632124327867, \"group\": \"business\"}, {\"x\": -0.3284291699659783, \"y\": 0.41798632320577556, \"group\": \"business\"}, {\"x\": -0.7646067840538932, \"y\": -0.05895915812286522, \"group\": \"business\"}, {\"x\": 0.9516541067327425, \"y\": -1.2867784632483679, \"group\": \"business\"}, {\"x\": -0.5711132583517656, \"y\": 2.019175828281956, \"group\": \"business\"}, {\"x\": -1.1344692991082017, \"y\": 0.4105486909876367, \"group\": \"business\"}, {\"x\": 1.9625156865722428, \"y\": -0.4862882917876264, \"group\": \"business\"}, {\"x\": -0.971334374672136, \"y\": 0.4919655671484021, \"group\": \"business\"}, {\"x\": -0.6932864878158362, \"y\": 1.657236012167206, \"group\": \"business\"}, {\"x\": 0.0809531286643431, \"y\": 0.002576598625146238, \"group\": \"business\"}, {\"x\": -0.11589642037413247, \"y\": -0.2917004291138553, \"group\": \"business\"}, {\"x\": -1.1607055883397888, \"y\": -0.23369908604859954, \"group\": \"business\"}, {\"x\": -1.069719785200809, \"y\": 0.4744218422670586, \"group\": \"business\"}, {\"x\": -2.5756604615793792, \"y\": -0.8728277857599064, \"group\": \"business\"}, {\"x\": -0.9600933105844881, \"y\": 0.7665025358511155, \"group\": \"business\"}, {\"x\": -0.9551801569087284, \"y\": 0.18923071149194765, \"group\": \"business\"}, {\"x\": 0.8601017976495164, \"y\": 0.41646176714860195, \"group\": \"business\"}, {\"x\": 0.10065943817759822, \"y\": -1.0302668223378617, \"group\": \"business\"}, {\"x\": 2.08705918430509, \"y\": 1.0738626065227561, \"group\": \"business\"}, {\"x\": -0.5403362892328644, \"y\": -0.5710741232414559, \"group\": \"business\"}, {\"x\": 0.573670495544983, \"y\": 1.156125094904047, \"group\": \"business\"}, {\"x\": -1.2953393946395328, \"y\": 0.21682649659815467, \"group\": \"business\"}, {\"x\": 0.6099172854050907, \"y\": 2.2697375535516056, \"group\": \"business\"}, {\"x\": 0.021106701669958164, \"y\": 2.4885730801050205, \"group\": \"business\"}, {\"x\": -0.3374824640349308, \"y\": -0.7107888026976928, \"group\": \"business\"}, {\"x\": 0.35301993749613375, \"y\": -0.9394878227894581, \"group\": \"business\"}, {\"x\": -0.732696921933126, \"y\": 0.4080572168828049, \"group\": \"business\"}, {\"x\": -0.22259555088239127, \"y\": 0.02092554615004597, \"group\": \"business\"}, {\"x\": -1.1749973085689205, \"y\": -1.0060070363451652, \"group\": \"business\"}, {\"x\": -0.1385440050528271, \"y\": 0.6084024080296014, \"group\": \"business\"}, {\"x\": 0.3184045932254706, \"y\": 0.03315957400702693, \"group\": \"business\"}, {\"x\": 0.4473685719583223, \"y\": -0.008656347375013043, \"group\": \"business\"}, {\"x\": 1.5038784064618518, \"y\": -0.6177813215028587, \"group\": \"business\"}, {\"x\": 0.18522538751983345, \"y\": 0.32534158887588766, \"group\": \"business\"}, {\"x\": 1.0480067276121001, \"y\": -0.12866103251589425, \"group\": \"business\"}, {\"x\": 0.7781849467763873, \"y\": 1.0137622604358074, \"group\": \"business\"}, {\"x\": -0.13869134134671315, \"y\": -1.1465540258413993, \"group\": \"business\"}, {\"x\": -1.5991276034583837, \"y\": -1.840655977838868, \"group\": \"business\"}, {\"x\": -0.7230521453250219, \"y\": -2.4927942686380153, \"group\": \"business\"}, {\"x\": 0.6002575593308841, \"y\": -1.3424388989818867, \"group\": \"business\"}, {\"x\": -1.2844286566452154, \"y\": -0.473623040309608, \"group\": \"business\"}, {\"x\": 0.90038967229127, \"y\": -0.8470352202876141, \"group\": \"business\"}, {\"x\": 0.4760370985660897, \"y\": 1.9283091317354795, \"group\": \"business\"}, {\"x\": -0.5958924880768504, \"y\": -2.2568120532877076, \"group\": \"business\"}, {\"x\": -0.7710124438943899, \"y\": -0.7084039047530848, \"group\": \"business\"}, {\"x\": 0.8825084623325684, \"y\": 0.46849308795897476, \"group\": \"business\"}, {\"x\": -0.6572778218080501, \"y\": 0.9317588340793661, \"group\": \"business\"}, {\"x\": -0.547684881471728, \"y\": 1.1728701630170788, \"group\": \"business\"}, {\"x\": -0.02815683142549928, \"y\": 0.04562627303564202, \"group\": \"business\"}, {\"x\": -0.426883926847803, \"y\": -0.7892339376722024, \"group\": \"business\"}, {\"x\": 0.042626608180948565, \"y\": 1.2537065685932083, \"group\": \"business\"}, {\"x\": -1.1868198736865938, \"y\": -0.1934623328827863, \"group\": \"business\"}, {\"x\": 0.011780148883963162, \"y\": 0.3282863753001363, \"group\": \"business\"}, {\"x\": -1.749704964623952, \"y\": -1.1999252715077635, \"group\": \"business\"}, {\"x\": -1.667468488028479, \"y\": -2.108792899655374, \"group\": \"business\"}, {\"x\": -0.30948645679460735, \"y\": -1.787770168675993, \"group\": \"business\"}, {\"x\": 0.026701994189658924, \"y\": -0.4998700846392018, \"group\": \"business\"}, {\"x\": -1.5428625258985749, \"y\": 0.15543985490501808, \"group\": \"business\"}, {\"x\": -0.19100784278790833, \"y\": 0.9941136432078479, \"group\": \"business\"}, {\"x\": -0.3758856335734698, \"y\": -0.25583023688529566, \"group\": \"business\"}, {\"x\": -1.0549228672352409, \"y\": 1.1445748817747023, \"group\": \"business\"}, {\"x\": -2.430559966421528, \"y\": 0.9398124934682754, \"group\": \"business\"}, {\"x\": -0.04415151066500634, \"y\": -1.9911436956310953, \"group\": \"business\"}, {\"x\": -1.7396472192769636, \"y\": -1.3547762661755864, \"group\": \"business\"}, {\"x\": -1.0904668833243827, \"y\": -0.7109397834511874, \"group\": \"business\"}, {\"x\": -1.4972090935369569, \"y\": 0.4438702573138387, \"group\": \"business\"}, {\"x\": -0.616300961742708, \"y\": 0.8599595982585384, \"group\": \"business\"}, {\"x\": -0.09446484227540973, \"y\": 0.5468360518802866, \"group\": \"business\"}, {\"x\": -1.6432514820626072, \"y\": -0.08552638294392159, \"group\": \"business\"}, {\"x\": -1.0924495072401488, \"y\": -2.5488587997986274, \"group\": \"business\"}, {\"x\": 1.0899747148744727, \"y\": -1.718064523476122, \"group\": \"business\"}, {\"x\": 1.3220887039223939, \"y\": 0.1985128292742134, \"group\": \"business\"}, {\"x\": -1.8849724781527808, \"y\": 1.0017165781963708, \"group\": \"business\"}, {\"x\": 0.6848101935438735, \"y\": -1.4725809659864706, \"group\": \"business\"}, {\"x\": -1.8892174065553358, \"y\": -0.2913504393272027, \"group\": \"business\"}, {\"x\": -1.294968367340549, \"y\": 1.7151288070817023, \"group\": \"business\"}, {\"x\": -0.793594608201294, \"y\": 0.002230271145768178, \"group\": \"business\"}, {\"x\": 0.8510122038464921, \"y\": -1.4756119781202437, \"group\": \"business\"}, {\"x\": 0.2594530233383654, \"y\": 0.7695863110977849, \"group\": \"business\"}, {\"x\": -0.43869092892605144, \"y\": -0.6116530378284954, \"group\": \"business\"}, {\"x\": -1.5120159589128102, \"y\": 0.7449772907810189, \"group\": \"business\"}, {\"x\": 0.16119045546113747, \"y\": -0.5810947960569067, \"group\": \"business\"}, {\"x\": -2.090056792398077, \"y\": -1.3536378545095062, \"group\": \"business\"}, {\"x\": -0.004060905859577189, \"y\": 1.6117340928511759, \"group\": \"business\"}, {\"x\": -1.8128380880696982, \"y\": 0.1890997458406787, \"group\": \"business\"}, {\"x\": -0.25037842671430205, \"y\": -0.4886739146244431, \"group\": \"business\"}, {\"x\": -2.104436101060621, \"y\": 0.8605826656464319, \"group\": \"business\"}, {\"x\": 1.3681279490239142, \"y\": -0.4665706402292364, \"group\": \"business\"}, {\"x\": -1.478850479175905, \"y\": 0.43874669355935175, \"group\": \"business\"}, {\"x\": -1.0902311874004247, \"y\": 0.26583115780260197, \"group\": \"business\"}, {\"x\": -0.09289632669183527, \"y\": -0.9278507953034942, \"group\": \"business\"}, {\"x\": -0.9975638874555544, \"y\": 0.6861173881463626, \"group\": \"business\"}, {\"x\": -0.5140139981770416, \"y\": 0.9347625221359946, \"group\": \"business\"}, {\"x\": 0.6577592466346752, \"y\": -0.5845294688149504, \"group\": \"business\"}, {\"x\": -0.04923086087222491, \"y\": 0.38130306590585733, \"group\": \"business\"}, {\"x\": -0.37103327630886, \"y\": 0.6483897598423874, \"group\": \"business\"}, {\"x\": 0.2429885223087911, \"y\": -0.8533531587330245, \"group\": \"business\"}, {\"x\": 0.5143516163252313, \"y\": 0.515517777323517, \"group\": \"business\"}, {\"x\": -0.07949013141863336, \"y\": 0.5704367675615181, \"group\": \"business\"}, {\"x\": 0.7129723012399887, \"y\": -1.3561228152512022, \"group\": \"business\"}, {\"x\": 0.21854777601414926, \"y\": -2.143966592288947, \"group\": \"business\"}, {\"x\": -1.2250973662066194, \"y\": -0.1534978695670797, \"group\": \"business\"}, {\"x\": 0.6990325717542984, \"y\": 1.23038991178553, \"group\": \"business\"}, {\"x\": 1.2729536571966278, \"y\": 0.026665729718867652, \"group\": \"business\"}, {\"x\": 1.2692992927025566, \"y\": 0.9126167523306381, \"group\": \"business\"}, {\"x\": -2.312997569495658, \"y\": 0.7067629566751292, \"group\": \"business\"}, {\"x\": -0.11089858985451646, \"y\": 0.2600609341662232, \"group\": \"business\"}, {\"x\": 2.321382170326539, \"y\": 1.7660872384355761, \"group\": \"business\"}, {\"x\": 0.7301614114981996, \"y\": 0.5465269901252277, \"group\": \"business\"}, {\"x\": -0.8877326972306607, \"y\": 1.379954941687411, \"group\": \"business\"}, {\"x\": 1.1266594673446213, \"y\": 2.074369370958411, \"group\": \"business\"}, {\"x\": 0.5703628213770642, \"y\": -1.9760804537533834, \"group\": \"business\"}, {\"x\": 1.0013189485785006, \"y\": -0.8105649531008643, \"group\": \"business\"}, {\"x\": -0.6435686005627453, \"y\": 0.9106717384755754, \"group\": \"business\"}, {\"x\": -0.8712453988404426, \"y\": -0.4346128731076545, \"group\": \"business\"}, {\"x\": 1.2548752954086468, \"y\": 1.1460486655738953, \"group\": \"business\"}, {\"x\": -3.1809568527217102, \"y\": -0.35119693304653987, \"group\": \"business\"}, {\"x\": -0.29954803054867307, \"y\": 1.0003093803299208, \"group\": \"business\"}, {\"x\": 0.16808907010012958, \"y\": -1.3212179490567453, \"group\": \"business\"}, {\"x\": -0.999263296651075, \"y\": 0.7121327818896329, \"group\": \"business\"}, {\"x\": 0.25583350006315175, \"y\": -0.9705242629318995, \"group\": \"business\"}, {\"x\": -1.4733559547508481, \"y\": 0.685349593263271, \"group\": \"business\"}, {\"x\": 0.2473843928729065, \"y\": 0.28642276611091183, \"group\": \"business\"}, {\"x\": -1.3344593450506177, \"y\": 1.6540121083659327, \"group\": \"business\"}, {\"x\": 0.03592623257215653, \"y\": -0.2513319626469756, \"group\": \"business\"}, {\"x\": 0.650486230369614, \"y\": 0.2017372425758703, \"group\": \"business\"}, {\"x\": 0.14298323012983113, \"y\": 0.9912609889719234, \"group\": \"business\"}, {\"x\": -0.31789860415318205, \"y\": -1.0137044010006886, \"group\": \"business\"}, {\"x\": -1.215637595548024, \"y\": -0.6915053731210047, \"group\": \"business\"}, {\"x\": 0.3744025197283394, \"y\": 0.16482091653201833, \"group\": \"business\"}, {\"x\": -1.4057637411099027, \"y\": 0.020698956202770104, \"group\": \"business\"}, {\"x\": 0.48978375205600944, \"y\": 0.6315300349978437, \"group\": \"business\"}, {\"x\": 0.03869423651213183, \"y\": 0.27669563013546195, \"group\": \"business\"}, {\"x\": -0.7325495373032435, \"y\": 1.0957940668089712, \"group\": \"business\"}, {\"x\": 1.1457652805411518, \"y\": -0.31781655211049764, \"group\": \"business\"}, {\"x\": 0.04439696667582666, \"y\": 0.5229783894399394, \"group\": \"business\"}, {\"x\": 0.5895431702951264, \"y\": 0.9132897334829384, \"group\": \"business\"}, {\"x\": -1.58962983373151, \"y\": 1.4552670391968803, \"group\": \"business\"}, {\"x\": -0.08251746791368314, \"y\": 0.2962664501590967, \"group\": \"business\"}, {\"x\": 0.9906311163703854, \"y\": 0.6992244136606162, \"group\": \"business\"}, {\"x\": -0.2796497362831243, \"y\": -0.17922879833616873, \"group\": \"business\"}, {\"x\": -1.6284224607729059, \"y\": 0.14378457026595656, \"group\": \"business\"}, {\"x\": 0.280461280179111, \"y\": -0.41783986819872676, \"group\": \"business\"}, {\"x\": -0.34020522740300196, \"y\": 1.4670717052186575, \"group\": \"business\"}, {\"x\": 0.2508617274677883, \"y\": 0.6288418982088613, \"group\": \"business\"}, {\"x\": 0.010380531748139403, \"y\": -0.8911689166635781, \"group\": \"business\"}, {\"x\": -1.0053468052071073, \"y\": 0.6986880090155265, \"group\": \"business\"}, {\"x\": -1.1800177835603967, \"y\": -0.9136420182681981, \"group\": \"business\"}, {\"x\": -0.6069018569423245, \"y\": -1.376609460518269, \"group\": \"business\"}, {\"x\": -1.539855275694196, \"y\": 0.06559070624095639, \"group\": \"business\"}, {\"x\": 0.5709748638529907, \"y\": -1.9178739466404648, \"group\": \"business\"}, {\"x\": 0.10855372512086663, \"y\": 1.0646679872551907, \"group\": \"business\"}, {\"x\": -2.1578383833865877, \"y\": -1.1894271203914812, \"group\": \"business\"}, {\"x\": -1.9225823583766337, \"y\": -0.3846590132046888, \"group\": \"business\"}, {\"x\": -0.23074278091437106, \"y\": -0.7346749570549489, \"group\": \"business\"}, {\"x\": -1.5706732169369118, \"y\": -0.8713422681194856, \"group\": \"business\"}, {\"x\": -1.0147739546916985, \"y\": -0.5753813498009609, \"group\": \"business\"}, {\"x\": -0.5798702115011231, \"y\": 0.6355863864376566, \"group\": \"business\"}, {\"x\": -3.3207765977661965, \"y\": 1.4541576550493989, \"group\": \"business\"}, {\"x\": -1.328193867943592, \"y\": 0.9486302175063134, \"group\": \"business\"}, {\"x\": -2.215246178914451, \"y\": -0.5304114400476069, \"group\": \"business\"}, {\"x\": 0.31317628893077565, \"y\": 0.6941109921851037, \"group\": \"business\"}, {\"x\": -1.8238077548960137, \"y\": 1.0010583032269311, \"group\": \"business\"}, {\"x\": 0.9076051237324653, \"y\": 1.4960891809719121, \"group\": \"business\"}, {\"x\": 0.9008549486528152, \"y\": -0.6852667516015835, \"group\": \"business\"}, {\"x\": -3.0245345631022538, \"y\": -2.2543620783019116, \"group\": \"business\"}, {\"x\": 2.1809765084106467, \"y\": 0.03379732552401146, \"group\": \"business\"}, {\"x\": -2.5922764675772045, \"y\": 0.5830599000876914, \"group\": \"business\"}, {\"x\": -0.9726834809309319, \"y\": -0.795938947702685, \"group\": \"business\"}, {\"x\": -0.3066989588484864, \"y\": -0.5084152573392573, \"group\": \"business\"}, {\"x\": -0.4798689021375523, \"y\": -0.296613125352777, \"group\": \"business\"}, {\"x\": -1.169411103239174, \"y\": -0.0870327573603533, \"group\": \"business\"}, {\"x\": 0.24471899878052883, \"y\": 1.2458697527944222, \"group\": \"business\"}, {\"x\": 0.7133688482558721, \"y\": 0.7261796743873913, \"group\": \"business\"}, {\"x\": -1.370496400426204, \"y\": 0.5089733060502262, \"group\": \"business\"}, {\"x\": 1.4800682121340218, \"y\": 0.8392148534735516, \"group\": \"business\"}, {\"x\": -1.227583933766004, \"y\": -0.23182114481377578, \"group\": \"business\"}, {\"x\": -0.18119821311005674, \"y\": 0.4251927349806873, \"group\": \"business\"}, {\"x\": 1.0703571769258773, \"y\": -0.09978164533932032, \"group\": \"business\"}, {\"x\": -2.042150352257621, \"y\": -0.3333141675558458, \"group\": \"business\"}, {\"x\": -0.6407097352701323, \"y\": 0.45117145473010667, \"group\": \"business\"}, {\"x\": -0.5232103297442264, \"y\": 0.18901062939554517, \"group\": \"business\"}, {\"x\": -0.26851378274747745, \"y\": -1.9599783816786953, \"group\": \"business\"}, {\"x\": -1.4783663484177074, \"y\": 1.2352857503779155, \"group\": \"business\"}, {\"x\": 0.3473191647725345, \"y\": -1.965537705125977, \"group\": \"business\"}, {\"x\": -1.375981015628037, \"y\": -0.4759339510407592, \"group\": \"business\"}, {\"x\": -1.4230443084798357, \"y\": 1.7670024344152362, \"group\": \"business\"}, {\"x\": -0.12120183953977162, \"y\": -0.10142680437179069, \"group\": \"business\"}, {\"x\": 0.3900189002251161, \"y\": 2.364234250384207, \"group\": \"business\"}, {\"x\": 1.9960128688270817, \"y\": 0.29666382981223766, \"group\": \"business\"}, {\"x\": -0.6839267065149821, \"y\": -0.10339449349642381, \"group\": \"business\"}, {\"x\": 1.265557967300764, \"y\": -0.019871213975978092, \"group\": \"business\"}, {\"x\": -0.6050285145083761, \"y\": -0.7483759231195307, \"group\": \"business\"}, {\"x\": -0.23316191733202823, \"y\": -0.32544060486580906, \"group\": \"business\"}, {\"x\": -1.8832493308418259, \"y\": -0.8158824046784133, \"group\": \"business\"}, {\"x\": -0.26312990450739226, \"y\": 0.46502828435205495, \"group\": \"business\"}, {\"x\": -1.3524985353652994, \"y\": 0.5317129281833848, \"group\": \"business\"}, {\"x\": -0.4378239400539252, \"y\": 1.1387368400415174, \"group\": \"business\"}, {\"x\": 0.2606577171479183, \"y\": -0.07077465462499617, \"group\": \"business\"}, {\"x\": -0.3878691905267677, \"y\": -1.19508323114773, \"group\": \"business\"}, {\"x\": 0.8139352248310494, \"y\": -0.7077423367395174, \"group\": \"business\"}, {\"x\": -0.41111101789351445, \"y\": 0.8015366841905451, \"group\": \"business\"}, {\"x\": 0.4290332603972366, \"y\": 0.9516796330826243, \"group\": \"business\"}, {\"x\": -0.13781577109557736, \"y\": -2.0433019737141636, \"group\": \"business\"}, {\"x\": 0.8080008209609297, \"y\": 1.4041692513055843, \"group\": \"business\"}, {\"x\": -0.749856100172109, \"y\": -1.358665062068307, \"group\": \"business\"}, {\"x\": -2.048168132772987, \"y\": 0.09321872285992903, \"group\": \"business\"}, {\"x\": 0.3901291179679716, \"y\": -1.4202220938121013, \"group\": \"business\"}, {\"x\": 0.6032732189501703, \"y\": -0.9861015445341066, \"group\": \"business\"}, {\"x\": -0.750432099199777, \"y\": 1.1399621713984602, \"group\": \"business\"}, {\"x\": -0.5775510780406111, \"y\": 0.2473191381857786, \"group\": \"business\"}, {\"x\": -3.129430139325648, \"y\": 0.12502830257750147, \"group\": \"business\"}, {\"x\": -0.7212138348016356, \"y\": -0.5158408898016346, \"group\": \"business\"}, {\"x\": -0.4535917685930625, \"y\": 2.4265042910475536, \"group\": \"business\"}, {\"x\": -2.618682472786822, \"y\": 0.9883364244107666, \"group\": \"business\"}, {\"x\": -1.6570552724269492, \"y\": 0.9201173879931717, \"group\": \"business\"}, {\"x\": -2.4992484451939267, \"y\": 0.3894819221367234, \"group\": \"business\"}, {\"x\": 1.0736525197970639, \"y\": 1.464149822559759, \"group\": \"business\"}, {\"x\": 0.23331753526800433, \"y\": 0.6890200378564798, \"group\": \"business\"}, {\"x\": -2.2459047351286174, \"y\": 0.7682552330794715, \"group\": \"business\"}, {\"x\": -1.538175198792413, \"y\": -0.09880492944458681, \"group\": \"business\"}, {\"x\": -1.2111864699508095, \"y\": -1.229534755443582, \"group\": \"business\"}, {\"x\": -0.4530983495562411, \"y\": -1.2609400823488495, \"group\": \"business\"}, {\"x\": -0.15600851645082436, \"y\": -0.9146786091182844, \"group\": \"business\"}, {\"x\": 0.34560813095210324, \"y\": 3.5010974204027727, \"group\": \"business\"}, {\"x\": 0.7828271269409116, \"y\": 1.3613214769881639, \"group\": \"business\"}, {\"x\": 1.130589966279148, \"y\": -0.3812676684369004, \"group\": \"business\"}, {\"x\": -0.4403230737612166, \"y\": 2.5437217506065672, \"group\": \"business\"}, {\"x\": -2.2107266644223946, \"y\": 0.6576531144779008, \"group\": \"business\"}, {\"x\": 0.06863653064488781, \"y\": -2.3309490820745187, \"group\": \"business\"}, {\"x\": 2.399482836043718, \"y\": 0.49467800816894586, \"group\": \"business\"}, {\"x\": -2.187430738224771, \"y\": 0.28016256390813626, \"group\": \"business\"}, {\"x\": -0.9175756692080693, \"y\": 0.6068215902287761, \"group\": \"business\"}, {\"x\": 0.1266361861603863, \"y\": 0.18470259988543092, \"group\": \"business\"}, {\"x\": -2.2445553480779488, \"y\": -0.37231323441130626, \"group\": \"business\"}, {\"x\": 1.2080469142618135, \"y\": 0.3384387030481882, \"group\": \"business\"}, {\"x\": -1.5264243253838352, \"y\": 0.5016732427784225, \"group\": \"business\"}, {\"x\": -0.2863562268492699, \"y\": 0.005343584662377979, \"group\": \"business\"}, {\"x\": -0.8555742563487347, \"y\": -0.26359377963750474, \"group\": \"business\"}, {\"x\": -0.36630042613507746, \"y\": -0.08337512625746747, \"group\": \"business\"}, {\"x\": -1.1818272265367682, \"y\": 1.933320803342341, \"group\": \"business\"}, {\"x\": -0.02775706372423669, \"y\": -0.6068253641326037, \"group\": \"business\"}, {\"x\": -1.132110448252328, \"y\": -0.22782175896317688, \"group\": \"business\"}, {\"x\": 0.4965582465076491, \"y\": -1.9169871545883876, \"group\": \"business\"}, {\"x\": 0.13727981752400698, \"y\": 1.6146016884870171, \"group\": \"business\"}, {\"x\": 0.7825346167641827, \"y\": -0.12774810832830952, \"group\": \"business\"}, {\"x\": -1.1382215546531174, \"y\": 0.9936941244978922, \"group\": \"business\"}, {\"x\": -1.218370717774182, \"y\": 0.7908237874354311, \"group\": \"business\"}, {\"x\": -0.0884229653905099, \"y\": 0.19186145610115712, \"group\": \"business\"}, {\"x\": -0.022199447244785835, \"y\": 1.4429439008417981, \"group\": \"business\"}, {\"x\": 1.4150416503603278, \"y\": 0.622158336580477, \"group\": \"business\"}, {\"x\": 0.3111039673316228, \"y\": 0.905409740622113, \"group\": \"business\"}, {\"x\": -1.7183740569396633, \"y\": 0.17966125601563657, \"group\": \"business\"}, {\"x\": -0.10760037321237216, \"y\": -1.2474633924615308, \"group\": \"business\"}, {\"x\": -0.7894054176775892, \"y\": -0.2417456806429418, \"group\": \"business\"}, {\"x\": -1.605123583828206, \"y\": -0.3401270742544062, \"group\": \"business\"}, {\"x\": -1.4785379805991372, \"y\": 1.2628304505983763, \"group\": \"business\"}, {\"x\": 0.9544380955192482, \"y\": -0.16025958189218184, \"group\": \"business\"}, {\"x\": 0.28443518119554206, \"y\": 1.0626430789465793, \"group\": \"business\"}, {\"x\": 0.024339132631089836, \"y\": 0.20005646994482176, \"group\": \"business\"}, {\"x\": -2.072263098026174, \"y\": -1.7888031304974545, \"group\": \"business\"}, {\"x\": -1.2789619360515285, \"y\": -2.283563812840111, \"group\": \"business\"}, {\"x\": 0.7021849824945446, \"y\": -0.8661018624863478, \"group\": \"business\"}, {\"x\": -2.469348112177514, \"y\": -1.9793823537325368, \"group\": \"business\"}, {\"x\": 0.08896750223154998, \"y\": 0.8259677241781179, \"group\": \"business\"}, {\"x\": -0.3923820272900705, \"y\": -0.006726066634916362, \"group\": \"business\"}, {\"x\": 1.2791301638651853, \"y\": -1.0632448787437285, \"group\": \"business\"}, {\"x\": -1.621215023704896, \"y\": 1.8668914633505336, \"group\": \"business\"}, {\"x\": -0.8351973550493029, \"y\": -0.14037565352676, \"group\": \"business\"}, {\"x\": -1.0795551631481466, \"y\": -0.5779950540056953, \"group\": \"business\"}, {\"x\": 1.0809784919240852, \"y\": 0.44988736778335875, \"group\": \"business\"}, {\"x\": 0.26453285234215906, \"y\": 0.4939488718344211, \"group\": \"business\"}, {\"x\": -1.0181363295737322, \"y\": 1.3738473226906, \"group\": \"business\"}, {\"x\": 0.35247633489527685, \"y\": -0.4879863378478172, \"group\": \"business\"}, {\"x\": 1.0988721263554273, \"y\": -1.7803908338274077, \"group\": \"business\"}, {\"x\": -0.02601533638154605, \"y\": -0.3007702462672752, \"group\": \"business\"}, {\"x\": -1.437649307630573, \"y\": 1.1377467076688315, \"group\": \"business\"}, {\"x\": 0.7600434990162487, \"y\": 0.9365873065062378, \"group\": \"business\"}, {\"x\": 0.17963216406960814, \"y\": -0.29423828744227776, \"group\": \"business\"}, {\"x\": -0.5991483050246093, \"y\": 1.3536929501360895, \"group\": \"business\"}, {\"x\": -1.045681607268317, \"y\": -1.1937044117754905, \"group\": \"business\"}, {\"x\": -1.7230712065475564, \"y\": 0.8302105044603543, \"group\": \"business\"}, {\"x\": 1.0564515435677408, \"y\": 0.8772356111556463, \"group\": \"business\"}, {\"x\": 0.8941085611970264, \"y\": 1.0767439903516691, \"group\": \"business\"}, {\"x\": -1.2241102274441311, \"y\": 1.3480179674663382, \"group\": \"business\"}, {\"x\": -0.5331386784391411, \"y\": -1.282171267650927, \"group\": \"business\"}, {\"x\": -0.4611250573690529, \"y\": 0.026020077787057214, \"group\": \"business\"}, {\"x\": -0.5694662111102434, \"y\": 2.147065694256303, \"group\": \"business\"}, {\"x\": -1.238199563599314, \"y\": -0.2374872747194355, \"group\": \"business\"}, {\"x\": -1.2170131884296398, \"y\": 0.27210937942809066, \"group\": \"business\"}, {\"x\": 0.285655618842912, \"y\": 0.19093104708622452, \"group\": \"business\"}, {\"x\": -0.5111008399803504, \"y\": -3.3497318313935, \"group\": \"business\"}, {\"x\": 0.9477302371135923, \"y\": 2.310678073124976, \"group\": \"business\"}, {\"x\": 0.5392662112042297, \"y\": 0.9477521181733278, \"group\": \"business\"}, {\"x\": -1.554666836071871, \"y\": 0.08242373102876971, \"group\": \"business\"}, {\"x\": -1.9735137708099186, \"y\": -0.9456982329181456, \"group\": \"business\"}, {\"x\": 0.8289412513826455, \"y\": -1.199921598691838, \"group\": \"business\"}, {\"x\": -0.46547404155224614, \"y\": 0.7444614798290716, \"group\": \"business\"}, {\"x\": 0.44308875021233357, \"y\": 0.4686042024847769, \"group\": \"business\"}, {\"x\": -0.09716320423587814, \"y\": 1.3806469500581466, \"group\": \"business\"}, {\"x\": 0.3944186895745717, \"y\": 1.4696124680313796, \"group\": \"business\"}, {\"x\": 0.8141948789462691, \"y\": -1.9618128675838473, \"group\": \"business\"}, {\"x\": -0.407863987071101, \"y\": 0.07948802951906163, \"group\": \"business\"}, {\"x\": -0.18661015912002207, \"y\": 0.22713173628449926, \"group\": \"business\"}, {\"x\": -1.3640049864110002, \"y\": 0.9828853828449624, \"group\": \"business\"}, {\"x\": 0.5025512866973327, \"y\": 1.3183137547047654, \"group\": \"business\"}, {\"x\": 0.2617318204333107, \"y\": -1.1800606599010994, \"group\": \"business\"}, {\"x\": -1.5312563655744742, \"y\": -0.011243622829562868, \"group\": \"business\"}, {\"x\": -1.0786403169862344, \"y\": 3.382608540793135, \"group\": \"business\"}, {\"x\": -0.40278525294689016, \"y\": 0.611107250924294, \"group\": \"business\"}, {\"x\": 0.4418791745507706, \"y\": 1.206642630514872, \"group\": \"business\"}, {\"x\": -0.4550700075519606, \"y\": -0.9331448009966861, \"group\": \"business\"}, {\"x\": 2.5256744645063103, \"y\": -1.039020753343256, \"group\": \"business\"}, {\"x\": -0.41835092356782577, \"y\": -0.0980147632367698, \"group\": \"business\"}, {\"x\": -1.4193459404356943, \"y\": 2.7084552405789464, \"group\": \"business\"}, {\"x\": -1.41127162475688, \"y\": 0.1125906196852859, \"group\": \"business\"}, {\"x\": -0.7829985939915002, \"y\": -0.7122234017688863, \"group\": \"business\"}, {\"x\": -1.4483266545946418, \"y\": 0.8278629585316117, \"group\": \"business\"}, {\"x\": -1.089734454784456, \"y\": 0.5549256554547212, \"group\": \"business\"}, {\"x\": 0.7984571386219841, \"y\": -2.3596363094094093, \"group\": \"business\"}, {\"x\": 0.45851573259880685, \"y\": -1.7815391196096202, \"group\": \"business\"}, {\"x\": -0.31150326568053066, \"y\": 0.7545996916898116, \"group\": \"business\"}, {\"x\": 0.13640102537917997, \"y\": 0.338117174678024, \"group\": \"business\"}, {\"x\": -0.08031063524377038, \"y\": -2.635346187590014, \"group\": \"business\"}, {\"x\": -0.6886367150836998, \"y\": 0.8760660153511763, \"group\": \"business\"}, {\"x\": 1.0416539236128814, \"y\": -0.5098569895988471, \"group\": \"business\"}, {\"x\": -1.4225918812020824, \"y\": -1.9588513006700685, \"group\": \"business\"}, {\"x\": 1.5481962631747592, \"y\": -0.8528500542826681, \"group\": \"business\"}, {\"x\": -1.7224126578763088, \"y\": -0.9731101890856826, \"group\": \"business\"}, {\"x\": 0.3118196154724186, \"y\": -0.29334296339153976, \"group\": \"business\"}, {\"x\": -0.07647473013067176, \"y\": -0.4242864964768137, \"group\": \"business\"}, {\"x\": -0.08923503896456711, \"y\": 0.5389435599125274, \"group\": \"business\"}, {\"x\": -0.42111262723479276, \"y\": 1.2245506625381526, \"group\": \"business\"}, {\"x\": 0.8791733236300009, \"y\": 0.9272887551596721, \"group\": \"business\"}, {\"x\": 0.04120621105455736, \"y\": 0.9331353607531174, \"group\": \"business\"}, {\"x\": 1.154674490390811, \"y\": -0.5819393133104683, \"group\": \"business\"}, {\"x\": -0.779243575583329, \"y\": 1.5041997496389177, \"group\": \"business\"}, {\"x\": 0.031599308537604454, \"y\": -0.6489046707330137, \"group\": \"business\"}, {\"x\": 0.9199206805877327, \"y\": -0.3956974382667657, \"group\": \"business\"}, {\"x\": -1.7622791966161824, \"y\": 2.1757010140238644, \"group\": \"business\"}, {\"x\": -0.27266141716007863, \"y\": 0.09465581222706071, \"group\": \"business\"}, {\"x\": -3.5258460867639756, \"y\": 1.3624079795550519, \"group\": \"business\"}, {\"x\": -1.9927433109277508, \"y\": 0.764262267323914, \"group\": \"business\"}, {\"x\": -0.7046388168896103, \"y\": 0.9367502206005128, \"group\": \"business\"}, {\"x\": 0.02401980079343657, \"y\": 0.09158529318918711, \"group\": \"business\"}, {\"x\": 0.07897892935494766, \"y\": -0.5622085868085253, \"group\": \"business\"}, {\"x\": 0.15820786888479793, \"y\": -2.1463660697777414, \"group\": \"business\"}, {\"x\": -0.9749534653615111, \"y\": 1.925050506662466, \"group\": \"business\"}, {\"x\": 0.3707619317869229, \"y\": -1.8694072949889398, \"group\": \"business\"}, {\"x\": 0.6495713389874538, \"y\": 1.1227818625558728, \"group\": \"business\"}, {\"x\": 0.6951183329874465, \"y\": 0.46308904123644395, \"group\": \"business\"}, {\"x\": 0.6402924283428056, \"y\": -0.6536185289277668, \"group\": \"business\"}, {\"x\": -0.6704582264597502, \"y\": 1.0870776300521343, \"group\": \"business\"}, {\"x\": 0.45136706573575075, \"y\": 2.4950607581963995, \"group\": \"business\"}, {\"x\": 0.009933250701465298, \"y\": -0.2772039497780016, \"group\": \"business\"}, {\"x\": -0.044484610869155096, \"y\": -0.06913878277919322, \"group\": \"business\"}, {\"x\": -0.23952283280163536, \"y\": 3.4976743924204596, \"group\": \"business\"}, {\"x\": -2.0779415529780727, \"y\": 1.1911332501322431, \"group\": \"business\"}, {\"x\": 0.5984504319496716, \"y\": 2.6562970535890735, \"group\": \"business\"}, {\"x\": -0.47654773460298955, \"y\": 0.539662719818013, \"group\": \"business\"}, {\"x\": 1.8947816918717029, \"y\": -0.9087070303336987, \"group\": \"business\"}, {\"x\": 0.00971278365477551, \"y\": 2.3021657699449336, \"group\": \"business\"}, {\"x\": 0.6895034527223589, \"y\": 0.09667547281372386, \"group\": \"business\"}, {\"x\": -0.5185525097475442, \"y\": -1.417120720593776, \"group\": \"business\"}, {\"x\": 0.4209475653074516, \"y\": 1.8406815995590942, \"group\": \"business\"}, {\"x\": -1.866979486252408, \"y\": 1.523705016204074, \"group\": \"business\"}, {\"x\": -0.179347800954779, \"y\": 0.6909144864133825, \"group\": \"business\"}, {\"x\": 0.36541391455509087, \"y\": -2.2675374362471454, \"group\": \"business\"}, {\"x\": 0.38722288774628677, \"y\": 0.19021349473999946, \"group\": \"business\"}, {\"x\": 0.9940098754493164, \"y\": -0.016133463532280463, \"group\": \"business\"}, {\"x\": 1.1667228871840134, \"y\": -0.01522156993603962, \"group\": \"business\"}, {\"x\": 1.475082243038868, \"y\": 1.8203226246410282, \"group\": \"business\"}, {\"x\": -1.2146369663584484, \"y\": 0.6956324433638631, \"group\": \"business\"}, {\"x\": -0.8390041593991981, \"y\": 1.3359418240559526, \"group\": \"business\"}, {\"x\": 0.6096070124974466, \"y\": 2.392410071860105, \"group\": \"business\"}, {\"x\": -1.8073623613789982, \"y\": -1.3443509486963114, \"group\": \"business\"}, {\"x\": -0.5530644889964259, \"y\": -1.536877399058277, \"group\": \"business\"}, {\"x\": 0.18380145790845034, \"y\": -0.5431641968413861, \"group\": \"business\"}, {\"x\": 0.29045948925467363, \"y\": -1.8316161806656084, \"group\": \"business\"}, {\"x\": 0.14126723720911905, \"y\": -1.088446607007748, \"group\": \"business\"}, {\"x\": -1.0485418498397896, \"y\": -0.012458686664438745, \"group\": \"business\"}, {\"x\": -0.7175732396184917, \"y\": 0.9483006423346775, \"group\": \"business\"}, {\"x\": -0.6078430909423881, \"y\": 1.2031799933523915, \"group\": \"business\"}, {\"x\": -1.0500152827206868, \"y\": 1.3402583709778106, \"group\": \"business\"}, {\"x\": 1.858689952034571, \"y\": -0.24741744119030004, \"group\": \"business\"}, {\"x\": -2.2485151952651012, \"y\": 0.35303103830840077, \"group\": \"business\"}, {\"x\": 1.8371652453402114, \"y\": -1.051293261043913, \"group\": \"business\"}, {\"x\": 0.1610942153020479, \"y\": 1.2793128809303138, \"group\": \"business\"}, {\"x\": 0.6702539569721233, \"y\": -3.1497490507546293, \"group\": \"business\"}, {\"x\": -0.3398020805077772, \"y\": 1.0442206958787223, \"group\": \"business\"}, {\"x\": -0.295787692302693, \"y\": 1.7393349600521997, \"group\": \"business\"}, {\"x\": -0.20643562411967795, \"y\": -0.8178923701492501, \"group\": \"business\"}, {\"x\": 0.07243130496025971, \"y\": -0.9432733853538925, \"group\": \"business\"}, {\"x\": -1.3004340137608734, \"y\": -0.7234386431678343, \"group\": \"business\"}, {\"x\": -1.8981057229083713, \"y\": -0.19182309780749854, \"group\": \"business\"}, {\"x\": 0.27870641534769575, \"y\": -0.9340028964429723, \"group\": \"business\"}, {\"x\": -1.5145829087072655, \"y\": 0.9019710937485578, \"group\": \"business\"}, {\"x\": 1.2751962023992331, \"y\": 0.18556909612009637, \"group\": \"business\"}, {\"x\": -0.6931004841255171, \"y\": -0.8641270222923689, \"group\": \"business\"}, {\"x\": 1.3897554198343232, \"y\": 1.2348212877709788, \"group\": \"business\"}, {\"x\": -1.92934552257629, \"y\": 1.2147185722589713, \"group\": \"business\"}, {\"x\": -0.031670441527068355, \"y\": 0.9526933301728668, \"group\": \"business\"}, {\"x\": -1.8377892868657855, \"y\": -0.05428061579431815, \"group\": \"business\"}, {\"x\": -1.0785767897935505, \"y\": 0.12209460701894494, \"group\": \"business\"}, {\"x\": -0.4484440437018197, \"y\": -1.505558697077869, \"group\": \"business\"}, {\"x\": -1.7159038328799658, \"y\": 0.7426737806063838, \"group\": \"business\"}, {\"x\": -0.0828048078424311, \"y\": -1.0640329093926435, \"group\": \"business\"}, {\"x\": -0.9139047910301605, \"y\": -0.2643288055604541, \"group\": \"business\"}, {\"x\": -3.058112688849949, \"y\": 0.4306553626412773, \"group\": \"business\"}, {\"x\": -1.3319016194764912, \"y\": 1.7725149633450985, \"group\": \"business\"}, {\"x\": -1.6605501203332818, \"y\": -0.051733903892235845, \"group\": \"business\"}, {\"x\": 0.8502811035045356, \"y\": 1.5649140806585837, \"group\": \"business\"}, {\"x\": -0.12172842154078348, \"y\": 1.9389181930611403, \"group\": \"business\"}, {\"x\": -0.8465651126187508, \"y\": 0.6123861986261683, \"group\": \"business\"}, {\"x\": 0.6130117443031867, \"y\": -0.9065515914778933, \"group\": \"business\"}, {\"x\": -0.5549082246854281, \"y\": 0.7501051220814149, \"group\": \"business\"}, {\"x\": 1.9730544814516615, \"y\": -0.1452913967494017, \"group\": \"business\"}, {\"x\": 0.09011555583486945, \"y\": -1.4380259573619083, \"group\": \"business\"}, {\"x\": -1.0250104348507405, \"y\": 0.2667601039588564, \"group\": \"business\"}, {\"x\": -1.0288287530820461, \"y\": -1.9853284241359386, \"group\": \"business\"}, {\"x\": 0.06831963026742659, \"y\": 1.4320609494116794, \"group\": \"business\"}, {\"x\": -0.3973120284170416, \"y\": -0.8405169994704013, \"group\": \"business\"}, {\"x\": -1.6494604184107289, \"y\": -0.04680859889282074, \"group\": \"business\"}, {\"x\": 0.6428032365299434, \"y\": -0.47607389387377197, \"group\": \"business\"}, {\"x\": 0.9821075811256385, \"y\": 0.9380364997376432, \"group\": \"business\"}, {\"x\": -0.6670011583005819, \"y\": 0.01727060926550647, \"group\": \"business\"}, {\"x\": 0.08352732021780272, \"y\": -1.5509784744166675, \"group\": \"business\"}, {\"x\": -1.0258565880706674, \"y\": 0.7681923189986246, \"group\": \"business\"}, {\"x\": 0.011886800719337431, \"y\": 0.6344517356119871, \"group\": \"business\"}, {\"x\": -2.2121493924958013, \"y\": -0.16982530327205805, \"group\": \"business\"}]}}, {\"mode\": \"vega-lite\"});\n",
       "</script>"
      ],
      "text/plain": [
       "alt.Chart(...)"
      ]
     },
     "execution_count": 42,
     "metadata": {},
     "output_type": "execute_result"
    }
   ],
   "source": [
    "chart = alt.Chart(bbc_2d[bbc_2d[\"group\"].isin([\"sport\", \"business\"])]).mark_point().encode(x=\"x\", y=\"y\", color=\"group\")\n",
    "# Uncomment to print chart inline, but beware it will inflate the notebook size\n",
    "chart"
   ]
  },
  {
   "cell_type": "markdown",
   "metadata": {},
   "source": [
    "![](./img/bbc_pca_business_sport.png)"
   ]
  },
  {
   "cell_type": "markdown",
   "metadata": {},
   "source": [
    "Del mismo modo, podemos ver que la clasificación por similitud produce resultados razonables, pero no ideales."
   ]
  },
  {
   "cell_type": "code",
   "execution_count": 45,
   "metadata": {},
   "outputs": [
    {
     "data": {
      "text/html": [
       "<div>\n",
       "<style scoped>\n",
       "    .dataframe tbody tr th:only-of-type {\n",
       "        vertical-align: middle;\n",
       "    }\n",
       "\n",
       "    .dataframe tbody tr th {\n",
       "        vertical-align: top;\n",
       "    }\n",
       "\n",
       "    .dataframe thead th {\n",
       "        text-align: right;\n",
       "    }\n",
       "</style>\n",
       "<table border=\"1\" class=\"dataframe\">\n",
       "  <thead>\n",
       "    <tr style=\"text-align: right;\">\n",
       "      <th></th>\n",
       "      <th>doc_id</th>\n",
       "      <th>similarity</th>\n",
       "      <th>text</th>\n",
       "    </tr>\n",
       "  </thead>\n",
       "  <tbody>\n",
       "    <tr>\n",
       "      <th>0</th>\n",
       "      <td>0</td>\n",
       "      <td>1.000000</td>\n",
       "      <td>Claxton hunting first major medal  British hurdler Sarah Claxton is confident she can win her fi...</td>\n",
       "    </tr>\n",
       "    <tr>\n",
       "      <th>1783</th>\n",
       "      <td>1783</td>\n",
       "      <td>0.476984</td>\n",
       "      <td>Warnings on woeful wi-fi security  Companies are getting worse at keeping their wireless data ne...</td>\n",
       "    </tr>\n",
       "    <tr>\n",
       "      <th>225</th>\n",
       "      <td>225</td>\n",
       "      <td>0.446124</td>\n",
       "      <td>Wolves appoint Hoddle as manager  Glenn Hoddle will be unveiled as the new Wolves manager on Tue...</td>\n",
       "    </tr>\n",
       "    <tr>\n",
       "      <th>67</th>\n",
       "      <td>67</td>\n",
       "      <td>0.442019</td>\n",
       "      <td>GB select Holmes for double bid  Kelly Holmes has been chosen for both the 800m and 1500m at nex...</td>\n",
       "    </tr>\n",
       "    <tr>\n",
       "      <th>78</th>\n",
       "      <td>78</td>\n",
       "      <td>0.429092</td>\n",
       "      <td>Wada will appeal against ruling  The World Anti-Doping Agency (Wada) will appeal against the acq...</td>\n",
       "    </tr>\n",
       "    <tr>\n",
       "      <th>61</th>\n",
       "      <td>61</td>\n",
       "      <td>0.426380</td>\n",
       "      <td>Brizzel to run AAA's in Sheffield  Ballymena sprinter Paul Brizzel will be among eight of Irelan...</td>\n",
       "    </tr>\n",
       "    <tr>\n",
       "      <th>450</th>\n",
       "      <td>450</td>\n",
       "      <td>0.426266</td>\n",
       "      <td>Moya fights back for Indian title  Carlos Moya became the first man to successfully defend the C...</td>\n",
       "    </tr>\n",
       "    <tr>\n",
       "      <th>5</th>\n",
       "      <td>5</td>\n",
       "      <td>0.425357</td>\n",
       "      <td>Isinbayeva claims new world best  Pole vaulter Yelena Isinbayeva broke her own indoor world reco...</td>\n",
       "    </tr>\n",
       "    <tr>\n",
       "      <th>2035</th>\n",
       "      <td>2035</td>\n",
       "      <td>0.423340</td>\n",
       "      <td>John Peel replacement show begins  The permanent replacement for late DJ John Peel's BBC Radio 1...</td>\n",
       "    </tr>\n",
       "    <tr>\n",
       "      <th>2057</th>\n",
       "      <td>2057</td>\n",
       "      <td>0.415389</td>\n",
       "      <td>US TV host Clark suffers stroke  Veteran US television host Dick Clark is in hospital in Los Ang...</td>\n",
       "    </tr>\n",
       "    <tr>\n",
       "      <th>1177</th>\n",
       "      <td>1177</td>\n",
       "      <td>0.415008</td>\n",
       "      <td>Kilroy-Silk attacked with slurry  Euro MP Robert Kilroy-Silk has had a bucket of farm slurry thr...</td>\n",
       "    </tr>\n",
       "    <tr>\n",
       "      <th>461</th>\n",
       "      <td>461</td>\n",
       "      <td>0.413113</td>\n",
       "      <td>Navratilova hits out at critics  Martina Navratilova has defended her decision to prolong her te...</td>\n",
       "    </tr>\n",
       "    <tr>\n",
       "      <th>379</th>\n",
       "      <td>379</td>\n",
       "      <td>0.410640</td>\n",
       "      <td>Ireland 21-19 Argentina  An injury-time dropped goal by Ronan O'Gara stole victory for Ireland f...</td>\n",
       "    </tr>\n",
       "    <tr>\n",
       "      <th>1915</th>\n",
       "      <td>1915</td>\n",
       "      <td>0.409862</td>\n",
       "      <td>DVD review: Spider-Man 2  It's a universal rule that a film can either be a superhero special ef...</td>\n",
       "    </tr>\n",
       "    <tr>\n",
       "      <th>1763</th>\n",
       "      <td>1763</td>\n",
       "      <td>0.405881</td>\n",
       "      <td>DVD copy protection strengthened  DVDs will be harder to copy thanks to new anti-piracy measures...</td>\n",
       "    </tr>\n",
       "    <tr>\n",
       "      <th>1040</th>\n",
       "      <td>1040</td>\n",
       "      <td>0.405079</td>\n",
       "      <td>Concerns at school diploma plan  Final appeals are being made for the government not to ditch th...</td>\n",
       "    </tr>\n",
       "    <tr>\n",
       "      <th>26</th>\n",
       "      <td>26</td>\n",
       "      <td>0.402742</td>\n",
       "      <td>Holmes feted with further honour  Double Olympic champion Kelly Holmes has been voted European A...</td>\n",
       "    </tr>\n",
       "    <tr>\n",
       "      <th>2049</th>\n",
       "      <td>2049</td>\n",
       "      <td>0.398547</td>\n",
       "      <td>Brookside creator's Channel 4 bid  The creator of defunct TV soap Brookside has written to the c...</td>\n",
       "    </tr>\n",
       "    <tr>\n",
       "      <th>828</th>\n",
       "      <td>828</td>\n",
       "      <td>0.385739</td>\n",
       "      <td>Mystery surrounds new Yukos owner  The fate of Russia's Yuganskneftegas - the oil firm sold to a...</td>\n",
       "    </tr>\n",
       "    <tr>\n",
       "      <th>84</th>\n",
       "      <td>84</td>\n",
       "      <td>0.384961</td>\n",
       "      <td>Tulu to appear at Caledonian run  Two-time Olympic 10,000 metres champion Derartu Tulu has confi...</td>\n",
       "    </tr>\n",
       "  </tbody>\n",
       "</table>\n",
       "</div>"
      ],
      "text/plain": [
       "      doc_id  similarity  \\\n",
       "0          0    1.000000   \n",
       "1783    1783    0.476984   \n",
       "225      225    0.446124   \n",
       "67        67    0.442019   \n",
       "78        78    0.429092   \n",
       "61        61    0.426380   \n",
       "450      450    0.426266   \n",
       "5          5    0.425357   \n",
       "2035    2035    0.423340   \n",
       "2057    2057    0.415389   \n",
       "1177    1177    0.415008   \n",
       "461      461    0.413113   \n",
       "379      379    0.410640   \n",
       "1915    1915    0.409862   \n",
       "1763    1763    0.405881   \n",
       "1040    1040    0.405079   \n",
       "26        26    0.402742   \n",
       "2049    2049    0.398547   \n",
       "828      828    0.385739   \n",
       "84        84    0.384961   \n",
       "\n",
       "                                                                                                     text  \n",
       "0     Claxton hunting first major medal  British hurdler Sarah Claxton is confident she can win her fi...  \n",
       "1783  Warnings on woeful wi-fi security  Companies are getting worse at keeping their wireless data ne...  \n",
       "225   Wolves appoint Hoddle as manager  Glenn Hoddle will be unveiled as the new Wolves manager on Tue...  \n",
       "67    GB select Holmes for double bid  Kelly Holmes has been chosen for both the 800m and 1500m at nex...  \n",
       "78    Wada will appeal against ruling  The World Anti-Doping Agency (Wada) will appeal against the acq...  \n",
       "61    Brizzel to run AAA's in Sheffield  Ballymena sprinter Paul Brizzel will be among eight of Irelan...  \n",
       "450   Moya fights back for Indian title  Carlos Moya became the first man to successfully defend the C...  \n",
       "5     Isinbayeva claims new world best  Pole vaulter Yelena Isinbayeva broke her own indoor world reco...  \n",
       "2035  John Peel replacement show begins  The permanent replacement for late DJ John Peel's BBC Radio 1...  \n",
       "2057  US TV host Clark suffers stroke  Veteran US television host Dick Clark is in hospital in Los Ang...  \n",
       "1177  Kilroy-Silk attacked with slurry  Euro MP Robert Kilroy-Silk has had a bucket of farm slurry thr...  \n",
       "461   Navratilova hits out at critics  Martina Navratilova has defended her decision to prolong her te...  \n",
       "379   Ireland 21-19 Argentina  An injury-time dropped goal by Ronan O'Gara stole victory for Ireland f...  \n",
       "1915  DVD review: Spider-Man 2  It's a universal rule that a film can either be a superhero special ef...  \n",
       "1763  DVD copy protection strengthened  DVDs will be harder to copy thanks to new anti-piracy measures...  \n",
       "1040  Concerns at school diploma plan  Final appeals are being made for the government not to ditch th...  \n",
       "26    Holmes feted with further honour  Double Olympic champion Kelly Holmes has been voted European A...  \n",
       "2049  Brookside creator's Channel 4 bid  The creator of defunct TV soap Brookside has written to the c...  \n",
       "828   Mystery surrounds new Yukos owner  The fate of Russia's Yuganskneftegas - the oil firm sold to a...  \n",
       "84    Tulu to appear at Caledonian run  Two-time Olympic 10,000 metres champion Derartu Tulu has confi...  "
      ]
     },
     "execution_count": 45,
     "metadata": {},
     "output_type": "execute_result"
    }
   ],
   "source": [
    "most_similar(bbc_model['paragraph_matrix'].data, bbc_df, 0, n=20)"
   ]
  },
  {
   "cell_type": "markdown",
   "metadata": {},
   "source": [
    "Para continuar con esto, podríamos:\n",
    "\n",
    "- buscar mejores hiperparámetros, ya que la pérdida de entrenamiento sigue siendo bastante alta\n",
    "- comparar con `gensim` y la implementación de PyTorch de Ilenic; debería ser muy similar a esta última\n",
    "- implementar el paso de inferencia para nuevos documentos, que congela las matrices de palabras y de salida y añade una nueva columna a la matriz de párrafos\n",
    "- utilizar los vectores de párrafos inferidos como entrada para un clasificador de temas; si se observa el gráfico de negocios/deportes anterior, podría tener bastante éxito\n",
    "- probar la visualización con un algoritmo de reducción de la dimensionalidad mejor que PCA (he utilizado [LargeVis](https://arxiv.org/abs/1602.00370) en el pasado)"
   ]
  },
  {
   "cell_type": "markdown",
   "metadata": {},
   "source": [
    "### Ejercicios:\n",
    "\n",
    "**Fundamentos y Conceptos Teóricos**\n",
    "\n",
    "1) ¿Qué es Doc2Vec y cómo se diferencia de Word2Vec?\n",
    "2) Explica cómo Doc2Vec representa documentos en vectores.\n",
    "3) Describe los dos principales modelos de entrenamiento de Doc2Vec: Distributed Memory (DM) y Distributed Bag of Words (DBOW).\n",
    "4) ¿Cómo contribuye el contexto de las palabras al aprendizaje de las representaciones vectoriales en Doc2Vec?\n",
    "\n",
    "**Detalles Técnicos y Entrenamiento**\n",
    "\n",
    "5) ¿Qué papel juegan los identificadores únicos de documentos en el modelo Doc2Vec?\n",
    "6) Explica cómo se entrena un modelo Doc2Vec y qué significa \"inferir\" un vector para un nuevo documento.\n",
    "7) ¿Cuáles son los principales hiperparámetros en Doc2Vec y cómo afectan al modelo?\n",
    "\n",
    "**Aplicaciones Prácticas**\n",
    "\n",
    "8) ¿En qué tipos de tareas de procesamiento de lenguaje natural (NLP) se puede utilizar Doc2Vec?\n",
    "9) Proporciona un ejemplo de cómo Doc2Vec podría mejorar un sistema de recomendación de artículos o productos.\n",
    "10) ¿Cómo se podría utilizar Doc2Vec para la detección de similitud entre documentos?\n",
    "\n",
    "**Comparaciones y Contrastes**\n",
    "\n",
    "11) Compara Doc2Vec con modelos basados en bolsas de palabras (bag-of-words). ¿Qué ventajas ofrece Doc2Vec?\n",
    "12) ¿En qué se diferencia Doc2Vec de los modelos de embeddings de palabras más recientes, como BERT o GPT?\n",
    "\n",
    "**Reflexión Crítica y Limitaciones**\n",
    "\n",
    "13) ¿Cuáles son las limitaciones de Doc2Vec en comparación con los enfoques de representación de texto basados en transformers?\n",
    "14) Discute el impacto de la longitud del documento en la calidad de las representaciones vectoriales en Doc2Vec.\n",
    "15) Reflexiona sobre cómo la elección del corpus de entrenamiento puede influir en la eficacia de los vectores generados por Doc2Vec para tareas específicas."
   ]
  },
  {
   "cell_type": "markdown",
   "metadata": {},
   "source": [
    "### Referencias:"
   ]
  },
  {
   "cell_type": "markdown",
   "metadata": {},
   "source": [
    "* [Notes on Noise Contrastive Estimation and Negative Sampling (C. Dyer)](https://arxiv.org/abs/1410.8251) "
   ]
  },
  {
   "cell_type": "markdown",
   "metadata": {},
   "source": [
    "### Adapatado de:\n",
    "\n",
    "* https://github.com/cbowdon/doc2vec-pytorch/blob/master/doc2vec.ipynb"
   ]
  },
  {
   "cell_type": "markdown",
   "metadata": {},
   "source": [
    "![Lenguaje Matemático](./Images/Matematicas.png)"
   ]
  },
  {
   "cell_type": "markdown",
   "metadata": {},
   "source": [
    "![Contacto](./Images/Contacto.png)"
   ]
  }
 ],
 "metadata": {
  "kernelspec": {
   "display_name": "Python 3",
   "language": "python",
   "name": "python3"
  },
  "language_info": {
   "codemirror_mode": {
    "name": "ipython",
    "version": 3
   },
   "file_extension": ".py",
   "mimetype": "text/x-python",
   "name": "python",
   "nbconvert_exporter": "python",
   "pygments_lexer": "ipython3",
   "version": "3.11.8"
  }
 },
 "nbformat": 4,
 "nbformat_minor": 2
}
